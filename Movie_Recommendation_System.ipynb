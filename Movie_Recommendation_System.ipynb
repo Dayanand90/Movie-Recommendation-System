{
  "nbformat": 4,
  "nbformat_minor": 0,
  "metadata": {
    "colab": {
      "provenance": [],
      "authorship_tag": "ABX9TyNUPcbUHYJSy5c3jx0dfqa1",
      "include_colab_link": true
    },
    "kernelspec": {
      "name": "python3",
      "display_name": "Python 3"
    },
    "language_info": {
      "name": "python"
    }
  },
  "cells": [
    {
      "cell_type": "markdown",
      "metadata": {
        "id": "view-in-github",
        "colab_type": "text"
      },
      "source": [
        "<a href=\"https://colab.research.google.com/github/Dayanand90/Movie-Recommendation-System/blob/main/Movie_Recommendation_System.ipynb\" target=\"_parent\"><img src=\"https://colab.research.google.com/assets/colab-badge.svg\" alt=\"Open In Colab\"/></a>"
      ]
    },
    {
      "cell_type": "markdown",
      "source": [
        "# Movie Recommendation System\n",
        "\n",
        "##Recommendation System:\n",
        "\n",
        "###Is a system that seeks to predict or filter prefenence according to the user's's choices.Recommender systems are utilized in a variety of areas including movies,music,news,books,research articles,search queries,social tags and products in genearal Recommender systems produces a list of recommendation in any of the two ways-\n",
        "##Collaborative filtering:\n",
        "###Collaborative filtering approaches build a model from the user's's past behaviour(ie. items purchased or searched by the user's) as well as simple decisions made by others user's'ss .This model is them used to predict items (or rating for items )that user's may have as intreset in.\n",
        "##Content -based filtering:\n",
        "###Content based filtering approaches user's a series of discrete characteristics of an item in order to recommend additional items with similar properties content based filtering methods are totaly based on a description of the item and a profile of the preferences it recommends items based on the user's past preferences lets develop a basic movie recommendation system using python and pandas.\n",
        "\n",
        "\n",
        "### Let develop a basic recommendation system by suggesting items that are must similar to a particular item in this case movies it just tells what movies/items are most similar to the user's's movie choice."
      ],
      "metadata": {
        "id": "lU8d4psCUMGI"
      }
    },
    {
      "cell_type": "markdown",
      "source": [
        "# Data source\n",
        "\n"
      ],
      "metadata": {
        "id": "nuSd8UJjhsHU"
      }
    },
    {
      "cell_type": "markdown",
      "source": [
        "# import Library"
      ],
      "metadata": {
        "id": "fhfKyIU5idQC"
      }
    },
    {
      "cell_type": "code",
      "source": [
        "import pandas as pd"
      ],
      "metadata": {
        "id": "ALHC91CSjyWP"
      },
      "execution_count": 3,
      "outputs": []
    },
    {
      "cell_type": "code",
      "source": [
        "import numpy as np"
      ],
      "metadata": {
        "id": "otKfGNpZj_8J"
      },
      "execution_count": 4,
      "outputs": []
    },
    {
      "cell_type": "markdown",
      "source": [
        "# Import Dataset"
      ],
      "metadata": {
        "id": "3iaHkNRMkbpm"
      }
    },
    {
      "cell_type": "code",
      "source": [
        "movies = pd.read_csv('/content/tmdb_5000_movies.csv.zip')"
      ],
      "metadata": {
        "id": "VWh_ND5CMKc0"
      },
      "execution_count": 7,
      "outputs": []
    },
    {
      "cell_type": "code",
      "source": [
        "movies.head()"
      ],
      "metadata": {
        "id": "vfcTOoHft__W",
        "colab": {
          "base_uri": "https://localhost:8080/",
          "height": 712
        },
        "outputId": "e6fce2a2-8c09-4ac6-a9e4-dde0aa0ce07e"
      },
      "execution_count": 8,
      "outputs": [
        {
          "output_type": "execute_result",
          "data": {
            "text/plain": [
              "      budget                                             genres  \\\n",
              "0  237000000  [{\"id\": 28, \"name\": \"Action\"}, {\"id\": 12, \"nam...   \n",
              "1  300000000  [{\"id\": 12, \"name\": \"Adventure\"}, {\"id\": 14, \"...   \n",
              "2  245000000  [{\"id\": 28, \"name\": \"Action\"}, {\"id\": 12, \"nam...   \n",
              "3  250000000  [{\"id\": 28, \"name\": \"Action\"}, {\"id\": 80, \"nam...   \n",
              "4  260000000  [{\"id\": 28, \"name\": \"Action\"}, {\"id\": 12, \"nam...   \n",
              "\n",
              "                                       homepage      id  \\\n",
              "0                   http://www.avatarmovie.com/   19995   \n",
              "1  http://disney.go.com/disneypictures/pirates/     285   \n",
              "2   http://www.sonypictures.com/movies/spectre/  206647   \n",
              "3            http://www.thedarkknightrises.com/   49026   \n",
              "4          http://movies.disney.com/john-carter   49529   \n",
              "\n",
              "                                            keywords original_language  \\\n",
              "0  [{\"id\": 1463, \"name\": \"culture clash\"}, {\"id\":...                en   \n",
              "1  [{\"id\": 270, \"name\": \"ocean\"}, {\"id\": 726, \"na...                en   \n",
              "2  [{\"id\": 470, \"name\": \"spy\"}, {\"id\": 818, \"name...                en   \n",
              "3  [{\"id\": 849, \"name\": \"dc comics\"}, {\"id\": 853,...                en   \n",
              "4  [{\"id\": 818, \"name\": \"based on novel\"}, {\"id\":...                en   \n",
              "\n",
              "                             original_title  \\\n",
              "0                                    Avatar   \n",
              "1  Pirates of the Caribbean: At World's End   \n",
              "2                                   Spectre   \n",
              "3                     The Dark Knight Rises   \n",
              "4                               John Carter   \n",
              "\n",
              "                                            overview  popularity  \\\n",
              "0  In the 22nd century, a paraplegic Marine is di...  150.437577   \n",
              "1  Captain Barbossa, long believed to be dead, ha...  139.082615   \n",
              "2  A cryptic message from Bond’s past sends him o...  107.376788   \n",
              "3  Following the death of District Attorney Harve...  112.312950   \n",
              "4  John Carter is a war-weary, former military ca...   43.926995   \n",
              "\n",
              "                                production_companies  \\\n",
              "0  [{\"name\": \"Ingenious Film Partners\", \"id\": 289...   \n",
              "1  [{\"name\": \"Walt Disney Pictures\", \"id\": 2}, {\"...   \n",
              "2  [{\"name\": \"Columbia Pictures\", \"id\": 5}, {\"nam...   \n",
              "3  [{\"name\": \"Legendary Pictures\", \"id\": 923}, {\"...   \n",
              "4        [{\"name\": \"Walt Disney Pictures\", \"id\": 2}]   \n",
              "\n",
              "                                production_countries release_date     revenue  \\\n",
              "0  [{\"iso_3166_1\": \"US\", \"name\": \"United States o...   2009-12-10  2787965087   \n",
              "1  [{\"iso_3166_1\": \"US\", \"name\": \"United States o...   2007-05-19   961000000   \n",
              "2  [{\"iso_3166_1\": \"GB\", \"name\": \"United Kingdom\"...   2015-10-26   880674609   \n",
              "3  [{\"iso_3166_1\": \"US\", \"name\": \"United States o...   2012-07-16  1084939099   \n",
              "4  [{\"iso_3166_1\": \"US\", \"name\": \"United States o...   2012-03-07   284139100   \n",
              "\n",
              "   runtime                                   spoken_languages    status  \\\n",
              "0    162.0  [{\"iso_639_1\": \"en\", \"name\": \"English\"}, {\"iso...  Released   \n",
              "1    169.0           [{\"iso_639_1\": \"en\", \"name\": \"English\"}]  Released   \n",
              "2    148.0  [{\"iso_639_1\": \"fr\", \"name\": \"Fran\\u00e7ais\"},...  Released   \n",
              "3    165.0           [{\"iso_639_1\": \"en\", \"name\": \"English\"}]  Released   \n",
              "4    132.0           [{\"iso_639_1\": \"en\", \"name\": \"English\"}]  Released   \n",
              "\n",
              "                                          tagline  \\\n",
              "0                     Enter the World of Pandora.   \n",
              "1  At the end of the world, the adventure begins.   \n",
              "2                           A Plan No One Escapes   \n",
              "3                                 The Legend Ends   \n",
              "4            Lost in our world, found in another.   \n",
              "\n",
              "                                      title  vote_average  vote_count  \n",
              "0                                    Avatar           7.2       11800  \n",
              "1  Pirates of the Caribbean: At World's End           6.9        4500  \n",
              "2                                   Spectre           6.3        4466  \n",
              "3                     The Dark Knight Rises           7.6        9106  \n",
              "4                               John Carter           6.1        2124  "
            ],
            "text/html": [
              "\n",
              "  <div id=\"df-8cca9ea1-42fc-4278-aa04-7ba76dab6160\" class=\"colab-df-container\">\n",
              "    <div>\n",
              "<style scoped>\n",
              "    .dataframe tbody tr th:only-of-type {\n",
              "        vertical-align: middle;\n",
              "    }\n",
              "\n",
              "    .dataframe tbody tr th {\n",
              "        vertical-align: top;\n",
              "    }\n",
              "\n",
              "    .dataframe thead th {\n",
              "        text-align: right;\n",
              "    }\n",
              "</style>\n",
              "<table border=\"1\" class=\"dataframe\">\n",
              "  <thead>\n",
              "    <tr style=\"text-align: right;\">\n",
              "      <th></th>\n",
              "      <th>budget</th>\n",
              "      <th>genres</th>\n",
              "      <th>homepage</th>\n",
              "      <th>id</th>\n",
              "      <th>keywords</th>\n",
              "      <th>original_language</th>\n",
              "      <th>original_title</th>\n",
              "      <th>overview</th>\n",
              "      <th>popularity</th>\n",
              "      <th>production_companies</th>\n",
              "      <th>production_countries</th>\n",
              "      <th>release_date</th>\n",
              "      <th>revenue</th>\n",
              "      <th>runtime</th>\n",
              "      <th>spoken_languages</th>\n",
              "      <th>status</th>\n",
              "      <th>tagline</th>\n",
              "      <th>title</th>\n",
              "      <th>vote_average</th>\n",
              "      <th>vote_count</th>\n",
              "    </tr>\n",
              "  </thead>\n",
              "  <tbody>\n",
              "    <tr>\n",
              "      <th>0</th>\n",
              "      <td>237000000</td>\n",
              "      <td>[{\"id\": 28, \"name\": \"Action\"}, {\"id\": 12, \"nam...</td>\n",
              "      <td>http://www.avatarmovie.com/</td>\n",
              "      <td>19995</td>\n",
              "      <td>[{\"id\": 1463, \"name\": \"culture clash\"}, {\"id\":...</td>\n",
              "      <td>en</td>\n",
              "      <td>Avatar</td>\n",
              "      <td>In the 22nd century, a paraplegic Marine is di...</td>\n",
              "      <td>150.437577</td>\n",
              "      <td>[{\"name\": \"Ingenious Film Partners\", \"id\": 289...</td>\n",
              "      <td>[{\"iso_3166_1\": \"US\", \"name\": \"United States o...</td>\n",
              "      <td>2009-12-10</td>\n",
              "      <td>2787965087</td>\n",
              "      <td>162.0</td>\n",
              "      <td>[{\"iso_639_1\": \"en\", \"name\": \"English\"}, {\"iso...</td>\n",
              "      <td>Released</td>\n",
              "      <td>Enter the World of Pandora.</td>\n",
              "      <td>Avatar</td>\n",
              "      <td>7.2</td>\n",
              "      <td>11800</td>\n",
              "    </tr>\n",
              "    <tr>\n",
              "      <th>1</th>\n",
              "      <td>300000000</td>\n",
              "      <td>[{\"id\": 12, \"name\": \"Adventure\"}, {\"id\": 14, \"...</td>\n",
              "      <td>http://disney.go.com/disneypictures/pirates/</td>\n",
              "      <td>285</td>\n",
              "      <td>[{\"id\": 270, \"name\": \"ocean\"}, {\"id\": 726, \"na...</td>\n",
              "      <td>en</td>\n",
              "      <td>Pirates of the Caribbean: At World's End</td>\n",
              "      <td>Captain Barbossa, long believed to be dead, ha...</td>\n",
              "      <td>139.082615</td>\n",
              "      <td>[{\"name\": \"Walt Disney Pictures\", \"id\": 2}, {\"...</td>\n",
              "      <td>[{\"iso_3166_1\": \"US\", \"name\": \"United States o...</td>\n",
              "      <td>2007-05-19</td>\n",
              "      <td>961000000</td>\n",
              "      <td>169.0</td>\n",
              "      <td>[{\"iso_639_1\": \"en\", \"name\": \"English\"}]</td>\n",
              "      <td>Released</td>\n",
              "      <td>At the end of the world, the adventure begins.</td>\n",
              "      <td>Pirates of the Caribbean: At World's End</td>\n",
              "      <td>6.9</td>\n",
              "      <td>4500</td>\n",
              "    </tr>\n",
              "    <tr>\n",
              "      <th>2</th>\n",
              "      <td>245000000</td>\n",
              "      <td>[{\"id\": 28, \"name\": \"Action\"}, {\"id\": 12, \"nam...</td>\n",
              "      <td>http://www.sonypictures.com/movies/spectre/</td>\n",
              "      <td>206647</td>\n",
              "      <td>[{\"id\": 470, \"name\": \"spy\"}, {\"id\": 818, \"name...</td>\n",
              "      <td>en</td>\n",
              "      <td>Spectre</td>\n",
              "      <td>A cryptic message from Bond’s past sends him o...</td>\n",
              "      <td>107.376788</td>\n",
              "      <td>[{\"name\": \"Columbia Pictures\", \"id\": 5}, {\"nam...</td>\n",
              "      <td>[{\"iso_3166_1\": \"GB\", \"name\": \"United Kingdom\"...</td>\n",
              "      <td>2015-10-26</td>\n",
              "      <td>880674609</td>\n",
              "      <td>148.0</td>\n",
              "      <td>[{\"iso_639_1\": \"fr\", \"name\": \"Fran\\u00e7ais\"},...</td>\n",
              "      <td>Released</td>\n",
              "      <td>A Plan No One Escapes</td>\n",
              "      <td>Spectre</td>\n",
              "      <td>6.3</td>\n",
              "      <td>4466</td>\n",
              "    </tr>\n",
              "    <tr>\n",
              "      <th>3</th>\n",
              "      <td>250000000</td>\n",
              "      <td>[{\"id\": 28, \"name\": \"Action\"}, {\"id\": 80, \"nam...</td>\n",
              "      <td>http://www.thedarkknightrises.com/</td>\n",
              "      <td>49026</td>\n",
              "      <td>[{\"id\": 849, \"name\": \"dc comics\"}, {\"id\": 853,...</td>\n",
              "      <td>en</td>\n",
              "      <td>The Dark Knight Rises</td>\n",
              "      <td>Following the death of District Attorney Harve...</td>\n",
              "      <td>112.312950</td>\n",
              "      <td>[{\"name\": \"Legendary Pictures\", \"id\": 923}, {\"...</td>\n",
              "      <td>[{\"iso_3166_1\": \"US\", \"name\": \"United States o...</td>\n",
              "      <td>2012-07-16</td>\n",
              "      <td>1084939099</td>\n",
              "      <td>165.0</td>\n",
              "      <td>[{\"iso_639_1\": \"en\", \"name\": \"English\"}]</td>\n",
              "      <td>Released</td>\n",
              "      <td>The Legend Ends</td>\n",
              "      <td>The Dark Knight Rises</td>\n",
              "      <td>7.6</td>\n",
              "      <td>9106</td>\n",
              "    </tr>\n",
              "    <tr>\n",
              "      <th>4</th>\n",
              "      <td>260000000</td>\n",
              "      <td>[{\"id\": 28, \"name\": \"Action\"}, {\"id\": 12, \"nam...</td>\n",
              "      <td>http://movies.disney.com/john-carter</td>\n",
              "      <td>49529</td>\n",
              "      <td>[{\"id\": 818, \"name\": \"based on novel\"}, {\"id\":...</td>\n",
              "      <td>en</td>\n",
              "      <td>John Carter</td>\n",
              "      <td>John Carter is a war-weary, former military ca...</td>\n",
              "      <td>43.926995</td>\n",
              "      <td>[{\"name\": \"Walt Disney Pictures\", \"id\": 2}]</td>\n",
              "      <td>[{\"iso_3166_1\": \"US\", \"name\": \"United States o...</td>\n",
              "      <td>2012-03-07</td>\n",
              "      <td>284139100</td>\n",
              "      <td>132.0</td>\n",
              "      <td>[{\"iso_639_1\": \"en\", \"name\": \"English\"}]</td>\n",
              "      <td>Released</td>\n",
              "      <td>Lost in our world, found in another.</td>\n",
              "      <td>John Carter</td>\n",
              "      <td>6.1</td>\n",
              "      <td>2124</td>\n",
              "    </tr>\n",
              "  </tbody>\n",
              "</table>\n",
              "</div>\n",
              "    <div class=\"colab-df-buttons\">\n",
              "\n",
              "  <div class=\"colab-df-container\">\n",
              "    <button class=\"colab-df-convert\" onclick=\"convertToInteractive('df-8cca9ea1-42fc-4278-aa04-7ba76dab6160')\"\n",
              "            title=\"Convert this dataframe to an interactive table.\"\n",
              "            style=\"display:none;\">\n",
              "\n",
              "  <svg xmlns=\"http://www.w3.org/2000/svg\" height=\"24px\" viewBox=\"0 -960 960 960\">\n",
              "    <path d=\"M120-120v-720h720v720H120Zm60-500h600v-160H180v160Zm220 220h160v-160H400v160Zm0 220h160v-160H400v160ZM180-400h160v-160H180v160Zm440 0h160v-160H620v160ZM180-180h160v-160H180v160Zm440 0h160v-160H620v160Z\"/>\n",
              "  </svg>\n",
              "    </button>\n",
              "\n",
              "  <style>\n",
              "    .colab-df-container {\n",
              "      display:flex;\n",
              "      gap: 12px;\n",
              "    }\n",
              "\n",
              "    .colab-df-convert {\n",
              "      background-color: #E8F0FE;\n",
              "      border: none;\n",
              "      border-radius: 50%;\n",
              "      cursor: pointer;\n",
              "      display: none;\n",
              "      fill: #1967D2;\n",
              "      height: 32px;\n",
              "      padding: 0 0 0 0;\n",
              "      width: 32px;\n",
              "    }\n",
              "\n",
              "    .colab-df-convert:hover {\n",
              "      background-color: #E2EBFA;\n",
              "      box-shadow: 0px 1px 2px rgba(60, 64, 67, 0.3), 0px 1px 3px 1px rgba(60, 64, 67, 0.15);\n",
              "      fill: #174EA6;\n",
              "    }\n",
              "\n",
              "    .colab-df-buttons div {\n",
              "      margin-bottom: 4px;\n",
              "    }\n",
              "\n",
              "    [theme=dark] .colab-df-convert {\n",
              "      background-color: #3B4455;\n",
              "      fill: #D2E3FC;\n",
              "    }\n",
              "\n",
              "    [theme=dark] .colab-df-convert:hover {\n",
              "      background-color: #434B5C;\n",
              "      box-shadow: 0px 1px 3px 1px rgba(0, 0, 0, 0.15);\n",
              "      filter: drop-shadow(0px 1px 2px rgba(0, 0, 0, 0.3));\n",
              "      fill: #FFFFFF;\n",
              "    }\n",
              "  </style>\n",
              "\n",
              "    <script>\n",
              "      const buttonEl =\n",
              "        document.querySelector('#df-8cca9ea1-42fc-4278-aa04-7ba76dab6160 button.colab-df-convert');\n",
              "      buttonEl.style.display =\n",
              "        google.colab.kernel.accessAllowed ? 'block' : 'none';\n",
              "\n",
              "      async function convertToInteractive(key) {\n",
              "        const element = document.querySelector('#df-8cca9ea1-42fc-4278-aa04-7ba76dab6160');\n",
              "        const dataTable =\n",
              "          await google.colab.kernel.invokeFunction('convertToInteractive',\n",
              "                                                    [key], {});\n",
              "        if (!dataTable) return;\n",
              "\n",
              "        const docLinkHtml = 'Like what you see? Visit the ' +\n",
              "          '<a target=\"_blank\" href=https://colab.research.google.com/notebooks/data_table.ipynb>data table notebook</a>'\n",
              "          + ' to learn more about interactive tables.';\n",
              "        element.innerHTML = '';\n",
              "        dataTable['output_type'] = 'display_data';\n",
              "        await google.colab.output.renderOutput(dataTable, element);\n",
              "        const docLink = document.createElement('div');\n",
              "        docLink.innerHTML = docLinkHtml;\n",
              "        element.appendChild(docLink);\n",
              "      }\n",
              "    </script>\n",
              "  </div>\n",
              "\n",
              "\n",
              "<div id=\"df-47e55314-4286-445c-a3d7-3cadf589b2af\">\n",
              "  <button class=\"colab-df-quickchart\" onclick=\"quickchart('df-47e55314-4286-445c-a3d7-3cadf589b2af')\"\n",
              "            title=\"Suggest charts\"\n",
              "            style=\"display:none;\">\n",
              "\n",
              "<svg xmlns=\"http://www.w3.org/2000/svg\" height=\"24px\"viewBox=\"0 0 24 24\"\n",
              "     width=\"24px\">\n",
              "    <g>\n",
              "        <path d=\"M19 3H5c-1.1 0-2 .9-2 2v14c0 1.1.9 2 2 2h14c1.1 0 2-.9 2-2V5c0-1.1-.9-2-2-2zM9 17H7v-7h2v7zm4 0h-2V7h2v10zm4 0h-2v-4h2v4z\"/>\n",
              "    </g>\n",
              "</svg>\n",
              "  </button>\n",
              "\n",
              "<style>\n",
              "  .colab-df-quickchart {\n",
              "      --bg-color: #E8F0FE;\n",
              "      --fill-color: #1967D2;\n",
              "      --hover-bg-color: #E2EBFA;\n",
              "      --hover-fill-color: #174EA6;\n",
              "      --disabled-fill-color: #AAA;\n",
              "      --disabled-bg-color: #DDD;\n",
              "  }\n",
              "\n",
              "  [theme=dark] .colab-df-quickchart {\n",
              "      --bg-color: #3B4455;\n",
              "      --fill-color: #D2E3FC;\n",
              "      --hover-bg-color: #434B5C;\n",
              "      --hover-fill-color: #FFFFFF;\n",
              "      --disabled-bg-color: #3B4455;\n",
              "      --disabled-fill-color: #666;\n",
              "  }\n",
              "\n",
              "  .colab-df-quickchart {\n",
              "    background-color: var(--bg-color);\n",
              "    border: none;\n",
              "    border-radius: 50%;\n",
              "    cursor: pointer;\n",
              "    display: none;\n",
              "    fill: var(--fill-color);\n",
              "    height: 32px;\n",
              "    padding: 0;\n",
              "    width: 32px;\n",
              "  }\n",
              "\n",
              "  .colab-df-quickchart:hover {\n",
              "    background-color: var(--hover-bg-color);\n",
              "    box-shadow: 0 1px 2px rgba(60, 64, 67, 0.3), 0 1px 3px 1px rgba(60, 64, 67, 0.15);\n",
              "    fill: var(--button-hover-fill-color);\n",
              "  }\n",
              "\n",
              "  .colab-df-quickchart-complete:disabled,\n",
              "  .colab-df-quickchart-complete:disabled:hover {\n",
              "    background-color: var(--disabled-bg-color);\n",
              "    fill: var(--disabled-fill-color);\n",
              "    box-shadow: none;\n",
              "  }\n",
              "\n",
              "  .colab-df-spinner {\n",
              "    border: 2px solid var(--fill-color);\n",
              "    border-color: transparent;\n",
              "    border-bottom-color: var(--fill-color);\n",
              "    animation:\n",
              "      spin 1s steps(1) infinite;\n",
              "  }\n",
              "\n",
              "  @keyframes spin {\n",
              "    0% {\n",
              "      border-color: transparent;\n",
              "      border-bottom-color: var(--fill-color);\n",
              "      border-left-color: var(--fill-color);\n",
              "    }\n",
              "    20% {\n",
              "      border-color: transparent;\n",
              "      border-left-color: var(--fill-color);\n",
              "      border-top-color: var(--fill-color);\n",
              "    }\n",
              "    30% {\n",
              "      border-color: transparent;\n",
              "      border-left-color: var(--fill-color);\n",
              "      border-top-color: var(--fill-color);\n",
              "      border-right-color: var(--fill-color);\n",
              "    }\n",
              "    40% {\n",
              "      border-color: transparent;\n",
              "      border-right-color: var(--fill-color);\n",
              "      border-top-color: var(--fill-color);\n",
              "    }\n",
              "    60% {\n",
              "      border-color: transparent;\n",
              "      border-right-color: var(--fill-color);\n",
              "    }\n",
              "    80% {\n",
              "      border-color: transparent;\n",
              "      border-right-color: var(--fill-color);\n",
              "      border-bottom-color: var(--fill-color);\n",
              "    }\n",
              "    90% {\n",
              "      border-color: transparent;\n",
              "      border-bottom-color: var(--fill-color);\n",
              "    }\n",
              "  }\n",
              "</style>\n",
              "\n",
              "  <script>\n",
              "    async function quickchart(key) {\n",
              "      const quickchartButtonEl =\n",
              "        document.querySelector('#' + key + ' button');\n",
              "      quickchartButtonEl.disabled = true;  // To prevent multiple clicks.\n",
              "      quickchartButtonEl.classList.add('colab-df-spinner');\n",
              "      try {\n",
              "        const charts = await google.colab.kernel.invokeFunction(\n",
              "            'suggestCharts', [key], {});\n",
              "      } catch (error) {\n",
              "        console.error('Error during call to suggestCharts:', error);\n",
              "      }\n",
              "      quickchartButtonEl.classList.remove('colab-df-spinner');\n",
              "      quickchartButtonEl.classList.add('colab-df-quickchart-complete');\n",
              "    }\n",
              "    (() => {\n",
              "      let quickchartButtonEl =\n",
              "        document.querySelector('#df-47e55314-4286-445c-a3d7-3cadf589b2af button');\n",
              "      quickchartButtonEl.style.display =\n",
              "        google.colab.kernel.accessAllowed ? 'block' : 'none';\n",
              "    })();\n",
              "  </script>\n",
              "</div>\n",
              "\n",
              "    </div>\n",
              "  </div>\n"
            ],
            "application/vnd.google.colaboratory.intrinsic+json": {
              "type": "dataframe",
              "variable_name": "movies",
              "summary": "{\n  \"name\": \"movies\",\n  \"rows\": 4803,\n  \"fields\": [\n    {\n      \"column\": \"budget\",\n      \"properties\": {\n        \"dtype\": \"number\",\n        \"std\": 40722391,\n        \"min\": 0,\n        \"max\": 380000000,\n        \"num_unique_values\": 436,\n        \"samples\": [\n          439000,\n          68000000,\n          700000\n        ],\n        \"semantic_type\": \"\",\n        \"description\": \"\"\n      }\n    },\n    {\n      \"column\": \"genres\",\n      \"properties\": {\n        \"dtype\": \"category\",\n        \"num_unique_values\": 1175,\n        \"samples\": [\n          \"[{\\\"id\\\": 14, \\\"name\\\": \\\"Fantasy\\\"}, {\\\"id\\\": 12, \\\"name\\\": \\\"Adventure\\\"}, {\\\"id\\\": 16, \\\"name\\\": \\\"Animation\\\"}]\",\n          \"[{\\\"id\\\": 28, \\\"name\\\": \\\"Action\\\"}, {\\\"id\\\": 35, \\\"name\\\": \\\"Comedy\\\"}, {\\\"id\\\": 80, \\\"name\\\": \\\"Crime\\\"}, {\\\"id\\\": 18, \\\"name\\\": \\\"Drama\\\"}]\",\n          \"[{\\\"id\\\": 12, \\\"name\\\": \\\"Adventure\\\"}, {\\\"id\\\": 16, \\\"name\\\": \\\"Animation\\\"}, {\\\"id\\\": 10751, \\\"name\\\": \\\"Family\\\"}, {\\\"id\\\": 14, \\\"name\\\": \\\"Fantasy\\\"}, {\\\"id\\\": 878, \\\"name\\\": \\\"Science Fiction\\\"}]\"\n        ],\n        \"semantic_type\": \"\",\n        \"description\": \"\"\n      }\n    },\n    {\n      \"column\": \"homepage\",\n      \"properties\": {\n        \"dtype\": \"category\",\n        \"num_unique_values\": 1691,\n        \"samples\": [\n          \"https://www.warnerbros.com/running-scared\",\n          \"http://www.51birchstreet.com/index.php\",\n          \"http://movies2.foxjapan.com/glee/\"\n        ],\n        \"semantic_type\": \"\",\n        \"description\": \"\"\n      }\n    },\n    {\n      \"column\": \"id\",\n      \"properties\": {\n        \"dtype\": \"number\",\n        \"std\": 88694,\n        \"min\": 5,\n        \"max\": 459488,\n        \"num_unique_values\": 4803,\n        \"samples\": [\n          8427,\n          13006,\n          18041\n        ],\n        \"semantic_type\": \"\",\n        \"description\": \"\"\n      }\n    },\n    {\n      \"column\": \"keywords\",\n      \"properties\": {\n        \"dtype\": \"string\",\n        \"num_unique_values\": 4222,\n        \"samples\": [\n          \"[{\\\"id\\\": 782, \\\"name\\\": \\\"assassin\\\"}, {\\\"id\\\": 1872, \\\"name\\\": \\\"loss of father\\\"}, {\\\"id\\\": 2908, \\\"name\\\": \\\"secret society\\\"}, {\\\"id\\\": 3045, \\\"name\\\": \\\"mission of murder\\\"}, {\\\"id\\\": 9748, \\\"name\\\": \\\"revenge\\\"}]\",\n          \"[{\\\"id\\\": 2987, \\\"name\\\": \\\"gang war\\\"}, {\\\"id\\\": 4942, \\\"name\\\": \\\"victim of murder\\\"}, {\\\"id\\\": 5332, \\\"name\\\": \\\"greed\\\"}, {\\\"id\\\": 6062, \\\"name\\\": \\\"hostility\\\"}, {\\\"id\\\": 156212, \\\"name\\\": \\\"spaghetti western\\\"}]\",\n          \"[{\\\"id\\\": 703, \\\"name\\\": \\\"detective\\\"}, {\\\"id\\\": 1299, \\\"name\\\": \\\"monster\\\"}, {\\\"id\\\": 6101, \\\"name\\\": \\\"engine\\\"}, {\\\"id\\\": 10988, \\\"name\\\": \\\"based on tv series\\\"}, {\\\"id\\\": 15162, \\\"name\\\": \\\"dog\\\"}]\"\n        ],\n        \"semantic_type\": \"\",\n        \"description\": \"\"\n      }\n    },\n    {\n      \"column\": \"original_language\",\n      \"properties\": {\n        \"dtype\": \"category\",\n        \"num_unique_values\": 37,\n        \"samples\": [\n          \"xx\",\n          \"ta\",\n          \"es\"\n        ],\n        \"semantic_type\": \"\",\n        \"description\": \"\"\n      }\n    },\n    {\n      \"column\": \"original_title\",\n      \"properties\": {\n        \"dtype\": \"string\",\n        \"num_unique_values\": 4801,\n        \"samples\": [\n          \"I Spy\",\n          \"Love Letters\",\n          \"Sleepover\"\n        ],\n        \"semantic_type\": \"\",\n        \"description\": \"\"\n      }\n    },\n    {\n      \"column\": \"overview\",\n      \"properties\": {\n        \"dtype\": \"string\",\n        \"num_unique_values\": 4800,\n        \"samples\": [\n          \"When the Switchblade, the most sophisticated prototype stealth fighter created yet, is stolen from the U.S. government, one of the United States' top spies, Alex Scott, is called to action. What he doesn't expect is to get teamed up with a cocky civilian, World Class Boxing Champion Kelly Robinson, on a dangerous top secret espionage mission. Their assignment: using equal parts skill and humor, catch Arnold Gundars, one of the world's most successful arms dealers.\",\n          \"When \\\"street smart\\\" rapper Christopher \\\"C-Note\\\" Hawkins (Big Boi) applies for a membership to all-white Carolina Pines Country Club, the establishment's proprietors are hardly ready to oblige him.\",\n          \"As their first year of high school looms ahead, best friends Julie, Hannah, Yancy and Farrah have one last summer sleepover. Little do they know they're about to embark on the adventure of a lifetime. Desperate to shed their nerdy status, they take part in a night-long scavenger hunt that pits them against their popular archrivals. Everything under the sun goes on -- from taking Yancy's father's car to sneaking into nightclubs!\"\n        ],\n        \"semantic_type\": \"\",\n        \"description\": \"\"\n      }\n    },\n    {\n      \"column\": \"popularity\",\n      \"properties\": {\n        \"dtype\": \"number\",\n        \"std\": 31.816649749537774,\n        \"min\": 0.0,\n        \"max\": 875.581305,\n        \"num_unique_values\": 4802,\n        \"samples\": [\n          13.267631,\n          0.010909,\n          5.842299\n        ],\n        \"semantic_type\": \"\",\n        \"description\": \"\"\n      }\n    },\n    {\n      \"column\": \"production_companies\",\n      \"properties\": {\n        \"dtype\": \"string\",\n        \"num_unique_values\": 3697,\n        \"samples\": [\n          \"[{\\\"name\\\": \\\"Paramount Pictures\\\", \\\"id\\\": 4}, {\\\"name\\\": \\\"Cherry Alley Productions\\\", \\\"id\\\": 2232}]\",\n          \"[{\\\"name\\\": \\\"Twentieth Century Fox Film Corporation\\\", \\\"id\\\": 306}, {\\\"name\\\": \\\"Dune Entertainment\\\", \\\"id\\\": 444}, {\\\"name\\\": \\\"Regency Enterprises\\\", \\\"id\\\": 508}, {\\\"name\\\": \\\"Guy Walks into a Bar Productions\\\", \\\"id\\\": 2645}, {\\\"name\\\": \\\"Deep River Productions\\\", \\\"id\\\": 2646}, {\\\"name\\\": \\\"Friendly Films (II)\\\", \\\"id\\\": 81136}]\",\n          \"[{\\\"name\\\": \\\"Twentieth Century Fox Film Corporation\\\", \\\"id\\\": 306}]\"\n        ],\n        \"semantic_type\": \"\",\n        \"description\": \"\"\n      }\n    },\n    {\n      \"column\": \"production_countries\",\n      \"properties\": {\n        \"dtype\": \"category\",\n        \"num_unique_values\": 469,\n        \"samples\": [\n          \"[{\\\"iso_3166_1\\\": \\\"ES\\\", \\\"name\\\": \\\"Spain\\\"}, {\\\"iso_3166_1\\\": \\\"GB\\\", \\\"name\\\": \\\"United Kingdom\\\"}, {\\\"iso_3166_1\\\": \\\"US\\\", \\\"name\\\": \\\"United States of America\\\"}, {\\\"iso_3166_1\\\": \\\"FR\\\", \\\"name\\\": \\\"France\\\"}]\",\n          \"[{\\\"iso_3166_1\\\": \\\"US\\\", \\\"name\\\": \\\"United States of America\\\"}, {\\\"iso_3166_1\\\": \\\"CA\\\", \\\"name\\\": \\\"Canada\\\"}, {\\\"iso_3166_1\\\": \\\"DE\\\", \\\"name\\\": \\\"Germany\\\"}]\",\n          \"[{\\\"iso_3166_1\\\": \\\"DE\\\", \\\"name\\\": \\\"Germany\\\"}, {\\\"iso_3166_1\\\": \\\"ES\\\", \\\"name\\\": \\\"Spain\\\"}, {\\\"iso_3166_1\\\": \\\"GB\\\", \\\"name\\\": \\\"United Kingdom\\\"}, {\\\"iso_3166_1\\\": \\\"US\\\", \\\"name\\\": \\\"United States of America\\\"}]\"\n        ],\n        \"semantic_type\": \"\",\n        \"description\": \"\"\n      }\n    },\n    {\n      \"column\": \"release_date\",\n      \"properties\": {\n        \"dtype\": \"object\",\n        \"num_unique_values\": 3280,\n        \"samples\": [\n          \"1966-10-16\",\n          \"1987-07-31\",\n          \"1993-09-23\"\n        ],\n        \"semantic_type\": \"\",\n        \"description\": \"\"\n      }\n    },\n    {\n      \"column\": \"revenue\",\n      \"properties\": {\n        \"dtype\": \"number\",\n        \"std\": 162857100,\n        \"min\": 0,\n        \"max\": 2787965087,\n        \"num_unique_values\": 3297,\n        \"samples\": [\n          11833696,\n          10462500,\n          17807569\n        ],\n        \"semantic_type\": \"\",\n        \"description\": \"\"\n      }\n    },\n    {\n      \"column\": \"runtime\",\n      \"properties\": {\n        \"dtype\": \"number\",\n        \"std\": 22.611934588844232,\n        \"min\": 0.0,\n        \"max\": 338.0,\n        \"num_unique_values\": 156,\n        \"samples\": [\n          74.0,\n          85.0,\n          170.0\n        ],\n        \"semantic_type\": \"\",\n        \"description\": \"\"\n      }\n    },\n    {\n      \"column\": \"spoken_languages\",\n      \"properties\": {\n        \"dtype\": \"category\",\n        \"num_unique_values\": 544,\n        \"samples\": [\n          \"[{\\\"iso_639_1\\\": \\\"es\\\", \\\"name\\\": \\\"Espa\\\\u00f1ol\\\"}, {\\\"iso_639_1\\\": \\\"en\\\", \\\"name\\\": \\\"English\\\"}, {\\\"iso_639_1\\\": \\\"fr\\\", \\\"name\\\": \\\"Fran\\\\u00e7ais\\\"}, {\\\"iso_639_1\\\": \\\"hu\\\", \\\"name\\\": \\\"Magyar\\\"}]\",\n          \"[{\\\"iso_639_1\\\": \\\"en\\\", \\\"name\\\": \\\"English\\\"}, {\\\"iso_639_1\\\": \\\"it\\\", \\\"name\\\": \\\"Italiano\\\"}, {\\\"iso_639_1\\\": \\\"pt\\\", \\\"name\\\": \\\"Portugu\\\\u00eas\\\"}]\",\n          \"[{\\\"iso_639_1\\\": \\\"de\\\", \\\"name\\\": \\\"Deutsch\\\"}, {\\\"iso_639_1\\\": \\\"it\\\", \\\"name\\\": \\\"Italiano\\\"}, {\\\"iso_639_1\\\": \\\"la\\\", \\\"name\\\": \\\"Latin\\\"}, {\\\"iso_639_1\\\": \\\"pl\\\", \\\"name\\\": \\\"Polski\\\"}]\"\n        ],\n        \"semantic_type\": \"\",\n        \"description\": \"\"\n      }\n    },\n    {\n      \"column\": \"status\",\n      \"properties\": {\n        \"dtype\": \"category\",\n        \"num_unique_values\": 3,\n        \"samples\": [\n          \"Released\",\n          \"Post Production\",\n          \"Rumored\"\n        ],\n        \"semantic_type\": \"\",\n        \"description\": \"\"\n      }\n    },\n    {\n      \"column\": \"tagline\",\n      \"properties\": {\n        \"dtype\": \"string\",\n        \"num_unique_values\": 3944,\n        \"samples\": [\n          \"When you're 17, every day is war.\",\n          \"An Unspeakable Horror. A Creative Genius. Captured For Eternity.\",\n          \"May the schwartz be with you\"\n        ],\n        \"semantic_type\": \"\",\n        \"description\": \"\"\n      }\n    },\n    {\n      \"column\": \"title\",\n      \"properties\": {\n        \"dtype\": \"string\",\n        \"num_unique_values\": 4800,\n        \"samples\": [\n          \"I Spy\",\n          \"Who's Your Caddy?\",\n          \"Sleepover\"\n        ],\n        \"semantic_type\": \"\",\n        \"description\": \"\"\n      }\n    },\n    {\n      \"column\": \"vote_average\",\n      \"properties\": {\n        \"dtype\": \"number\",\n        \"std\": 1.1946121628478923,\n        \"min\": 0.0,\n        \"max\": 10.0,\n        \"num_unique_values\": 71,\n        \"samples\": [\n          5.1,\n          7.2,\n          4.0\n        ],\n        \"semantic_type\": \"\",\n        \"description\": \"\"\n      }\n    },\n    {\n      \"column\": \"vote_count\",\n      \"properties\": {\n        \"dtype\": \"number\",\n        \"std\": 1234,\n        \"min\": 0,\n        \"max\": 13752,\n        \"num_unique_values\": 1609,\n        \"samples\": [\n          7604,\n          3428,\n          225\n        ],\n        \"semantic_type\": \"\",\n        \"description\": \"\"\n      }\n    }\n  ]\n}"
            }
          },
          "metadata": {},
          "execution_count": 8
        }
      ]
    },
    {
      "cell_type": "code",
      "source": [
        "movies.info()"
      ],
      "metadata": {
        "colab": {
          "base_uri": "https://localhost:8080/"
        },
        "id": "XWnkSH-_OPUa",
        "outputId": "c6a8f22d-27e0-4bdd-c6f5-2a5f36f911e6"
      },
      "execution_count": 9,
      "outputs": [
        {
          "output_type": "stream",
          "name": "stdout",
          "text": [
            "<class 'pandas.core.frame.DataFrame'>\n",
            "RangeIndex: 4803 entries, 0 to 4802\n",
            "Data columns (total 20 columns):\n",
            " #   Column                Non-Null Count  Dtype  \n",
            "---  ------                --------------  -----  \n",
            " 0   budget                4803 non-null   int64  \n",
            " 1   genres                4803 non-null   object \n",
            " 2   homepage              1712 non-null   object \n",
            " 3   id                    4803 non-null   int64  \n",
            " 4   keywords              4803 non-null   object \n",
            " 5   original_language     4803 non-null   object \n",
            " 6   original_title        4803 non-null   object \n",
            " 7   overview              4800 non-null   object \n",
            " 8   popularity            4803 non-null   float64\n",
            " 9   production_companies  4803 non-null   object \n",
            " 10  production_countries  4803 non-null   object \n",
            " 11  release_date          4802 non-null   object \n",
            " 12  revenue               4803 non-null   int64  \n",
            " 13  runtime               4801 non-null   float64\n",
            " 14  spoken_languages      4803 non-null   object \n",
            " 15  status                4803 non-null   object \n",
            " 16  tagline               3959 non-null   object \n",
            " 17  title                 4803 non-null   object \n",
            " 18  vote_average          4803 non-null   float64\n",
            " 19  vote_count            4803 non-null   int64  \n",
            "dtypes: float64(3), int64(4), object(13)\n",
            "memory usage: 750.6+ KB\n"
          ]
        }
      ]
    },
    {
      "cell_type": "code",
      "source": [
        "movies.describe()"
      ],
      "metadata": {
        "colab": {
          "base_uri": "https://localhost:8080/",
          "height": 300
        },
        "id": "ueJX7hSlQnUq",
        "outputId": "f25dbe72-b3cb-4487-f972-e8bb6740918b"
      },
      "execution_count": 10,
      "outputs": [
        {
          "output_type": "execute_result",
          "data": {
            "text/plain": [
              "             budget             id   popularity       revenue      runtime  \\\n",
              "count  4.803000e+03    4803.000000  4803.000000  4.803000e+03  4801.000000   \n",
              "mean   2.904504e+07   57165.484281    21.492301  8.226064e+07   106.875859   \n",
              "std    4.072239e+07   88694.614033    31.816650  1.628571e+08    22.611935   \n",
              "min    0.000000e+00       5.000000     0.000000  0.000000e+00     0.000000   \n",
              "25%    7.900000e+05    9014.500000     4.668070  0.000000e+00    94.000000   \n",
              "50%    1.500000e+07   14629.000000    12.921594  1.917000e+07   103.000000   \n",
              "75%    4.000000e+07   58610.500000    28.313505  9.291719e+07   118.000000   \n",
              "max    3.800000e+08  459488.000000   875.581305  2.787965e+09   338.000000   \n",
              "\n",
              "       vote_average    vote_count  \n",
              "count   4803.000000   4803.000000  \n",
              "mean       6.092172    690.217989  \n",
              "std        1.194612   1234.585891  \n",
              "min        0.000000      0.000000  \n",
              "25%        5.600000     54.000000  \n",
              "50%        6.200000    235.000000  \n",
              "75%        6.800000    737.000000  \n",
              "max       10.000000  13752.000000  "
            ],
            "text/html": [
              "\n",
              "  <div id=\"df-5b8dc49f-41a5-42e5-9e02-bdba1521a5e6\" class=\"colab-df-container\">\n",
              "    <div>\n",
              "<style scoped>\n",
              "    .dataframe tbody tr th:only-of-type {\n",
              "        vertical-align: middle;\n",
              "    }\n",
              "\n",
              "    .dataframe tbody tr th {\n",
              "        vertical-align: top;\n",
              "    }\n",
              "\n",
              "    .dataframe thead th {\n",
              "        text-align: right;\n",
              "    }\n",
              "</style>\n",
              "<table border=\"1\" class=\"dataframe\">\n",
              "  <thead>\n",
              "    <tr style=\"text-align: right;\">\n",
              "      <th></th>\n",
              "      <th>budget</th>\n",
              "      <th>id</th>\n",
              "      <th>popularity</th>\n",
              "      <th>revenue</th>\n",
              "      <th>runtime</th>\n",
              "      <th>vote_average</th>\n",
              "      <th>vote_count</th>\n",
              "    </tr>\n",
              "  </thead>\n",
              "  <tbody>\n",
              "    <tr>\n",
              "      <th>count</th>\n",
              "      <td>4.803000e+03</td>\n",
              "      <td>4803.000000</td>\n",
              "      <td>4803.000000</td>\n",
              "      <td>4.803000e+03</td>\n",
              "      <td>4801.000000</td>\n",
              "      <td>4803.000000</td>\n",
              "      <td>4803.000000</td>\n",
              "    </tr>\n",
              "    <tr>\n",
              "      <th>mean</th>\n",
              "      <td>2.904504e+07</td>\n",
              "      <td>57165.484281</td>\n",
              "      <td>21.492301</td>\n",
              "      <td>8.226064e+07</td>\n",
              "      <td>106.875859</td>\n",
              "      <td>6.092172</td>\n",
              "      <td>690.217989</td>\n",
              "    </tr>\n",
              "    <tr>\n",
              "      <th>std</th>\n",
              "      <td>4.072239e+07</td>\n",
              "      <td>88694.614033</td>\n",
              "      <td>31.816650</td>\n",
              "      <td>1.628571e+08</td>\n",
              "      <td>22.611935</td>\n",
              "      <td>1.194612</td>\n",
              "      <td>1234.585891</td>\n",
              "    </tr>\n",
              "    <tr>\n",
              "      <th>min</th>\n",
              "      <td>0.000000e+00</td>\n",
              "      <td>5.000000</td>\n",
              "      <td>0.000000</td>\n",
              "      <td>0.000000e+00</td>\n",
              "      <td>0.000000</td>\n",
              "      <td>0.000000</td>\n",
              "      <td>0.000000</td>\n",
              "    </tr>\n",
              "    <tr>\n",
              "      <th>25%</th>\n",
              "      <td>7.900000e+05</td>\n",
              "      <td>9014.500000</td>\n",
              "      <td>4.668070</td>\n",
              "      <td>0.000000e+00</td>\n",
              "      <td>94.000000</td>\n",
              "      <td>5.600000</td>\n",
              "      <td>54.000000</td>\n",
              "    </tr>\n",
              "    <tr>\n",
              "      <th>50%</th>\n",
              "      <td>1.500000e+07</td>\n",
              "      <td>14629.000000</td>\n",
              "      <td>12.921594</td>\n",
              "      <td>1.917000e+07</td>\n",
              "      <td>103.000000</td>\n",
              "      <td>6.200000</td>\n",
              "      <td>235.000000</td>\n",
              "    </tr>\n",
              "    <tr>\n",
              "      <th>75%</th>\n",
              "      <td>4.000000e+07</td>\n",
              "      <td>58610.500000</td>\n",
              "      <td>28.313505</td>\n",
              "      <td>9.291719e+07</td>\n",
              "      <td>118.000000</td>\n",
              "      <td>6.800000</td>\n",
              "      <td>737.000000</td>\n",
              "    </tr>\n",
              "    <tr>\n",
              "      <th>max</th>\n",
              "      <td>3.800000e+08</td>\n",
              "      <td>459488.000000</td>\n",
              "      <td>875.581305</td>\n",
              "      <td>2.787965e+09</td>\n",
              "      <td>338.000000</td>\n",
              "      <td>10.000000</td>\n",
              "      <td>13752.000000</td>\n",
              "    </tr>\n",
              "  </tbody>\n",
              "</table>\n",
              "</div>\n",
              "    <div class=\"colab-df-buttons\">\n",
              "\n",
              "  <div class=\"colab-df-container\">\n",
              "    <button class=\"colab-df-convert\" onclick=\"convertToInteractive('df-5b8dc49f-41a5-42e5-9e02-bdba1521a5e6')\"\n",
              "            title=\"Convert this dataframe to an interactive table.\"\n",
              "            style=\"display:none;\">\n",
              "\n",
              "  <svg xmlns=\"http://www.w3.org/2000/svg\" height=\"24px\" viewBox=\"0 -960 960 960\">\n",
              "    <path d=\"M120-120v-720h720v720H120Zm60-500h600v-160H180v160Zm220 220h160v-160H400v160Zm0 220h160v-160H400v160ZM180-400h160v-160H180v160Zm440 0h160v-160H620v160ZM180-180h160v-160H180v160Zm440 0h160v-160H620v160Z\"/>\n",
              "  </svg>\n",
              "    </button>\n",
              "\n",
              "  <style>\n",
              "    .colab-df-container {\n",
              "      display:flex;\n",
              "      gap: 12px;\n",
              "    }\n",
              "\n",
              "    .colab-df-convert {\n",
              "      background-color: #E8F0FE;\n",
              "      border: none;\n",
              "      border-radius: 50%;\n",
              "      cursor: pointer;\n",
              "      display: none;\n",
              "      fill: #1967D2;\n",
              "      height: 32px;\n",
              "      padding: 0 0 0 0;\n",
              "      width: 32px;\n",
              "    }\n",
              "\n",
              "    .colab-df-convert:hover {\n",
              "      background-color: #E2EBFA;\n",
              "      box-shadow: 0px 1px 2px rgba(60, 64, 67, 0.3), 0px 1px 3px 1px rgba(60, 64, 67, 0.15);\n",
              "      fill: #174EA6;\n",
              "    }\n",
              "\n",
              "    .colab-df-buttons div {\n",
              "      margin-bottom: 4px;\n",
              "    }\n",
              "\n",
              "    [theme=dark] .colab-df-convert {\n",
              "      background-color: #3B4455;\n",
              "      fill: #D2E3FC;\n",
              "    }\n",
              "\n",
              "    [theme=dark] .colab-df-convert:hover {\n",
              "      background-color: #434B5C;\n",
              "      box-shadow: 0px 1px 3px 1px rgba(0, 0, 0, 0.15);\n",
              "      filter: drop-shadow(0px 1px 2px rgba(0, 0, 0, 0.3));\n",
              "      fill: #FFFFFF;\n",
              "    }\n",
              "  </style>\n",
              "\n",
              "    <script>\n",
              "      const buttonEl =\n",
              "        document.querySelector('#df-5b8dc49f-41a5-42e5-9e02-bdba1521a5e6 button.colab-df-convert');\n",
              "      buttonEl.style.display =\n",
              "        google.colab.kernel.accessAllowed ? 'block' : 'none';\n",
              "\n",
              "      async function convertToInteractive(key) {\n",
              "        const element = document.querySelector('#df-5b8dc49f-41a5-42e5-9e02-bdba1521a5e6');\n",
              "        const dataTable =\n",
              "          await google.colab.kernel.invokeFunction('convertToInteractive',\n",
              "                                                    [key], {});\n",
              "        if (!dataTable) return;\n",
              "\n",
              "        const docLinkHtml = 'Like what you see? Visit the ' +\n",
              "          '<a target=\"_blank\" href=https://colab.research.google.com/notebooks/data_table.ipynb>data table notebook</a>'\n",
              "          + ' to learn more about interactive tables.';\n",
              "        element.innerHTML = '';\n",
              "        dataTable['output_type'] = 'display_data';\n",
              "        await google.colab.output.renderOutput(dataTable, element);\n",
              "        const docLink = document.createElement('div');\n",
              "        docLink.innerHTML = docLinkHtml;\n",
              "        element.appendChild(docLink);\n",
              "      }\n",
              "    </script>\n",
              "  </div>\n",
              "\n",
              "\n",
              "<div id=\"df-233cd821-5fff-4d1b-87b0-ff609dd632de\">\n",
              "  <button class=\"colab-df-quickchart\" onclick=\"quickchart('df-233cd821-5fff-4d1b-87b0-ff609dd632de')\"\n",
              "            title=\"Suggest charts\"\n",
              "            style=\"display:none;\">\n",
              "\n",
              "<svg xmlns=\"http://www.w3.org/2000/svg\" height=\"24px\"viewBox=\"0 0 24 24\"\n",
              "     width=\"24px\">\n",
              "    <g>\n",
              "        <path d=\"M19 3H5c-1.1 0-2 .9-2 2v14c0 1.1.9 2 2 2h14c1.1 0 2-.9 2-2V5c0-1.1-.9-2-2-2zM9 17H7v-7h2v7zm4 0h-2V7h2v10zm4 0h-2v-4h2v4z\"/>\n",
              "    </g>\n",
              "</svg>\n",
              "  </button>\n",
              "\n",
              "<style>\n",
              "  .colab-df-quickchart {\n",
              "      --bg-color: #E8F0FE;\n",
              "      --fill-color: #1967D2;\n",
              "      --hover-bg-color: #E2EBFA;\n",
              "      --hover-fill-color: #174EA6;\n",
              "      --disabled-fill-color: #AAA;\n",
              "      --disabled-bg-color: #DDD;\n",
              "  }\n",
              "\n",
              "  [theme=dark] .colab-df-quickchart {\n",
              "      --bg-color: #3B4455;\n",
              "      --fill-color: #D2E3FC;\n",
              "      --hover-bg-color: #434B5C;\n",
              "      --hover-fill-color: #FFFFFF;\n",
              "      --disabled-bg-color: #3B4455;\n",
              "      --disabled-fill-color: #666;\n",
              "  }\n",
              "\n",
              "  .colab-df-quickchart {\n",
              "    background-color: var(--bg-color);\n",
              "    border: none;\n",
              "    border-radius: 50%;\n",
              "    cursor: pointer;\n",
              "    display: none;\n",
              "    fill: var(--fill-color);\n",
              "    height: 32px;\n",
              "    padding: 0;\n",
              "    width: 32px;\n",
              "  }\n",
              "\n",
              "  .colab-df-quickchart:hover {\n",
              "    background-color: var(--hover-bg-color);\n",
              "    box-shadow: 0 1px 2px rgba(60, 64, 67, 0.3), 0 1px 3px 1px rgba(60, 64, 67, 0.15);\n",
              "    fill: var(--button-hover-fill-color);\n",
              "  }\n",
              "\n",
              "  .colab-df-quickchart-complete:disabled,\n",
              "  .colab-df-quickchart-complete:disabled:hover {\n",
              "    background-color: var(--disabled-bg-color);\n",
              "    fill: var(--disabled-fill-color);\n",
              "    box-shadow: none;\n",
              "  }\n",
              "\n",
              "  .colab-df-spinner {\n",
              "    border: 2px solid var(--fill-color);\n",
              "    border-color: transparent;\n",
              "    border-bottom-color: var(--fill-color);\n",
              "    animation:\n",
              "      spin 1s steps(1) infinite;\n",
              "  }\n",
              "\n",
              "  @keyframes spin {\n",
              "    0% {\n",
              "      border-color: transparent;\n",
              "      border-bottom-color: var(--fill-color);\n",
              "      border-left-color: var(--fill-color);\n",
              "    }\n",
              "    20% {\n",
              "      border-color: transparent;\n",
              "      border-left-color: var(--fill-color);\n",
              "      border-top-color: var(--fill-color);\n",
              "    }\n",
              "    30% {\n",
              "      border-color: transparent;\n",
              "      border-left-color: var(--fill-color);\n",
              "      border-top-color: var(--fill-color);\n",
              "      border-right-color: var(--fill-color);\n",
              "    }\n",
              "    40% {\n",
              "      border-color: transparent;\n",
              "      border-right-color: var(--fill-color);\n",
              "      border-top-color: var(--fill-color);\n",
              "    }\n",
              "    60% {\n",
              "      border-color: transparent;\n",
              "      border-right-color: var(--fill-color);\n",
              "    }\n",
              "    80% {\n",
              "      border-color: transparent;\n",
              "      border-right-color: var(--fill-color);\n",
              "      border-bottom-color: var(--fill-color);\n",
              "    }\n",
              "    90% {\n",
              "      border-color: transparent;\n",
              "      border-bottom-color: var(--fill-color);\n",
              "    }\n",
              "  }\n",
              "</style>\n",
              "\n",
              "  <script>\n",
              "    async function quickchart(key) {\n",
              "      const quickchartButtonEl =\n",
              "        document.querySelector('#' + key + ' button');\n",
              "      quickchartButtonEl.disabled = true;  // To prevent multiple clicks.\n",
              "      quickchartButtonEl.classList.add('colab-df-spinner');\n",
              "      try {\n",
              "        const charts = await google.colab.kernel.invokeFunction(\n",
              "            'suggestCharts', [key], {});\n",
              "      } catch (error) {\n",
              "        console.error('Error during call to suggestCharts:', error);\n",
              "      }\n",
              "      quickchartButtonEl.classList.remove('colab-df-spinner');\n",
              "      quickchartButtonEl.classList.add('colab-df-quickchart-complete');\n",
              "    }\n",
              "    (() => {\n",
              "      let quickchartButtonEl =\n",
              "        document.querySelector('#df-233cd821-5fff-4d1b-87b0-ff609dd632de button');\n",
              "      quickchartButtonEl.style.display =\n",
              "        google.colab.kernel.accessAllowed ? 'block' : 'none';\n",
              "    })();\n",
              "  </script>\n",
              "</div>\n",
              "\n",
              "    </div>\n",
              "  </div>\n"
            ],
            "application/vnd.google.colaboratory.intrinsic+json": {
              "type": "dataframe",
              "summary": "{\n  \"name\": \"movies\",\n  \"rows\": 8,\n  \"fields\": [\n    {\n      \"column\": \"budget\",\n      \"properties\": {\n        \"dtype\": \"number\",\n        \"std\": 129161253.058471,\n        \"min\": 0.0,\n        \"max\": 380000000.0,\n        \"num_unique_values\": 8,\n        \"samples\": [\n          29045039.87528628,\n          15000000.0,\n          4803.0\n        ],\n        \"semantic_type\": \"\",\n        \"description\": \"\"\n      }\n    },\n    {\n      \"column\": \"id\",\n      \"properties\": {\n        \"dtype\": \"number\",\n        \"std\": 154035.43639610297,\n        \"min\": 5.0,\n        \"max\": 459488.0,\n        \"num_unique_values\": 8,\n        \"samples\": [\n          57165.484280657925,\n          14629.0,\n          4803.0\n        ],\n        \"semantic_type\": \"\",\n        \"description\": \"\"\n      }\n    },\n    {\n      \"column\": \"popularity\",\n      \"properties\": {\n        \"dtype\": \"number\",\n        \"std\": 1676.09470184157,\n        \"min\": 0.0,\n        \"max\": 4803.0,\n        \"num_unique_values\": 8,\n        \"samples\": [\n          21.492300588174057,\n          12.921594,\n          4803.0\n        ],\n        \"semantic_type\": \"\",\n        \"description\": \"\"\n      }\n    },\n    {\n      \"column\": \"revenue\",\n      \"properties\": {\n        \"dtype\": \"number\",\n        \"std\": 969427230.5834863,\n        \"min\": 0.0,\n        \"max\": 2787965087.0,\n        \"num_unique_values\": 7,\n        \"samples\": [\n          4803.0,\n          82260638.65167603,\n          92917187.0\n        ],\n        \"semantic_type\": \"\",\n        \"description\": \"\"\n      }\n    },\n    {\n      \"column\": \"runtime\",\n      \"properties\": {\n        \"dtype\": \"number\",\n        \"std\": 1660.9907007543372,\n        \"min\": 0.0,\n        \"max\": 4801.0,\n        \"num_unique_values\": 8,\n        \"samples\": [\n          106.87585919600083,\n          103.0,\n          4801.0\n        ],\n        \"semantic_type\": \"\",\n        \"description\": \"\"\n      }\n    },\n    {\n      \"column\": \"vote_average\",\n      \"properties\": {\n        \"dtype\": \"number\",\n        \"std\": 1696.3073516335521,\n        \"min\": 0.0,\n        \"max\": 4803.0,\n        \"num_unique_values\": 8,\n        \"samples\": [\n          6.092171559442016,\n          6.2,\n          4803.0\n        ],\n        \"semantic_type\": \"\",\n        \"description\": \"\"\n      }\n    },\n    {\n      \"column\": \"vote_count\",\n      \"properties\": {\n        \"dtype\": \"number\",\n        \"std\": 4735.515903869438,\n        \"min\": 0.0,\n        \"max\": 13752.0,\n        \"num_unique_values\": 8,\n        \"samples\": [\n          690.2179887570269,\n          235.0,\n          4803.0\n        ],\n        \"semantic_type\": \"\",\n        \"description\": \"\"\n      }\n    }\n  ]\n}"
            }
          },
          "metadata": {},
          "execution_count": 10
        }
      ]
    },
    {
      "cell_type": "code",
      "source": [
        "movies.columns"
      ],
      "metadata": {
        "colab": {
          "base_uri": "https://localhost:8080/"
        },
        "id": "LHnBNAF5POYy",
        "outputId": "eec68c0f-bf1b-4251-eb2a-a90721f73cee"
      },
      "execution_count": 11,
      "outputs": [
        {
          "output_type": "execute_result",
          "data": {
            "text/plain": [
              "Index(['budget', 'genres', 'homepage', 'id', 'keywords', 'original_language',\n",
              "       'original_title', 'overview', 'popularity', 'production_companies',\n",
              "       'production_countries', 'release_date', 'revenue', 'runtime',\n",
              "       'spoken_languages', 'status', 'tagline', 'title', 'vote_average',\n",
              "       'vote_count'],\n",
              "      dtype='object')"
            ]
          },
          "metadata": {},
          "execution_count": 11
        }
      ]
    },
    {
      "cell_type": "code",
      "source": [
        "movies.shape"
      ],
      "metadata": {
        "colab": {
          "base_uri": "https://localhost:8080/"
        },
        "id": "iacTtL4gO7o2",
        "outputId": "f2145c0e-5e27-4ab2-9c76-e8ca77ab218c"
      },
      "execution_count": 12,
      "outputs": [
        {
          "output_type": "execute_result",
          "data": {
            "text/plain": [
              "(4803, 20)"
            ]
          },
          "metadata": {},
          "execution_count": 12
        }
      ]
    },
    {
      "cell_type": "markdown",
      "source": [
        "#Get Feature Selection"
      ],
      "metadata": {
        "id": "AJd6It3Fb-pC"
      }
    },
    {
      "cell_type": "code",
      "source": [
        "movies_features = movies[['id','title','overview','genres','keywords']].fillna('')"
      ],
      "metadata": {
        "id": "pLgtFw45cU_0"
      },
      "execution_count": 13,
      "outputs": []
    },
    {
      "cell_type": "code",
      "source": [
        "movies_features.shape"
      ],
      "metadata": {
        "colab": {
          "base_uri": "https://localhost:8080/"
        },
        "id": "6HgYLc5veyRi",
        "outputId": "ec9a166a-8ba5-4f50-bd26-4e39aafd0757"
      },
      "execution_count": 14,
      "outputs": [
        {
          "output_type": "execute_result",
          "data": {
            "text/plain": [
              "(4803, 5)"
            ]
          },
          "metadata": {},
          "execution_count": 14
        }
      ]
    },
    {
      "cell_type": "code",
      "source": [
        "movies_features"
      ],
      "metadata": {
        "colab": {
          "base_uri": "https://localhost:8080/",
          "height": 597
        },
        "id": "5JCz0qC6fTir",
        "outputId": "ff4a2aaf-99fc-469e-ca4c-a101de427bfd"
      },
      "execution_count": 15,
      "outputs": [
        {
          "output_type": "execute_result",
          "data": {
            "text/plain": [
              "          id                                     title  \\\n",
              "0      19995                                    Avatar   \n",
              "1        285  Pirates of the Caribbean: At World's End   \n",
              "2     206647                                   Spectre   \n",
              "3      49026                     The Dark Knight Rises   \n",
              "4      49529                               John Carter   \n",
              "...      ...                                       ...   \n",
              "4798    9367                               El Mariachi   \n",
              "4799   72766                                 Newlyweds   \n",
              "4800  231617                 Signed, Sealed, Delivered   \n",
              "4801  126186                          Shanghai Calling   \n",
              "4802   25975                         My Date with Drew   \n",
              "\n",
              "                                               overview  \\\n",
              "0     In the 22nd century, a paraplegic Marine is di...   \n",
              "1     Captain Barbossa, long believed to be dead, ha...   \n",
              "2     A cryptic message from Bond’s past sends him o...   \n",
              "3     Following the death of District Attorney Harve...   \n",
              "4     John Carter is a war-weary, former military ca...   \n",
              "...                                                 ...   \n",
              "4798  El Mariachi just wants to play his guitar and ...   \n",
              "4799  A newlywed couple's honeymoon is upended by th...   \n",
              "4800  \"Signed, Sealed, Delivered\" introduces a dedic...   \n",
              "4801  When ambitious New York attorney Sam is sent t...   \n",
              "4802  Ever since the second grade when he first saw ...   \n",
              "\n",
              "                                                 genres  \\\n",
              "0     [{\"id\": 28, \"name\": \"Action\"}, {\"id\": 12, \"nam...   \n",
              "1     [{\"id\": 12, \"name\": \"Adventure\"}, {\"id\": 14, \"...   \n",
              "2     [{\"id\": 28, \"name\": \"Action\"}, {\"id\": 12, \"nam...   \n",
              "3     [{\"id\": 28, \"name\": \"Action\"}, {\"id\": 80, \"nam...   \n",
              "4     [{\"id\": 28, \"name\": \"Action\"}, {\"id\": 12, \"nam...   \n",
              "...                                                 ...   \n",
              "4798  [{\"id\": 28, \"name\": \"Action\"}, {\"id\": 80, \"nam...   \n",
              "4799  [{\"id\": 35, \"name\": \"Comedy\"}, {\"id\": 10749, \"...   \n",
              "4800  [{\"id\": 35, \"name\": \"Comedy\"}, {\"id\": 18, \"nam...   \n",
              "4801                                                 []   \n",
              "4802                [{\"id\": 99, \"name\": \"Documentary\"}]   \n",
              "\n",
              "                                               keywords  \n",
              "0     [{\"id\": 1463, \"name\": \"culture clash\"}, {\"id\":...  \n",
              "1     [{\"id\": 270, \"name\": \"ocean\"}, {\"id\": 726, \"na...  \n",
              "2     [{\"id\": 470, \"name\": \"spy\"}, {\"id\": 818, \"name...  \n",
              "3     [{\"id\": 849, \"name\": \"dc comics\"}, {\"id\": 853,...  \n",
              "4     [{\"id\": 818, \"name\": \"based on novel\"}, {\"id\":...  \n",
              "...                                                 ...  \n",
              "4798  [{\"id\": 5616, \"name\": \"united states\\u2013mexi...  \n",
              "4799                                                 []  \n",
              "4800  [{\"id\": 248, \"name\": \"date\"}, {\"id\": 699, \"nam...  \n",
              "4801                                                 []  \n",
              "4802  [{\"id\": 1523, \"name\": \"obsession\"}, {\"id\": 224...  \n",
              "\n",
              "[4803 rows x 5 columns]"
            ],
            "text/html": [
              "\n",
              "  <div id=\"df-722d8bfc-0fa9-4d3a-b4af-12acbdeedcf0\" class=\"colab-df-container\">\n",
              "    <div>\n",
              "<style scoped>\n",
              "    .dataframe tbody tr th:only-of-type {\n",
              "        vertical-align: middle;\n",
              "    }\n",
              "\n",
              "    .dataframe tbody tr th {\n",
              "        vertical-align: top;\n",
              "    }\n",
              "\n",
              "    .dataframe thead th {\n",
              "        text-align: right;\n",
              "    }\n",
              "</style>\n",
              "<table border=\"1\" class=\"dataframe\">\n",
              "  <thead>\n",
              "    <tr style=\"text-align: right;\">\n",
              "      <th></th>\n",
              "      <th>id</th>\n",
              "      <th>title</th>\n",
              "      <th>overview</th>\n",
              "      <th>genres</th>\n",
              "      <th>keywords</th>\n",
              "    </tr>\n",
              "  </thead>\n",
              "  <tbody>\n",
              "    <tr>\n",
              "      <th>0</th>\n",
              "      <td>19995</td>\n",
              "      <td>Avatar</td>\n",
              "      <td>In the 22nd century, a paraplegic Marine is di...</td>\n",
              "      <td>[{\"id\": 28, \"name\": \"Action\"}, {\"id\": 12, \"nam...</td>\n",
              "      <td>[{\"id\": 1463, \"name\": \"culture clash\"}, {\"id\":...</td>\n",
              "    </tr>\n",
              "    <tr>\n",
              "      <th>1</th>\n",
              "      <td>285</td>\n",
              "      <td>Pirates of the Caribbean: At World's End</td>\n",
              "      <td>Captain Barbossa, long believed to be dead, ha...</td>\n",
              "      <td>[{\"id\": 12, \"name\": \"Adventure\"}, {\"id\": 14, \"...</td>\n",
              "      <td>[{\"id\": 270, \"name\": \"ocean\"}, {\"id\": 726, \"na...</td>\n",
              "    </tr>\n",
              "    <tr>\n",
              "      <th>2</th>\n",
              "      <td>206647</td>\n",
              "      <td>Spectre</td>\n",
              "      <td>A cryptic message from Bond’s past sends him o...</td>\n",
              "      <td>[{\"id\": 28, \"name\": \"Action\"}, {\"id\": 12, \"nam...</td>\n",
              "      <td>[{\"id\": 470, \"name\": \"spy\"}, {\"id\": 818, \"name...</td>\n",
              "    </tr>\n",
              "    <tr>\n",
              "      <th>3</th>\n",
              "      <td>49026</td>\n",
              "      <td>The Dark Knight Rises</td>\n",
              "      <td>Following the death of District Attorney Harve...</td>\n",
              "      <td>[{\"id\": 28, \"name\": \"Action\"}, {\"id\": 80, \"nam...</td>\n",
              "      <td>[{\"id\": 849, \"name\": \"dc comics\"}, {\"id\": 853,...</td>\n",
              "    </tr>\n",
              "    <tr>\n",
              "      <th>4</th>\n",
              "      <td>49529</td>\n",
              "      <td>John Carter</td>\n",
              "      <td>John Carter is a war-weary, former military ca...</td>\n",
              "      <td>[{\"id\": 28, \"name\": \"Action\"}, {\"id\": 12, \"nam...</td>\n",
              "      <td>[{\"id\": 818, \"name\": \"based on novel\"}, {\"id\":...</td>\n",
              "    </tr>\n",
              "    <tr>\n",
              "      <th>...</th>\n",
              "      <td>...</td>\n",
              "      <td>...</td>\n",
              "      <td>...</td>\n",
              "      <td>...</td>\n",
              "      <td>...</td>\n",
              "    </tr>\n",
              "    <tr>\n",
              "      <th>4798</th>\n",
              "      <td>9367</td>\n",
              "      <td>El Mariachi</td>\n",
              "      <td>El Mariachi just wants to play his guitar and ...</td>\n",
              "      <td>[{\"id\": 28, \"name\": \"Action\"}, {\"id\": 80, \"nam...</td>\n",
              "      <td>[{\"id\": 5616, \"name\": \"united states\\u2013mexi...</td>\n",
              "    </tr>\n",
              "    <tr>\n",
              "      <th>4799</th>\n",
              "      <td>72766</td>\n",
              "      <td>Newlyweds</td>\n",
              "      <td>A newlywed couple's honeymoon is upended by th...</td>\n",
              "      <td>[{\"id\": 35, \"name\": \"Comedy\"}, {\"id\": 10749, \"...</td>\n",
              "      <td>[]</td>\n",
              "    </tr>\n",
              "    <tr>\n",
              "      <th>4800</th>\n",
              "      <td>231617</td>\n",
              "      <td>Signed, Sealed, Delivered</td>\n",
              "      <td>\"Signed, Sealed, Delivered\" introduces a dedic...</td>\n",
              "      <td>[{\"id\": 35, \"name\": \"Comedy\"}, {\"id\": 18, \"nam...</td>\n",
              "      <td>[{\"id\": 248, \"name\": \"date\"}, {\"id\": 699, \"nam...</td>\n",
              "    </tr>\n",
              "    <tr>\n",
              "      <th>4801</th>\n",
              "      <td>126186</td>\n",
              "      <td>Shanghai Calling</td>\n",
              "      <td>When ambitious New York attorney Sam is sent t...</td>\n",
              "      <td>[]</td>\n",
              "      <td>[]</td>\n",
              "    </tr>\n",
              "    <tr>\n",
              "      <th>4802</th>\n",
              "      <td>25975</td>\n",
              "      <td>My Date with Drew</td>\n",
              "      <td>Ever since the second grade when he first saw ...</td>\n",
              "      <td>[{\"id\": 99, \"name\": \"Documentary\"}]</td>\n",
              "      <td>[{\"id\": 1523, \"name\": \"obsession\"}, {\"id\": 224...</td>\n",
              "    </tr>\n",
              "  </tbody>\n",
              "</table>\n",
              "<p>4803 rows × 5 columns</p>\n",
              "</div>\n",
              "    <div class=\"colab-df-buttons\">\n",
              "\n",
              "  <div class=\"colab-df-container\">\n",
              "    <button class=\"colab-df-convert\" onclick=\"convertToInteractive('df-722d8bfc-0fa9-4d3a-b4af-12acbdeedcf0')\"\n",
              "            title=\"Convert this dataframe to an interactive table.\"\n",
              "            style=\"display:none;\">\n",
              "\n",
              "  <svg xmlns=\"http://www.w3.org/2000/svg\" height=\"24px\" viewBox=\"0 -960 960 960\">\n",
              "    <path d=\"M120-120v-720h720v720H120Zm60-500h600v-160H180v160Zm220 220h160v-160H400v160Zm0 220h160v-160H400v160ZM180-400h160v-160H180v160Zm440 0h160v-160H620v160ZM180-180h160v-160H180v160Zm440 0h160v-160H620v160Z\"/>\n",
              "  </svg>\n",
              "    </button>\n",
              "\n",
              "  <style>\n",
              "    .colab-df-container {\n",
              "      display:flex;\n",
              "      gap: 12px;\n",
              "    }\n",
              "\n",
              "    .colab-df-convert {\n",
              "      background-color: #E8F0FE;\n",
              "      border: none;\n",
              "      border-radius: 50%;\n",
              "      cursor: pointer;\n",
              "      display: none;\n",
              "      fill: #1967D2;\n",
              "      height: 32px;\n",
              "      padding: 0 0 0 0;\n",
              "      width: 32px;\n",
              "    }\n",
              "\n",
              "    .colab-df-convert:hover {\n",
              "      background-color: #E2EBFA;\n",
              "      box-shadow: 0px 1px 2px rgba(60, 64, 67, 0.3), 0px 1px 3px 1px rgba(60, 64, 67, 0.15);\n",
              "      fill: #174EA6;\n",
              "    }\n",
              "\n",
              "    .colab-df-buttons div {\n",
              "      margin-bottom: 4px;\n",
              "    }\n",
              "\n",
              "    [theme=dark] .colab-df-convert {\n",
              "      background-color: #3B4455;\n",
              "      fill: #D2E3FC;\n",
              "    }\n",
              "\n",
              "    [theme=dark] .colab-df-convert:hover {\n",
              "      background-color: #434B5C;\n",
              "      box-shadow: 0px 1px 3px 1px rgba(0, 0, 0, 0.15);\n",
              "      filter: drop-shadow(0px 1px 2px rgba(0, 0, 0, 0.3));\n",
              "      fill: #FFFFFF;\n",
              "    }\n",
              "  </style>\n",
              "\n",
              "    <script>\n",
              "      const buttonEl =\n",
              "        document.querySelector('#df-722d8bfc-0fa9-4d3a-b4af-12acbdeedcf0 button.colab-df-convert');\n",
              "      buttonEl.style.display =\n",
              "        google.colab.kernel.accessAllowed ? 'block' : 'none';\n",
              "\n",
              "      async function convertToInteractive(key) {\n",
              "        const element = document.querySelector('#df-722d8bfc-0fa9-4d3a-b4af-12acbdeedcf0');\n",
              "        const dataTable =\n",
              "          await google.colab.kernel.invokeFunction('convertToInteractive',\n",
              "                                                    [key], {});\n",
              "        if (!dataTable) return;\n",
              "\n",
              "        const docLinkHtml = 'Like what you see? Visit the ' +\n",
              "          '<a target=\"_blank\" href=https://colab.research.google.com/notebooks/data_table.ipynb>data table notebook</a>'\n",
              "          + ' to learn more about interactive tables.';\n",
              "        element.innerHTML = '';\n",
              "        dataTable['output_type'] = 'display_data';\n",
              "        await google.colab.output.renderOutput(dataTable, element);\n",
              "        const docLink = document.createElement('div');\n",
              "        docLink.innerHTML = docLinkHtml;\n",
              "        element.appendChild(docLink);\n",
              "      }\n",
              "    </script>\n",
              "  </div>\n",
              "\n",
              "\n",
              "<div id=\"df-eec2afc0-0e22-438c-b563-ae1d35463c5b\">\n",
              "  <button class=\"colab-df-quickchart\" onclick=\"quickchart('df-eec2afc0-0e22-438c-b563-ae1d35463c5b')\"\n",
              "            title=\"Suggest charts\"\n",
              "            style=\"display:none;\">\n",
              "\n",
              "<svg xmlns=\"http://www.w3.org/2000/svg\" height=\"24px\"viewBox=\"0 0 24 24\"\n",
              "     width=\"24px\">\n",
              "    <g>\n",
              "        <path d=\"M19 3H5c-1.1 0-2 .9-2 2v14c0 1.1.9 2 2 2h14c1.1 0 2-.9 2-2V5c0-1.1-.9-2-2-2zM9 17H7v-7h2v7zm4 0h-2V7h2v10zm4 0h-2v-4h2v4z\"/>\n",
              "    </g>\n",
              "</svg>\n",
              "  </button>\n",
              "\n",
              "<style>\n",
              "  .colab-df-quickchart {\n",
              "      --bg-color: #E8F0FE;\n",
              "      --fill-color: #1967D2;\n",
              "      --hover-bg-color: #E2EBFA;\n",
              "      --hover-fill-color: #174EA6;\n",
              "      --disabled-fill-color: #AAA;\n",
              "      --disabled-bg-color: #DDD;\n",
              "  }\n",
              "\n",
              "  [theme=dark] .colab-df-quickchart {\n",
              "      --bg-color: #3B4455;\n",
              "      --fill-color: #D2E3FC;\n",
              "      --hover-bg-color: #434B5C;\n",
              "      --hover-fill-color: #FFFFFF;\n",
              "      --disabled-bg-color: #3B4455;\n",
              "      --disabled-fill-color: #666;\n",
              "  }\n",
              "\n",
              "  .colab-df-quickchart {\n",
              "    background-color: var(--bg-color);\n",
              "    border: none;\n",
              "    border-radius: 50%;\n",
              "    cursor: pointer;\n",
              "    display: none;\n",
              "    fill: var(--fill-color);\n",
              "    height: 32px;\n",
              "    padding: 0;\n",
              "    width: 32px;\n",
              "  }\n",
              "\n",
              "  .colab-df-quickchart:hover {\n",
              "    background-color: var(--hover-bg-color);\n",
              "    box-shadow: 0 1px 2px rgba(60, 64, 67, 0.3), 0 1px 3px 1px rgba(60, 64, 67, 0.15);\n",
              "    fill: var(--button-hover-fill-color);\n",
              "  }\n",
              "\n",
              "  .colab-df-quickchart-complete:disabled,\n",
              "  .colab-df-quickchart-complete:disabled:hover {\n",
              "    background-color: var(--disabled-bg-color);\n",
              "    fill: var(--disabled-fill-color);\n",
              "    box-shadow: none;\n",
              "  }\n",
              "\n",
              "  .colab-df-spinner {\n",
              "    border: 2px solid var(--fill-color);\n",
              "    border-color: transparent;\n",
              "    border-bottom-color: var(--fill-color);\n",
              "    animation:\n",
              "      spin 1s steps(1) infinite;\n",
              "  }\n",
              "\n",
              "  @keyframes spin {\n",
              "    0% {\n",
              "      border-color: transparent;\n",
              "      border-bottom-color: var(--fill-color);\n",
              "      border-left-color: var(--fill-color);\n",
              "    }\n",
              "    20% {\n",
              "      border-color: transparent;\n",
              "      border-left-color: var(--fill-color);\n",
              "      border-top-color: var(--fill-color);\n",
              "    }\n",
              "    30% {\n",
              "      border-color: transparent;\n",
              "      border-left-color: var(--fill-color);\n",
              "      border-top-color: var(--fill-color);\n",
              "      border-right-color: var(--fill-color);\n",
              "    }\n",
              "    40% {\n",
              "      border-color: transparent;\n",
              "      border-right-color: var(--fill-color);\n",
              "      border-top-color: var(--fill-color);\n",
              "    }\n",
              "    60% {\n",
              "      border-color: transparent;\n",
              "      border-right-color: var(--fill-color);\n",
              "    }\n",
              "    80% {\n",
              "      border-color: transparent;\n",
              "      border-right-color: var(--fill-color);\n",
              "      border-bottom-color: var(--fill-color);\n",
              "    }\n",
              "    90% {\n",
              "      border-color: transparent;\n",
              "      border-bottom-color: var(--fill-color);\n",
              "    }\n",
              "  }\n",
              "</style>\n",
              "\n",
              "  <script>\n",
              "    async function quickchart(key) {\n",
              "      const quickchartButtonEl =\n",
              "        document.querySelector('#' + key + ' button');\n",
              "      quickchartButtonEl.disabled = true;  // To prevent multiple clicks.\n",
              "      quickchartButtonEl.classList.add('colab-df-spinner');\n",
              "      try {\n",
              "        const charts = await google.colab.kernel.invokeFunction(\n",
              "            'suggestCharts', [key], {});\n",
              "      } catch (error) {\n",
              "        console.error('Error during call to suggestCharts:', error);\n",
              "      }\n",
              "      quickchartButtonEl.classList.remove('colab-df-spinner');\n",
              "      quickchartButtonEl.classList.add('colab-df-quickchart-complete');\n",
              "    }\n",
              "    (() => {\n",
              "      let quickchartButtonEl =\n",
              "        document.querySelector('#df-eec2afc0-0e22-438c-b563-ae1d35463c5b button');\n",
              "      quickchartButtonEl.style.display =\n",
              "        google.colab.kernel.accessAllowed ? 'block' : 'none';\n",
              "    })();\n",
              "  </script>\n",
              "</div>\n",
              "\n",
              "  <div id=\"id_8efff34c-ab65-4b98-a8b4-8396910fe2bd\">\n",
              "    <style>\n",
              "      .colab-df-generate {\n",
              "        background-color: #E8F0FE;\n",
              "        border: none;\n",
              "        border-radius: 50%;\n",
              "        cursor: pointer;\n",
              "        display: none;\n",
              "        fill: #1967D2;\n",
              "        height: 32px;\n",
              "        padding: 0 0 0 0;\n",
              "        width: 32px;\n",
              "      }\n",
              "\n",
              "      .colab-df-generate:hover {\n",
              "        background-color: #E2EBFA;\n",
              "        box-shadow: 0px 1px 2px rgba(60, 64, 67, 0.3), 0px 1px 3px 1px rgba(60, 64, 67, 0.15);\n",
              "        fill: #174EA6;\n",
              "      }\n",
              "\n",
              "      [theme=dark] .colab-df-generate {\n",
              "        background-color: #3B4455;\n",
              "        fill: #D2E3FC;\n",
              "      }\n",
              "\n",
              "      [theme=dark] .colab-df-generate:hover {\n",
              "        background-color: #434B5C;\n",
              "        box-shadow: 0px 1px 3px 1px rgba(0, 0, 0, 0.15);\n",
              "        filter: drop-shadow(0px 1px 2px rgba(0, 0, 0, 0.3));\n",
              "        fill: #FFFFFF;\n",
              "      }\n",
              "    </style>\n",
              "    <button class=\"colab-df-generate\" onclick=\"generateWithVariable('movies_features')\"\n",
              "            title=\"Generate code using this dataframe.\"\n",
              "            style=\"display:none;\">\n",
              "\n",
              "  <svg xmlns=\"http://www.w3.org/2000/svg\" height=\"24px\"viewBox=\"0 0 24 24\"\n",
              "       width=\"24px\">\n",
              "    <path d=\"M7,19H8.4L18.45,9,17,7.55,7,17.6ZM5,21V16.75L18.45,3.32a2,2,0,0,1,2.83,0l1.4,1.43a1.91,1.91,0,0,1,.58,1.4,1.91,1.91,0,0,1-.58,1.4L9.25,21ZM18.45,9,17,7.55Zm-12,3A5.31,5.31,0,0,0,4.9,8.1,5.31,5.31,0,0,0,1,6.5,5.31,5.31,0,0,0,4.9,4.9,5.31,5.31,0,0,0,6.5,1,5.31,5.31,0,0,0,8.1,4.9,5.31,5.31,0,0,0,12,6.5,5.46,5.46,0,0,0,6.5,12Z\"/>\n",
              "  </svg>\n",
              "    </button>\n",
              "    <script>\n",
              "      (() => {\n",
              "      const buttonEl =\n",
              "        document.querySelector('#id_8efff34c-ab65-4b98-a8b4-8396910fe2bd button.colab-df-generate');\n",
              "      buttonEl.style.display =\n",
              "        google.colab.kernel.accessAllowed ? 'block' : 'none';\n",
              "\n",
              "      buttonEl.onclick = () => {\n",
              "        google.colab.notebook.generateWithVariable('movies_features');\n",
              "      }\n",
              "      })();\n",
              "    </script>\n",
              "  </div>\n",
              "\n",
              "    </div>\n",
              "  </div>\n"
            ],
            "application/vnd.google.colaboratory.intrinsic+json": {
              "type": "dataframe",
              "variable_name": "movies_features",
              "summary": "{\n  \"name\": \"movies_features\",\n  \"rows\": 4803,\n  \"fields\": [\n    {\n      \"column\": \"id\",\n      \"properties\": {\n        \"dtype\": \"number\",\n        \"std\": 88694,\n        \"min\": 5,\n        \"max\": 459488,\n        \"num_unique_values\": 4803,\n        \"samples\": [\n          8427,\n          13006,\n          18041\n        ],\n        \"semantic_type\": \"\",\n        \"description\": \"\"\n      }\n    },\n    {\n      \"column\": \"title\",\n      \"properties\": {\n        \"dtype\": \"string\",\n        \"num_unique_values\": 4800,\n        \"samples\": [\n          \"I Spy\",\n          \"Who's Your Caddy?\",\n          \"Sleepover\"\n        ],\n        \"semantic_type\": \"\",\n        \"description\": \"\"\n      }\n    },\n    {\n      \"column\": \"overview\",\n      \"properties\": {\n        \"dtype\": \"string\",\n        \"num_unique_values\": 4801,\n        \"samples\": [\n          \"When the Switchblade, the most sophisticated prototype stealth fighter created yet, is stolen from the U.S. government, one of the United States' top spies, Alex Scott, is called to action. What he doesn't expect is to get teamed up with a cocky civilian, World Class Boxing Champion Kelly Robinson, on a dangerous top secret espionage mission. Their assignment: using equal parts skill and humor, catch Arnold Gundars, one of the world's most successful arms dealers.\",\n          \"A story of love and obsession. A young radio personality who, after her mother dies, discovers she had been having a love affair for 15 years. Now she finds herself recreating her mother's romance by getting involved with a married man.\",\n          \"As their first year of high school looms ahead, best friends Julie, Hannah, Yancy and Farrah have one last summer sleepover. Little do they know they're about to embark on the adventure of a lifetime. Desperate to shed their nerdy status, they take part in a night-long scavenger hunt that pits them against their popular archrivals. Everything under the sun goes on -- from taking Yancy's father's car to sneaking into nightclubs!\"\n        ],\n        \"semantic_type\": \"\",\n        \"description\": \"\"\n      }\n    },\n    {\n      \"column\": \"genres\",\n      \"properties\": {\n        \"dtype\": \"category\",\n        \"num_unique_values\": 1175,\n        \"samples\": [\n          \"[{\\\"id\\\": 14, \\\"name\\\": \\\"Fantasy\\\"}, {\\\"id\\\": 12, \\\"name\\\": \\\"Adventure\\\"}, {\\\"id\\\": 16, \\\"name\\\": \\\"Animation\\\"}]\",\n          \"[{\\\"id\\\": 28, \\\"name\\\": \\\"Action\\\"}, {\\\"id\\\": 35, \\\"name\\\": \\\"Comedy\\\"}, {\\\"id\\\": 80, \\\"name\\\": \\\"Crime\\\"}, {\\\"id\\\": 18, \\\"name\\\": \\\"Drama\\\"}]\",\n          \"[{\\\"id\\\": 12, \\\"name\\\": \\\"Adventure\\\"}, {\\\"id\\\": 16, \\\"name\\\": \\\"Animation\\\"}, {\\\"id\\\": 10751, \\\"name\\\": \\\"Family\\\"}, {\\\"id\\\": 14, \\\"name\\\": \\\"Fantasy\\\"}, {\\\"id\\\": 878, \\\"name\\\": \\\"Science Fiction\\\"}]\"\n        ],\n        \"semantic_type\": \"\",\n        \"description\": \"\"\n      }\n    },\n    {\n      \"column\": \"keywords\",\n      \"properties\": {\n        \"dtype\": \"string\",\n        \"num_unique_values\": 4222,\n        \"samples\": [\n          \"[{\\\"id\\\": 782, \\\"name\\\": \\\"assassin\\\"}, {\\\"id\\\": 1872, \\\"name\\\": \\\"loss of father\\\"}, {\\\"id\\\": 2908, \\\"name\\\": \\\"secret society\\\"}, {\\\"id\\\": 3045, \\\"name\\\": \\\"mission of murder\\\"}, {\\\"id\\\": 9748, \\\"name\\\": \\\"revenge\\\"}]\",\n          \"[{\\\"id\\\": 2987, \\\"name\\\": \\\"gang war\\\"}, {\\\"id\\\": 4942, \\\"name\\\": \\\"victim of murder\\\"}, {\\\"id\\\": 5332, \\\"name\\\": \\\"greed\\\"}, {\\\"id\\\": 6062, \\\"name\\\": \\\"hostility\\\"}, {\\\"id\\\": 156212, \\\"name\\\": \\\"spaghetti western\\\"}]\",\n          \"[{\\\"id\\\": 703, \\\"name\\\": \\\"detective\\\"}, {\\\"id\\\": 1299, \\\"name\\\": \\\"monster\\\"}, {\\\"id\\\": 6101, \\\"name\\\": \\\"engine\\\"}, {\\\"id\\\": 10988, \\\"name\\\": \\\"based on tv series\\\"}, {\\\"id\\\": 15162, \\\"name\\\": \\\"dog\\\"}]\"\n        ],\n        \"semantic_type\": \"\",\n        \"description\": \"\"\n      }\n    }\n  ]\n}"
            }
          },
          "metadata": {},
          "execution_count": 15
        }
      ]
    },
    {
      "cell_type": "code",
      "source": [
        "x = movies_features['title']+movies_features['overview']+movies_features['genres']+movies_features['keywords']"
      ],
      "metadata": {
        "id": "DTJjVecMfbuk"
      },
      "execution_count": 16,
      "outputs": []
    },
    {
      "cell_type": "code",
      "source": [
        "x"
      ],
      "metadata": {
        "colab": {
          "base_uri": "https://localhost:8080/",
          "height": 458
        },
        "id": "w7kVXNd4gOqW",
        "outputId": "b11a5b47-8214-4139-e436-510f9c28b7d4"
      },
      "execution_count": 17,
      "outputs": [
        {
          "output_type": "execute_result",
          "data": {
            "text/plain": [
              "0       AvatarIn the 22nd century, a paraplegic Marine...\n",
              "1       Pirates of the Caribbean: At World's EndCaptai...\n",
              "2       SpectreA cryptic message from Bond’s past send...\n",
              "3       The Dark Knight RisesFollowing the death of Di...\n",
              "4       John CarterJohn Carter is a war-weary, former ...\n",
              "                              ...                        \n",
              "4798    El MariachiEl Mariachi just wants to play his ...\n",
              "4799    NewlywedsA newlywed couple's honeymoon is upen...\n",
              "4800    Signed, Sealed, Delivered\"Signed, Sealed, Deli...\n",
              "4801    Shanghai CallingWhen ambitious New York attorn...\n",
              "4802    My Date with DrewEver since the second grade w...\n",
              "Length: 4803, dtype: object"
            ],
            "text/html": [
              "<div>\n",
              "<style scoped>\n",
              "    .dataframe tbody tr th:only-of-type {\n",
              "        vertical-align: middle;\n",
              "    }\n",
              "\n",
              "    .dataframe tbody tr th {\n",
              "        vertical-align: top;\n",
              "    }\n",
              "\n",
              "    .dataframe thead th {\n",
              "        text-align: right;\n",
              "    }\n",
              "</style>\n",
              "<table border=\"1\" class=\"dataframe\">\n",
              "  <thead>\n",
              "    <tr style=\"text-align: right;\">\n",
              "      <th></th>\n",
              "      <th>0</th>\n",
              "    </tr>\n",
              "  </thead>\n",
              "  <tbody>\n",
              "    <tr>\n",
              "      <th>0</th>\n",
              "      <td>AvatarIn the 22nd century, a paraplegic Marine...</td>\n",
              "    </tr>\n",
              "    <tr>\n",
              "      <th>1</th>\n",
              "      <td>Pirates of the Caribbean: At World's EndCaptai...</td>\n",
              "    </tr>\n",
              "    <tr>\n",
              "      <th>2</th>\n",
              "      <td>SpectreA cryptic message from Bond’s past send...</td>\n",
              "    </tr>\n",
              "    <tr>\n",
              "      <th>3</th>\n",
              "      <td>The Dark Knight RisesFollowing the death of Di...</td>\n",
              "    </tr>\n",
              "    <tr>\n",
              "      <th>4</th>\n",
              "      <td>John CarterJohn Carter is a war-weary, former ...</td>\n",
              "    </tr>\n",
              "    <tr>\n",
              "      <th>...</th>\n",
              "      <td>...</td>\n",
              "    </tr>\n",
              "    <tr>\n",
              "      <th>4798</th>\n",
              "      <td>El MariachiEl Mariachi just wants to play his ...</td>\n",
              "    </tr>\n",
              "    <tr>\n",
              "      <th>4799</th>\n",
              "      <td>NewlywedsA newlywed couple's honeymoon is upen...</td>\n",
              "    </tr>\n",
              "    <tr>\n",
              "      <th>4800</th>\n",
              "      <td>Signed, Sealed, Delivered\"Signed, Sealed, Deli...</td>\n",
              "    </tr>\n",
              "    <tr>\n",
              "      <th>4801</th>\n",
              "      <td>Shanghai CallingWhen ambitious New York attorn...</td>\n",
              "    </tr>\n",
              "    <tr>\n",
              "      <th>4802</th>\n",
              "      <td>My Date with DrewEver since the second grade w...</td>\n",
              "    </tr>\n",
              "  </tbody>\n",
              "</table>\n",
              "<p>4803 rows × 1 columns</p>\n",
              "</div><br><label><b>dtype:</b> object</label>"
            ]
          },
          "metadata": {},
          "execution_count": 17
        }
      ]
    },
    {
      "cell_type": "code",
      "source": [
        "x.shape"
      ],
      "metadata": {
        "colab": {
          "base_uri": "https://localhost:8080/"
        },
        "id": "ADQfoQesgWfB",
        "outputId": "5d0982ba-647f-4731-e1b2-9cda0811034b"
      },
      "execution_count": 18,
      "outputs": [
        {
          "output_type": "execute_result",
          "data": {
            "text/plain": [
              "(4803,)"
            ]
          },
          "metadata": {},
          "execution_count": 18
        }
      ]
    },
    {
      "cell_type": "markdown",
      "source": [
        "#Get Feature Text Conversion to Takens"
      ],
      "metadata": {
        "id": "qjm5j4uygc-p"
      }
    },
    {
      "cell_type": "code",
      "source": [
        "from sklearn.feature_extraction.text import TfidfVectorizer"
      ],
      "metadata": {
        "id": "tBi-8iyvgryd"
      },
      "execution_count": 19,
      "outputs": []
    },
    {
      "cell_type": "code",
      "source": [
        "tfidf = TfidfVectorizer()"
      ],
      "metadata": {
        "id": "IUPxzKvegxxq"
      },
      "execution_count": 20,
      "outputs": []
    },
    {
      "cell_type": "code",
      "source": [
        "x = tfidf.fit_transform(x)"
      ],
      "metadata": {
        "id": "637wtLVWjJoR"
      },
      "execution_count": 21,
      "outputs": []
    },
    {
      "cell_type": "code",
      "source": [
        "x.shape"
      ],
      "metadata": {
        "colab": {
          "base_uri": "https://localhost:8080/"
        },
        "id": "tOQd4x6CjOqq",
        "outputId": "7ccf8170-b309-4977-f27c-41cd93295f15"
      },
      "execution_count": 22,
      "outputs": [
        {
          "output_type": "execute_result",
          "data": {
            "text/plain": [
              "(4803, 37670)"
            ]
          },
          "metadata": {},
          "execution_count": 22
        }
      ]
    },
    {
      "cell_type": "code",
      "source": [
        "print(x)"
      ],
      "metadata": {
        "colab": {
          "base_uri": "https://localhost:8080/"
        },
        "id": "6fp7LraqjSFq",
        "outputId": "87a15046-dfb7-4805-d33a-ab0509277277"
      },
      "execution_count": 23,
      "outputs": [
        {
          "output_type": "stream",
          "name": "stdout",
          "text": [
            "  (0, 11722)\t0.1322248925859849\n",
            "  (0, 34565)\t0.03358976884566207\n",
            "  (0, 6535)\t0.11843212649132251\n",
            "  (0, 14081)\t0.07084642585088397\n",
            "  (0, 27909)\t0.11568767159355203\n",
            "  (0, 25211)\t0.16413158748722473\n",
            "  (0, 22901)\t0.02699484026948605\n",
            "  (0, 17005)\t0.1113572430549601\n",
            "  (0, 34858)\t0.01897116250927486\n",
            "  (0, 26203)\t0.09420553563114774\n",
            "  (0, 27851)\t0.10958427536663158\n",
            "  (0, 27358)\t0.029376558886268264\n",
            "  (0, 35823)\t0.09361515301155866\n",
            "  (0, 25996)\t0.06344035108496074\n",
            "  (0, 13502)\t0.038029303418256194\n",
            "  (0, 12249)\t0.059247034477740226\n",
            "  (0, 34971)\t0.09197139493414667\n",
            "  (0, 12487)\t0.06195611256193799\n",
            "  (0, 19463)\t0.08713065219478533\n",
            "  (0, 27481)\t0.09833658605962813\n",
            "  (0, 11001)\t0.038500308967484825\n",
            "  (0, 29291)\t0.10293344327463715\n",
            "  (0, 10967)\t0.03354823775303451\n",
            "  (0, 10769)\t0.20781964275519396\n",
            "  (0, 14515)\t0.09833658605962813\n",
            "  :\t:\n",
            "  (4802, 24346)\t0.12631711537193785\n",
            "  (4802, 18684)\t0.12031734447850564\n",
            "  (4802, 29140)\t0.1100202849655331\n",
            "  (4802, 31636)\t0.10173146102845451\n",
            "  (4802, 23131)\t0.11577377363068397\n",
            "  (4802, 16122)\t0.21810780554728115\n",
            "  (4802, 13256)\t0.13022910790143835\n",
            "  (4802, 19160)\t0.12631711537193785\n",
            "  (4802, 19821)\t0.1275330419031369\n",
            "  (4802, 11488)\t0.11325799917260462\n",
            "  (4802, 16294)\t0.12883288983001723\n",
            "  (4802, 10190)\t0.13022910790143835\n",
            "  (4802, 11476)\t0.1371571612322641\n",
            "  (4802, 10158)\t0.08965554123201751\n",
            "  (4802, 31383)\t0.12307940116486633\n",
            "  (4802, 17138)\t0.08656001881066902\n",
            "  (4802, 26552)\t0.10411087550277189\n",
            "  (4802, 17438)\t0.2787524631425422\n",
            "  (4802, 20493)\t0.1333764606778389\n",
            "  (4802, 6340)\t0.13517213517230706\n",
            "  (4802, 13637)\t0.13517213517230706\n",
            "  (4802, 12081)\t0.30487069554120866\n",
            "  (4802, 454)\t0.15785537070076747\n",
            "  (4802, 17439)\t0.1654944639699376\n",
            "  (4802, 21394)\t0.3309889279398752\n"
          ]
        }
      ]
    },
    {
      "cell_type": "markdown",
      "source": [
        "# Get Similarity Score using Cosine Similarty"
      ],
      "metadata": {
        "id": "nwKra5w1jj4J"
      }
    },
    {
      "cell_type": "markdown",
      "source": [],
      "metadata": {
        "id": "mZkKXRhHj1wE"
      }
    },
    {
      "cell_type": "code",
      "source": [
        "from sklearn.metrics.pairwise import cosine_similarity"
      ],
      "metadata": {
        "id": "QJE91Ml-j5_Z"
      },
      "execution_count": 24,
      "outputs": []
    },
    {
      "cell_type": "code",
      "source": [
        "similary_score = cosine_similarity(x)"
      ],
      "metadata": {
        "id": "6rw97Nb6jWLF"
      },
      "execution_count": 25,
      "outputs": []
    },
    {
      "cell_type": "code",
      "source": [
        "similary_score"
      ],
      "metadata": {
        "colab": {
          "base_uri": "https://localhost:8080/"
        },
        "id": "VPTystu7kEU1",
        "outputId": "4cb8ec94-15a6-4049-f3eb-20cf316b8cd3"
      },
      "execution_count": 26,
      "outputs": [
        {
          "output_type": "execute_result",
          "data": {
            "text/plain": [
              "array([[1.        , 0.27878857, 0.18065028, ..., 0.13894956, 0.01003447,\n",
              "        0.07599247],\n",
              "       [0.27878857, 1.        , 0.17440366, ..., 0.14031991, 0.01713462,\n",
              "        0.07712433],\n",
              "       [0.18065028, 0.17440366, 1.        , ..., 0.09427376, 0.01263278,\n",
              "        0.05384834],\n",
              "       ...,\n",
              "       [0.13894956, 0.14031991, 0.09427376, ..., 1.        , 0.03471535,\n",
              "        0.07193857],\n",
              "       [0.01003447, 0.01713462, 0.01263278, ..., 0.03471535, 1.        ,\n",
              "        0.03757176],\n",
              "       [0.07599247, 0.07712433, 0.05384834, ..., 0.07193857, 0.03757176,\n",
              "        1.        ]])"
            ]
          },
          "metadata": {},
          "execution_count": 26
        }
      ]
    },
    {
      "cell_type": "code",
      "source": [
        "similary_score.shape"
      ],
      "metadata": {
        "colab": {
          "base_uri": "https://localhost:8080/"
        },
        "id": "TZPWKPJOkOL2",
        "outputId": "828ccd1d-3cb5-4f4a-9fcf-dcdd174c3c56"
      },
      "execution_count": 27,
      "outputs": [
        {
          "output_type": "execute_result",
          "data": {
            "text/plain": [
              "(4803, 4803)"
            ]
          },
          "metadata": {},
          "execution_count": 27
        }
      ]
    },
    {
      "cell_type": "markdown",
      "source": [
        "#Get Movies Name as Input from User and Validate for Closet Spelling"
      ],
      "metadata": {
        "id": "zozo-G0kkkIR"
      }
    },
    {
      "cell_type": "code",
      "source": [
        "Favorite_Movie_Name = input('Enter your favorite movie name :')"
      ],
      "metadata": {
        "colab": {
          "base_uri": "https://localhost:8080/"
        },
        "id": "e9MvKzackYhj",
        "outputId": "8d721ac2-43b2-4d1a-b341-f425eef98d2c"
      },
      "execution_count": 28,
      "outputs": [
        {
          "name": "stdout",
          "output_type": "stream",
          "text": [
            "Enter your favorite movie name :avatar\n"
          ]
        }
      ]
    },
    {
      "cell_type": "code",
      "source": [
        "All_Movies_Title_List = movies_features['title'].tolist()"
      ],
      "metadata": {
        "id": "Xh-s8LlClSyd"
      },
      "execution_count": 29,
      "outputs": []
    },
    {
      "cell_type": "code",
      "source": [
        "import difflib"
      ],
      "metadata": {
        "id": "T6msAYo1lbss"
      },
      "execution_count": 30,
      "outputs": []
    },
    {
      "cell_type": "code",
      "source": [
        "Movies_Recommendation = difflib.get_close_matches(Favorite_Movie_Name,All_Movies_Title_List)\n",
        "print(Movies_Recommendation)"
      ],
      "metadata": {
        "colab": {
          "base_uri": "https://localhost:8080/"
        },
        "id": "hVpYq1OAle6d",
        "outputId": "d2fa318c-2f9f-4508-92d9-00ec30b380c1"
      },
      "execution_count": 31,
      "outputs": [
        {
          "output_type": "stream",
          "name": "stdout",
          "text": [
            "['Avatar']\n"
          ]
        }
      ]
    },
    {
      "cell_type": "code",
      "source": [
        "close_match = Movies_Recommendation[0]\n",
        "print(close_match)"
      ],
      "metadata": {
        "colab": {
          "base_uri": "https://localhost:8080/"
        },
        "id": "h5iMM29JloAB",
        "outputId": "4608a6ef-07e9-4d0e-ef91-2dc6daab6dfa"
      },
      "execution_count": 32,
      "outputs": [
        {
          "output_type": "stream",
          "name": "stdout",
          "text": [
            "Avatar\n"
          ]
        }
      ]
    },
    {
      "cell_type": "code",
      "source": [
        "Index_of_Close_Match_Movie = movies_features[movies_features.title == close_match]['id'].values[0]\n",
        "print(Index_of_Close_Match_Movie)"
      ],
      "metadata": {
        "colab": {
          "base_uri": "https://localhost:8080/"
        },
        "id": "DI8PDmPWlvUJ",
        "outputId": "d0d6fb81-4435-4dd1-c63d-0d8b11631520"
      },
      "execution_count": 33,
      "outputs": [
        {
          "output_type": "stream",
          "name": "stdout",
          "text": [
            "19995\n"
          ]
        }
      ]
    },
    {
      "cell_type": "code",
      "source": [
        "# getting a list of similar movies\n",
        "Recommendation_Score = list(enumerate(similary_score[Index_of_Close_Match_Movie%1493]))\n",
        "\n",
        "print(Recommendation_Score)"
      ],
      "metadata": {
        "colab": {
          "base_uri": "https://localhost:8080/"
        },
        "id": "I8kyuv4Jl4Ow",
        "outputId": "24ae8bd1-faa2-43a6-e69d-092ac8f62922"
      },
      "execution_count": 34,
      "outputs": [
        {
          "output_type": "stream",
          "name": "stdout",
          "text": [
            "[(0, 0.14008181130687314), (1, 0.1313713092631498), (2, 0.10391121484959795), (3, 0.12123130309790606), (4, 0.12561371973553745), (5, 0.10846477946820583), (6, 0.09876474791562607), (7, 0.1091562720299395), (8, 0.08281871122795224), (9, 0.0970431267995952), (10, 0.11315666704663138), (11, 0.08314155291748773), (12, 0.11089451459723118), (13, 0.0932607567388669), (14, 0.1408412196300203), (15, 0.12996563156545396), (16, 0.13025243801006536), (17, 0.12098183696974689), (18, 0.10376070991776125), (19, 0.13202012942461885), (20, 0.10959617211162496), (21, 0.08888502802751068), (22, 0.08192221299196241), (23, 0.0822146892620671), (24, 0.09554299023896215), (25, 0.10114928579135728), (26, 0.13438759190853367), (27, 0.13296356220961822), (28, 0.09327413323066763), (29, 0.1440589992568125), (30, 0.09922385843502592), (31, 0.1241440848709103), (32, 0.11580019481268383), (33, 0.14826311356482771), (34, 0.08078047910632322), (35, 0.1162556770469299), (36, 0.08687184718218159), (37, 0.10356802562234708), (38, 0.08649765600727707), (39, 0.10517739649694667), (40, 0.09383818403785704), (41, 0.10992100381098706), (42, 0.10641065679073594), (43, 0.12422348993247162), (44, 0.06852185202706093), (45, 0.11502184342620374), (46, 0.1376609701065778), (47, 0.12392729100361231), (48, 0.1218428206017273), (49, 0.08308952258633175), (50, 0.10063357169554796), (51, 0.09752259423626485), (52, 0.10829740149097132), (53, 0.14226029109757796), (54, 0.11813426542752356), (55, 0.10987562461415565), (56, 0.10395586835755313), (57, 0.0516367621132187), (58, 0.061705204367541254), (59, 0.12713744642391867), (60, 0.0761742913711843), (61, 0.08177233552232219), (62, 0.09134249036601362), (63, 0.11117039589355339), (64, 0.13219745382758874), (65, 0.13262402811443078), (66, 0.08104883503751517), (67, 0.06483610304162245), (68, 0.08830114524453261), (69, 0.09916972277867415), (70, 0.09484166475734218), (71, 0.08616388128488635), (72, 0.08372340061493085), (73, 0.09924998437568762), (74, 0.10109967361343981), (75, 0.08532912029928943), (76, 0.14354985107742688), (77, 0.07997796191972655), (78, 0.11110821136975083), (79, 0.09956847928624257), (80, 0.09451950846109516), (81, 0.09088337359343154), (82, 0.14053133257789807), (83, 0.086636196090616), (84, 0.10473938383967397), (85, 0.12495850073081338), (86, 0.07510580797749195), (87, 0.07708467964299558), (88, 0.10766870920001143), (89, 0.08414803020928462), (90, 0.09906307247502831), (91, 0.1061862113114177), (92, 0.11648782880649165), (93, 0.10413227116268715), (94, 0.09571582819568933), (95, 0.14212515217520677), (96, 0.09729498228651066), (97, 0.1269374513381132), (98, 0.12191455913193701), (99, 0.08500320176461985), (100, 0.10556789530451889), (101, 0.15310645102803075), (102, 0.09608072445123568), (103, 0.15036325886262455), (104, 0.11531254604852308), (105, 0.06897605205709546), (106, 0.13759016073419406), (107, 0.12852864540994602), (108, 0.1311115317419986), (109, 0.11746936000134771), (110, 0.16747106980464166), (111, 0.10057354773076625), (112, 0.16396021335663544), (113, 0.11625128339953747), (114, 0.09806186295890719), (115, 0.11506694894081551), (116, 0.13129496324587953), (117, 0.10865486941029885), (118, 0.0957771133123646), (119, 0.13263565415429804), (120, 0.1017142295085438), (121, 0.1130878903990972), (122, 0.12050904723754013), (123, 0.1757012755869049), (124, 0.10930431819507959), (125, 0.14245162458966928), (126, 0.10486897013716583), (127, 0.1483401829379319), (128, 0.0998368828330095), (129, 0.1175926666229932), (130, 0.09218609185982676), (131, 0.1125457708210147), (132, 0.08286694685440145), (133, 0.11784095278739737), (134, 0.09407065694620152), (135, 0.07712990247368827), (136, 0.08493541718581557), (137, 0.0894500032392846), (138, 0.14364694793705787), (139, 0.14894709632452893), (140, 0.09308400621222006), (141, 0.09999997226886942), (142, 0.08258852147667686), (143, 0.09884266423676555), (144, 0.12258824443085034), (145, 0.11827351422820657), (146, 0.06057864487662318), (147, 0.0670532268778386), (148, 0.06416254342296222), (149, 0.12242553768726715), (150, 0.128882467818449), (151, 0.11211615635542291), (152, 0.10167689984363772), (153, 0.1071958219326801), (154, 0.13254599278982465), (155, 0.07895809645511773), (156, 0.1906594386516652), (157, 0.07195328124605696), (158, 0.10055408187106055), (159, 0.08540029988349387), (160, 0.14074179170399928), (161, 0.10159852797300206), (162, 0.08561004176514143), (163, 0.1238306719885667), (164, 0.06769048947176637), (165, 0.12593450959008523), (166, 0.13250288272852523), (167, 0.1305850616990476), (168, 0.1160399145054235), (169, 0.21755216119191925), (170, 0.10962858510967376), (171, 0.08425687789406885), (172, 0.1214338703978495), (173, 0.0809429348252525), (174, 0.1120171784523694), (175, 0.08904158998408658), (176, 0.12803205203571474), (177, 0.08904589660559921), (178, 0.09885132302677149), (179, 0.09154021730427105), (180, 0.13983046854226167), (181, 0.11031065657687558), (182, 0.09136570251573117), (183, 0.12691425749429913), (184, 0.08640689081910984), (185, 0.1045949043582677), (186, 0.12042535179170566), (187, 0.10500296086212953), (188, 0.13438894036788573), (189, 0.08069867728114306), (190, 0.12265001987472095), (191, 0.11368316500744521), (192, 0.15197223671283935), (193, 0.054625912212416076), (194, 0.07094167710624957), (195, 0.14811832209142764), (196, 0.14027022774839318), (197, 0.11332773359752908), (198, 0.10362491029356422), (199, 0.11254546560323771), (200, 0.13713258128856162), (201, 0.11272966984730898), (202, 0.08408802227529043), (203, 0.07135209616596778), (204, 0.11151695870246539), (205, 0.07348227635459265), (206, 0.08055619510658125), (207, 0.10161080553267211), (208, 0.10041753491617703), (209, 0.09788776430538032), (210, 0.07905586168714385), (211, 0.07346763795409052), (212, 0.14145554594093443), (213, 0.1287163877277298), (214, 0.09501969973153777), (215, 0.14097006470947931), (216, 0.10150711995237312), (217, 0.08820129793461615), (218, 0.10553227637798862), (219, 0.07365563076615933), (220, 0.11812303976918802), (221, 0.08702817628864766), (222, 0.0968779247743862), (223, 0.09586095408633627), (224, 0.08731107120027731), (225, 0.10654303808552243), (226, 0.07863197016448524), (227, 0.1039341769288899), (228, 0.0983303607573282), (229, 0.10836332058932037), (230, 0.12771607661826764), (231, 0.11142197373284429), (232, 0.13104647261893232), (233, 0.09724229732599396), (234, 0.13487779860769497), (235, 0.09241871847056651), (236, 0.2023335507515312), (237, 0.08049432369095212), (238, 0.11584967427685468), (239, 0.08387552816420557), (240, 0.12121018195279863), (241, 0.10410924879931173), (242, 0.10786976721724867), (243, 0.1539143993085406), (244, 0.10530966395430037), (245, 0.1153597566038516), (246, 0.1793363499458209), (247, 0.0879927602499619), (248, 0.09711623822209854), (249, 0.08658576616872077), (250, 0.07164558090655532), (251, 0.06455166659651775), (252, 0.10332296178275747), (253, 0.11819797647928885), (254, 0.12289984247243742), (255, 0.0779583468593492), (256, 0.09688941790187558), (257, 0.09447908471541824), (258, 0.08344377966658253), (259, 0.06464429149340228), (260, 0.1174703685085557), (261, 0.1303370352827758), (262, 0.12042294291780993), (263, 0.11756725547663067), (264, 0.07642669870766773), (265, 0.1119999449943506), (266, 0.1025314769140257), (267, 0.1335908043654188), (268, 0.08864721823615264), (269, 0.10648585426843324), (270, 0.10968912503994144), (271, 0.10415269891489878), (272, 0.055033528828149034), (273, 0.10427567398814154), (274, 0.1251443654348018), (275, 0.08511715829949106), (276, 0.10040200343862711), (277, 0.09462014098334716), (278, 0.10181892214838875), (279, 0.12760237680535438), (280, 0.09089181451924971), (281, 0.12438065816871637), (282, 0.1104925814023909), (283, 0.09823958362696336), (284, 0.066930278706278), (285, 0.12059937912649565), (286, 0.12357372035808221), (287, 0.1253778425848848), (288, 0.12922618830736432), (289, 0.06519111581880502), (290, 0.12385973107474266), (291, 0.13147348903465483), (292, 0.10288252004381905), (293, 0.08595957681411637), (294, 0.09063259491439382), (295, 0.08559180688188846), (296, 0.14800764906674319), (297, 0.1054554673641483), (298, 0.10225677742134173), (299, 0.10240526769143152), (300, 0.12508455476496055), (301, 0.11113688597569818), (302, 0.06844882405477253), (303, 0.08880085717115935), (304, 0.13117490917157498), (305, 0.12512851566382285), (306, 0.07488644551974583), (307, 0.07705912474111105), (308, 0.0888281717668161), (309, 0.07898810651725299), (310, 0.15769321978561282), (311, 0.10393649014209273), (312, 0.10903166252706697), (313, 0.07665577699574848), (314, 0.09056536315271901), (315, 0.06829670643807022), (316, 0.13708112866830602), (317, 0.12023604044589793), (318, 0.0840545652800545), (319, 0.060840082503866494), (320, 0.1319400696825805), (321, 0.07541077429647408), (322, 0.14313342489419084), (323, 0.07657639747195599), (324, 0.10254121071406767), (325, 0.08305890557616814), (326, 0.10162074628652014), (327, 0.09918619172977194), (328, 0.0722596187658839), (329, 0.15620429184238546), (330, 0.11665445096566383), (331, 0.08762673015907252), (332, 0.11864019330591583), (333, 0.10604465623519299), (334, 0.10572807137922043), (335, 0.09738062987456649), (336, 0.10069182060324801), (337, 0.10175940262119586), (338, 0.11444540923315162), (339, 0.09907395654590208), (340, 0.09586066693601575), (341, 0.09387171348001393), (342, 0.13090358405584224), (343, 0.10468983369636858), (344, 0.06614993069569991), (345, 0.09041599904960337), (346, 0.07607309638667525), (347, 0.07068416204744231), (348, 0.08713916937481803), (349, 0.10451227495651952), (350, 0.09666854926513682), (351, 0.09721437080011135), (352, 0.08232863726034124), (353, 0.10898180626757885), (354, 0.11913877241678775), (355, 0.12146661352325877), (356, 0.09361770170241054), (357, 0.04906921740689355), (358, 0.08479813666656949), (359, 0.09842642637986976), (360, 0.20261276667942363), (361, 0.08839917011325789), (362, 0.07810578899839013), (363, 0.11327074585274625), (364, 0.07888751261179137), (365, 0.1121406178066138), (366, 0.08285220147325675), (367, 0.09533393215952357), (368, 0.08771958551462161), (369, 0.12163585383100725), (370, 0.1369069156641817), (371, 0.08800656342800539), (372, 0.10061160479424279), (373, 0.09639622303623534), (374, 0.07279438084840367), (375, 0.059263312094833674), (376, 0.07832294927861987), (377, 0.0856885179725891), (378, 0.10052395611359873), (379, 0.09874732814377567), (380, 0.1347419069383004), (381, 0.05918053890505234), (382, 0.10850528920778027), (383, 0.10076392311039661), (384, 0.07371317331788177), (385, 0.1075196596691268), (386, 0.12638977603447277), (387, 0.11805625834084077), (388, 0.07631525102531961), (389, 0.09670731441342163), (390, 0.11733097820965958), (391, 0.10823379217713948), (392, 0.0819753659922661), (393, 0.07902872415670929), (394, 0.13608933470034273), (395, 0.09913527516540527), (396, 0.13829963584454222), (397, 0.05837123348537107), (398, 0.06803201896998153), (399, 0.0885219186086483), (400, 0.08722541746255306), (401, 0.23220548751476666), (402, 0.11821481498344544), (403, 0.10628390434273219), (404, 0.19498719634788858), (405, 0.10545609856232603), (406, 0.08313907469292559), (407, 0.08821380686047682), (408, 0.10911541593195914), (409, 0.10993397808135892), (410, 0.105416718790251), (411, 0.0911773177863965), (412, 0.08712508282616842), (413, 0.08467745892385133), (414, 0.05717362412118755), (415, 0.13248548872828966), (416, 0.1056588873114423), (417, 0.10756557406448691), (418, 0.08859289647378686), (419, 0.12093032194862494), (420, 0.13019260941366215), (421, 0.13382177647766683), (422, 0.09615942798340643), (423, 0.08807151330799476), (424, 0.12457424904355367), (425, 0.13783144261813948), (426, 0.11185011367120938), (427, 0.05748003243819135), (428, 0.0997889547001069), (429, 0.09165483656027487), (430, 0.0628293831822322), (431, 0.11233071917378487), (432, 0.12310835221819406), (433, 0.087887461581623), (434, 0.0844324320236082), (435, 0.06875078429335003), (436, 0.0388438915858635), (437, 0.09521521333752457), (438, 0.07738012057971656), (439, 0.11539716044227408), (440, 0.12589770732494376), (441, 0.09165502189991441), (442, 0.12780976951048068), (443, 0.07684162469577084), (444, 0.09311831573708992), (445, 0.07542253312801178), (446, 0.1298401609645158), (447, 0.0952662248972041), (448, 0.10457870773340268), (449, 0.11025304391651901), (450, 0.07204727026169659), (451, 0.12939014472560428), (452, 0.08537625819733945), (453, 0.1070252450980067), (454, 0.13682121365789307), (455, 0.13832779457579106), (456, 0.27094735729655195), (457, 0.0981724441636916), (458, 0.06436572086522811), (459, 0.11636967100261915), (460, 0.0886839760518124), (461, 0.06510182404225529), (462, 0.10423204464942175), (463, 0.06350318594021967), (464, 0.0989982732017406), (465, 0.06808502851049457), (466, 0.07841842147655555), (467, 0.05768535809248989), (468, 0.08707513288402569), (469, 0.11529304377525841), (470, 0.09938195638913067), (471, 0.08827769293256696), (472, 0.09933451867716261), (473, 0.10458092999358436), (474, 0.10165276338634979), (475, 0.10117453198636214), (476, 0.094953300926544), (477, 0.08677352163249993), (478, 0.1294949284386038), (479, 0.06021910180156376), (480, 0.1223038676379665), (481, 0.0670865152674314), (482, 0.08299502174584263), (483, 0.10448464675820607), (484, 0.0875925512167224), (485, 0.09585675608381422), (486, 0.09209647811422432), (487, 0.08702478563348437), (488, 0.1077195971924973), (489, 0.0900867389386421), (490, 0.10558718109085684), (491, 0.11648229482465769), (492, 0.04885375146892372), (493, 0.09075441514005597), (494, 0.08799606251404571), (495, 0.0970013185396747), (496, 0.09737174994598115), (497, 0.059721299286265545), (498, 0.08252258179803677), (499, 0.03134161076529932), (500, 0.07738113464810063), (501, 0.13058000018832058), (502, 0.09052767793472191), (503, 0.10527059207463732), (504, 0.08102342641268354), (505, 0.14420517579163608), (506, 0.09222301718833952), (507, 0.09865730600568756), (508, 0.07603312101125564), (509, 0.06876096920803293), (510, 0.1162566918613914), (511, 0.09362893043423985), (512, 0.06758849005506323), (513, 0.07719447016287323), (514, 0.10386159255884189), (515, 0.05705069963032686), (516, 0.10680689048640163), (517, 0.11192419098570058), (518, 0.10015368609037074), (519, 0.11039135573435145), (520, 0.052981424879826794), (521, 0.09406633464315924), (522, 0.07530874318008253), (523, 0.0910058880739103), (524, 0.14700964620220847), (525, 0.0857503816623566), (526, 0.10974178251212006), (527, 0.07851314261259491), (528, 0.11296959802879801), (529, 0.10622667164681254), (530, 0.0766059359083007), (531, 0.12869597463746907), (532, 0.10148974961046862), (533, 0.09467503938904087), (534, 0.09469751315795824), (535, 0.09477649349168102), (536, 0.13282893387993885), (537, 0.09174091072350911), (538, 0.07885554504074138), (539, 0.12634161044607434), (540, 0.07340832118475743), (541, 0.10488335853064454), (542, 0.11841509247368738), (543, 0.09588554759723554), (544, 0.10120543773376178), (545, 0.09445046917803465), (546, 0.1016807790461445), (547, 0.09392884263649912), (548, 0.0779404243612082), (549, 0.09256595642808668), (550, 0.08068657591211309), (551, 0.1394918524054342), (552, 0.05920069146770846), (553, 0.12837815846384248), (554, 0.08818613953780463), (555, 0.06597239946815936), (556, 0.14741556548570114), (557, 0.11585961398905556), (558, 0.10403823051466925), (559, 0.07118496665636241), (560, 0.060200663160521674), (561, 0.09169848105784481), (562, 0.08790469652521735), (563, 0.08224365761573404), (564, 0.09240672705219996), (565, 0.09164119475181166), (566, 0.11622734098368584), (567, 0.06228042821881988), (568, 0.11412450667663837), (569, 0.11231999742291345), (570, 0.09272200584385205), (571, 0.2068212715672743), (572, 0.1019182108573596), (573, 0.11154953650258934), (574, 0.07751095289143534), (575, 0.10629628267583131), (576, 0.11447764109104214), (577, 0.09624565631527499), (578, 0.0938991610306179), (579, 0.18298734688113663), (580, 0.06569953745838081), (581, 0.09215245675253173), (582, 0.13163239577709146), (583, 0.10990505359289522), (584, 0.05888107001045563), (585, 0.16251571114951618), (586, 1.0000000000000002), (587, 0.11089460336592892), (588, 0.06902346859896309), (589, 0.1136306687133179), (590, 0.10168928285374323), (591, 0.11007343784726689), (592, 0.1879642881217377), (593, 0.09927541414181147), (594, 0.12786765387937546), (595, 0.08676274041724212), (596, 0.11422804631285167), (597, 0.07214746362582516), (598, 0.09307169739747992), (599, 0.15798953309398664), (600, 0.10591426128445776), (601, 0.08576115523648388), (602, 0.09987497807817115), (603, 0.07795731924593059), (604, 0.08723402531606238), (605, 0.0718239236436143), (606, 0.12075073397142323), (607, 0.12013104540983255), (608, 0.06175160470000228), (609, 0.09464788430699002), (610, 0.1204042503244076), (611, 0.10081057526295685), (612, 0.08205764032650695), (613, 0.09241921540814253), (614, 0.10314077274927802), (615, 0.06567853532208041), (616, 0.07111215448888049), (617, 0.14979387648372688), (618, 0.12377842406330196), (619, 0.08574379911309755), (620, 0.08750802214844781), (621, 0.13471040484163513), (622, 0.10806354706971824), (623, 0.047985686720061524), (624, 0.08411890582777819), (625, 0.1990137346749737), (626, 0.11290487617002114), (627, 0.11214071505953234), (628, 0.2430458536279938), (629, 0.10179198472600767), (630, 0.057246687858556085), (631, 0.09759147206315696), (632, 0.09160897264966822), (633, 0.15984857507926237), (634, 0.14029294418810828), (635, 0.1235388323476602), (636, 0.0933404290365997), (637, 0.10442599383477492), (638, 0.060474221729816306), (639, 0.07375024412000816), (640, 0.0769725063092498), (641, 0.08678574365933037), (642, 0.22917834735007564), (643, 0.06969329817238955), (644, 0.10479453420446788), (645, 0.11570746326717325), (646, 0.09578908248704598), (647, 0.17575666721203118), (648, 0.10899288239098102), (649, 0.05325786955024539), (650, 0.08215421925688902), (651, 0.04685827523884095), (652, 0.0545328628612841), (653, 0.08314425418451397), (654, 0.11408497279291571), (655, 0.0950918084489005), (656, 0.08744204931505382), (657, 0.1244977171783108), (658, 0.09277233532889363), (659, 0.10463763734995539), (660, 0.10659275230231037), (661, 0.08412275435681794), (662, 0.07474901182872255), (663, 0.07840962676660743), (664, 0.07124945534659871), (665, 0.10118747731626487), (666, 0.12509246255061196), (667, 0.10318456489277261), (668, 0.07926989236524919), (669, 0.08536255252846806), (670, 0.060721543860760445), (671, 0.10629776524157467), (672, 0.11967041666087289), (673, 0.14332271137730399), (674, 0.0734249944454286), (675, 0.07191981997146088), (676, 0.07518324625682278), (677, 0.14553739874852564), (678, 0.09430260150932038), (679, 0.0801259217223182), (680, 0.24083220999605), (681, 0.0812004936512283), (682, 0.0904189231864303), (683, 0.0787087507494438), (684, 0.11337910265532745), (685, 0.09129505535049404), (686, 0.08669413899313332), (687, 0.13307405802131025), (688, 0.08682172589635734), (689, 0.08926333083396923), (690, 0.08804674515147845), (691, 0.09394579703618433), (692, 0.10234561903756983), (693, 0.09456757076133451), (694, 0.13148991268152593), (695, 0.1079151305150253), (696, 0.11055318569151586), (697, 0.09849977506374052), (698, 0.1311678890114454), (699, 0.08005860539106084), (700, 0.09512135387684696), (701, 0.05402583337034959), (702, 0.12650554535594802), (703, 0.05364650178408093), (704, 0.09935557538558544), (705, 0.08111826858187451), (706, 0.057984061350794265), (707, 0.09376669002375966), (708, 0.12851178947405828), (709, 0.08329637600453715), (710, 0.07392997496796742), (711, 0.0913833193176572), (712, 0.08635390827604408), (713, 0.11653276815421504), (714, 0.10330490869108319), (715, 0.09538719543414512), (716, 0.05398953237608742), (717, 0.07776244529338208), (718, 0.05699427712623022), (719, 0.07434204821280044), (720, 0.10035504485010487), (721, 0.06771840492196944), (722, 0.11640296663067017), (723, 0.07104573158363363), (724, 0.09875829640425245), (725, 0.08935098778402992), (726, 0.05018407642148256), (727, 0.07064849722239849), (728, 0.1478663993205639), (729, 0.08480744418418736), (730, 0.09005653588068738), (731, 0.11538273424318495), (732, 0.0766212915839028), (733, 0.060462761799180656), (734, 0.09465354276870128), (735, 0.06928173269833923), (736, 0.0565626263574441), (737, 0.1087438342810877), (738, 0.1123554402370418), (739, 0.08603779202300407), (740, 0.1153801430176409), (741, 0.12482875061950063), (742, 0.1054203995072941), (743, 0.06545957015346902), (744, 0.10168267413925829), (745, 0.07161220022949955), (746, 0.11156710428389063), (747, 0.0939769747480475), (748, 0.09344673462570008), (749, 0.09531505310454261), (750, 0.11051513792889485), (751, 0.059020363128910416), (752, 0.07622453254704063), (753, 0.09088013718883234), (754, 0.08952429705256777), (755, 0.11512597433716978), (756, 0.09674700137249936), (757, 0.08879672227447696), (758, 0.0804504936760112), (759, 0.14307935211859954), (760, 0.05358776186387892), (761, 0.0994973352012331), (762, 0.12055101341040697), (763, 0.06359543462483455), (764, 0.09898548324459709), (765, 0.12078787359377158), (766, 0.06441132236839908), (767, 0.10144467853288089), (768, 0.13157356997342262), (769, 0.13330988609665326), (770, 0.13426210010623219), (771, 0.07603922000963259), (772, 0.06082360541292588), (773, 0.20912164176299747), (774, 0.07975250814428701), (775, 0.0833212142218387), (776, 0.08600180008243463), (777, 0.09262271019849583), (778, 0.10820505752715587), (779, 0.08860699888589293), (780, 0.045961370907902296), (781, 0.07441616194028923), (782, 0.12571133234035747), (783, 0.12002400949796953), (784, 0.15520217344412482), (785, 0.12604983435642714), (786, 0.08141500048196267), (787, 0.29754973040110827), (788, 0.09549419028010524), (789, 0.0698020982884858), (790, 0.11078352061304712), (791, 0.10456012892276785), (792, 0.07239992196765144), (793, 0.08202820669753633), (794, 0.11156471446303698), (795, 0.12180190991081978), (796, 0.048040804468620225), (797, 0.050275242925630556), (798, 0.07559634296088974), (799, 0.11332232248914917), (800, 0.26058514957773476), (801, 0.12674690155067755), (802, 0.037132575244074574), (803, 0.08759368568362573), (804, 0.08850765107257817), (805, 0.1143973593370251), (806, 0.10731024587085086), (807, 0.11953982987675699), (808, 0.1023311886319966), (809, 0.12207114320940696), (810, 0.09945334057073801), (811, 0.09798989703761686), (812, 0.12619574248044546), (813, 0.13709858232085761), (814, 0.04741721028971312), (815, 0.04713784594534359), (816, 0.07303413980690857), (817, 0.06825542110449127), (818, 0.09896430694138081), (819, 0.11345121278375457), (820, 0.1130651988518284), (821, 0.13038426593055086), (822, 0.08000347404495518), (823, 0.11279064244098262), (824, 0.09809699081791787), (825, 0.07466710891592052), (826, 0.07526571683669211), (827, 0.09120302095232624), (828, 0.10043239299537812), (829, 0.055477650314851766), (830, 0.09675375700553825), (831, 0.08881245450573648), (832, 0.06307980192998035), (833, 0.09884513635266443), (834, 0.13483816372873594), (835, 0.08830652375686437), (836, 0.0941847283301535), (837, 0.09237884127094186), (838, 0.10510013402505675), (839, 0.09966273915782975), (840, 0.10493647964388346), (841, 0.0894183619849768), (842, 0.08338030486091284), (843, 0.11055320450836402), (844, 0.11537236665219303), (845, 0.08142401881238562), (846, 0.08616148173250321), (847, 0.09186653824050008), (848, 0.08924070186034193), (849, 0.11423205428760108), (850, 0.09360493559299361), (851, 0.08733114550105041), (852, 0.11223422357598517), (853, 0.12082387138093113), (854, 0.13043316771006627), (855, 0.15228540324187745), (856, 0.08506819218136462), (857, 0.03814922287812466), (858, 0.07242737124509589), (859, 0.10233522434374627), (860, 0.10645374109024017), (861, 0.12701229907268935), (862, 0.11922155263684113), (863, 0.08561749449224128), (864, 0.09786183139761394), (865, 0.0966804631574246), (866, 0.09613313585468349), (867, 0.0934564163412461), (868, 0.09142268807619898), (869, 0.061228003562184455), (870, 0.13447267005210925), (871, 0.08291806383039911), (872, 0.12147559192879079), (873, 0.088788499494236), (874, 0.08417256268837017), (875, 0.10059303532850694), (876, 0.11011256358147661), (877, 0.11572218019124822), (878, 0.15610150536099152), (879, 0.0859048161152284), (880, 0.0597858921602204), (881, 0.044708894133712256), (882, 0.06858994683395528), (883, 0.09176101310027736), (884, 0.14787484798482012), (885, 0.11546579650147897), (886, 0.087516395870176), (887, 0.06693006056857845), (888, 0.08352003723509262), (889, 0.2160236115925417), (890, 0.06825367627550434), (891, 0.08396052252140818), (892, 0.0764926867380414), (893, 0.11195834631664403), (894, 0.0962044294573931), (895, 0.06245121654186175), (896, 0.07229397505391895), (897, 0.0798754780213588), (898, 0.07432866038615948), (899, 0.08914550016093929), (900, 0.11720841443221637), (901, 0.05601790634969016), (902, 0.07171472069532633), (903, 0.07749189633967538), (904, 0.07731482610670884), (905, 0.05194323676666756), (906, 0.06726523547994674), (907, 0.08589678141470648), (908, 0.10037433214475973), (909, 0.07497613786912627), (910, 0.07004286086400692), (911, 0.11416650393964439), (912, 0.09222553320277843), (913, 0.048801919598722), (914, 0.08673831835028033), (915, 0.08281859488129191), (916, 0.049649018317341795), (917, 0.10980946473900138), (918, 0.09827761988918915), (919, 0.09955417569399182), (920, 0.09463661503770368), (921, 0.06843709771068435), (922, 0.11216283405548826), (923, 0.06019666562497096), (924, 0.10524306294127855), (925, 0.08415087141773575), (926, 0.07568155504697094), (927, 0.06527184051490537), (928, 0.08958552139355422), (929, 0.10658856766319215), (930, 0.08593972476470783), (931, 0.10932228195115022), (932, 0.11801521395333042), (933, 0.09661537800818903), (934, 0.12107753270213453), (935, 0.0874072332637299), (936, 0.0807788202050424), (937, 0.09401175852299551), (938, 0.07458427032395659), (939, 0.10209307275919917), (940, 0.11732450100956641), (941, 0.16438024117800237), (942, 0.10966451379252257), (943, 0.09178946915065386), (944, 0.12318333080378298), (945, 0.11343817641982654), (946, 0.06690337780256164), (947, 0.12223405563070039), (948, 0.08196824607535427), (949, 0.07459405208021362), (950, 0.10469336202778093), (951, 0.0914161347339995), (952, 0.12874144883049346), (953, 0.1101280505156867), (954, 0.06599074478580272), (955, 0.10868487438594332), (956, 0.11276463312771742), (957, 0.0821581101843495), (958, 0.07167079096316513), (959, 0.07369373049217844), (960, 0.06570078043367744), (961, 0.10785066608442201), (962, 0.08853726527413329), (963, 0.09190207979921206), (964, 0.0988030306740238), (965, 0.07774211588669415), (966, 0.04525304108174102), (967, 0.0424584079224661), (968, 0.09596452109729971), (969, 0.14211089921929165), (970, 0.07517684245780949), (971, 0.10735114063197967), (972, 0.11873433106053671), (973, 0.09095043562272657), (974, 0.08505537890862645), (975, 0.10077959097484826), (976, 0.09331438291654101), (977, 0.10528879523742646), (978, 0.08186191535192158), (979, 0.12455501788224708), (980, 0.10399472433526716), (981, 0.0776010697052693), (982, 0.08559033126753289), (983, 0.11427453137490395), (984, 0.09639296689547988), (985, 0.1514791363041342), (986, 0.09527897824065572), (987, 0.08052198107112936), (988, 0.13793944356557983), (989, 0.08133748970411922), (990, 0.12193015643968255), (991, 0.06221220250419273), (992, 0.06866361628173435), (993, 0.0966239318932125), (994, 0.06889428626896889), (995, 0.08486811135242396), (996, 0.08914325403102134), (997, 0.07413734866079551), (998, 0.1037506172334054), (999, 0.09091062544828941), (1000, 0.08779819650827572), (1001, 0.07798299645822702), (1002, 0.0667310865202818), (1003, 0.08791124967199804), (1004, 0.08649367747173604), (1005, 0.11380411105461245), (1006, 0.1615247208612916), (1007, 0.06738832111616525), (1008, 0.0877977753687127), (1009, 0.07712705869758438), (1010, 0.08181484821695016), (1011, 0.05596425428060137), (1012, 0.1530043420367704), (1013, 0.08430328478903736), (1014, 0.057647763827512445), (1015, 0.10610474293316445), (1016, 0.08972709196372877), (1017, 0.09180480032538418), (1018, 0.08847088192258434), (1019, 0.13303907568084836), (1020, 0.08167070315927522), (1021, 0.09970911798509069), (1022, 0.05364492154955555), (1023, 0.11043296503956768), (1024, 0.08524418248732053), (1025, 0.07009494341344404), (1026, 0.10780615240510495), (1027, 0.13848453804602048), (1028, 0.10441667199970572), (1029, 0.11125826907599534), (1030, 0.07057030411532879), (1031, 0.08070298257380264), (1032, 0.07640483573011798), (1033, 0.10206495538548925), (1034, 0.11323273602576121), (1035, 0.07592557299688986), (1036, 0.11827071932695567), (1037, 0.058708300782657534), (1038, 0.0734738846777982), (1039, 0.12973282461851723), (1040, 0.09294880875671341), (1041, 0.09706872203621046), (1042, 0.0471343945088274), (1043, 0.07224447836605688), (1044, 0.12915399396981717), (1045, 0.06882415197919561), (1046, 0.07424305675474532), (1047, 0.08251693044712792), (1048, 0.12078211727674873), (1049, 0.07607760686341805), (1050, 0.05818375806745859), (1051, 0.08670487752205544), (1052, 0.12239106963399278), (1053, 0.07217995723659672), (1054, 0.036085829461596726), (1055, 0.09590691098815037), (1056, 0.11639489948804979), (1057, 0.08165561209428461), (1058, 0.07617771098012698), (1059, 0.0932868327444366), (1060, 0.06284217789745751), (1061, 0.12095657229741462), (1062, 0.0918536203237197), (1063, 0.07034116956200735), (1064, 0.06163522122810956), (1065, 0.08603260673013777), (1066, 0.08380087218862647), (1067, 0.06434046105162453), (1068, 0.1251965886335049), (1069, 0.06310964529841033), (1070, 0.11418225684614575), (1071, 0.059631962774671046), (1072, 0.05458038465846831), (1073, 0.08360010280026485), (1074, 0.08858525360631127), (1075, 0.10193362085451789), (1076, 0.09566703756430353), (1077, 0.13699105944575746), (1078, 0.1106355785168542), (1079, 0.1410492523685903), (1080, 0.14382029344385944), (1081, 0.08470750287706434), (1082, 0.09758339136227231), (1083, 0.1210660029164772), (1084, 0.0959055408028505), (1085, 0.06202882960712305), (1086, 0.10743426128738731), (1087, 0.09362802151112945), (1088, 0.10643730801343786), (1089, 0.10436114708378835), (1090, 0.10690282126234574), (1091, 0.1010447517725307), (1092, 0.08574658259135423), (1093, 0.07753219283528108), (1094, 0.19122503820068434), (1095, 0.12256289903857784), (1096, 0.1190794984317104), (1097, 0.0726621073213456), (1098, 0.11562310333450936), (1099, 0.07471382613182484), (1100, 0.12542897346836843), (1101, 0.11690337952106014), (1102, 0.10853114571143063), (1103, 0.14629498723869194), (1104, 0.04249478376742538), (1105, 0.09658594242754322), (1106, 0.16779914664209467), (1107, 0.06578879596586429), (1108, 0.09215666448685861), (1109, 0.11153313374768406), (1110, 0.11875724634446065), (1111, 0.06602568319013538), (1112, 0.11760441436968976), (1113, 0.07671385744323718), (1114, 0.0590193418134006), (1115, 0.06945926290651173), (1116, 0.08460199303129588), (1117, 0.05834154814041872), (1118, 0.10779368480805136), (1119, 0.0889117004289495), (1120, 0.10750394071108216), (1121, 0.07608854452713541), (1122, 0.1445041180153438), (1123, 0.06897680828115081), (1124, 0.06697951798241678), (1125, 0.0807330580128745), (1126, 0.05675427105190657), (1127, 0.10845867451199152), (1128, 0.06552786522973908), (1129, 0.12489275525632652), (1130, 0.05575985433919099), (1131, 0.09535201983362639), (1132, 0.09252629794779106), (1133, 0.1448383556064634), (1134, 0.10353683839365233), (1135, 0.1035964963177642), (1136, 0.11928997951288527), (1137, 0.09170116420076135), (1138, 0.06685934915983786), (1139, 0.08899054211328139), (1140, 0.07586811502176405), (1141, 0.11990889936078386), (1142, 0.08536478468612234), (1143, 0.09182805258867917), (1144, 0.08828910945053407), (1145, 0.11112670553790273), (1146, 0.09681556743115359), (1147, 0.08397046942621808), (1148, 0.05397243796911131), (1149, 0.07361464019737539), (1150, 0.0924683488802307), (1151, 0.09213540546111017), (1152, 0.11197299633211716), (1153, 0.09367950557334735), (1154, 0.07637293353670636), (1155, 0.11342399109508124), (1156, 0.11205962921067765), (1157, 0.05913136036598237), (1158, 0.12447502919389788), (1159, 0.1696095517047629), (1160, 0.07782306754998149), (1161, 0.07281911035495303), (1162, 0.04500005504705181), (1163, 0.08945904166072524), (1164, 0.08420916766493422), (1165, 0.11585791574922183), (1166, 0.04856287558896264), (1167, 0.08789683068123572), (1168, 0.07207291987963109), (1169, 0.0699723129812406), (1170, 0.1214966829662238), (1171, 0.09876700139132816), (1172, 0.08390725044552057), (1173, 0.04405938258399437), (1174, 0.08970239707681812), (1175, 0.15258220448469767), (1176, 0.11946398839999028), (1177, 0.09805617407983125), (1178, 0.127326715766558), (1179, 0.06392717164070909), (1180, 0.07085792087561842), (1181, 0.12578794503669188), (1182, 0.06901883296194267), (1183, 0.090681157950599), (1184, 0.07376121959415022), (1185, 0.08356414467820238), (1186, 0.0825258005161468), (1187, 0.09339890052247297), (1188, 0.1890938196458409), (1189, 0.050027619166077314), (1190, 0.06008989910480654), (1191, 0.09014530600356507), (1192, 0.1011148862065179), (1193, 0.08441146270631109), (1194, 0.07389914146401633), (1195, 0.09811281708674456), (1196, 0.11066986356796094), (1197, 0.06466757145518559), (1198, 0.09766957587603198), (1199, 0.1149644851188205), (1200, 0.13396379716983356), (1201, 0.10079956581080689), (1202, 0.08416831314886805), (1203, 0.09952830157347597), (1204, 0.10444122615596386), (1205, 0.11101612954986678), (1206, 0.06807115236118187), (1207, 0.07156021328333725), (1208, 0.09282080566848915), (1209, 0.07641507283034712), (1210, 0.06533842358459349), (1211, 0.09198860431214902), (1212, 0.07664920152385137), (1213, 0.0976215393948061), (1214, 0.06114158066471363), (1215, 0.09455734979125667), (1216, 0.06228304053389164), (1217, 0.09176904984654027), (1218, 0.06294171789074712), (1219, 0.08993613371262474), (1220, 0.07539704236703827), (1221, 0.1267985983103569), (1222, 0.07694082015932122), (1223, 0.10301851403088515), (1224, 0.06439697932080093), (1225, 0.07469180357659809), (1226, 0.08923025682105674), (1227, 0.06393108279614401), (1228, 0.10359091379473624), (1229, 0.0676316423015996), (1230, 0.15364728004049252), (1231, 0.10449704436769922), (1232, 0.053692468644142226), (1233, 0.08092545836717849), (1234, 0.1504984386576133), (1235, 0.10368783567217861), (1236, 0.05713302107376024), (1237, 0.060443130143730095), (1238, 0.08476438243383788), (1239, 0.11295249398311588), (1240, 0.07670120315775622), (1241, 0.06264467098140321), (1242, 0.0710950938661593), (1243, 0.084557710825422), (1244, 0.09505829320882674), (1245, 0.07240749769516414), (1246, 0.07685712637588521), (1247, 0.09676626574565461), (1248, 0.06970826831525573), (1249, 0.08015845864456686), (1250, 0.11208425270479182), (1251, 0.06540432896167198), (1252, 0.09753072943333291), (1253, 0.06471737474499555), (1254, 0.08046466744104698), (1255, 0.08525528664397905), (1256, 0.09048335423261007), (1257, 0.07526100447019288), (1258, 0.05276745486018966), (1259, 0.048766133216424846), (1260, 0.08944292782900763), (1261, 0.07457748437053754), (1262, 0.06488704916810811), (1263, 0.11890976647524454), (1264, 0.07271467548814477), (1265, 0.0857430588836642), (1266, 0.0785838298088239), (1267, 0.0733891156372682), (1268, 0.0525194134915381), (1269, 0.07284777823477037), (1270, 0.060125363010038506), (1271, 0.11839470822227266), (1272, 0.07204189125127587), (1273, 0.07122163645617274), (1274, 0.10087281422818435), (1275, 0.11693644998937694), (1276, 0.04433490151203593), (1277, 0.09036936965390557), (1278, 0.08065401839155042), (1279, 0.08135770463317037), (1280, 0.06508926176892817), (1281, 0.10390146478388614), (1282, 0.1641407401644543), (1283, 0.11099973968647367), (1284, 0.12713992760775328), (1285, 0.11126011613923242), (1286, 0.12734927906996196), (1287, 0.09550713158602639), (1288, 0.059261680676245466), (1289, 0.07446934175815356), (1290, 0.13500656615505985), (1291, 0.11340271180079686), (1292, 0.10218735653415775), (1293, 0.08646292286286188), (1294, 0.13925818296982254), (1295, 0.08637107984440603), (1296, 0.10790128231334123), (1297, 0.06394455208142645), (1298, 0.0975225671667884), (1299, 0.057303976553069375), (1300, 0.06500325186745332), (1301, 0.08496089306643437), (1302, 0.11315411828194209), (1303, 0.07980817588154361), (1304, 0.0896947685118975), (1305, 0.03709479810778897), (1306, 0.07920909696767517), (1307, 0.07655127421233685), (1308, 0.07509685384325847), (1309, 0.06996580217795166), (1310, 0.05609942887360399), (1311, 0.06443739540086395), (1312, 0.07856167609376655), (1313, 0.10260682185076027), (1314, 0.08350104648273012), (1315, 0.07910888633438559), (1316, 0.06877662518461715), (1317, 0.09818859040157062), (1318, 0.12412638826924119), (1319, 0.07598837756322732), (1320, 0.08520375942359452), (1321, 0.10169043167562464), (1322, 0.11293669556744902), (1323, 0.12209214132680464), (1324, 0.060885909548822024), (1325, 0.09809499490792188), (1326, 0.09986987842561497), (1327, 0.07555505550676718), (1328, 0.13330127685971782), (1329, 0.08987598537387301), (1330, 0.0874093347403735), (1331, 0.10555297276683318), (1332, 0.10048737507047906), (1333, 0.09901319842201042), (1334, 0.09957691706647927), (1335, 0.1067267120897085), (1336, 0.06747004832269166), (1337, 0.0960568508013627), (1338, 0.0829174679849761), (1339, 0.08616720794653597), (1340, 0.08323199705230397), (1341, 0.12759027548011037), (1342, 0.10911222597282018), (1343, 0.07493632640721554), (1344, 0.07255629647547884), (1345, 0.06426212680498045), (1346, 0.05664108079516622), (1347, 0.06783960738718649), (1348, 0.09725061183190667), (1349, 0.09243437915654003), (1350, 0.09278278107251062), (1351, 0.09746317573379107), (1352, 0.11196863784864028), (1353, 0.09639297862108187), (1354, 0.05460791318617336), (1355, 0.05654017590568514), (1356, 0.10075167564176997), (1357, 0.1013059943254147), (1358, 0.13538756449682565), (1359, 0.1071880514729919), (1360, 0.11481191191187141), (1361, 0.08556603311857897), (1362, 0.08487721870188074), (1363, 0.10104317774328983), (1364, 0.07582026433650747), (1365, 0.07431315815215372), (1366, 0.11097328252194619), (1367, 0.07942981925494366), (1368, 0.04840725810321677), (1369, 0.07135327521395601), (1370, 0.09571337984989924), (1371, 0.033865735783960384), (1372, 0.07742958642185005), (1373, 0.1901527597222369), (1374, 0.12411610098659609), (1375, 0.09684392043739856), (1376, 0.06669716751513755), (1377, 0.11099515308339059), (1378, 0.09946670679967574), (1379, 0.08077644437305777), (1380, 0.08206812122431358), (1381, 0.05457378672679251), (1382, 0.11124670620355878), (1383, 0.054056052460666505), (1384, 0.10916681592640064), (1385, 0.08486420072462457), (1386, 0.09631311402950007), (1387, 0.12115256081590178), (1388, 0.07700395204981483), (1389, 0.0886703711826614), (1390, 0.1178223724530058), (1391, 0.06970802852822221), (1392, 0.07932508481118031), (1393, 0.078796817662798), (1394, 0.09336192495845164), (1395, 0.10149862112792843), (1396, 0.07306067133273743), (1397, 0.07169558027163103), (1398, 0.0826316150667014), (1399, 0.1071771544378764), (1400, 0.1004357785162618), (1401, 0.10448751639278657), (1402, 0.10022425069051283), (1403, 0.056330944026966485), (1404, 0.08546734251419888), (1405, 0.1940190784081881), (1406, 0.11797180495318296), (1407, 0.10782246142420256), (1408, 0.10557493172715382), (1409, 0.0911797109959429), (1410, 0.10924398727624214), (1411, 0.09390869838025591), (1412, 0.1044486794807619), (1413, 0.10697338292265965), (1414, 0.06117368976948894), (1415, 0.08597993486186935), (1416, 0.06898560896632547), (1417, 0.06124401666659714), (1418, 0.0799458007168506), (1419, 0.07358354152414116), (1420, 0.08964690739581564), (1421, 0.0804196015988433), (1422, 0.06607115478352832), (1423, 0.09679433814176376), (1424, 0.0962975754475955), (1425, 0.12421241413243302), (1426, 0.12118158179989501), (1427, 0.10200383797321777), (1428, 0.07806900675111587), (1429, 0.06810044977264797), (1430, 0.08455288538361955), (1431, 0.082048781786638), (1432, 0.1124265730767897), (1433, 0.1476207058557843), (1434, 0.06960461958125663), (1435, 0.05236320246268811), (1436, 0.06317409737416664), (1437, 0.0856036323875733), (1438, 0.10577710781978243), (1439, 0.1417802962230042), (1440, 0.13070315890262454), (1441, 0.08750095628685459), (1442, 0.09789081920096636), (1443, 0.10635538173481003), (1444, 0.09410372904092756), (1445, 0.09263886707487969), (1446, 0.1399402578317179), (1447, 0.06656829524370335), (1448, 0.08489380256128345), (1449, 0.10988717205376995), (1450, 0.10127019799911802), (1451, 0.12476053920839413), (1452, 0.12740168941700142), (1453, 0.08337242931698965), (1454, 0.06111300576770518), (1455, 0.06498219051451042), (1456, 0.12437634280011002), (1457, 0.08335622664906453), (1458, 0.07646887076554537), (1459, 0.2090052383496735), (1460, 0.14343812668619152), (1461, 0.13962394348236232), (1462, 0.08362053342328875), (1463, 0.08019261172302293), (1464, 0.05323268082028858), (1465, 0.11459469710752654), (1466, 0.0408899913301518), (1467, 0.08794097320294995), (1468, 0.13175246363672774), (1469, 0.05430049359821246), (1470, 0.08823686192820931), (1471, 0.09291379971730354), (1472, 0.12618970711987718), (1473, 0.06214673861541688), (1474, 0.07555001498613974), (1475, 0.0758463150589854), (1476, 0.08407780265195236), (1477, 0.08870056339804253), (1478, 0.09630517472353427), (1479, 0.06840247140503114), (1480, 0.04321597434332543), (1481, 0.07591592583808454), (1482, 0.08223786357872155), (1483, 0.06605821326323603), (1484, 0.10352233479761172), (1485, 0.07058170984096139), (1486, 0.1054749837283112), (1487, 0.08193268253927515), (1488, 0.06384924053249752), (1489, 0.05890612070591672), (1490, 0.11541536704896649), (1491, 0.09034042352800072), (1492, 0.12127353215374945), (1493, 0.05493992259041444), (1494, 0.06452752705099443), (1495, 0.08353790990978935), (1496, 0.06053744637111455), (1497, 0.07470851554141446), (1498, 0.06666552449737716), (1499, 0.10880095520857946), (1500, 0.12315148019496193), (1501, 0.06224562275672824), (1502, 0.07910982088390696), (1503, 0.06935406052619485), (1504, 0.09401076526672103), (1505, 0.08208846106524252), (1506, 0.10296579762111258), (1507, 0.11371313745467332), (1508, 0.09175182764717392), (1509, 0.06686763686120299), (1510, 0.14162172125461397), (1511, 0.09265845378114558), (1512, 0.11956375340229489), (1513, 0.10136540847720187), (1514, 0.08919217985205251), (1515, 0.09079795630268848), (1516, 0.1197705226195), (1517, 0.09358173076192909), (1518, 0.11383309355987595), (1519, 0.06706855786157), (1520, 0.03978352641395215), (1521, 0.08976126784657842), (1522, 0.12054463006225065), (1523, 0.15964814118461365), (1524, 0.07343114243145214), (1525, 0.11795744096130391), (1526, 0.12396256977688995), (1527, 0.07723515869936219), (1528, 0.08086258511048067), (1529, 0.12901343662292106), (1530, 0.0826640025843046), (1531, 0.09755824088176271), (1532, 0.10370844868927626), (1533, 0.11291489522769814), (1534, 0.08319892730323435), (1535, 0.14958603873264056), (1536, 0.08913182694835876), (1537, 0.09999306335554445), (1538, 0.10326279571871953), (1539, 0.08712241840593404), (1540, 0.08055795361953043), (1541, 0.06959842001914338), (1542, 0.06038096134806013), (1543, 0.08384789342834288), (1544, 0.05714152526638252), (1545, 0.12000452938104894), (1546, 0.08243101206565585), (1547, 0.09182763755395405), (1548, 0.09005094565669519), (1549, 0.09364200035809558), (1550, 0.08928179590469995), (1551, 0.10110463203090586), (1552, 0.06039593586365625), (1553, 0.12393485002713549), (1554, 0.10897681353977608), (1555, 0.07001275356783832), (1556, 0.10992131950594523), (1557, 0.08669464970430564), (1558, 0.05818948896870912), (1559, 0.15327836224156527), (1560, 0.09660275078136386), (1561, 0.07463983369562187), (1562, 0.054920873091262284), (1563, 0.10905130837503697), (1564, 0.2086481563139028), (1565, 0.0773310260033547), (1566, 0.07398704616843936), (1567, 0.10898425236290263), (1568, 0.12118120358956226), (1569, 0.04957781873370825), (1570, 0.10237171633517841), (1571, 0.07495142096004326), (1572, 0.05228286866968531), (1573, 0.11489170089209216), (1574, 0.03960111035296919), (1575, 0.08119775589570757), (1576, 0.06608748500730788), (1577, 0.11278597328821371), (1578, 0.07018107025735075), (1579, 0.10843603809212007), (1580, 0.07257725705501701), (1581, 0.09261394438655025), (1582, 0.06360602098484129), (1583, 0.09921985794908494), (1584, 0.09077738669948779), (1585, 0.05856241253650789), (1586, 0.12667908777857712), (1587, 0.0844883850335274), (1588, 0.0702223409960575), (1589, 0.059202541543178375), (1590, 0.1413099952516907), (1591, 0.08627637323593734), (1592, 0.08075418722049235), (1593, 0.039477888129132346), (1594, 0.11541113178911014), (1595, 0.05030541675142262), (1596, 0.11547745123850858), (1597, 0.08894486057316835), (1598, 0.08474537884722774), (1599, 0.07748667516640045), (1600, 0.08019213882781098), (1601, 0.0668416765947014), (1602, 0.0631825988822235), (1603, 0.09726892000354125), (1604, 0.10077292099717564), (1605, 0.08372028321306957), (1606, 0.09209198212286945), (1607, 0.0743303977522285), (1608, 0.08045251964528567), (1609, 0.09994419748817543), (1610, 0.097622898290645), (1611, 0.09975501161278696), (1612, 0.0925801507027446), (1613, 0.10461860972299272), (1614, 0.06367249821527071), (1615, 0.09365245271659438), (1616, 0.07291182029415452), (1617, 0.16685298036309457), (1618, 0.07285731977005967), (1619, 0.09833445747445035), (1620, 0.060072779470058), (1621, 0.06271749903368704), (1622, 0.07784995513272007), (1623, 0.08384636198126326), (1624, 0.06935770354479139), (1625, 0.08215672218082463), (1626, 0.08914320846215443), (1627, 0.0619401589346903), (1628, 0.06490075593537813), (1629, 0.05991616208007765), (1630, 0.0939022292519195), (1631, 0.05113759060080418), (1632, 0.09317068582166417), (1633, 0.1300401257504639), (1634, 0.1052684486303846), (1635, 0.1255226117103428), (1636, 0.08664345182597949), (1637, 0.08856143456150806), (1638, 0.09339202866793472), (1639, 0.060377506743305366), (1640, 0.09621264258952868), (1641, 0.06595775678890552), (1642, 0.059116713364712706), (1643, 0.0777140091811066), (1644, 0.062119406661533004), (1645, 0.09214551373976584), (1646, 0.0687559671463779), (1647, 0.08571689782110388), (1648, 0.06853475049068726), (1649, 0.1246094368925167), (1650, 0.0753226051314735), (1651, 0.09357374376941875), (1652, 0.11093915960021247), (1653, 0.09837614745252875), (1654, 0.09086251149347024), (1655, 0.08605883152838668), (1656, 0.08514882733754689), (1657, 0.06002372224914975), (1658, 0.07574298914421677), (1659, 0.06889945554473718), (1660, 0.0682077242558012), (1661, 0.09604553022512624), (1662, 0.12465348722038772), (1663, 0.0953014953964471), (1664, 0.08179048827216463), (1665, 0.08475798987970423), (1666, 0.12552969179550347), (1667, 0.09779334202508784), (1668, 0.08881879922979409), (1669, 0.11222768022274458), (1670, 0.0943352829228882), (1671, 0.09770157506207439), (1672, 0.1600058001224619), (1673, 0.030794550884201775), (1674, 0.06832799392649823), (1675, 0.0748414932798572), (1676, 0.07660645182999226), (1677, 0.09684748994492906), (1678, 0.10802061086026675), (1679, 0.047545149682664725), (1680, 0.0760881944996976), (1681, 0.06511496397547725), (1682, 0.08760686595523025), (1683, 0.10656206602569304), (1684, 0.09870464205510104), (1685, 0.05895652084620227), (1686, 0.10356132072011022), (1687, 0.07899046268168897), (1688, 0.07283808552630605), (1689, 0.055199524880321454), (1690, 0.061626454143974066), (1691, 0.0679381426722533), (1692, 0.07405333492508508), (1693, 0.08944624591491367), (1694, 0.1371827054951939), (1695, 0.1131993173668026), (1696, 0.16033845102896135), (1697, 0.12709475353801086), (1698, 0.09757069548610475), (1699, 0.09010519986793165), (1700, 0.05430676243780292), (1701, 0.04499151944113694), (1702, 0.14812759736809084), (1703, 0.06975045111291198), (1704, 0.1190977200875908), (1705, 0.069013217976916), (1706, 0.1131435846854695), (1707, 0.13983568819362382), (1708, 0.0805021804689845), (1709, 0.03840422437324073), (1710, 0.07087374667388975), (1711, 0.08637790642750243), (1712, 0.05973436222781878), (1713, 0.1188413160146007), (1714, 0.06869232492524566), (1715, 0.0771406216044101), (1716, 0.06574938858167034), (1717, 0.06264850547267446), (1718, 0.07319141768655314), (1719, 0.09505746778050339), (1720, 0.10356072459693477), (1721, 0.06701149488827024), (1722, 0.0613516181186157), (1723, 0.06598781196279842), (1724, 0.07948672159205733), (1725, 0.09820163137816766), (1726, 0.06874910527853338), (1727, 0.09919737244565395), (1728, 0.08363510921954226), (1729, 0.07984221889073632), (1730, 0.08163656768610791), (1731, 0.1022855809216341), (1732, 0.05169326965525169), (1733, 0.06748463957146422), (1734, 0.06656430318918811), (1735, 0.08576214539447892), (1736, 0.06936807837526696), (1737, 0.09047445112678175), (1738, 0.06556175698852212), (1739, 0.07349802043909107), (1740, 0.07746057868325135), (1741, 0.038830131496282325), (1742, 0.09909262671843214), (1743, 0.1063008966004839), (1744, 0.08913571938714349), (1745, 0.07983213067959324), (1746, 0.0465526004093415), (1747, 0.08285444580280654), (1748, 0.16702407263510485), (1749, 0.13212017345011237), (1750, 0.10516889787504376), (1751, 0.0877348265530721), (1752, 0.09836819742436531), (1753, 0.13927684091038575), (1754, 0.10349468181626674), (1755, 0.06349471404126925), (1756, 0.10410728395438668), (1757, 0.11071777713551464), (1758, 0.1357264149268956), (1759, 0.11832971979867178), (1760, 0.12514389402000767), (1761, 0.1334911336472268), (1762, 0.11348602493458437), (1763, 0.1062962362529186), (1764, 0.07579462695309729), (1765, 0.10265513410721665), (1766, 0.09135370391743493), (1767, 0.05601098261195129), (1768, 0.06706816868619082), (1769, 0.11006427514582705), (1770, 0.08366043019841161), (1771, 0.07024961362301259), (1772, 0.049562832091573646), (1773, 0.07766901915263998), (1774, 0.050625103414635275), (1775, 0.08482119650850621), (1776, 0.13517104264961005), (1777, 0.051032945324968035), (1778, 0.09615810393378425), (1779, 0.04880894729806149), (1780, 0.09053683023621449), (1781, 0.09830265949253197), (1782, 0.06579597657072224), (1783, 0.09594157296809605), (1784, 0.09670423683646456), (1785, 0.043899365408966606), (1786, 0.09351281583660251), (1787, 0.19074567064218828), (1788, 0.07209137801346222), (1789, 0.05212950186243105), (1790, 0.15044839525582657), (1791, 0.09150712101080674), (1792, 0.08641811659710195), (1793, 0.05114886526417204), (1794, 0.09848382379060214), (1795, 0.11468764295587273), (1796, 0.0959211576267522), (1797, 0.07056190360164537), (1798, 0.08029850127773275), (1799, 0.09148560093859669), (1800, 0.11572427460834442), (1801, 0.028256980820210564), (1802, 0.07777971911564331), (1803, 0.112205056708777), (1804, 0.09423495642037609), (1805, 0.09413132805323096), (1806, 0.040126674030632754), (1807, 0.052410419274330995), (1808, 0.09782448313495182), (1809, 0.08096095937147761), (1810, 0.09734462552685247), (1811, 0.07396444804388638), (1812, 0.08095361445422267), (1813, 0.09718437897303717), (1814, 0.09397125753768731), (1815, 0.10601478918288106), (1816, 0.07414649992965158), (1817, 0.09232105775685981), (1818, 0.25596772572833204), (1819, 0.10451169652976001), (1820, 0.08084173791235873), (1821, 0.10677724144966985), (1822, 0.12107197221171412), (1823, 0.0568085011972872), (1824, 0.08281269369873866), (1825, 0.1440604298262932), (1826, 0.14520239918695368), (1827, 0.11820367044205382), (1828, 0.09153471384727363), (1829, 0.07145620543566199), (1830, 0.08364268197675484), (1831, 0.12037406733859095), (1832, 0.07943156258279224), (1833, 0.0727359317129532), (1834, 0.02982238815658871), (1835, 0.07846332145188467), (1836, 0.09096891633034963), (1837, 0.06862845636250725), (1838, 0.10193410545389958), (1839, 0.06040853980458388), (1840, 0.08447996977026506), (1841, 0.10353669433675572), (1842, 0.12596073652168882), (1843, 0.04760048732259035), (1844, 0.12747911856012184), (1845, 0.06271655262896254), (1846, 0.08396826876081948), (1847, 0.1420333571686484), (1848, 0.059503427227342864), (1849, 0.06548135353734671), (1850, 0.09585436821257894), (1851, 0.12384481644760963), (1852, 0.1611553801780134), (1853, 0.0787907469032676), (1854, 0.07563458531421814), (1855, 0.09310020917507805), (1856, 0.08504182171362708), (1857, 0.05392976589561861), (1858, 0.08484735753084684), (1859, 0.09413817626691161), (1860, 0.06938297582688586), (1861, 0.12857624659305106), (1862, 0.039656363785628666), (1863, 0.05528666630346148), (1864, 0.12149003863584919), (1865, 0.08068253624499988), (1866, 0.07378765352221175), (1867, 0.10940629141316334), (1868, 0.08057860365816023), (1869, 0.11680346522540126), (1870, 0.08996999523441306), (1871, 0.0842499817789794), (1872, 0.09570022072032675), (1873, 0.08440674605539283), (1874, 0.12643503819153046), (1875, 0.11516999181594254), (1876, 0.06132997062882188), (1877, 0.15165338535207168), (1878, 0.07257340558954493), (1879, 0.07152988451470903), (1880, 0.0871852280766282), (1881, 0.08808179554918749), (1882, 0.05602197502764613), (1883, 0.0934275495471709), (1884, 0.06014646978820763), (1885, 0.10607681286555602), (1886, 0.08729917180141634), (1887, 0.09367458895461069), (1888, 0.12248314608744729), (1889, 0.08344412765624815), (1890, 0.08863173001687707), (1891, 0.07804407665059106), (1892, 0.11954830008304808), (1893, 0.09401972295201445), (1894, 0.08033382753328265), (1895, 0.06747394111999135), (1896, 0.0922669715933304), (1897, 0.08375552067511141), (1898, 0.055240844613020625), (1899, 0.10078146241991928), (1900, 0.08745600358155868), (1901, 0.0631170102478727), (1902, 0.12170622241346336), (1903, 0.06761844438569654), (1904, 0.07718210751817725), (1905, 0.11098204857728862), (1906, 0.04367804941632347), (1907, 0.08350416738986735), (1908, 0.08865236796153489), (1909, 0.08605973238059132), (1910, 0.042098992694825456), (1911, 0.06653664617130599), (1912, 0.09495347790655088), (1913, 0.05658956138231344), (1914, 0.07168213559939922), (1915, 0.13149813519685122), (1916, 0.06507815468137927), (1917, 0.11876562405947869), (1918, 0.05741008241031084), (1919, 0.052654042900382975), (1920, 0.096934146039633), (1921, 0.10207570983436008), (1922, 0.13845164205917215), (1923, 0.12350795313205465), (1924, 0.10168359071355759), (1925, 0.07967171503195955), (1926, 0.05474541937825864), (1927, 0.055778262014548524), (1928, 0.08905803553170687), (1929, 0.0644438322042875), (1930, 0.0696147871088501), (1931, 0.10405900145789705), (1932, 0.10374779157598092), (1933, 0.0725464496779395), (1934, 0.047404573067758936), (1935, 0.08572029441433622), (1936, 0.10023564771393718), (1937, 0.05002984729481133), (1938, 0.09501548741083078), (1939, 0.06739474990684338), (1940, 0.09000005106166718), (1941, 0.10823005267159566), (1942, 0.04927248942969268), (1943, 0.06868928497128474), (1944, 0.07296036809907402), (1945, 0.1425186742931362), (1946, 0.06254835878555377), (1947, 0.06482078449742922), (1948, 0.10111373199934155), (1949, 0.05303181658284054), (1950, 0.08387044495564354), (1951, 0.06459046513823657), (1952, 0.08062833410006302), (1953, 0.12863255284982297), (1954, 0.09859476618692528), (1955, 0.06384879362390937), (1956, 0.10250994363664695), (1957, 0.1100521242665174), (1958, 0.13110352574192435), (1959, 0.11752179904897643), (1960, 0.11767947111268906), (1961, 0.05284582279730779), (1962, 0.07165783344536335), (1963, 0.044333846406408174), (1964, 0.089485837812327), (1965, 0.09345407574843693), (1966, 0.04394388680933918), (1967, 0.11475840172872365), (1968, 0.1108230521316157), (1969, 0.08933013268515706), (1970, 0.07168030376566821), (1971, 0.07403815877038498), (1972, 0.10972029693144673), (1973, 0.07935040081494109), (1974, 0.10639137694099017), (1975, 0.06208840156085119), (1976, 0.06933650014032125), (1977, 0.07178858830894794), (1978, 0.07849934459730522), (1979, 0.05775544592412485), (1980, 0.08700143582415333), (1981, 0.06726493874485459), (1982, 0.06825669956843644), (1983, 0.06110106538821915), (1984, 0.10721383268647681), (1985, 0.09572738346792443), (1986, 0.07575445610612129), (1987, 0.08195321877422476), (1988, 0.12525083866349224), (1989, 0.07314844633081742), (1990, 0.09671361501706431), (1991, 0.12240134455263374), (1992, 0.09796549708177804), (1993, 0.07851914667871816), (1994, 0.05837033635725056), (1995, 0.1101570849251557), (1996, 0.0586529591921485), (1997, 0.08645699081923837), (1998, 0.08548702095591383), (1999, 0.09570375871544634), (2000, 0.06500936876666444), (2001, 0.06837501539232414), (2002, 0.09885995219250632), (2003, 0.08000531456562028), (2004, 0.053947643629913444), (2005, 0.09529984362524485), (2006, 0.1308655240681079), (2007, 0.06639541375397859), (2008, 0.16013803242518748), (2009, 0.06446197256335819), (2010, 0.05449488383651837), (2011, 0.07984729897201026), (2012, 0.06477738243130247), (2013, 0.1132697269944329), (2014, 0.1092051147952274), (2015, 0.1110913351272212), (2016, 0.1625998628285585), (2017, 0.0883704684406318), (2018, 0.07866963189379077), (2019, 0.072735738750609), (2020, 0.09821195930555388), (2021, 0.08600990677820206), (2022, 0.11100760325601902), (2023, 0.08068654246941268), (2024, 0.15086697423913398), (2025, 0.07866734446283977), (2026, 0.09467041369425894), (2027, 0.084645535224084), (2028, 0.054447536854888644), (2029, 0.11078670163252599), (2030, 0.12364403289904113), (2031, 0.05756460075944054), (2032, 0.08341382669511678), (2033, 0.0691819531887557), (2034, 0.04090319343671214), (2035, 0.06112328090806167), (2036, 0.09211470113314937), (2037, 0.07179527669498639), (2038, 0.09481559043058783), (2039, 0.07500010859494904), (2040, 0.08747522903567656), (2041, 0.10840750355330855), (2042, 0.11477561527075142), (2043, 0.10965046295324445), (2044, 0.11748260404041541), (2045, 0.104551459521296), (2046, 0.10209641117963118), (2047, 0.10710217790269458), (2048, 0.09873333995532746), (2049, 0.0528132388013133), (2050, 0.09480381230467996), (2051, 0.0905791256334144), (2052, 0.23380383667542204), (2053, 0.20551115199765022), (2054, 0.07434905767363366), (2055, 0.09176801333262966), (2056, 0.0619115066392245), (2057, 0.09149016963685613), (2058, 0.09123224693165956), (2059, 0.05088764634658407), (2060, 0.10460139685176474), (2061, 0.08422140133082873), (2062, 0.0819418366492394), (2063, 0.10047900716860679), (2064, 0.042205893627390044), (2065, 0.052267353259470656), (2066, 0.08676661980036116), (2067, 0.13031291088384417), (2068, 0.1015242753587141), (2069, 0.12284093444065032), (2070, 0.0516285736268356), (2071, 0.09818259235481079), (2072, 0.10720130088206847), (2073, 0.07752144689607236), (2074, 0.07111051415348814), (2075, 0.10382880234226391), (2076, 0.12011158567088474), (2077, 0.09504921745183229), (2078, 0.06545816021328914), (2079, 0.0641600908391442), (2080, 0.09042200013542845), (2081, 0.047256161284909615), (2082, 0.03940847885362975), (2083, 0.09125522043000313), (2084, 0.08926166717592009), (2085, 0.17480399309290806), (2086, 0.07022031302003917), (2087, 0.11360140068982208), (2088, 0.09086918743285123), (2089, 0.11928681413141293), (2090, 0.05461110276730679), (2091, 0.09197278221340181), (2092, 0.055219992442692045), (2093, 0.10017481064762887), (2094, 0.10229984712643655), (2095, 0.06300935336562677), (2096, 0.10034739122538562), (2097, 0.09334331644235286), (2098, 0.023463934046396923), (2099, 0.049879862054635425), (2100, 0.08658836858990147), (2101, 0.07370271992030063), (2102, 0.09701200373777005), (2103, 0.10268336838543382), (2104, 0.11029252018051701), (2105, 0.09511520769842091), (2106, 0.08950426603268447), (2107, 0.05507397229375441), (2108, 0.08009616613006398), (2109, 0.12106443300322689), (2110, 0.047954822347689136), (2111, 0.09525840583717661), (2112, 0.06422793503044996), (2113, 0.05449284037831146), (2114, 0.15396168141192612), (2115, 0.08675259779910295), (2116, 0.11375008970903919), (2117, 0.07598699963337915), (2118, 0.10024108744369076), (2119, 0.04979631149462566), (2120, 0.07634742981790034), (2121, 0.13151351597347755), (2122, 0.0613215446968181), (2123, 0.13050088910428329), (2124, 0.10147842707672784), (2125, 0.0696234049558349), (2126, 0.06724735529267122), (2127, 0.124462175169126), (2128, 0.06712773942287892), (2129, 0.07331159819972995), (2130, 0.08514494900333319), (2131, 0.050216700352621144), (2132, 0.06132506932327709), (2133, 0.09804735144721857), (2134, 0.12134977534433092), (2135, 0.08787558890914654), (2136, 0.15075844629775567), (2137, 0.06734912630227986), (2138, 0.07738106648488537), (2139, 0.06400590634104227), (2140, 0.0693344195731065), (2141, 0.10177355394374248), (2142, 0.10106038043410893), (2143, 0.05929882379408218), (2144, 0.06225774972404183), (2145, 0.11987642913535801), (2146, 0.08768000602172413), (2147, 0.12084421493355371), (2148, 0.08884144109777213), (2149, 0.11327760821234444), (2150, 0.059948892219992424), (2151, 0.1230080014318652), (2152, 0.10471066287055718), (2153, 0.048338738650057625), (2154, 0.09350102482196433), (2155, 0.12967704923393003), (2156, 0.13755932758352463), (2157, 0.11440679255090203), (2158, 0.06818592159469704), (2159, 0.06411331699429482), (2160, 0.10722583775376623), (2161, 0.05571716386898628), (2162, 0.07026244327983133), (2163, 0.12788711643535378), (2164, 0.07226036995774597), (2165, 0.05153396951002212), (2166, 0.08237307151732527), (2167, 0.09521037162603514), (2168, 0.07327154107936708), (2169, 0.12263675967615004), (2170, 0.10074549644024663), (2171, 0.08984550064687473), (2172, 0.04905222791925607), (2173, 0.07890794273077051), (2174, 0.09991583863745784), (2175, 0.08621721799642718), (2176, 0.05954985467182104), (2177, 0.1267266401524373), (2178, 0.1150051553776496), (2179, 0.09613454053101118), (2180, 0.10841943223192763), (2181, 0.12340754218482107), (2182, 0.056078874222113634), (2183, 0.08602609301852292), (2184, 0.09557540295118414), (2185, 0.08938120701558606), (2186, 0.08912205826253072), (2187, 0.09919423433086286), (2188, 0.07175471303108567), (2189, 0.08586155223399225), (2190, 0.07508235100982924), (2191, 0.09870632527464515), (2192, 0.12050144344466744), (2193, 0.06454539601684109), (2194, 0.07572598603882978), (2195, 0.1023883195445867), (2196, 0.11096362051338667), (2197, 0.08216510183888841), (2198, 0.09065565156442146), (2199, 0.07387361726358109), (2200, 0.1121768218091536), (2201, 0.0995429784097796), (2202, 0.06801223572312524), (2203, 0.12889502306724837), (2204, 0.08390931975364371), (2205, 0.07868582419217754), (2206, 0.07083056046299714), (2207, 0.0898671062085494), (2208, 0.08764157198385619), (2209, 0.1456235551327985), (2210, 0.07929662543547189), (2211, 0.10860195118349332), (2212, 0.07611672644353418), (2213, 0.08881182387724071), (2214, 0.09369331841709257), (2215, 0.07874659535062205), (2216, 0.08177914614960377), (2217, 0.1426535430118302), (2218, 0.10073749555011316), (2219, 0.08762322334718708), (2220, 0.10464166271631953), (2221, 0.09452375016146357), (2222, 0.07310855989450749), (2223, 0.04142554537799304), (2224, 0.09722388658061304), (2225, 0.10159517809264171), (2226, 0.08263332801000023), (2227, 0.1003259981553169), (2228, 0.08333634359090189), (2229, 0.0873637459362945), (2230, 0.07128568427407232), (2231, 0.04177828503707294), (2232, 0.10387320040113233), (2233, 0.2106050570836346), (2234, 0.09360275012255376), (2235, 0.11625474553408006), (2236, 0.060013284707888775), (2237, 0.15063565024878803), (2238, 0.09988626615795126), (2239, 0.09119220276460174), (2240, 0.13047730232220195), (2241, 0.13610829032568), (2242, 0.05190788066573614), (2243, 0.07855399211442075), (2244, 0.08209249934622755), (2245, 0.11959707501717365), (2246, 0.056065732309058244), (2247, 0.10062493332082302), (2248, 0.10893242954299218), (2249, 0.07106018025596561), (2250, 0.12650573723194916), (2251, 0.07232498606811699), (2252, 0.036093085630400375), (2253, 0.0904680150193669), (2254, 0.1164543178165567), (2255, 0.08744848786908238), (2256, 0.05203937573252426), (2257, 0.08239113226173647), (2258, 0.07979643952409982), (2259, 0.0946361545561403), (2260, 0.1109740381012031), (2261, 0.0757445469413614), (2262, 0.0796470097538277), (2263, 0.09911190884089882), (2264, 0.10178784355873807), (2265, 0.08132807543208333), (2266, 0.09761814762689981), (2267, 0.05189766426303755), (2268, 0.12626783451564846), (2269, 0.07911901506572999), (2270, 0.09129558816733722), (2271, 0.09381906896346301), (2272, 0.046079653561442925), (2273, 0.022100156280104734), (2274, 0.10086295237698636), (2275, 0.09568337904406973), (2276, 0.060781076946982746), (2277, 0.09781180276952552), (2278, 0.12786360003195477), (2279, 0.058325041539144355), (2280, 0.11853823930367702), (2281, 0.08720651331395012), (2282, 0.0787697909516212), (2283, 0.11364972599020126), (2284, 0.1178679645858625), (2285, 0.1472449164008398), (2286, 0.07721609654885726), (2287, 0.058076459262399766), (2288, 0.07293121423447096), (2289, 0.1010864358275627), (2290, 0.07883760877775552), (2291, 0.13554749076113579), (2292, 0.05559487570461589), (2293, 0.09309712784906934), (2294, 0.13237102040815885), (2295, 0.10055974066192928), (2296, 0.13934430903656533), (2297, 0.16391851934120677), (2298, 0.11018923109847588), (2299, 0.10038352949156622), (2300, 0.09928588062145112), (2301, 0.08039029146751536), (2302, 0.06687343549960661), (2303, 0.06652445211954228), (2304, 0.07387499842424085), (2305, 0.06841587761799922), (2306, 0.1084468221770466), (2307, 0.07139151224224308), (2308, 0.10701935182920418), (2309, 0.04779703605953474), (2310, 0.07864460304032522), (2311, 0.06847731351531484), (2312, 0.06598091210622152), (2313, 0.06765683264754385), (2314, 0.11613117171310741), (2315, 0.08141842268123346), (2316, 0.04611181294628199), (2317, 0.08761203957855994), (2318, 0.10399958565688312), (2319, 0.0685013973271955), (2320, 0.10685014904063769), (2321, 0.07449436031569687), (2322, 0.0660297002760314), (2323, 0.08195615358408148), (2324, 0.09665669098481423), (2325, 0.053645706020351236), (2326, 0.05326672653469511), (2327, 0.11389785577650983), (2328, 0.10889151471452671), (2329, 0.09274429096967363), (2330, 0.08668575699705511), (2331, 0.07875477904370101), (2332, 0.06854975063594498), (2333, 0.050989071536613695), (2334, 0.06533929742633693), (2335, 0.06536657333329589), (2336, 0.13109356592783517), (2337, 0.08774384243101002), (2338, 0.059792007245711216), (2339, 0.08314977428282838), (2340, 0.08990314699009687), (2341, 0.20599869230334827), (2342, 0.06858565815125676), (2343, 0.08651652266385919), (2344, 0.097224325620079), (2345, 0.06330379120587663), (2346, 0.09787772905909232), (2347, 0.09904290221768129), (2348, 0.12793275548015043), (2349, 0.09014368351660886), (2350, 0.0963988398959436), (2351, 0.08742201481628471), (2352, 0.04786601761344747), (2353, 0.06761409536565827), (2354, 0.11093006396384089), (2355, 0.08492565983634517), (2356, 0.06952975450618626), (2357, 0.08107803046661183), (2358, 0.11222360142519326), (2359, 0.07850137755438057), (2360, 0.04745084057999205), (2361, 0.0805268113468178), (2362, 0.07289334659410467), (2363, 0.058997083430294625), (2364, 0.06868546032583442), (2365, 0.11653882825995884), (2366, 0.11145610685831554), (2367, 0.053564693953429526), (2368, 0.13392717356013267), (2369, 0.051696507433333004), (2370, 0.1045699107470382), (2371, 0.07589458906850977), (2372, 0.0711919586612045), (2373, 0.08706098274021361), (2374, 0.07891970129662775), (2375, 0.09600749064626245), (2376, 0.05640360744963381), (2377, 0.2440867922609214), (2378, 0.11911930076322656), (2379, 0.028604812208479692), (2380, 0.11933999915204002), (2381, 0.10948560328979018), (2382, 0.0411276470183571), (2383, 0.08648055251171019), (2384, 0.1007977659580388), (2385, 0.04895260721844811), (2386, 0.15071100670872972), (2387, 0.07912402125293484), (2388, 0.10294096678294935), (2389, 0.12918835487769523), (2390, 0.0952784733008144), (2391, 0.0617868929602418), (2392, 0.0774774661518678), (2393, 0.05512262086127362), (2394, 0.10417891005964978), (2395, 0.09909149493933486), (2396, 0.08285539378925308), (2397, 0.14434373612103057), (2398, 0.10665317658444891), (2399, 0.09010157257331809), (2400, 0.08764061474408619), (2401, 0.048662259522705094), (2402, 0.10237921288364746), (2403, 0.11839911971381283), (2404, 0.09609046591074033), (2405, 0.10379874578190797), (2406, 0.09590376106665106), (2407, 0.09666458646898925), (2408, 0.08630164738223853), (2409, 0.1145729867591926), (2410, 0.07369630710814348), (2411, 0.05851606176702334), (2412, 0.12085466770205068), (2413, 0.07020814326818642), (2414, 0.037020968600251676), (2415, 0.06517178139313405), (2416, 0.09069470859350524), (2417, 0.08506685107809217), (2418, 0.04998884595680268), (2419, 0.06006832763509977), (2420, 0.027749514840613915), (2421, 0.03354485805995316), (2422, 0.11010279233683677), (2423, 0.09865730235455951), (2424, 0.09013601926348894), (2425, 0.07976726936497021), (2426, 0.03402348692728507), (2427, 0.05017812217772495), (2428, 0.16230438058250252), (2429, 0.0927064080626387), (2430, 0.07013440607892794), (2431, 0.08890143324903539), (2432, 0.07891591522995327), (2433, 0.1256355026059347), (2434, 0.06309107516695574), (2435, 0.10584476339792286), (2436, 0.05763921408453593), (2437, 0.035284168372367426), (2438, 0.0901679335831136), (2439, 0.09440443406677129), (2440, 0.07553189603441365), (2441, 0.07049376102150479), (2442, 0.16859366159582198), (2443, 0.09206267560198464), (2444, 0.15594975958957022), (2445, 0.0830940968497758), (2446, 0.09102660999883096), (2447, 0.0802698619002396), (2448, 0.08795844839232035), (2449, 0.09053303818928946), (2450, 0.10456837458955072), (2451, 0.071835694041952), (2452, 0.06388010766094611), (2453, 0.0765627455263642), (2454, 0.11084823663320761), (2455, 0.08247888849904461), (2456, 0.07026161211716285), (2457, 0.10460090819868836), (2458, 0.0901345205125059), (2459, 0.09567885733337397), (2460, 0.07041035659634984), (2461, 0.11936060004572437), (2462, 0.1251602013213375), (2463, 0.08962707121100687), (2464, 0.08637544607776133), (2465, 0.11145408845654793), (2466, 0.05966752091602667), (2467, 0.10417447293026144), (2468, 0.09333005697655153), (2469, 0.08166322201635365), (2470, 0.07217899787876118), (2471, 0.09443062546815942), (2472, 0.07011286094703435), (2473, 0.06117856955101385), (2474, 0.0819481176590587), (2475, 0.0863297199735652), (2476, 0.0791996216299782), (2477, 0.0893679676587044), (2478, 0.06428923290498582), (2479, 0.135785290639515), (2480, 0.08113545748091458), (2481, 0.0636669919810613), (2482, 0.07158061086512564), (2483, 0.08722629691927458), (2484, 0.09132581410573531), (2485, 0.057720656904948764), (2486, 0.07871437130383996), (2487, 0.07547089832001734), (2488, 0.04680238090661208), (2489, 0.06775026247911763), (2490, 0.10732961546906442), (2491, 0.098362266375814), (2492, 0.0618626428275661), (2493, 0.11850699526012519), (2494, 0.09755831595628758), (2495, 0.14670083488112262), (2496, 0.06419778272246293), (2497, 0.10017637504707202), (2498, 0.08718556817602545), (2499, 0.09985866475213265), (2500, 0.08620297119710107), (2501, 0.10684707381798941), (2502, 0.06060873155845367), (2503, 0.1095916321522329), (2504, 0.08193467557570823), (2505, 0.08798379788300448), (2506, 0.07071308528690814), (2507, 0.04935652547608427), (2508, 0.08857664373428849), (2509, 0.09859976655490534), (2510, 0.1325510771482927), (2511, 0.07893274965909934), (2512, 0.09688645768909429), (2513, 0.08359797847680948), (2514, 0.11302004895059634), (2515, 0.11799988353770176), (2516, 0.11021930111232746), (2517, 0.1171194323146402), (2518, 0.07142694252472541), (2519, 0.06310989018788754), (2520, 0.0936959581020231), (2521, 0.09946990866543805), (2522, 0.2048600920996718), (2523, 0.04798326802465371), (2524, 0.07742098718207963), (2525, 0.08691855982510352), (2526, 0.04766146667224903), (2527, 0.08584002453064109), (2528, 0.03832938988171633), (2529, 0.1275793066417955), (2530, 0.10970546073893912), (2531, 0.051582358192055706), (2532, 0.10046809758170416), (2533, 0.10765632502902461), (2534, 0.07351385776593829), (2535, 0.06515519658965448), (2536, 0.1316432919890063), (2537, 0.1468094468889445), (2538, 0.038140690211068924), (2539, 0.077186735616348), (2540, 0.10704765389640411), (2541, 0.11064565623371445), (2542, 0.08204550281513263), (2543, 0.13115284473349922), (2544, 0.08394990305591035), (2545, 0.08089137240244429), (2546, 0.08814990863769553), (2547, 0.10627527422453441), (2548, 0.05402409869421145), (2549, 0.09554479132722497), (2550, 0.15280300850543418), (2551, 0.11536678954270992), (2552, 0.08379701262113719), (2553, 0.1135440093731834), (2554, 0.07718356118421806), (2555, 0.06807475720631974), (2556, 0.08997877470983028), (2557, 0.07335634337163661), (2558, 0.10603656556980495), (2559, 0.09587522678942938), (2560, 0.07834264103963227), (2561, 0.13512110709506367), (2562, 0.049373998639427895), (2563, 0.0490475299578177), (2564, 0.08841549079536594), (2565, 0.06809529297486627), (2566, 0.052450912079854875), (2567, 0.08703323950259845), (2568, 0.10963754471785683), (2569, 0.10112548349193735), (2570, 0.06701979987003769), (2571, 0.14767625002293974), (2572, 0.09153010393301714), (2573, 0.0858556132810694), (2574, 0.04667048574156539), (2575, 0.07768254022896286), (2576, 0.06549864769017814), (2577, 0.05375440027239998), (2578, 0.16803842616565046), (2579, 0.08648445564918696), (2580, 0.09958841117156378), (2581, 0.11025124777435197), (2582, 0.08196560354714047), (2583, 0.07250286167350369), (2584, 0.08362562867411992), (2585, 0.15012772127871374), (2586, 0.08717128134072506), (2587, 0.112511354515449), (2588, 0.06754518287382522), (2589, 0.035756946445099635), (2590, 0.09494814788513305), (2591, 0.059449787505695434), (2592, 0.082763197111069), (2593, 0.08474562112493941), (2594, 0.10222581357685956), (2595, 0.053011319290600926), (2596, 0.06053340233753611), (2597, 0.07368467253766214), (2598, 0.056147734779260106), (2599, 0.08164142226349663), (2600, 0.13175908178188825), (2601, 0.02867079963436764), (2602, 0.08430348988478277), (2603, 0.06746681612671888), (2604, 0.04388051909358256), (2605, 0.08018911206986215), (2606, 0.09067925719125416), (2607, 0.09123183643628295), (2608, 0.05603562251393028), (2609, 0.12001265462752023), (2610, 0.1265581334912831), (2611, 0.05258598391058624), (2612, 0.05906764224519166), (2613, 0.11605731585029141), (2614, 0.04714755445613702), (2615, 0.0754839421295132), (2616, 0.08377825596960031), (2617, 0.05182441897060419), (2618, 0.08838661267574179), (2619, 0.07802992211610645), (2620, 0.05666463531776397), (2621, 0.09137344883007778), (2622, 0.0476221957114344), (2623, 0.06348631611960331), (2624, 0.06918923678665238), (2625, 0.10788655269072106), (2626, 0.08202681378097847), (2627, 0.10094645175633295), (2628, 0.09019551369664604), (2629, 0.05407875704913744), (2630, 0.09556504057801335), (2631, 0.09728148301077623), (2632, 0.09438065373770495), (2633, 0.07272689288134698), (2634, 0.04328437583239605), (2635, 0.10053299920992406), (2636, 0.09714692514425431), (2637, 0.05294060311587789), (2638, 0.12369710346651763), (2639, 0.09002488238648891), (2640, 0.11777444832620633), (2641, 0.10493641613041695), (2642, 0.11929348653845298), (2643, 0.0969832785893644), (2644, 0.06673088223627242), (2645, 0.14408544199145257), (2646, 0.04457065312521041), (2647, 0.1054969706736307), (2648, 0.04711760512883435), (2649, 0.06650689444669847), (2650, 0.19308727359373795), (2651, 0.08085942073101418), (2652, 0.0806357665283166), (2653, 0.05669705641261409), (2654, 0.07956724965300307), (2655, 0.07584033959107861), (2656, 0.039768145526875874), (2657, 0.09127265536598753), (2658, 0.04256158130018677), (2659, 0.09279505650888102), (2660, 0.09029952627336463), (2661, 0.07265129859638415), (2662, 0.0743498908496659), (2663, 0.06717130475176238), (2664, 0.07954345063488152), (2665, 0.06165748357235626), (2666, 0.08682365623569453), (2667, 0.09038665053805481), (2668, 0.0734736607304347), (2669, 0.060242276206828725), (2670, 0.0865308043122473), (2671, 0.15360298147641147), (2672, 0.07246965068768257), (2673, 0.08029313096463028), (2674, 0.07557417975679298), (2675, 0.13020639933224123), (2676, 0.07902429456167669), (2677, 0.07414367198140435), (2678, 0.12518802962942135), (2679, 0.02533223427956202), (2680, 0.11718737390223237), (2681, 0.09782527509240761), (2682, 0.07809371363294416), (2683, 0.1238779200054104), (2684, 0.0617547356911111), (2685, 0.09658883736416518), (2686, 0.1312966279385839), (2687, 0.07165618273327194), (2688, 0.06955134881047316), (2689, 0.05572526730376853), (2690, 0.06055626801636416), (2691, 0.20454960025413904), (2692, 0.06366558602537287), (2693, 0.06759928669642427), (2694, 0.07499599778255445), (2695, 0.05272255396177615), (2696, 0.10598737993000631), (2697, 0.09596127948698413), (2698, 0.06004324416505806), (2699, 0.055038897361052865), (2700, 0.08897421946337775), (2701, 0.11387410185826032), (2702, 0.09965511427772905), (2703, 0.08899967774803406), (2704, 0.10233498129361784), (2705, 0.10376298978911455), (2706, 0.0762989745349082), (2707, 0.052053820230759947), (2708, 0.10314718524861939), (2709, 0.06160569751376702), (2710, 0.059543895577830346), (2711, 0.14795097614842703), (2712, 0.10889882080615255), (2713, 0.16655755204684747), (2714, 0.10321109021069494), (2715, 0.04591546201462826), (2716, 0.09551975253238869), (2717, 0.10627260057239545), (2718, 0.0637146954757491), (2719, 0.08375481467354767), (2720, 0.06693960180093152), (2721, 0.06341863731840526), (2722, 0.09963234972223563), (2723, 0.07228515818580561), (2724, 0.1699517292592915), (2725, 0.10372397686269334), (2726, 0.07656103209156763), (2727, 0.13726468206726303), (2728, 0.054579221400344595), (2729, 0.11622884863943696), (2730, 0.0941637572004117), (2731, 0.09396369448415888), (2732, 0.08223659390032087), (2733, 0.08339639416406044), (2734, 0.058553181102193604), (2735, 0.10228075399810707), (2736, 0.10778596013199833), (2737, 0.08055506210554438), (2738, 0.0894323374643744), (2739, 0.08855238737283395), (2740, 0.07037837342655306), (2741, 0.05863803414988044), (2742, 0.097752364140279), (2743, 0.07518739360169917), (2744, 0.041509750152575374), (2745, 0.09117807004805294), (2746, 0.05212735694320535), (2747, 0.098794477982455), (2748, 0.07943751199183365), (2749, 0.08186795389434816), (2750, 0.07041119588228605), (2751, 0.10046926588407044), (2752, 0.12339749399985163), (2753, 0.11629687341777666), (2754, 0.02806486962846735), (2755, 0.10283005509795722), (2756, 0.09712537895031938), (2757, 0.21088467238889808), (2758, 0.10326286843700498), (2759, 0.05256613653449063), (2760, 0.1116360454285912), (2761, 0.044596639265224974), (2762, 0.09032532373482263), (2763, 0.04406901476779263), (2764, 0.04372925000358874), (2765, 0.11383304554959812), (2766, 0.0683005551609902), (2767, 0.05292596575055986), (2768, 0.04175954266544806), (2769, 0.10347123996294656), (2770, 0.056064891725775466), (2771, 0.045214540786443165), (2772, 0.0904388744782743), (2773, 0.08183445739243084), (2774, 0.07426127666342201), (2775, 0.11868286032258156), (2776, 0.11389122624207612), (2777, 0.05335569372975699), (2778, 0.06777768310037635), (2779, 0.06837588773678319), (2780, 0.08462987551020795), (2781, 0.11491873770149161), (2782, 0.1185024944313227), (2783, 0.09897626809924744), (2784, 0.14195554806208868), (2785, 0.06153774684118567), (2786, 0.0673349332650456), (2787, 0.08562236912717824), (2788, 0.06472903053164084), (2789, 0.04351891523850236), (2790, 0.13797207092236977), (2791, 0.047729251002684915), (2792, 0.08337482319823213), (2793, 0.05575918633742649), (2794, 0.07786393274430303), (2795, 0.09544396419829343), (2796, 0.12280081319364408), (2797, 0.07128273493831162), (2798, 0.16378763803413593), (2799, 0.12920927346170227), (2800, 0.0547388038941648), (2801, 0.11508208842976628), (2802, 0.08400454346532878), (2803, 0.08929404011653876), (2804, 0.0872284328540546), (2805, 0.07762165546799583), (2806, 0.08228219689200383), (2807, 0.1428179842729796), (2808, 0.1131077274260242), (2809, 0.08355902492100774), (2810, 0.08881102923178735), (2811, 0.08664854235082886), (2812, 0.08867415080398341), (2813, 0.10341253257095155), (2814, 0.09358954528660018), (2815, 0.11308007058472726), (2816, 0.05428345416770013), (2817, 0.08615120659162817), (2818, 0.08846857983648342), (2819, 0.11779313768400274), (2820, 0.11580932709033241), (2821, 0.08619974882787136), (2822, 0.08893327310242172), (2823, 0.05888328973305997), (2824, 0.1251678504708411), (2825, 0.08343709565774399), (2826, 0.12067556331476385), (2827, 0.142990800792278), (2828, 0.09732396897676611), (2829, 0.1638342404954661), (2830, 0.0973981538170308), (2831, 0.0702429603071144), (2832, 0.08256377645659797), (2833, 0.06438432416131067), (2834, 0.1069588894182388), (2835, 0.08162133456456602), (2836, 0.10203347198977453), (2837, 0.05049751237349968), (2838, 0.07699438673904524), (2839, 0.07761990393932341), (2840, 0.06093580070916698), (2841, 0.06707543918633363), (2842, 0.10283416047122199), (2843, 0.10442646403658934), (2844, 0.09222367016374418), (2845, 0.08887632691839809), (2846, 0.07415896263484366), (2847, 0.07024462998279832), (2848, 0.07245633917347), (2849, 0.07817172555009327), (2850, 0.09264376668363207), (2851, 0.04176965249135302), (2852, 0.09297675899759011), (2853, 0.11309028524806515), (2854, 0.07169491842951091), (2855, 0.07115445375617191), (2856, 0.06657401904681548), (2857, 0.07348522684083121), (2858, 0.11280723408633765), (2859, 0.06653673196810056), (2860, 0.19980186399701771), (2861, 0.06799006552465674), (2862, 0.09343182008438584), (2863, 0.09448021528761796), (2864, 0.05641895143486744), (2865, 0.06996875265451351), (2866, 0.07889181346336781), (2867, 0.04753454593748987), (2868, 0.08663339211681301), (2869, 0.04691566751166337), (2870, 0.08299464621562219), (2871, 0.08681960835469928), (2872, 0.049433195876873136), (2873, 0.08626581671324302), (2874, 0.06758581897561533), (2875, 0.06396768004177483), (2876, 0.11451269755990608), (2877, 0.07143110643712368), (2878, 0.07202961044645592), (2879, 0.12463272916810084), (2880, 0.11927363212482515), (2881, 0.1343825543101384), (2882, 0.06028778804163204), (2883, 0.05398773674282886), (2884, 0.11659037387547087), (2885, 0.08060506032317312), (2886, 0.10449834491704367), (2887, 0.05746312492228149), (2888, 0.09777492176029678), (2889, 0.04500920738700357), (2890, 0.07099280845883477), (2891, 0.06401546567057295), (2892, 0.06510740014076626), (2893, 0.10028141872020108), (2894, 0.1333587715288258), (2895, 0.07082429831498559), (2896, 0.049732027417878126), (2897, 0.12213181416867298), (2898, 0.1460321193190886), (2899, 0.0718262736172688), (2900, 0.06235648416331191), (2901, 0.10231038286823099), (2902, 0.10859453967553269), (2903, 0.04552588424949724), (2904, 0.09680728320784421), (2905, 0.0768153464792843), (2906, 0.06697018125785142), (2907, 0.11017151343521549), (2908, 0.04393598228626208), (2909, 0.06640266465072513), (2910, 0.11843900831379661), (2911, 0.1008505687117763), (2912, 0.13365785456773363), (2913, 0.0733655258800423), (2914, 0.12663498079121296), (2915, 0.09009494057670195), (2916, 0.08774462131966891), (2917, 0.08094910534921099), (2918, 0.0903549160931354), (2919, 0.07064424053675225), (2920, 0.11912862485751888), (2921, 0.09186604513742025), (2922, 0.09879499109588434), (2923, 0.11118758749048413), (2924, 0.05209031335819466), (2925, 0.10039641527436413), (2926, 0.11189930758420663), (2927, 0.10407685617392455), (2928, 0.04549587619233651), (2929, 0.11047685054846738), (2930, 0.05611788287725516), (2931, 0.050008065097194423), (2932, 0.05041185994912282), (2933, 0.06673766717923081), (2934, 0.0836009012720313), (2935, 0.10532067785555992), (2936, 0.13033060629530793), (2937, 0.09348221071423024), (2938, 0.05045488325563365), (2939, 0.0707010167574986), (2940, 0.07320425236346075), (2941, 0.12995565991245023), (2942, 0.2336297636360383), (2943, 0.10300977513751634), (2944, 0.12124906288967338), (2945, 0.10405191917217671), (2946, 0.07504746261112542), (2947, 0.10175423639310135), (2948, 0.08917825826234817), (2949, 0.0833266465613095), (2950, 0.06578812846099613), (2951, 0.06762432802105524), (2952, 0.08391116767657089), (2953, 0.09746226162461893), (2954, 0.07883764048476673), (2955, 0.08016579487915787), (2956, 0.05603891487308006), (2957, 0.10522108238420555), (2958, 0.11378303380196411), (2959, 0.07358228114037232), (2960, 0.09151408755453926), (2961, 0.13319734537361883), (2962, 0.04782074139726005), (2963, 0.05391635896539018), (2964, 0.07877044288773073), (2965, 0.06713066732414535), (2966, 0.1023269512215385), (2967, 0.10475464993507103), (2968, 0.11790004800192762), (2969, 0.1044495260247332), (2970, 0.06735195973628674), (2971, 0.07161794537439876), (2972, 0.11614536124599234), (2973, 0.12700806607707027), (2974, 0.08130626547289378), (2975, 0.0839787682908264), (2976, 0.04435986823322823), (2977, 0.08213815036856212), (2978, 0.06517533767412026), (2979, 0.06458954505645609), (2980, 0.09773244702555986), (2981, 0.11246095540390114), (2982, 0.09497211923302756), (2983, 0.09580283662137608), (2984, 0.049753281709140666), (2985, 0.06219226994895508), (2986, 0.1733347733783972), (2987, 0.07034907059973466), (2988, 0.08604969645159231), (2989, 0.060310529581453096), (2990, 0.08173839181513977), (2991, 0.10899732331663146), (2992, 0.07537129987962682), (2993, 0.07659894530084342), (2994, 0.0835397009267034), (2995, 0.09040414105119174), (2996, 0.09804894347041856), (2997, 0.10385940478193746), (2998, 0.07103990614136536), (2999, 0.06317393319911961), (3000, 0.07761896025123592), (3001, 0.09467227314366602), (3002, 0.08635790805487206), (3003, 0.06531745708137739), (3004, 0.10332338561234425), (3005, 0.10133672060237683), (3006, 0.12666579707781264), (3007, 0.07811076188600376), (3008, 0.07646995154863298), (3009, 0.09834370428903806), (3010, 0.0778715910440815), (3011, 0.11744960758214368), (3012, 0.08078436526856339), (3013, 0.08774978887221244), (3014, 0.11390987876842353), (3015, 0.044291067159827335), (3016, 0.0484189484465102), (3017, 0.06276027339226582), (3018, 0.11526748445928112), (3019, 0.07367761137121492), (3020, 0.08713204247823289), (3021, 0.09845295457457554), (3022, 0.03981656527093827), (3023, 0.09450851734529762), (3024, 0.11284483009733963), (3025, 0.040130999077896516), (3026, 0.058984441862212314), (3027, 0.07998691582296719), (3028, 0.05412032139529011), (3029, 0.09444775611829874), (3030, 0.07833214256908773), (3031, 0.07285578385065791), (3032, 0.09292528986642992), (3033, 0.11543496802910053), (3034, 0.06969418560465958), (3035, 0.10557127243863952), (3036, 0.0728839887375814), (3037, 0.04489123684341), (3038, 0.04736693113615286), (3039, 0.06408708455712611), (3040, 0.09166917403330754), (3041, 0.07209116905810421), (3042, 0.09464665931781847), (3043, 0.08569710044441772), (3044, 0.05957411600597801), (3045, 0.07371625819747643), (3046, 0.06910706092109724), (3047, 0.07686379213174191), (3048, 0.12583114425721587), (3049, 0.08963967484828553), (3050, 0.0984136637440404), (3051, 0.07081769015551906), (3052, 0.09868296727262722), (3053, 0.05306204241627346), (3054, 0.07254832599495456), (3055, 0.0993995437637801), (3056, 0.07886097185483046), (3057, 0.10919471608956297), (3058, 0.08730828694610639), (3059, 0.05074253559748331), (3060, 0.07720844037616517), (3061, 0.09385111714750947), (3062, 0.11153557101021361), (3063, 0.05331422107510237), (3064, 0.101389771822152), (3065, 0.07847204948634054), (3066, 0.03867927645980733), (3067, 0.06447198031746974), (3068, 0.1409421499705023), (3069, 0.056878871405228064), (3070, 0.07025275068431872), (3071, 0.07657935850179362), (3072, 0.1073975547812651), (3073, 0.10576326219819422), (3074, 0.11488937448893859), (3075, 0.08494176617975646), (3076, 0.06466474127396292), (3077, 0.054344101270317295), (3078, 0.05334119840531216), (3079, 0.05492436383218228), (3080, 0.027651846935130748), (3081, 0.06090724999480703), (3082, 0.12375038132696546), (3083, 0.07647157783709363), (3084, 0.0666994544743486), (3085, 0.0714527649702029), (3086, 0.07380929170994498), (3087, 0.06851122479228232), (3088, 0.1290380651054474), (3089, 0.05452302887967536), (3090, 0.07449553044315463), (3091, 0.10193145055468295), (3092, 0.07296677815313345), (3093, 0.1099205893111416), (3094, 0.06797894137405691), (3095, 0.09579582519606798), (3096, 0.06339693126415444), (3097, 0.07552263460292781), (3098, 0.11044849407143363), (3099, 0.0975784662345468), (3100, 0.0981817795640588), (3101, 0.0718367953683216), (3102, 0.07319994573628932), (3103, 0.05590337819223269), (3104, 0.09684112327281119), (3105, 0.057228335927897674), (3106, 0.08145450912471978), (3107, 0.12300028388356293), (3108, 0.07798004940204313), (3109, 0.08343674173657538), (3110, 0.06826489469771758), (3111, 0.0818580684304247), (3112, 0.0798275008943185), (3113, 0.12247458059398561), (3114, 0.03996017351620901), (3115, 0.036999745498394604), (3116, 0.05804638353244866), (3117, 0.05125292812154532), (3118, 0.06421953818631648), (3119, 0.07296510577597473), (3120, 0.0751120287476757), (3121, 0.019867260554164948), (3122, 0.06827486715449496), (3123, 0.06625414473943235), (3124, 0.07282456613984367), (3125, 0.08054641623096286), (3126, 0.09485105069293213), (3127, 0.0819660858559801), (3128, 0.08130592923783858), (3129, 0.052425953192168216), (3130, 0.10678322294401446), (3131, 0.08994430933428285), (3132, 0.05955083382609629), (3133, 0.09421724821098867), (3134, 0.11614162305043217), (3135, 0.03601900488768228), (3136, 0.1241625926272718), (3137, 0.07167816737791227), (3138, 0.11130695636887301), (3139, 0.10862041360140146), (3140, 0.06279255676522087), (3141, 0.07024685226764912), (3142, 0.06735363530736994), (3143, 0.15600532027639596), (3144, 0.06449196707549804), (3145, 0.09323681316129663), (3146, 0.0645497835741767), (3147, 0.07957666762936358), (3148, 0.1288326308196921), (3149, 0.09729812470923235), (3150, 0.06890433458720994), (3151, 0.0814117711247783), (3152, 0.11254900695708392), (3153, 0.08301177533699432), (3154, 0.07353286616738255), (3155, 0.0626907887934146), (3156, 0.115110656510618), (3157, 0.04842283498587832), (3158, 0.11919494539574224), (3159, 0.0935725136989792), (3160, 0.11702455038020702), (3161, 0.09994278835470313), (3162, 0.11321837883473827), (3163, 0.07148040230148837), (3164, 0.08630796591654888), (3165, 0.10699987504089381), (3166, 0.0729758500354294), (3167, 0.10264292585927051), (3168, 0.08335518993093995), (3169, 0.10901106808658965), (3170, 0.09334943398669635), (3171, 0.10224800213530919), (3172, 0.06615525704949146), (3173, 0.05741882535643847), (3174, 0.08660643640576285), (3175, 0.07284293806717895), (3176, 0.053092439085346846), (3177, 0.1622396291154189), (3178, 0.1179266386200507), (3179, 0.03447060109572443), (3180, 0.1279273295978891), (3181, 0.07095788967085088), (3182, 0.05386219721242794), (3183, 0.06973902621948273), (3184, 0.10022536124933658), (3185, 0.046717525655284316), (3186, 0.06576596722609845), (3187, 0.09706576300622596), (3188, 0.10379083312846916), (3189, 0.12185314854754953), (3190, 0.06097270744802528), (3191, 0.14619537528746074), (3192, 0.12427258220046862), (3193, 0.02405579678513933), (3194, 0.042334719198019684), (3195, 0.06160526821475164), (3196, 0.0808437771746912), (3197, 0.14362289554561436), (3198, 0.06682212510016862), (3199, 0.06784637841003817), (3200, 0.058718297791631506), (3201, 0.07297589293826905), (3202, 0.08465081844203792), (3203, 0.050118510694169144), (3204, 0.10675086587028926), (3205, 0.15006066519951913), (3206, 0.07901512838857615), (3207, 0.03353953543101801), (3208, 0.07399325094240315), (3209, 0.07687440733091541), (3210, 0.09211973864178423), (3211, 0.10749054479775487), (3212, 0.08526003149779808), (3213, 0.037980986984632724), (3214, 0.058392395667923175), (3215, 0.06562928513484595), (3216, 0.12175560190815835), (3217, 0.06615037308292891), (3218, 0.07222906300271581), (3219, 0.07647158890510034), (3220, 0.08620355956214944), (3221, 0.08190443890489758), (3222, 0.05168099155344749), (3223, 0.048036377557209256), (3224, 0.0894590025833487), (3225, 0.05847514734556722), (3226, 0.04138746017555496), (3227, 0.14952357482967985), (3228, 0.03273148948438224), (3229, 0.0878364988597021), (3230, 0.06013863415195969), (3231, 0.09650819950109353), (3232, 0.09846663931750316), (3233, 0.08456813344471072), (3234, 0.10170784819136415), (3235, 0.07411868295288006), (3236, 0.156990297212563), (3237, 0.05653140281222841), (3238, 0.08648104979538042), (3239, 0.12007785941968648), (3240, 0.07947430724865219), (3241, 0.0548475508599843), (3242, 0.10565284547223103), (3243, 0.03764735875657888), (3244, 0.06636681861245054), (3245, 0.10297893179051788), (3246, 0.1102499737416795), (3247, 0.08613790372673952), (3248, 0.02840569452094079), (3249, 0.056212681463498324), (3250, 0.07352263434349209), (3251, 0.11763138887300183), (3252, 0.11682922859457608), (3253, 0.07412091456690639), (3254, 0.04848084290194496), (3255, 0.09435006402730388), (3256, 0.08848014473137049), (3257, 0.08014287166124939), (3258, 0.1129040438237458), (3259, 0.10223089861101506), (3260, 0.1140747142495323), (3261, 0.0438815151430413), (3262, 0.08859899197259653), (3263, 0.05415497434664304), (3264, 0.07495205291697933), (3265, 0.061024972666797045), (3266, 0.07193109905833477), (3267, 0.04176686159239379), (3268, 0.0631084120600368), (3269, 0.08564780070068645), (3270, 0.08691833775124852), (3271, 0.10076577813183084), (3272, 0.07600177444347915), (3273, 0.10626543295275538), (3274, 0.05955167300691313), (3275, 0.0784052834247509), (3276, 0.08502921987013691), (3277, 0.10025263650586365), (3278, 0.08689904221350668), (3279, 0.08019007612692507), (3280, 0.04562838128708371), (3281, 0.08279748689765125), (3282, 0.06180507193034969), (3283, 0.07340294025504172), (3284, 0.0959224198876944), (3285, 0.15323382466210905), (3286, 0.05411619628403079), (3287, 0.1405620124462952), (3288, 0.09978886101875625), (3289, 0.06751427000486485), (3290, 0.12009533860962224), (3291, 0.08076314161880355), (3292, 0.045373856203039804), (3293, 0.10051660020486111), (3294, 0.08003919187736913), (3295, 0.08968340250563156), (3296, 0.10734383282093277), (3297, 0.10681540771605927), (3298, 0.083289021957063), (3299, 0.0687777435007496), (3300, 0.04990785226145474), (3301, 0.05246888084472958), (3302, 0.03264378094344127), (3303, 0.11714480633179784), (3304, 0.0452487440555416), (3305, 0.1192152572480723), (3306, 0.061725769964235365), (3307, 0.08761127554082047), (3308, 0.05537920844711825), (3309, 0.10840945897151699), (3310, 0.14717775296465094), (3311, 0.12789462065490131), (3312, 0.08342183558132818), (3313, 0.12542241219899758), (3314, 0.058585726012506244), (3315, 0.1012127954304325), (3316, 0.06986595178356564), (3317, 0.0826774726054807), (3318, 0.09854672701709435), (3319, 0.10038219019734765), (3320, 0.06471104936807374), (3321, 0.07198875741325005), (3322, 0.04670379076451639), (3323, 0.09133541461112533), (3324, 0.03280411187358041), (3325, 0.042926856930988036), (3326, 0.08363836332753753), (3327, 0.06386177628562872), (3328, 0.10781713394874119), (3329, 0.07508912781335336), (3330, 0.10604103555158481), (3331, 0.044046352282426975), (3332, 0.07964530055782297), (3333, 0.07745215822516835), (3334, 0.09437121218835681), (3335, 0.06713609838857275), (3336, 0.11562369130786061), (3337, 0.09644583641608409), (3338, 0.08116222986210848), (3339, 0.12291830627192928), (3340, 0.09777403766933132), (3341, 0.07242385322517521), (3342, 0.09883415767816807), (3343, 0.11226678460186379), (3344, 0.0654313091542868), (3345, 0.1139839472079319), (3346, 0.047968430302468494), (3347, 0.09733105913436133), (3348, 0.10405417513896781), (3349, 0.12720551979613595), (3350, 0.1087851293865317), (3351, 0.12253485040326881), (3352, 0.12461802130520491), (3353, 0.08557506418209845), (3354, 0.059337355307321364), (3355, 0.024796719596968362), (3356, 0.05249603214861916), (3357, 0.1376028552841839), (3358, 0.09642029951050915), (3359, 0.09039219489689823), (3360, 0.06033020918354874), (3361, 0.11040942972069251), (3362, 0.07414079736096263), (3363, 0.053697233620038545), (3364, 0.07603552127758263), (3365, 0.07075061936502633), (3366, 0.09935908338778482), (3367, 0.09413595400738436), (3368, 0.11158263683170463), (3369, 0.07760938118453375), (3370, 0.12431820027460723), (3371, 0.02980641723935346), (3372, 0.0793969395656081), (3373, 0.09291883134282802), (3374, 0.07109836111013164), (3375, 0.08291624741171279), (3376, 0.07366957152385911), (3377, 0.04706944868143464), (3378, 0.11353089562915072), (3379, 0.12780433073770456), (3380, 0.08950654721361571), (3381, 0.07558200012725298), (3382, 0.0732446222994954), (3383, 0.08560543690236559), (3384, 0.06505138706531732), (3385, 0.10361623828749476), (3386, 0.10050651708385479), (3387, 0.06554188574112761), (3388, 0.09391183650901894), (3389, 0.0662211415639272), (3390, 0.09244405037985397), (3391, 0.07031579333650115), (3392, 0.10558809510817944), (3393, 0.0514668062572064), (3394, 0.04978449298754306), (3395, 0.04504241461340434), (3396, 0.08191979551016959), (3397, 0.059646131326184154), (3398, 0.07473435084081746), (3399, 0.0974853741266427), (3400, 0.05023043396623404), (3401, 0.10573207925286109), (3402, 0.07672524960633935), (3403, 0.054559591650623865), (3404, 0.08838396359960345), (3405, 0.07677304022421816), (3406, 0.0811899964530311), (3407, 0.09255843577304267), (3408, 0.07123087858186299), (3409, 0.08876376576621782), (3410, 0.10581994114568088), (3411, 0.09563591574662644), (3412, 0.07579877158217044), (3413, 0.09680589620213856), (3414, 0.11851870453966684), (3415, 0.08827554896586816), (3416, 0.08025900485929482), (3417, 0.10779591866586251), (3418, 0.07452576306534599), (3419, 0.08729561553518483), (3420, 0.10433920006924813), (3421, 0.08471996708788493), (3422, 0.05134938383727301), (3423, 0.1224149050605089), (3424, 0.0926782463957254), (3425, 0.08918549302406488), (3426, 0.08138794100891142), (3427, 0.09823013839233288), (3428, 0.07095810431904082), (3429, 0.13391239630977853), (3430, 0.06235615038787027), (3431, 0.09701713868485848), (3432, 0.11881396101973822), (3433, 0.06492167113059773), (3434, 0.13120797114517505), (3435, 0.08431913596465918), (3436, 0.0991414149328087), (3437, 0.08923415136174151), (3438, 0.10656648983128197), (3439, 0.12176670170456529), (3440, 0.10078425807477209), (3441, 0.08071233036988731), (3442, 0.1177497628314046), (3443, 0.08426968681248928), (3444, 0.10624000284909757), (3445, 0.15828106090567765), (3446, 0.10996273951724292), (3447, 0.08688993400313856), (3448, 0.11194869160796947), (3449, 0.09172511513178067), (3450, 0.11408335119008092), (3451, 0.06685967294655366), (3452, 0.09664532517891966), (3453, 0.06651604177289373), (3454, 0.08736233764976326), (3455, 0.1151618805188755), (3456, 0.08196576199570453), (3457, 0.09364288166496039), (3458, 0.03948757050119196), (3459, 0.11528372390777611), (3460, 0.13564656738956307), (3461, 0.07524545561868892), (3462, 0.06636761795438303), (3463, 0.09879697704660216), (3464, 0.06649595560794726), (3465, 0.06295746896459083), (3466, 0.07473771853116339), (3467, 0.09360214042338333), (3468, 0.0777951728937952), (3469, 0.09890527263955373), (3470, 0.09102761738564115), (3471, 0.09467491607511777), (3472, 0.1143461768368618), (3473, 0.08416584549027266), (3474, 0.05388132574057816), (3475, 0.08875785484492028), (3476, 0.08852529123444615), (3477, 0.08967245373939815), (3478, 0.06481481730488821), (3479, 0.08605475116138024), (3480, 0.07247985599904143), (3481, 0.0933351164702938), (3482, 0.06667611058230695), (3483, 0.054201670546926914), (3484, 0.0958945721069812), (3485, 0.047154391051200395), (3486, 0.06763039995670153), (3487, 0.08087986908153982), (3488, 0.06270991120790402), (3489, 0.09674273254792094), (3490, 0.07563442773485288), (3491, 0.08126813575302798), (3492, 0.11448917927687036), (3493, 0.033146177854775985), (3494, 0.10333646411162434), (3495, 0.10356204491101548), (3496, 0.08505147618689335), (3497, 0.05094688339295794), (3498, 0.10425714458538948), (3499, 0.0887016978531031), (3500, 0.056393123660871826), (3501, 0.06611793271345688), (3502, 0.035358271874495466), (3503, 0.08276157583879581), (3504, 0.11778129830992343), (3505, 0.09195166257120053), (3506, 0.05441494606074514), (3507, 0.10951477567245382), (3508, 0.05459436454247561), (3509, 0.06111592278741098), (3510, 0.03032974150921511), (3511, 0.08619755329959569), (3512, 0.11585336439971707), (3513, 0.04441902683519839), (3514, 0.19574451523272976), (3515, 0.05026851076381494), (3516, 0.25801301805890764), (3517, 0.10084401287470435), (3518, 0.11028495122288623), (3519, 0.03807026433481805), (3520, 0.07761774105174547), (3521, 0.03947323951751287), (3522, 0.09237241398550936), (3523, 0.04508092782872758), (3524, 0.08220425042457104), (3525, 0.04673019667387535), (3526, 0.10989964331320912), (3527, 0.11455026031224022), (3528, 0.05146959155941592), (3529, 0.06862354068356094), (3530, 0.08352126008547023), (3531, 0.06477322081277402), (3532, 0.10742985365542596), (3533, 0.09721337449955308), (3534, 0.0977176207569872), (3535, 0.09211324934434542), (3536, 0.11445116032489253), (3537, 0.09088753924723043), (3538, 0.1155650782896922), (3539, 0.07990343126111486), (3540, 0.05324200524143545), (3541, 0.13562005744396616), (3542, 0.05931178115237154), (3543, 0.09393059470185001), (3544, 0.07176815987079752), (3545, 0.09959190117522697), (3546, 0.07057029334448624), (3547, 0.059584006562156344), (3548, 0.13887820807863954), (3549, 0.09434554414180794), (3550, 0.06739704994654142), (3551, 0.07063272049241241), (3552, 0.079828999602572), (3553, 0.07573102950894654), (3554, 0.09740639821110984), (3555, 0.0437795736739354), (3556, 0.09172997430922515), (3557, 0.07245639138491249), (3558, 0.09749161773522676), (3559, 0.06835564300427319), (3560, 0.07770265931017778), (3561, 0.09149153630202586), (3562, 0.05958124730530824), (3563, 0.08840205489063814), (3564, 0.06670799049255231), (3565, 0.07780796133099649), (3566, 0.09576420710809694), (3567, 0.11721167817936273), (3568, 0.11190611093772691), (3569, 0.06185125374033211), (3570, 0.10822867852817337), (3571, 0.11193952092755283), (3572, 0.08835022069912392), (3573, 0.08457689071551379), (3574, 0.05882754786963598), (3575, 0.03999443340291662), (3576, 0.08495287274941526), (3577, 0.11022688572185681), (3578, 0.06352852669488465), (3579, 0.12629463835831253), (3580, 0.09931237166245621), (3581, 0.0980351049749882), (3582, 0.05606434605825083), (3583, 0.06969528223613748), (3584, 0.13087181662056913), (3585, 0.049956290398629845), (3586, 0.10595695735093488), (3587, 0.09136064497354966), (3588, 0.07461706726765421), (3589, 0.04964306973091051), (3590, 0.07551652040025429), (3591, 0.06009288114759193), (3592, 0.08491880382034162), (3593, 0.09586753824052087), (3594, 0.1145218921465666), (3595, 0.09494505891558183), (3596, 0.08621364635174672), (3597, 0.09252920913422125), (3598, 0.0759574259689476), (3599, 0.06347574310920531), (3600, 0.1007235307886817), (3601, 0.08999538439381127), (3602, 0.09812426088681137), (3603, 0.1055378345719429), (3604, 0.08837679662799297), (3605, 0.09028556946812977), (3606, 0.10080512107564991), (3607, 0.08123016653223475), (3608, 0.07235492775290597), (3609, 0.06820639932203634), (3610, 0.04452886621676493), (3611, 0.14321979319817127), (3612, 0.05471779643997452), (3613, 0.09125334734821988), (3614, 0.061680079599569754), (3615, 0.10086552587415969), (3616, 0.07561269909451586), (3617, 0.09349557661623824), (3618, 0.14032753930291028), (3619, 0.07633906847449536), (3620, 0.06251591388125194), (3621, 0.0762576400631555), (3622, 0.10161986272122832), (3623, 0.04841983579687752), (3624, 0.09044333812578616), (3625, 0.05247923807146097), (3626, 0.06779804771947111), (3627, 0.08625556544753742), (3628, 0.1295500317794166), (3629, 0.05884736805364708), (3630, 0.04527936386170016), (3631, 0.1271963049707589), (3632, 0.05567875207166785), (3633, 0.12621923265744117), (3634, 0.049239514479322455), (3635, 0.09508961884605957), (3636, 0.06056371168284555), (3637, 0.09434285340465876), (3638, 0.08755043643572805), (3639, 0.1211324370177806), (3640, 0.11548585013771119), (3641, 0.12812248778758464), (3642, 0.07510926655543763), (3643, 0.09267270112407776), (3644, 0.11340056397882832), (3645, 0.04801110263692433), (3646, 0.0850625491916542), (3647, 0.05789619469959208), (3648, 0.06655623076892032), (3649, 0.07793262656525762), (3650, 0.07141933878108633), (3651, 0.11228578476506447), (3652, 0.07518878897526808), (3653, 0.10483200999419823), (3654, 0.1010814306188253), (3655, 0.043094386382073524), (3656, 0.06392197845614238), (3657, 0.06683643474672907), (3658, 0.07456564185508477), (3659, 0.08040504083502464), (3660, 0.052258506663253594), (3661, 0.04696690162122134), (3662, 0.0722889211072988), (3663, 0.07234247777477473), (3664, 0.06963090126980914), (3665, 0.08991917110859916), (3666, 0.07213689466698846), (3667, 0.13002580953563037), (3668, 0.1142868232332418), (3669, 0.03442134102833763), (3670, 0.057710561716676295), (3671, 0.11161840882274901), (3672, 0.08189158862740052), (3673, 0.09551415724575255), (3674, 0.05053976473273703), (3675, 0.12900899467571061), (3676, 0.12740354634289652), (3677, 0.10491470003428002), (3678, 0.05626094913775558), (3679, 0.09113446857997234), (3680, 0.09163024976362519), (3681, 0.08677360761152823), (3682, 0.04642345883993665), (3683, 0.06345207597088687), (3684, 0.07189516550097468), (3685, 0.09075186141056675), (3686, 0.007734104665035228), (3687, 0.08021285427740243), (3688, 0.07555959019008066), (3689, 0.08776592274026677), (3690, 0.06495976097325958), (3691, 0.06059336667528551), (3692, 0.08905451142961957), (3693, 0.08293302311330426), (3694, 0.06277893432771561), (3695, 0.08618507666897017), (3696, 0.09709319835238452), (3697, 0.11401348074324598), (3698, 0.09322271029169579), (3699, 0.0891842464373642), (3700, 0.09099848312928056), (3701, 0.08915449810875622), (3702, 0.037750447216942255), (3703, 0.06634667720524647), (3704, 0.10270880787608042), (3705, 0.08136963996774521), (3706, 0.08466588129666759), (3707, 0.010008290226752124), (3708, 0.05804730999220115), (3709, 0.09435811927594635), (3710, 0.09112057743550363), (3711, 0.06466644660711846), (3712, 0.05007273008643316), (3713, 0.1005156156203822), (3714, 0.0695220971666075), (3715, 0.06755951098520652), (3716, 0.08080873976989303), (3717, 0.10609707752965074), (3718, 0.08101397068059757), (3719, 0.080200603264559), (3720, 0.05020215366232047), (3721, 0.0722286263331963), (3722, 0.14484909566882664), (3723, 0.0895956225946035), (3724, 0.06496588723389585), (3725, 0.09850012307240805), (3726, 0.11400790897471182), (3727, 0.06274477520842636), (3728, 0.10136816820019769), (3729, 0.0413173819837768), (3730, 0.09233688232107375), (3731, 0.1093488676905976), (3732, 0.058978940517692896), (3733, 0.1039182857485887), (3734, 0.08073800914156909), (3735, 0.1123311019071749), (3736, 0.07099408063848767), (3737, 0.09202339148593486), (3738, 0.08826433432130967), (3739, 0.09815359175341005), (3740, 0.0730867204035503), (3741, 0.07738497120507645), (3742, 0.07098162483359376), (3743, 0.10177917842608791), (3744, 0.062312926468808066), (3745, 0.11018155015553452), (3746, 0.13458372316386763), (3747, 0.0651515047623782), (3748, 0.10462116684272102), (3749, 0.09179331524584892), (3750, 0.25504546129902483), (3751, 0.1144565035825892), (3752, 0.06343643276583909), (3753, 0.09190244840133244), (3754, 0.11750026554281419), (3755, 0.08630298307351919), (3756, 0.060784488136410054), (3757, 0.045687793668825916), (3758, 0.10298838286476411), (3759, 0.06712925816887891), (3760, 0.06395212020199889), (3761, 0.07908574397069609), (3762, 0.04097734154939354), (3763, 0.06688921892231646), (3764, 0.13297559636489356), (3765, 0.06037121694077612), (3766, 0.08717512899443533), (3767, 0.09456413262012132), (3768, 0.035842881194815074), (3769, 0.05830787385592287), (3770, 0.10229696087849544), (3771, 0.09934616394129066), (3772, 0.09589399235984135), (3773, 0.08429796455175968), (3774, 0.09276780916817523), (3775, 0.07341174050683112), (3776, 0.11238401296177664), (3777, 0.06322267408941387), (3778, 0.1216711421529312), (3779, 0.06631821200850845), (3780, 0.0658112703318321), (3781, 0.0618206593784348), (3782, 0.07429878954848432), (3783, 0.12474287276883148), (3784, 0.11448729597577599), (3785, 0.08068233600327482), (3786, 0.08786161835252002), (3787, 0.03904525900749099), (3788, 0.052451972055349495), (3789, 0.08691421083923695), (3790, 0.06216534786027498), (3791, 0.05972620471754493), (3792, 0.045874807583778585), (3793, 0.0569535610784631), (3794, 0.07516603144061443), (3795, 0.08507154191558516), (3796, 0.05041650965754803), (3797, 0.08635753349901093), (3798, 0.036698677221235945), (3799, 0.10440888890488706), (3800, 0.09675627854169443), (3801, 0.09896867176845191), (3802, 0.1294077218947523), (3803, 0.04952310207399801), (3804, 0.10434608818130807), (3805, 0.053232676935403615), (3806, 0.08453912603821703), (3807, 0.052283293145027256), (3808, 0.0581289669961442), (3809, 0.06061515522579595), (3810, 0.09055482787048383), (3811, 0.08089510177717983), (3812, 0.09837940059400957), (3813, 0.14517505097210687), (3814, 0.06680882023955936), (3815, 0.10954696485431817), (3816, 0.052309368228529225), (3817, 0.06287435513491649), (3818, 0.06943568814941287), (3819, 0.09419566136789229), (3820, 0.06327710263541939), (3821, 0.07397466934516438), (3822, 0.13122721814836102), (3823, 0.05405626615574092), (3824, 0.05513870057458814), (3825, 0.09636832677910578), (3826, 0.07675978952591378), (3827, 0.08400742725149445), (3828, 0.12160066212169127), (3829, 0.10358635945292033), (3830, 0.07932696028347534), (3831, 0.09152360850583928), (3832, 0.11814656107826119), (3833, 0.08370879560172007), (3834, 0.09553246420189702), (3835, 0.07352852041044433), (3836, 0.06729584146484632), (3837, 0.06429288491382484), (3838, 0.08315434749824177), (3839, 0.11161900757728489), (3840, 0.04110741766497976), (3841, 0.11387112661645919), (3842, 0.0835165990748205), (3843, 0.09781110842525995), (3844, 0.0759966411216232), (3845, 0.08416228477152378), (3846, 0.06350484552054853), (3847, 0.04501169981466198), (3848, 0.11495524345871838), (3849, 0.06949762696646616), (3850, 0.1176882490021189), (3851, 0.08529447220789922), (3852, 0.05151265304113093), (3853, 0.07233235280731463), (3854, 0.09565316621058348), (3855, 0.03697118259704832), (3856, 0.0754997785157627), (3857, 0.0681457446690833), (3858, 0.06682899092578545), (3859, 0.07958384400513223), (3860, 0.06665185052477925), (3861, 0.08219375146239372), (3862, 0.08240219743011479), (3863, 0.05887303754454809), (3864, 0.0807461556211217), (3865, 0.08411839752555184), (3866, 0.11661404135440398), (3867, 0.0917247989615706), (3868, 0.07824170949510886), (3869, 0.10734047635976555), (3870, 0.09918167187349354), (3871, 0.07141725421139888), (3872, 0.07457489300730236), (3873, 0.11799304272460992), (3874, 0.06161621395548574), (3875, 0.05455871739395962), (3876, 0.09558531636731399), (3877, 0.07983757354480839), (3878, 0.09387917761009491), (3879, 0.04708205956902818), (3880, 0.10043802176740013), (3881, 0.08867515453653722), (3882, 0.08876469711387042), (3883, 0.07198055154999365), (3884, 0.10384114655097605), (3885, 0.07587817792983112), (3886, 0.09739509987252812), (3887, 0.12072506882060415), (3888, 0.05621430748931187), (3889, 0.07119182042966335), (3890, 0.07428085857545122), (3891, 0.08913794419427586), (3892, 0.043286080862593515), (3893, 0.10688102188439923), (3894, 0.06679434188703884), (3895, 0.08778994944915343), (3896, 0.11780608613848315), (3897, 0.059730684615909545), (3898, 0.09365247837793032), (3899, 0.1013127890115233), (3900, 0.06058767647887248), (3901, 0.11274172557788802), (3902, 0.05709945806965767), (3903, 0.15177978220422625), (3904, 0.07500264607060124), (3905, 0.06216170470700976), (3906, 0.1125483080426276), (3907, 0.10755520885957362), (3908, 0.07583800294615023), (3909, 0.07149442052878596), (3910, 0.1257195207331447), (3911, 0.043000893497841114), (3912, 0.05832272714063312), (3913, 0.03989191730665572), (3914, 0.17322261998276106), (3915, 0.05997338617084806), (3916, 0.05571917605961631), (3917, 0.0774169987365916), (3918, 0.09162219213078429), (3919, 0.04035368785386947), (3920, 0.09088268870876466), (3921, 0.09271344426352615), (3922, 0.043149114351670986), (3923, 0.08659802906117392), (3924, 0.08588643374607069), (3925, 0.1049770497184271), (3926, 0.08530526698111748), (3927, 0.10604733210843868), (3928, 0.0843249637687087), (3929, 0.06789905068104538), (3930, 0.05457371137353416), (3931, 0.09303680409521205), (3932, 0.06320727404103996), (3933, 0.12181088994710576), (3934, 0.2295670648277323), (3935, 0.06792335191959181), (3936, 0.112498290091427), (3937, 0.09858618689213328), (3938, 0.03340131517930813), (3939, 0.07760885570928737), (3940, 0.11470242036677417), (3941, 0.1021561118945131), (3942, 0.1132870087361404), (3943, 0.08850085305678883), (3944, 0.07609199585157349), (3945, 0.06211757020068907), (3946, 0.13114285915498441), (3947, 0.056743525743181575), (3948, 0.057374049181294025), (3949, 0.0881562102459491), (3950, 0.12225076610292643), (3951, 0.06621003115494944), (3952, 0.13340694937321568), (3953, 0.19464021919496485), (3954, 0.06459393371131608), (3955, 0.09228907624332264), (3956, 0.06814474061156699), (3957, 0.07728267569382861), (3958, 0.09485540420070633), (3959, 0.0757358860428125), (3960, 0.04310179375765898), (3961, 0.06522927899865638), (3962, 0.08476307442994528), (3963, 0.027091599975881907), (3964, 0.07104455930456373), (3965, 0.0926944473861896), (3966, 0.08504151448484842), (3967, 0.041782159595074565), (3968, 0.07492987132173556), (3969, 0.07282664026958205), (3970, 0.045124944606302654), (3971, 0.049839719019837816), (3972, 0.05955863140803141), (3973, 0.0798671007621207), (3974, 0.08083645466591456), (3975, 0.0685958290257558), (3976, 0.043636150619271764), (3977, 0.09267941357821283), (3978, 0.07722476232736505), (3979, 0.12216324197757503), (3980, 0.09035441972955861), (3981, 0.09290370589239254), (3982, 0.052664904015603364), (3983, 0.0763923517718449), (3984, 0.09425247059698898), (3985, 0.08331025339978329), (3986, 0.1379991929198429), (3987, 0.07909490514882175), (3988, 0.0850097277352222), (3989, 0.06699422696375319), (3990, 0.08053645402895207), (3991, 0.10804999791050506), (3992, 0.00553325557852929), (3993, 0.07947749933734577), (3994, 0.0731536654005197), (3995, 0.0744075565812768), (3996, 0.05344634236048453), (3997, 0.1124367248628198), (3998, 0.07073226599476852), (3999, 0.05957717671971389), (4000, 0.09321178020360496), (4001, 0.048228577318626516), (4002, 0.08513284744017113), (4003, 0.10086877281526943), (4004, 0.09902434556079005), (4005, 0.06145346840359406), (4006, 0.09138261811352735), (4007, 0.07134802296442659), (4008, 0.05636072808912108), (4009, 0.06973416579451609), (4010, 0.07163058368653236), (4011, 0.08572577661241294), (4012, 0.12041523819342273), (4013, 0.0671171862123392), (4014, 0.052552794734470984), (4015, 0.11598045375446756), (4016, 0.10751792737878994), (4017, 0.09079839733440528), (4018, 0.05756576261236924), (4019, 0.0898276743280828), (4020, 0.05261279761389084), (4021, 0.05327304322105499), (4022, 0.060501311501300045), (4023, 0.08638615380361589), (4024, 0.09034759107154841), (4025, 0.11232852394473634), (4026, 0.06628367162735531), (4027, 0.05661608643883805), (4028, 0.060605973208383714), (4029, 0.032258218939791534), (4030, 0.07975183672841127), (4031, 0.06295688257610528), (4032, 0.08974725116897547), (4033, 0.11233989683896768), (4034, 0.05637855668512617), (4035, 0.04717185484927315), (4036, 0.07787899956923758), (4037, 0.06775881879497998), (4038, 0.07104967306667566), (4039, 0.10731337004597605), (4040, 0.06934765634326157), (4041, 0.10777613794689087), (4042, 0.07430908252308845), (4043, 0.051278021425926426), (4044, 0.05848402078144516), (4045, 0.07244372954952726), (4046, 0.08376833000968159), (4047, 0.0353884923301304), (4048, 0.045634124442587895), (4049, 0.10029955404819006), (4050, 0.08141207397052155), (4051, 0.06794954312554767), (4052, 0.07689873053590406), (4053, 0.07281837013027781), (4054, 0.05444853607863653), (4055, 0.06337558059113721), (4056, 0.040780703256392783), (4057, 0.04389219719793433), (4058, 0.08395979567318848), (4059, 0.06124869062386039), (4060, 0.05062910264203483), (4061, 0.058921192624339105), (4062, 0.2239904052177406), (4063, 0.06875568850403858), (4064, 0.06919667292938433), (4065, 0.047519246752544), (4066, 0.08776447431989716), (4067, 0.0504198476305088), (4068, 0.08925202675805682), (4069, 0.05489571407626841), (4070, 0.07786955612039634), (4071, 0.12375239501030313), (4072, 0.07199385686976705), (4073, 0.1048950424624598), (4074, 0.08454232015039764), (4075, 0.0796310229063408), (4076, 0.10167147441630642), (4077, 0.13166115542202492), (4078, 0.07677245599131857), (4079, 0.10121971669165411), (4080, 0.0950140116632502), (4081, 0.13367622089443126), (4082, 0.09612320562248623), (4083, 0.1043107806721745), (4084, 0.056143477639827535), (4085, 0.10944701213424991), (4086, 0.026306907969413262), (4087, 0.11290017848726028), (4088, 0.0880418555008396), (4089, 0.08966405455282374), (4090, 0.12081477972534768), (4091, 0.04665241655823797), (4092, 0.0741352210687282), (4093, 0.09879290687642406), (4094, 0.0908735622172957), (4095, 0.1557422993021639), (4096, 0.10099009332492742), (4097, 0.06973482246315064), (4098, 0.10925051574167324), (4099, 0.07590631663996596), (4100, 0.11574636442094402), (4101, 0.06585402406849254), (4102, 0.06480628327404715), (4103, 0.11778750913648024), (4104, 0.10086744081173843), (4105, 0.05222955396244833), (4106, 0.08240648720176726), (4107, 0.08651977602108923), (4108, 0.06737725904934046), (4109, 0.10097115162519987), (4110, 0.09733350238401496), (4111, 0.0739725656759946), (4112, 0.04864602253698867), (4113, 0.09018617040275413), (4114, 0.08485879594043838), (4115, 0.052751075442552586), (4116, 0.04664173315360845), (4117, 0.10248514493071925), (4118, 0.05355034551172176), (4119, 0.1034183208599398), (4120, 0.046228874998021446), (4121, 0.07319258308767067), (4122, 0.032036781031056484), (4123, 0.0879633310126337), (4124, 0.09181699644778019), (4125, 0.05688539092781874), (4126, 0.09312975427365108), (4127, 0.0919686717137875), (4128, 0.08253518196397386), (4129, 0.08173198203637397), (4130, 0.0422254494942742), (4131, 0.05544698570632234), (4132, 0.08882573018130077), (4133, 0.039896375009803454), (4134, 0.06448842253788183), (4135, 0.10250317809276768), (4136, 0.08000492615868046), (4137, 0.06960106696428794), (4138, 0.05075294163144256), (4139, 0.10120960149054056), (4140, 0.05691653205345243), (4141, 0.043049869640713036), (4142, 0.016156292224585003), (4143, 0.1071375256021252), (4144, 0.09762922674898157), (4145, 0.11125401390177822), (4146, 0.05755724216892629), (4147, 0.05401768300428502), (4148, 0.04272947068495548), (4149, 0.0599228885549762), (4150, 0.046043160528306384), (4151, 0.09429996085872867), (4152, 0.0854847418979916), (4153, 0.07613858885244414), (4154, 0.05148025879952671), (4155, 0.12595541428872975), (4156, 0.08064067643177003), (4157, 0.08293583482727523), (4158, 0.048560583126853046), (4159, 0.0833531686549535), (4160, 0.051206929369857046), (4161, 0.06111184077365587), (4162, 0.09841840699536261), (4163, 0.06554508594342585), (4164, 0.09269935623284753), (4165, 0.07864940029890263), (4166, 0.08109285787333709), (4167, 0.10988476042398265), (4168, 0.05864402424358374), (4169, 0.03667829472079605), (4170, 0.09074223768231139), (4171, 0.11161219596037503), (4172, 0.07251950224119406), (4173, 0.13575550894294297), (4174, 0.09049845220890297), (4175, 0.11660527506018792), (4176, 0.10022658016000523), (4177, 0.07748651647907), (4178, 0.08416554176602976), (4179, 0.04490622600669533), (4180, 0.062133150301511515), (4181, 0.04208670567839154), (4182, 0.0951641230346738), (4183, 0.08622027457078771), (4184, 0.038247093464140305), (4185, 0.05446468379901516), (4186, 0.0845873924008781), (4187, 0.07192850733252594), (4188, 0.04116719594941714), (4189, 0.08978111576666026), (4190, 0.08241782697615338), (4191, 0.07158166264793611), (4192, 0.05232761654866265), (4193, 0.10343128612802333), (4194, 0.09931781555557727), (4195, 0.094114095381329), (4196, 0.11054063410547033), (4197, 0.10184603818877175), (4198, 0.052420029649792435), (4199, 0.054464553704853855), (4200, 0.08982981076356922), (4201, 0.09947146484433678), (4202, 0.0667523347520689), (4203, 0.04621486466105849), (4204, 0.08345641470593725), (4205, 0.056172783025332025), (4206, 0.09904012570072171), (4207, 0.08271304101623536), (4208, 0.07669555327649463), (4209, 0.06207269412961888), (4210, 0.04250463668293604), (4211, 0.08360605681170426), (4212, 0.043776029354295115), (4213, 0.09883985125483523), (4214, 0.05101265573564796), (4215, 0.057685120500368656), (4216, 0.08281833755016445), (4217, 0.05831276353568862), (4218, 0.10758408866601499), (4219, 0.0946494819183244), (4220, 0.06920211824018606), (4221, 0.05557219259610749), (4222, 0.06857300492015114), (4223, 0.07320412738754035), (4224, 0.05988960819254065), (4225, 0.11658262464856903), (4226, 0.08777975832482703), (4227, 0.05306067035367819), (4228, 0.10216845070421773), (4229, 0.11335590967042096), (4230, 0.11898259329258448), (4231, 0.14558811086906248), (4232, 0.05057886929537227), (4233, 0.05706217181951723), (4234, 0.08664926014115613), (4235, 0.028064225507901892), (4236, 0.05717513023992644), (4237, 0.07180532150996345), (4238, 0.08386520711091222), (4239, 0.07179173294460998), (4240, 0.07645771060958784), (4241, 0.04595642033467566), (4242, 0.05297854456103387), (4243, 0.04548442547345736), (4244, 0.13863869262572706), (4245, 0.07682137131165441), (4246, 0.08311376805471701), (4247, 0.0911017498754969), (4248, 0.05576434431420801), (4249, 0.08889322110325479), (4250, 0.09984151967970434), (4251, 0.07707740460201618), (4252, 0.03751065393360529), (4253, 0.0645370932327823), (4254, 0.08369455955655797), (4255, 0.06437857133192693), (4256, 0.04937741306885866), (4257, 0.0635308217604235), (4258, 0.0730909226703509), (4259, 0.11688646784334107), (4260, 0.08361007453147704), (4261, 0.06437968981336788), (4262, 0.04949624785420986), (4263, 0.07722648042241582), (4264, 0.109345248196311), (4265, 0.08116355016449443), (4266, 0.06911954836001075), (4267, 0.11233703337164035), (4268, 0.10584166651183186), (4269, 0.06308196101569245), (4270, 0.1015267647504691), (4271, 0.05795858656569819), (4272, 0.12146319250652506), (4273, 0.07135056866674507), (4274, 0.07914576527078832), (4275, 0.06709884446928183), (4276, 0.10996272333565556), (4277, 0.06562563429325233), (4278, 0.037469899329144005), (4279, 0.04123859524731985), (4280, 0.04658046373355682), (4281, 0.11017374669229367), (4282, 0.0668918446630326), (4283, 0.08267203057764436), (4284, 0.12256077585474522), (4285, 0.06011760022848821), (4286, 0.08494847570925124), (4287, 0.087960589057696), (4288, 0.08014780829811849), (4289, 0.05132609607464077), (4290, 0.08672958659411105), (4291, 0.08356937118203683), (4292, 0.10111560790629788), (4293, 0.05479293462362836), (4294, 0.05612973353982014), (4295, 0.08668132955607524), (4296, 0.05337983534495741), (4297, 0.0968835600928106), (4298, 0.06290883104946239), (4299, 0.045553252621812965), (4300, 0.09383443802993172), (4301, 0.06849918172171537), (4302, 0.11150735872238199), (4303, 0.07429586062511422), (4304, 0.038351492612772535), (4305, 0.06251406940468036), (4306, 0.051705996386384206), (4307, 0.11433254045602124), (4308, 0.09639223544256681), (4309, 0.09925977745608673), (4310, 0.10367343820069062), (4311, 0.028779684179034093), (4312, 0.13370330549897977), (4313, 0.04739668809894103), (4314, 0.038435416876856594), (4315, 0.09248180826849883), (4316, 0.057764988235923465), (4317, 0.03855869311818908), (4318, 0.022096890770986314), (4319, 0.07392409688141766), (4320, 0.0823732798472297), (4321, 0.12413488845212968), (4322, 0.05763723333760118), (4323, 0.04842451060065398), (4324, 0.04314163963280191), (4325, 0.06685879636296765), (4326, 0.10739819601187468), (4327, 0.08204502049546224), (4328, 0.07235625891089098), (4329, 0.12701654963060927), (4330, 0.04692423101271225), (4331, 0.10942677118497322), (4332, 0.09390302328699132), (4333, 0.10390256407770948), (4334, 0.054483229015676024), (4335, 0.08898932748565076), (4336, 0.10158276409696416), (4337, 0.09627726216458607), (4338, 0.056309624441367834), (4339, 0.10725988535443597), (4340, 0.08139640383753445), (4341, 0.08328713498666736), (4342, 0.05192147608912411), (4343, 0.06415016505470271), (4344, 0.08178650122615129), (4345, 0.10871778197966955), (4346, 0.1159791635793093), (4347, 0.06731966337193054), (4348, 0.0773033609528832), (4349, 0.13727887807495726), (4350, 0.08222836282440749), (4351, 0.11064128406856964), (4352, 0.0833946843887367), (4353, 0.09325919351918498), (4354, 0.07345016935813894), (4355, 0.11366958140073098), (4356, 0.06255081231708876), (4357, 0.08050714764669965), (4358, 0.08187352371872184), (4359, 0.1296251619655709), (4360, 0.056287203487987984), (4361, 0.05014818622939309), (4362, 0.06257698286189649), (4363, 0.06479238263764553), (4364, 0.07256443906137), (4365, 0.07224599491078548), (4366, 0.0594654132935207), (4367, 0.09268598014384757), (4368, 0.06741598112827764), (4369, 0.05894992546510854), (4370, 0.05504308993721742), (4371, 0.0764450068401166), (4372, 0.09058728565291528), (4373, 0.07716189088506178), (4374, 0.04296972038797918), (4375, 0.055938611633353647), (4376, 0.0623292330301379), (4377, 0.03982554818941311), (4378, 0.10004813397850584), (4379, 0.060626099887551625), (4380, 0.10009307823881701), (4381, 0.07655464006507745), (4382, 0.07584264550924227), (4383, 0.07806660683736998), (4384, 0.06891358378440614), (4385, 0.028611573229822867), (4386, 0.05892150742237466), (4387, 0.04757049704427602), (4388, 0.08665690021350568), (4389, 0.07026536470122473), (4390, 0.07026889814304893), (4391, 0.08544559208843276), (4392, 0.07769327102498569), (4393, 0.06623124762721465), (4394, 0.0681728741992368), (4395, 0.07688158259722168), (4396, 0.05245465216349153), (4397, 0.09731982154554453), (4398, 0.05397911854646277), (4399, 0.06338519298174618), (4400, 0.0396248882299067), (4401, 0.09211160869620541), (4402, 0.08813992687787796), (4403, 0.057679640897858195), (4404, 0.0726303840341408), (4405, 0.04171724194055231), (4406, 0.09032024787751118), (4407, 0.06628352702474558), (4408, 0.1099435613134325), (4409, 0.06260513604749253), (4410, 0.048695220934766366), (4411, 0.16352779056489644), (4412, 0.05682906829334789), (4413, 0.0238267285910138), (4414, 0.055105039190134125), (4415, 0.03523743459169534), (4416, 0.10667073707581097), (4417, 0.06542669379984582), (4418, 0.09611002758325864), (4419, 0.021368654092599172), (4420, 0.05575453033395122), (4421, 0.0496259015188077), (4422, 0.056414850221515614), (4423, 0.07236420713791705), (4424, 0.04462108893260666), (4425, 0.09560394660602436), (4426, 0.023468861066165577), (4427, 0.06609414001717732), (4428, 0.09749674336768235), (4429, 0.05409159261932704), (4430, 0.028483045586600336), (4431, 0.023318015421548988), (4432, 0.08112855196892707), (4433, 0.07916576086301544), (4434, 0.07837399307389535), (4435, 0.04569735269187028), (4436, 0.13079507528916406), (4437, 0.08210871756881655), (4438, 0.05815566095883429), (4439, 0.09648843538109217), (4440, 0.08756219573021443), (4441, 0.09123701475835769), (4442, 0.049464979344268606), (4443, 0.07760017519050967), (4444, 0.05577736632484307), (4445, 0.06910770019596198), (4446, 0.04632415194598745), (4447, 0.06715326671254948), (4448, 0.06474311430383037), (4449, 0.048166857318346426), (4450, 0.06650685427840099), (4451, 0.05811953475259629), (4452, 0.08401737519097377), (4453, 0.09168703424779556), (4454, 0.08246157699262889), (4455, 0.04449570647287152), (4456, 0.06767878007711742), (4457, 0.08278882629622798), (4458, 0.006137663925561008), (4459, 0.05623515385284929), (4460, 0.08138135655957093), (4461, 0.08236142416771908), (4462, 0.060729832717432944), (4463, 0.07162698136333231), (4464, 0.07515040357735271), (4465, 0.279121055491195), (4466, 0.06694468490989819), (4467, 0.0976395367954613), (4468, 0.07999711940250794), (4469, 0.07086183990550278), (4470, 0.07135928455427105), (4471, 0.038351228310661), (4472, 0.10711959776894872), (4473, 0.08403967340323118), (4474, 0.06757726712267394), (4475, 0.058911069619062825), (4476, 0.05941779332991513), (4477, 0.10189458864823076), (4478, 0.07783156078714179), (4479, 0.09706355335031919), (4480, 0.07707131918428517), (4481, 0.07928068457957617), (4482, 0.04976260818836844), (4483, 0.07309950413762173), (4484, 0.08345955049084637), (4485, 0.07680499647477611), (4486, 0.057135076860309525), (4487, 0.07174716571754758), (4488, 0.08486705064696069), (4489, 0.05695818857566988), (4490, 0.07262565293581694), (4491, 0.038154339021913106), (4492, 0.07670199698528898), (4493, 0.03518720219916847), (4494, 0.07748123903320331), (4495, 0.06879531152429909), (4496, 0.09383896437755768), (4497, 0.12263983057162776), (4498, 0.06213845132136371), (4499, 0.07697690656417147), (4500, 0.04925396331610503), (4501, 0.0689484257105006), (4502, 0.05615863483531895), (4503, 0.06889335630134844), (4504, 0.04720821384982659), (4505, 0.07583346607579353), (4506, 0.029618322555133133), (4507, 0.09876014492711237), (4508, 0.09467295911336088), (4509, 0.08377692155200482), (4510, 0.11582152507447414), (4511, 0.08682331383889204), (4512, 0.09728800213223922), (4513, 0.08782782502857356), (4514, 0.07689342987453764), (4515, 0.029075170777364524), (4516, 0.08689680506500251), (4517, 0.1039175660473669), (4518, 0.07035686574189289), (4519, 0.06034418092254693), (4520, 0.04738799443308542), (4521, 0.06421869045154245), (4522, 0.08097708204134056), (4523, 0.05934300321059857), (4524, 0.08154973459616653), (4525, 0.06780284426490857), (4526, 0.04706040355979313), (4527, 0.06507976514652862), (4528, 0.11142219238216225), (4529, 0.09394385405048235), (4530, 0.04594203916315939), (4531, 0.08185349581167163), (4532, 0.08964924380662212), (4533, 0.056928949073607876), (4534, 0.04395851208325252), (4535, 0.1078899431914326), (4536, 0.06103011507557296), (4537, 0.08820289278405569), (4538, 0.06332075216129862), (4539, 0.07745411959390502), (4540, 0.04949621791891997), (4541, 0.039015841627303496), (4542, 0.10294916662267782), (4543, 0.03747812927438911), (4544, 0.03729463487073835), (4545, 0.06956396073813248), (4546, 0.08690325797801382), (4547, 0.04066671637946785), (4548, 0.028450467822806316), (4549, 0.0841803939188272), (4550, 0.04785181279520793), (4551, 0.07434674518515805), (4552, 0.05794721989215024), (4553, 0.06977957063250241), (4554, 0.12233538340012938), (4555, 0.08651525030095467), (4556, 0.05659084697387086), (4557, 0.08130070840235368), (4558, 0.06802386113149254), (4559, 0.044093720413508564), (4560, 0.02689578326435325), (4561, 0.07888733120098508), (4562, 0.07179179739149426), (4563, 0.1020059841385709), (4564, 0.04795218341694791), (4565, 0.10448465748251307), (4566, 0.018722720102469795), (4567, 0.08875192003738003), (4568, 0.0332242402689912), (4569, 0.009744514450440372), (4570, 0.1015349368498755), (4571, 0.03667825184640363), (4572, 0.05123324515603927), (4573, 0.1085128725154151), (4574, 0.05436009343310797), (4575, 0.0813984926394284), (4576, 0.07598912448993063), (4577, 0.057465393473681105), (4578, 0.04499814572903846), (4579, 0.07771510272976326), (4580, 0.03370128023506887), (4581, 0.04070099178442633), (4582, 0.09409599357750838), (4583, 0.06171023417439952), (4584, 0.04536136733480812), (4585, 0.11257224421665832), (4586, 0.07158192296215816), (4587, 0.10673537875224828), (4588, 0.08168546671547668), (4589, 0.07961567888046577), (4590, 0.053578054271790805), (4591, 0.06466822860004619), (4592, 0.10750902345358902), (4593, 0.06131221107165128), (4594, 0.059246177359095424), (4595, 0.09890226303234116), (4596, 0.0813168093865303), (4597, 0.09357948366207071), (4598, 0.05081369717356475), (4599, 0.07690707420281927), (4600, 0.02287380520255992), (4601, 0.06969461749751957), (4602, 0.10136553104900835), (4603, 0.09200401409705332), (4604, 0.0628372716913388), (4605, 0.10226021287717116), (4606, 0.055566519251300996), (4607, 0.06159640948367253), (4608, 0.07951065891227337), (4609, 0.04577091382697091), (4610, 0.08003927720331258), (4611, 0.03150180941621676), (4612, 0.0340683807377766), (4613, 0.07101286203440967), (4614, 0.07119270611440218), (4615, 0.09763628565107955), (4616, 0.02671592391344425), (4617, 0.11318237320584441), (4618, 0.02542336569493716), (4619, 0.05596047723115748), (4620, 0.11091825810797146), (4621, 0.0873258039210991), (4622, 0.040785626336953505), (4623, 0.060916207826427655), (4624, 0.07353074023415894), (4625, 0.03306912957479733), (4626, 0.06401835925644742), (4627, 0.05735753551896277), (4628, 0.036792731934856736), (4629, 0.05616726740734314), (4630, 0.06885034840864085), (4631, 0.09974642138786102), (4632, 0.07462507339800566), (4633, 0.034129452054727255), (4634, 0.037644007022294146), (4635, 0.09892131198820567), (4636, 0.04804774826187623), (4637, 0.09652259484052653), (4638, 0.08873468714413865), (4639, 0.10324208456642775), (4640, 0.07287269528711139), (4641, 0.06553259524964969), (4642, 0.11606200208244562), (4643, 0.06691085408737017), (4644, 0.06291267830632476), (4645, 0.06994419662392434), (4646, 0.039325078261087346), (4647, 0.11035689740593142), (4648, 0.07851910824949718), (4649, 0.08064557330834397), (4650, 0.08972114115137743), (4651, 0.06680024628907898), (4652, 0.045582208221159985), (4653, 0.07137145988342208), (4654, 0.11415626040372132), (4655, 0.07305696170074386), (4656, 0.04142631321531233), (4657, 0.06108212322817554), (4658, 0.08066704582797013), (4659, 0.0481168774328266), (4660, 0.0753365932751599), (4661, 0.18056759213931012), (4662, 0.04626594519629372), (4663, 0.08956137543934423), (4664, 0.07521900201575714), (4665, 0.050091048891050094), (4666, 0.081042184877094), (4667, 0.05322387394259399), (4668, 0.05651009845863176), (4669, 0.08401821912210541), (4670, 0.11793495830180152), (4671, 0.0878641944129945), (4672, 0.08328901480624146), (4673, 0.06003031062124186), (4674, 0.04622747456052289), (4675, 0.09046350094147075), (4676, 0.059487119295546426), (4677, 0.06872688070202439), (4678, 0.07573399363856213), (4679, 0.0725103949292186), (4680, 0.08647194394304905), (4681, 0.04708011066965197), (4682, 0.03717912984179897), (4683, 0.0758984442811551), (4684, 0.09451601860219759), (4685, 0.08552593430674295), (4686, 0.06277990570811304), (4687, 0.07707237280928206), (4688, 0.12178431235108543), (4689, 0.08628356764520775), (4690, 0.04976185555582175), (4691, 0.08462914403285132), (4692, 0.05728144224319395), (4693, 0.10204700539100263), (4694, 0.050523564113768384), (4695, 0.05324852126159205), (4696, 0.060038320070230626), (4697, 0.06764569347844156), (4698, 0.051197264640868816), (4699, 0.03873872305262493), (4700, 0.08397982900590976), (4701, 0.09471515856452545), (4702, 0.04431064596156952), (4703, 0.06205735005462009), (4704, 0.10844205712064092), (4705, 0.03913604482752605), (4706, 0.05631836118506623), (4707, 0.10831250163630247), (4708, 0.05750203405962203), (4709, 0.05517346597977054), (4710, 0.07199467975477175), (4711, 0.10110062751810453), (4712, 0.05235264108634656), (4713, 0.08105385862724801), (4714, 0.03068789435356152), (4715, 0.075665832799117), (4716, 0.06814850318337794), (4717, 0.0744294784178556), (4718, 0.03546543648638549), (4719, 0.06294805803924206), (4720, 0.04300650824654948), (4721, 0.04095391583061439), (4722, 0.08178383008234745), (4723, 0.07909289104801304), (4724, 0.11049863082678317), (4725, 0.036826203846821226), (4726, 0.101511645328351), (4727, 0.07852295309046944), (4728, 0.07211516231482859), (4729, 0.03572724018216177), (4730, 0.058543132636500635), (4731, 0.08039544374117055), (4732, 0.10157689860187691), (4733, 0.08843555510986699), (4734, 0.1330556810408144), (4735, 0.07748802929957638), (4736, 0.09313014635248541), (4737, 0.0354570439090153), (4738, 0.08368669067227391), (4739, 0.06839280548096634), (4740, 0.05768511729281555), (4741, 0.048682329200775254), (4742, 0.059220859484846934), (4743, 0.020759518007499134), (4744, 0.07323466570837849), (4745, 0.08937635848293873), (4746, 0.05849592899374707), (4747, 0.06160214927542343), (4748, 0.06638828872159985), (4749, 0.09236364942617034), (4750, 0.060209814154704056), (4751, 0.03566120874818739), (4752, 0.07381638335568548), (4753, 0.04728956071073472), (4754, 0.060501821334264974), (4755, 0.020280397101987115), (4756, 0.07679318561413653), (4757, 0.03568006387497269), (4758, 0.0800156039232963), (4759, 0.07675104766482219), (4760, 0.05865784611709835), (4761, 0.059436035386630864), (4762, 0.05222916765693223), (4763, 0.050302392548583916), (4764, 0.06729438530838139), (4765, 0.049358181720626185), (4766, 0.04288972230789472), (4767, 0.07701290300342081), (4768, 0.053520220931066974), (4769, 0.06206218453893365), (4770, 0.07158249980853383), (4771, 0.042312421679950606), (4772, 0.1032962686158788), (4773, 0.05933845140335943), (4774, 0.06509962076263993), (4775, 0.04106104875489599), (4776, 0.08765602875392187), (4777, 0.09592668139937705), (4778, 0.0734156960232553), (4779, 0.11233857799838838), (4780, 0.054991285048301475), (4781, 0.06713079016422499), (4782, 0.07641577794415351), (4783, 0.08912205048170505), (4784, 0.07148202406124812), (4785, 0.051912724288047524), (4786, 0.049394449463940046), (4787, 0.04355702531206382), (4788, 0.09594731912355633), (4789, 0.04945783370509365), (4790, 0.05387134546034552), (4791, 0.049465113991951366), (4792, 0.12677038841569557), (4793, 0.0831403989526797), (4794, 0.04311943982478167), (4795, 0.057944028662553604), (4796, 0.10032751825202671), (4797, 0.0427090838501304), (4798, 0.06885390860454468), (4799, 0.044715587847707246), (4800, 0.10342105085486414), (4801, 0.03257619179192465), (4802, 0.04430881223135675)]\n"
          ]
        }
      ]
    },
    {
      "cell_type": "code",
      "source": [
        "len(Recommendation_Score)"
      ],
      "metadata": {
        "colab": {
          "base_uri": "https://localhost:8080/"
        },
        "id": "ANXgReyOmT1L",
        "outputId": "49721e6d-1800-454b-bd06-2d316e17dfb9"
      },
      "execution_count": 35,
      "outputs": [
        {
          "output_type": "execute_result",
          "data": {
            "text/plain": [
              "4803"
            ]
          },
          "metadata": {},
          "execution_count": 35
        }
      ]
    },
    {
      "cell_type": "markdown",
      "source": [
        "#Get All Movies Sort Based on Recommendation Score wrt Favourite Movie"
      ],
      "metadata": {
        "id": "z3vAmQv4mnOi"
      }
    },
    {
      "cell_type": "code",
      "source": [
        "# sorting the movies based on their similarity score\n",
        "Sorted_Similar_Movies = sorted(Recommendation_Score, key = lambda x:x[1], reverse = True)\n",
        "print(Sorted_Similar_Movies)"
      ],
      "metadata": {
        "colab": {
          "base_uri": "https://localhost:8080/"
        },
        "id": "-_rj7pVbnViW",
        "outputId": "2b309aae-9d0a-4cf7-cee5-7a3bb00ee61c"
      },
      "execution_count": 36,
      "outputs": [
        {
          "output_type": "stream",
          "name": "stdout",
          "text": [
            "[(586, 1.0000000000000002), (787, 0.29754973040110827), (4465, 0.279121055491195), (456, 0.27094735729655195), (800, 0.26058514957773476), (3516, 0.25801301805890764), (1818, 0.25596772572833204), (3750, 0.25504546129902483), (2377, 0.2440867922609214), (628, 0.2430458536279938), (680, 0.24083220999605), (2052, 0.23380383667542204), (2942, 0.2336297636360383), (401, 0.23220548751476666), (3934, 0.2295670648277323), (642, 0.22917834735007564), (4062, 0.2239904052177406), (169, 0.21755216119191925), (889, 0.2160236115925417), (2757, 0.21088467238889808), (2233, 0.2106050570836346), (773, 0.20912164176299747), (1459, 0.2090052383496735), (1564, 0.2086481563139028), (571, 0.2068212715672743), (2341, 0.20599869230334827), (2053, 0.20551115199765022), (2522, 0.2048600920996718), (2691, 0.20454960025413904), (360, 0.20261276667942363), (236, 0.2023335507515312), (2860, 0.19980186399701771), (625, 0.1990137346749737), (3514, 0.19574451523272976), (404, 0.19498719634788858), (3953, 0.19464021919496485), (1405, 0.1940190784081881), (2650, 0.19308727359373795), (1094, 0.19122503820068434), (1787, 0.19074567064218828), (156, 0.1906594386516652), (1373, 0.1901527597222369), (1188, 0.1890938196458409), (592, 0.1879642881217377), (579, 0.18298734688113663), (4661, 0.18056759213931012), (246, 0.1793363499458209), (647, 0.17575666721203118), (123, 0.1757012755869049), (2085, 0.17480399309290806), (2986, 0.1733347733783972), (3914, 0.17322261998276106), (2724, 0.1699517292592915), (1159, 0.1696095517047629), (2442, 0.16859366159582198), (2578, 0.16803842616565046), (1106, 0.16779914664209467), (110, 0.16747106980464166), (1748, 0.16702407263510485), (1617, 0.16685298036309457), (2713, 0.16655755204684747), (941, 0.16438024117800237), (1282, 0.1641407401644543), (112, 0.16396021335663544), (2297, 0.16391851934120677), (2829, 0.1638342404954661), (2798, 0.16378763803413593), (4411, 0.16352779056489644), (2016, 0.1625998628285585), (585, 0.16251571114951618), (2428, 0.16230438058250252), (3177, 0.1622396291154189), (1006, 0.1615247208612916), (1852, 0.1611553801780134), (1696, 0.16033845102896135), (2008, 0.16013803242518748), (1672, 0.1600058001224619), (633, 0.15984857507926237), (1523, 0.15964814118461365), (3445, 0.15828106090567765), (599, 0.15798953309398664), (310, 0.15769321978561282), (3236, 0.156990297212563), (329, 0.15620429184238546), (878, 0.15610150536099152), (3143, 0.15600532027639596), (2444, 0.15594975958957022), (4095, 0.1557422993021639), (784, 0.15520217344412482), (2114, 0.15396168141192612), (243, 0.1539143993085406), (1230, 0.15364728004049252), (2671, 0.15360298147641147), (1559, 0.15327836224156527), (3285, 0.15323382466210905), (101, 0.15310645102803075), (1012, 0.1530043420367704), (2550, 0.15280300850543418), (1175, 0.15258220448469767), (855, 0.15228540324187745), (192, 0.15197223671283935), (3903, 0.15177978220422625), (1877, 0.15165338535207168), (985, 0.1514791363041342), (2024, 0.15086697423913398), (2136, 0.15075844629775567), (2386, 0.15071100670872972), (2237, 0.15063565024878803), (1234, 0.1504984386576133), (1790, 0.15044839525582657), (103, 0.15036325886262455), (2585, 0.15012772127871374), (3205, 0.15006066519951913), (617, 0.14979387648372688), (1535, 0.14958603873264056), (3227, 0.14952357482967985), (139, 0.14894709632452893), (127, 0.1483401829379319), (33, 0.14826311356482771), (1702, 0.14812759736809084), (195, 0.14811832209142764), (296, 0.14800764906674319), (2711, 0.14795097614842703), (884, 0.14787484798482012), (728, 0.1478663993205639), (2571, 0.14767625002293974), (1433, 0.1476207058557843), (556, 0.14741556548570114), (2285, 0.1472449164008398), (3310, 0.14717775296465094), (524, 0.14700964620220847), (2537, 0.1468094468889445), (2495, 0.14670083488112262), (1103, 0.14629498723869194), (3191, 0.14619537528746074), (2898, 0.1460321193190886), (2209, 0.1456235551327985), (4231, 0.14558811086906248), (677, 0.14553739874852564), (1826, 0.14520239918695368), (3813, 0.14517505097210687), (3722, 0.14484909566882664), (1133, 0.1448383556064634), (1122, 0.1445041180153438), (2397, 0.14434373612103057), (505, 0.14420517579163608), (2645, 0.14408544199145257), (1825, 0.1440604298262932), (29, 0.1440589992568125), (1080, 0.14382029344385944), (138, 0.14364694793705787), (3197, 0.14362289554561436), (76, 0.14354985107742688), (1460, 0.14343812668619152), (673, 0.14332271137730399), (3611, 0.14321979319817127), (322, 0.14313342489419084), (759, 0.14307935211859954), (2827, 0.142990800792278), (2807, 0.1428179842729796), (2217, 0.1426535430118302), (1945, 0.1425186742931362), (125, 0.14245162458966928), (53, 0.14226029109757796), (95, 0.14212515217520677), (969, 0.14211089921929165), (1847, 0.1420333571686484), (2784, 0.14195554806208868), (1439, 0.1417802962230042), (1510, 0.14162172125461397), (212, 0.14145554594093443), (1590, 0.1413099952516907), (1079, 0.1410492523685903), (215, 0.14097006470947931), (3068, 0.1409421499705023), (14, 0.1408412196300203), (160, 0.14074179170399928), (3287, 0.1405620124462952), (82, 0.14053133257789807), (3618, 0.14032753930291028), (634, 0.14029294418810828), (196, 0.14027022774839318), (0, 0.14008181130687314), (1446, 0.1399402578317179), (1707, 0.13983568819362382), (180, 0.13983046854226167), (1461, 0.13962394348236232), (551, 0.1394918524054342), (2296, 0.13934430903656533), (1753, 0.13927684091038575), (1294, 0.13925818296982254), (3548, 0.13887820807863954), (4244, 0.13863869262572706), (1027, 0.13848453804602048), (1922, 0.13845164205917215), (455, 0.13832779457579106), (396, 0.13829963584454222), (3986, 0.1379991929198429), (2790, 0.13797207092236977), (988, 0.13793944356557983), (425, 0.13783144261813948), (46, 0.1376609701065778), (3357, 0.1376028552841839), (106, 0.13759016073419406), (2156, 0.13755932758352463), (4349, 0.13727887807495726), (2727, 0.13726468206726303), (1694, 0.1371827054951939), (200, 0.13713258128856162), (813, 0.13709858232085761), (316, 0.13708112866830602), (1077, 0.13699105944575746), (370, 0.1369069156641817), (454, 0.13682121365789307), (2241, 0.13610829032568), (394, 0.13608933470034273), (2479, 0.135785290639515), (4173, 0.13575550894294297), (1758, 0.1357264149268956), (3460, 0.13564656738956307), (3541, 0.13562005744396616), (2291, 0.13554749076113579), (1358, 0.13538756449682565), (1776, 0.13517104264961005), (2561, 0.13512110709506367), (1290, 0.13500656615505985), (234, 0.13487779860769497), (834, 0.13483816372873594), (380, 0.1347419069383004), (621, 0.13471040484163513), (3746, 0.13458372316386763), (870, 0.13447267005210925), (188, 0.13438894036788573), (26, 0.13438759190853367), (2881, 0.1343825543101384), (770, 0.13426210010623219), (1200, 0.13396379716983356), (2368, 0.13392717356013267), (3429, 0.13391239630977853), (421, 0.13382177647766683), (4312, 0.13370330549897977), (4081, 0.13367622089443126), (2912, 0.13365785456773363), (267, 0.1335908043654188), (1761, 0.1334911336472268), (3952, 0.13340694937321568), (2894, 0.1333587715288258), (769, 0.13330988609665326), (1328, 0.13330127685971782), (2961, 0.13319734537361883), (687, 0.13307405802131025), (4734, 0.1330556810408144), (1019, 0.13303907568084836), (3764, 0.13297559636489356), (27, 0.13296356220961822), (536, 0.13282893387993885), (119, 0.13263565415429804), (65, 0.13262402811443078), (2510, 0.1325510771482927), (154, 0.13254599278982465), (166, 0.13250288272852523), (415, 0.13248548872828966), (2294, 0.13237102040815885), (64, 0.13219745382758874), (1749, 0.13212017345011237), (19, 0.13202012942461885), (320, 0.1319400696825805), (2600, 0.13175908178188825), (1468, 0.13175246363672774), (4077, 0.13166115542202492), (2536, 0.1316432919890063), (582, 0.13163239577709146), (768, 0.13157356997342262), (2121, 0.13151351597347755), (1915, 0.13149813519685122), (694, 0.13148991268152593), (291, 0.13147348903465483), (1, 0.1313713092631498), (2686, 0.1312966279385839), (116, 0.13129496324587953), (3822, 0.13122721814836102), (3434, 0.13120797114517505), (304, 0.13117490917157498), (698, 0.1311678890114454), (2543, 0.13115284473349922), (3946, 0.13114285915498441), (108, 0.1311115317419986), (1958, 0.13110352574192435), (2336, 0.13109356592783517), (232, 0.13104647261893232), (342, 0.13090358405584224), (3584, 0.13087181662056913), (2006, 0.1308655240681079), (4436, 0.13079507528916406), (1440, 0.13070315890262454), (167, 0.1305850616990476), (501, 0.13058000018832058), (2123, 0.13050088910428329), (2240, 0.13047730232220195), (854, 0.13043316771006627), (821, 0.13038426593055086), (261, 0.1303370352827758), (2936, 0.13033060629530793), (2067, 0.13031291088384417), (16, 0.13025243801006536), (2675, 0.13020639933224123), (420, 0.13019260941366215), (1633, 0.1300401257504639), (3667, 0.13002580953563037), (15, 0.12996563156545396), (2941, 0.12995565991245023), (446, 0.1298401609645158), (1039, 0.12973282461851723), (2155, 0.12967704923393003), (4359, 0.1296251619655709), (3628, 0.1295500317794166), (478, 0.1294949284386038), (3802, 0.1294077218947523), (451, 0.12939014472560428), (288, 0.12922618830736432), (2799, 0.12920927346170227), (2389, 0.12918835487769523), (1044, 0.12915399396981717), (3088, 0.1290380651054474), (1529, 0.12901343662292106), (3675, 0.12900899467571061), (2203, 0.12889502306724837), (150, 0.128882467818449), (3148, 0.1288326308196921), (952, 0.12874144883049346), (213, 0.1287163877277298), (531, 0.12869597463746907), (1953, 0.12863255284982297), (1861, 0.12857624659305106), (107, 0.12852864540994602), (708, 0.12851178947405828), (553, 0.12837815846384248), (3641, 0.12812248778758464), (176, 0.12803205203571474), (2348, 0.12793275548015043), (3180, 0.1279273295978891), (3311, 0.12789462065490131), (2163, 0.12788711643535378), (594, 0.12786765387937546), (2278, 0.12786360003195477), (442, 0.12780976951048068), (3379, 0.12780433073770456), (230, 0.12771607661826764), (279, 0.12760237680535438), (1341, 0.12759027548011037), (2529, 0.1275793066417955), (1844, 0.12747911856012184), (3676, 0.12740354634289652), (1452, 0.12740168941700142), (1286, 0.12734927906996196), (1178, 0.127326715766558), (3349, 0.12720551979613595), (3631, 0.1271963049707589), (1284, 0.12713992760775328), (59, 0.12713744642391867), (1697, 0.12709475353801086), (4329, 0.12701654963060927), (861, 0.12701229907268935), (2973, 0.12700806607707027), (97, 0.1269374513381132), (183, 0.12691425749429913), (1221, 0.1267985983103569), (4792, 0.12677038841569557), (801, 0.12674690155067755), (2177, 0.1267266401524373), (1586, 0.12667908777857712), (3006, 0.12666579707781264), (2914, 0.12663498079121296), (2610, 0.1265581334912831), (2250, 0.12650573723194916), (702, 0.12650554535594802), (1874, 0.12643503819153046), (386, 0.12638977603447277), (539, 0.12634161044607434), (3579, 0.12629463835831253), (2268, 0.12626783451564846), (3633, 0.12621923265744117), (812, 0.12619574248044546), (1472, 0.12618970711987718), (785, 0.12604983435642714), (1842, 0.12596073652168882), (4155, 0.12595541428872975), (165, 0.12593450959008523), (440, 0.12589770732494376), (3048, 0.12583114425721587), (1181, 0.12578794503669188), (3910, 0.1257195207331447), (782, 0.12571133234035747), (2433, 0.1256355026059347), (4, 0.12561371973553745), (1666, 0.12552969179550347), (1635, 0.1255226117103428), (1100, 0.12542897346836843), (3313, 0.12542241219899758), (287, 0.1253778425848848), (1988, 0.12525083866349224), (1068, 0.1251965886335049), (2678, 0.12518802962942135), (2824, 0.1251678504708411), (2462, 0.1251602013213375), (274, 0.1251443654348018), (1760, 0.12514389402000767), (305, 0.12512851566382285), (666, 0.12509246255061196), (300, 0.12508455476496055), (85, 0.12495850073081338), (1129, 0.12489275525632652), (741, 0.12482875061950063), (1451, 0.12476053920839413), (3783, 0.12474287276883148), (1662, 0.12465348722038772), (2879, 0.12463272916810084), (3352, 0.12461802130520491), (1649, 0.1246094368925167), (424, 0.12457424904355367), (979, 0.12455501788224708), (657, 0.1244977171783108), (1158, 0.12447502919389788), (2127, 0.124462175169126), (281, 0.12438065816871637), (1456, 0.12437634280011002), (3370, 0.12431820027460723), (3192, 0.12427258220046862), (43, 0.12422348993247162), (1425, 0.12421241413243302), (3136, 0.1241625926272718), (31, 0.1241440848709103), (4321, 0.12413488845212968), (1318, 0.12412638826924119), (1374, 0.12411610098659609), (1526, 0.12396256977688995), (1553, 0.12393485002713549), (47, 0.12392729100361231), (2683, 0.1238779200054104), (290, 0.12385973107474266), (1851, 0.12384481644760963), (163, 0.1238306719885667), (618, 0.12377842406330196), (4071, 0.12375239501030313), (3082, 0.12375038132696546), (2638, 0.12369710346651763), (2030, 0.12364403289904113), (286, 0.12357372035808221), (635, 0.1235388323476602), (1923, 0.12350795313205465), (2181, 0.12340754218482107), (2752, 0.12339749399985163), (944, 0.12318333080378298), (1500, 0.12315148019496193), (432, 0.12310835221819406), (2151, 0.1230080014318652), (3107, 0.12300028388356293), (3339, 0.12291830627192928), (254, 0.12289984247243742), (2069, 0.12284093444065032), (2796, 0.12280081319364408), (190, 0.12265001987472095), (4497, 0.12263983057162776), (2169, 0.12263675967615004), (144, 0.12258824443085034), (1095, 0.12256289903857784), (4284, 0.12256077585474522), (3351, 0.12253485040326881), (1888, 0.12248314608744729), (3113, 0.12247458059398561), (149, 0.12242553768726715), (3423, 0.1224149050605089), (1991, 0.12240134455263374), (1052, 0.12239106963399278), (4554, 0.12233538340012938), (480, 0.1223038676379665), (3950, 0.12225076610292643), (947, 0.12223405563070039), (3979, 0.12216324197757503), (2897, 0.12213181416867298), (1323, 0.12209214132680464), (809, 0.12207114320940696), (990, 0.12193015643968255), (98, 0.12191455913193701), (3189, 0.12185314854754953), (48, 0.1218428206017273), (3933, 0.12181088994710576), (795, 0.12180190991081978), (4688, 0.12178431235108543), (3439, 0.12176670170456529), (3216, 0.12175560190815835), (1902, 0.12170622241346336), (3778, 0.1216711421529312), (369, 0.12163585383100725), (3828, 0.12160066212169127), (1170, 0.1214966829662238), (1864, 0.12149003863584919), (872, 0.12147559192879079), (355, 0.12146661352325877), (4272, 0.12146319250652506), (172, 0.1214338703978495), (2134, 0.12134977534433092), (1492, 0.12127353215374945), (2944, 0.12124906288967338), (3, 0.12123130309790606), (240, 0.12121018195279863), (1426, 0.12118158179989501), (1568, 0.12118120358956226), (1387, 0.12115256081590178), (3639, 0.1211324370177806), (934, 0.12107753270213453), (1822, 0.12107197221171412), (1083, 0.1210660029164772), (2109, 0.12106443300322689), (17, 0.12098183696974689), (1061, 0.12095657229741462), (419, 0.12093032194862494), (2412, 0.12085466770205068), (2147, 0.12084421493355371), (853, 0.12082387138093113), (4090, 0.12081477972534768), (765, 0.12078787359377158), (1048, 0.12078211727674873), (606, 0.12075073397142323), (3887, 0.12072506882060415), (2826, 0.12067556331476385), (285, 0.12059937912649565), (762, 0.12055101341040697), (1522, 0.12054463006225065), (122, 0.12050904723754013), (2192, 0.12050144344466744), (186, 0.12042535179170566), (262, 0.12042294291780993), (4012, 0.12041523819342273), (610, 0.1204042503244076), (1831, 0.12037406733859095), (317, 0.12023604044589793), (607, 0.12013104540983255), (2076, 0.12011158567088474), (3290, 0.12009533860962224), (3239, 0.12007785941968648), (783, 0.12002400949796953), (2609, 0.12001265462752023), (1545, 0.12000452938104894), (1141, 0.11990889936078386), (2145, 0.11987642913535801), (1516, 0.1197705226195), (672, 0.11967041666087289), (2245, 0.11959707501717365), (1512, 0.11956375340229489), (1892, 0.11954830008304808), (807, 0.11953982987675699), (1176, 0.11946398839999028), (2461, 0.11936060004572437), (2380, 0.11933999915204002), (2642, 0.11929348653845298), (1136, 0.11928997951288527), (2089, 0.11928681413141293), (2880, 0.11927363212482515), (862, 0.11922155263684113), (3305, 0.1192152572480723), (3158, 0.11919494539574224), (354, 0.11913877241678775), (2920, 0.11912862485751888), (2378, 0.11911930076322656), (1704, 0.1190977200875908), (1096, 0.1190794984317104), (4230, 0.11898259329258448), (1263, 0.11890976647524454), (1713, 0.1188413160146007), (3432, 0.11881396101973822), (1917, 0.11876562405947869), (1110, 0.11875724634446065), (972, 0.11873433106053671), (2775, 0.11868286032258156), (332, 0.11864019330591583), (2280, 0.11853823930367702), (3414, 0.11851870453966684), (2493, 0.11850699526012519), (2782, 0.1185024944313227), (2910, 0.11843900831379661), (542, 0.11841509247368738), (2403, 0.11839911971381283), (1271, 0.11839470822227266), (1759, 0.11832971979867178), (145, 0.11827351422820657), (1036, 0.11827071932695567), (402, 0.11821481498344544), (1827, 0.11820367044205382), (253, 0.11819797647928885), (3832, 0.11814656107826119), (54, 0.11813426542752356), (220, 0.11812303976918802), (387, 0.11805625834084077), (932, 0.11801521395333042), (2515, 0.11799988353770176), (3873, 0.11799304272460992), (1406, 0.11797180495318296), (1525, 0.11795744096130391), (4670, 0.11793495830180152), (3178, 0.1179266386200507), (2968, 0.11790004800192762), (2284, 0.1178679645858625), (133, 0.11784095278739737), (1390, 0.1178223724530058), (3896, 0.11780608613848315), (2819, 0.11779313768400274), (4103, 0.11778750913648024), (3504, 0.11778129830992343), (2640, 0.11777444832620633), (3442, 0.1177497628314046), (3850, 0.1176882490021189), (1960, 0.11767947111268906), (3251, 0.11763138887300183), (1112, 0.11760441436968976), (129, 0.1175926666229932), (263, 0.11756725547663067), (1959, 0.11752179904897643), (3754, 0.11750026554281419), (2044, 0.11748260404041541), (260, 0.1174703685085557), (109, 0.11746936000134771), (3011, 0.11744960758214368), (390, 0.11733097820965958), (940, 0.11732450100956641), (3567, 0.11721167817936273), (900, 0.11720841443221637), (2680, 0.11718737390223237), (3303, 0.11714480633179784), (2517, 0.1171194323146402), (3160, 0.11702455038020702), (1275, 0.11693644998937694), (1101, 0.11690337952106014), (4259, 0.11688646784334107), (3252, 0.11682922859457608), (1869, 0.11680346522540126), (330, 0.11665445096566383), (3866, 0.11661404135440398), (4175, 0.11660527506018792), (2884, 0.11659037387547087), (4225, 0.11658262464856903), (2365, 0.11653882825995884), (713, 0.11653276815421504), (92, 0.11648782880649165), (491, 0.11648229482465769), (2254, 0.1164543178165567), (722, 0.11640296663067017), (1056, 0.11639489948804979), (459, 0.11636967100261915), (2753, 0.11629687341777666), (510, 0.1162566918613914), (35, 0.1162556770469299), (2235, 0.11625474553408006), (113, 0.11625128339953747), (2729, 0.11622884863943696), (566, 0.11622734098368584), (2972, 0.11614536124599234), (3134, 0.11614162305043217), (2314, 0.11613117171310741), (4642, 0.11606200208244562), (2613, 0.11605731585029141), (168, 0.1160399145054235), (4015, 0.11598045375446756), (4346, 0.1159791635793093), (557, 0.11585961398905556), (1165, 0.11585791574922183), (3512, 0.11585336439971707), (238, 0.11584967427685468), (4510, 0.11582152507447414), (2820, 0.11580932709033241), (32, 0.11580019481268383), (4100, 0.11574636442094402), (1800, 0.11572427460834442), (877, 0.11572218019124822), (645, 0.11570746326717325), (3336, 0.11562369130786061), (1098, 0.11562310333450936), (3538, 0.1155650782896922), (3640, 0.11548585013771119), (1596, 0.11547745123850858), (885, 0.11546579650147897), (3033, 0.11543496802910053), (1490, 0.11541536704896649), (1594, 0.11541113178911014), (439, 0.11539716044227408), (731, 0.11538273424318495), (740, 0.1153801430176409), (844, 0.11537236665219303), (2551, 0.11536678954270992), (245, 0.1153597566038516), (104, 0.11531254604852308), (469, 0.11529304377525841), (3459, 0.11528372390777611), (3018, 0.11526748445928112), (1875, 0.11516999181594254), (3455, 0.1151618805188755), (755, 0.11512597433716978), (3156, 0.115110656510618), (2801, 0.11508208842976628), (115, 0.11506694894081551), (45, 0.11502184342620374), (2178, 0.1150051553776496), (1199, 0.1149644851188205), (3848, 0.11495524345871838), (2781, 0.11491873770149161), (1573, 0.11489170089209216), (3074, 0.11488937448893859), (1360, 0.11481191191187141), (2042, 0.11477561527075142), (1967, 0.11475840172872365), (3940, 0.11470242036677417), (1795, 0.11468764295587273), (1465, 0.11459469710752654), (2409, 0.1145729867591926), (3527, 0.11455026031224022), (3594, 0.1145218921465666), (2876, 0.11451269755990608), (3492, 0.11448917927687036), (3784, 0.11448729597577599), (576, 0.11447764109104214), (3751, 0.1144565035825892), (3536, 0.11445116032489253), (338, 0.11444540923315162), (2157, 0.11440679255090203), (805, 0.1143973593370251), (3472, 0.1143461768368618), (4307, 0.11433254045602124), (3668, 0.1142868232332418), (983, 0.11427453137490395), (849, 0.11423205428760108), (596, 0.11422804631285167), (1070, 0.11418225684614575), (911, 0.11416650393964439), (4654, 0.11415626040372132), (568, 0.11412450667663837), (654, 0.11408497279291571), (3450, 0.11408335119008092), (3260, 0.1140747142495323), (3697, 0.11401348074324598), (3726, 0.11400790897471182), (3345, 0.1139839472079319), (3014, 0.11390987876842353), (2327, 0.11389785577650983), (2776, 0.11389122624207612), (2701, 0.11387410185826032), (3841, 0.11387112661645919), (1518, 0.11383309355987595), (2765, 0.11383304554959812), (1005, 0.11380411105461245), (2958, 0.11378303380196411), (2116, 0.11375008970903919), (1507, 0.11371313745467332), (191, 0.11368316500744521), (4355, 0.11366958140073098), (2283, 0.11364972599020126), (589, 0.1136306687133179), (2087, 0.11360140068982208), (2553, 0.1135440093731834), (3378, 0.11353089562915072), (1762, 0.11348602493458437), (819, 0.11345121278375457), (945, 0.11343817641982654), (1155, 0.11342399109508124), (1291, 0.11340271180079686), (3644, 0.11340056397882832), (684, 0.11337910265532745), (4229, 0.11335590967042096), (197, 0.11332773359752908), (799, 0.11332232248914917), (3942, 0.1132870087361404), (2149, 0.11327760821234444), (363, 0.11327074585274625), (2013, 0.1132697269944329), (1034, 0.11323273602576121), (3162, 0.11321837883473827), (1695, 0.1131993173668026), (4617, 0.11318237320584441), (10, 0.11315666704663138), (1302, 0.11315411828194209), (1706, 0.1131435846854695), (2808, 0.1131077274260242), (2853, 0.11309028524806515), (121, 0.1130878903990972), (2815, 0.11308007058472726), (820, 0.1130651988518284), (2514, 0.11302004895059634), (528, 0.11296959802879801), (1239, 0.11295249398311588), (1322, 0.11293669556744902), (1533, 0.11291489522769814), (626, 0.11290487617002114), (3258, 0.1129040438237458), (4087, 0.11290017848726028), (3024, 0.11284483009733963), (2858, 0.11280723408633765), (823, 0.11279064244098262), (1577, 0.11278597328821371), (956, 0.11276463312771742), (3901, 0.11274172557788802), (201, 0.11272966984730898), (4585, 0.11257224421665832), (3152, 0.11254900695708392), (3906, 0.1125483080426276), (131, 0.1125457708210147), (199, 0.11254546560323771), (2587, 0.112511354515449), (3936, 0.112498290091427), (2981, 0.11246095540390114), (3997, 0.1124367248628198), (1432, 0.1124265730767897), (3776, 0.11238401296177664), (738, 0.1123554402370418), (4033, 0.11233989683896768), (4779, 0.11233857799838838), (4267, 0.11233703337164035), (3735, 0.1123311019071749), (431, 0.11233071917378487), (4025, 0.11232852394473634), (569, 0.11231999742291345), (3651, 0.11228578476506447), (3343, 0.11226678460186379), (852, 0.11223422357598517), (1669, 0.11222768022274458), (2358, 0.11222360142519326), (1803, 0.112205056708777), (2200, 0.1121768218091536), (922, 0.11216283405548826), (627, 0.11214071505953234), (365, 0.1121406178066138), (151, 0.11211615635542291), (1250, 0.11208425270479182), (1156, 0.11205962921067765), (174, 0.1120171784523694), (265, 0.1119999449943506), (1152, 0.11197299633211716), (1352, 0.11196863784864028), (893, 0.11195834631664403), (3448, 0.11194869160796947), (3571, 0.11193952092755283), (517, 0.11192419098570058), (3568, 0.11190611093772691), (2926, 0.11189930758420663), (426, 0.11185011367120938), (2760, 0.1116360454285912), (3839, 0.11161900757728489), (3671, 0.11161840882274901), (4171, 0.11161219596037503), (3368, 0.11158263683170463), (746, 0.11156710428389063), (794, 0.11156471446303698), (573, 0.11154953650258934), (3062, 0.11153557101021361), (1109, 0.11153313374768406), (204, 0.11151695870246539), (4302, 0.11150735872238199), (2366, 0.11145610685831554), (2465, 0.11145408845654793), (4528, 0.11142219238216225), (231, 0.11142197373284429), (3138, 0.11130695636887301), (1285, 0.11126011613923242), (1029, 0.11125826907599534), (4145, 0.11125401390177822), (1382, 0.11124670620355878), (2923, 0.11118758749048413), (63, 0.11117039589355339), (301, 0.11113688597569818), (1145, 0.11112670553790273), (78, 0.11110821136975083), (2015, 0.1110913351272212), (1205, 0.11101612954986678), (2022, 0.11100760325601902), (1283, 0.11099973968647367), (1377, 0.11099515308339059), (1905, 0.11098204857728862), (2260, 0.1109740381012031), (1366, 0.11097328252194619), (2196, 0.11096362051338667), (1652, 0.11093915960021247), (2354, 0.11093006396384089), (4620, 0.11091825810797146), (587, 0.11089460336592892), (12, 0.11089451459723118), (2454, 0.11084823663320761), (1968, 0.1108230521316157), (2029, 0.11078670163252599), (790, 0.11078352061304712), (1757, 0.11071777713551464), (1196, 0.11066986356796094), (2541, 0.11064565623371445), (4351, 0.11064128406856964), (1078, 0.1106355785168542), (843, 0.11055320450836402), (696, 0.11055318569151586), (4196, 0.11054063410547033), (750, 0.11051513792889485), (4724, 0.11049863082678317), (282, 0.1104925814023909), (2929, 0.11047685054846738), (3098, 0.11044849407143363), (1023, 0.11043296503956768), (3361, 0.11040942972069251), (519, 0.11039135573435145), (4647, 0.11035689740593142), (181, 0.11031065657687558), (2104, 0.11029252018051701), (3518, 0.11028495122288623), (449, 0.11025304391651901), (2581, 0.11025124777435197), (3246, 0.1102499737416795), (3577, 0.11022688572185681), (2516, 0.11021930111232746), (2298, 0.11018923109847588), (3745, 0.11018155015553452), (4281, 0.11017374669229367), (2907, 0.11017151343521549), (1995, 0.1101570849251557), (953, 0.1101280505156867), (876, 0.11011256358147661), (2422, 0.11010279233683677), (591, 0.11007343784726689), (1769, 0.11006427514582705), (1957, 0.1100521242665174), (3446, 0.10996273951724292), (4276, 0.10996272333565556), (4408, 0.1099435613134325), (409, 0.10993397808135892), (1556, 0.10992131950594523), (41, 0.10992100381098706), (3093, 0.1099205893111416), (583, 0.10990505359289522), (3526, 0.10989964331320912), (1449, 0.10988717205376995), (4167, 0.10988476042398265), (55, 0.10987562461415565), (917, 0.10980946473900138), (526, 0.10974178251212006), (1972, 0.10972029693144673), (2530, 0.10970546073893912), (270, 0.10968912503994144), (942, 0.10966451379252257), (2043, 0.10965046295324445), (2568, 0.10963754471785683), (170, 0.10962858510967376), (20, 0.10959617211162496), (2503, 0.1095916321522329), (3815, 0.10954696485431817), (3507, 0.10951477567245382), (2381, 0.10948560328979018), (4085, 0.10944701213424991), (4331, 0.10942677118497322), (1867, 0.10940629141316334), (3731, 0.1093488676905976), (4264, 0.109345248196311), (931, 0.10932228195115022), (124, 0.10930431819507959), (4098, 0.10925051574167324), (1410, 0.10924398727624214), (2014, 0.1092051147952274), (3057, 0.10919471608956297), (1384, 0.10916681592640064), (7, 0.1091562720299395), (408, 0.10911541593195914), (1342, 0.10911222597282018), (1563, 0.10905130837503697), (312, 0.10903166252706697), (3169, 0.10901106808658965), (2991, 0.10899732331663146), (648, 0.10899288239098102), (1567, 0.10898425236290263), (353, 0.10898180626757885), (1554, 0.10897681353977608), (2248, 0.10893242954299218), (2712, 0.10889882080615255), (2328, 0.10889151471452671), (1499, 0.10880095520857946), (3350, 0.1087851293865317), (737, 0.1087438342810877), (4345, 0.10871778197966955), (955, 0.10868487438594332), (117, 0.10865486941029885), (3139, 0.10862041360140146), (2211, 0.10860195118349332), (2902, 0.10859453967553269), (1102, 0.10853114571143063), (4573, 0.1085128725154151), (382, 0.10850528920778027), (5, 0.10846477946820583), (1127, 0.10845867451199152), (2306, 0.1084468221770466), (4704, 0.10844205712064092), (1579, 0.10843603809212007), (2180, 0.10841943223192763), (3309, 0.10840945897151699), (2041, 0.10840750355330855), (229, 0.10836332058932037), (4707, 0.10831250163630247), (52, 0.10829740149097132), (391, 0.10823379217713948), (1941, 0.10823005267159566), (3570, 0.10822867852817337), (778, 0.10820505752715587), (622, 0.10806354706971824), (3991, 0.10804999791050506), (1678, 0.10802061086026675), (695, 0.1079151305150253), (1296, 0.10790128231334123), (4535, 0.1078899431914326), (2625, 0.10788655269072106), (242, 0.10786976721724867), (961, 0.10785066608442201), (1407, 0.10782246142420256), (3328, 0.10781713394874119), (1026, 0.10780615240510495), (3417, 0.10779591866586251), (1118, 0.10779368480805136), (2736, 0.10778596013199833), (4041, 0.10777613794689087), (488, 0.1077195971924973), (88, 0.10766870920001143), (2533, 0.10765632502902461), (4218, 0.10758408866601499), (417, 0.10756557406448691), (3907, 0.10755520885957362), (385, 0.1075196596691268), (4016, 0.10751792737878994), (4592, 0.10750902345358902), (1120, 0.10750394071108216), (3211, 0.10749054479775487), (1086, 0.10743426128738731), (3532, 0.10742985365542596), (4326, 0.10739819601187468), (3072, 0.1073975547812651), (971, 0.10735114063197967), (3296, 0.10734383282093277), (3869, 0.10734047635976555), (2490, 0.10732961546906442), (4039, 0.10731337004597605), (806, 0.10731024587085086), (4339, 0.10725988535443597), (2160, 0.10722583775376623), (1984, 0.10721383268647681), (2072, 0.10720130088206847), (153, 0.1071958219326801), (1359, 0.1071880514729919), (1399, 0.1071771544378764), (4143, 0.1071375256021252), (4472, 0.10711959776894872), (2047, 0.10710217790269458), (2540, 0.10704765389640411), (453, 0.1070252450980067), (2308, 0.10701935182920418), (3165, 0.10699987504089381), (1413, 0.10697338292265965), (2834, 0.1069588894182388), (1090, 0.10690282126234574), (3893, 0.10688102188439923), (2320, 0.10685014904063769), (2501, 0.10684707381798941), (3297, 0.10681540771605927), (516, 0.10680689048640163), (3130, 0.10678322294401446), (1821, 0.10677724144966985), (3204, 0.10675086587028926), (4587, 0.10673537875224828), (1335, 0.1067267120897085), (4416, 0.10667073707581097), (2398, 0.10665317658444891), (660, 0.10659275230231037), (929, 0.10658856766319215), (3438, 0.10656648983128197), (1683, 0.10656206602569304), (225, 0.10654303808552243), (269, 0.10648585426843324), (860, 0.10645374109024017), (1088, 0.10643730801343786), (42, 0.10641065679073594), (1974, 0.10639137694099017), (1443, 0.10635538173481003), (1743, 0.1063008966004839), (671, 0.10629776524157467), (575, 0.10629628267583131), (1763, 0.1062962362529186), (403, 0.10628390434273219), (2547, 0.10627527422453441), (2717, 0.10627260057239545), (3273, 0.10626543295275538), (3444, 0.10624000284909757), (529, 0.10622667164681254), (91, 0.1061862113114177), (1015, 0.10610474293316445), (3717, 0.10609707752965074), (1885, 0.10607681286555602), (3927, 0.10604733210843868), (333, 0.10604465623519299), (3330, 0.10604103555158481), (2558, 0.10603656556980495), (1815, 0.10601478918288106), (2696, 0.10598737993000631), (3586, 0.10595695735093488), (600, 0.10591426128445776), (2435, 0.10584476339792286), (4268, 0.10584166651183186), (3410, 0.10581994114568088), (1438, 0.10577710781978243), (3073, 0.10576326219819422), (3401, 0.10573207925286109), (334, 0.10572807137922043), (416, 0.1056588873114423), (3242, 0.10565284547223103), (3392, 0.10558809510817944), (490, 0.10558718109085684), (1408, 0.10557493172715382), (3035, 0.10557127243863952), (100, 0.10556789530451889), (1331, 0.10555297276683318), (3603, 0.1055378345719429), (218, 0.10553227637798862), (2647, 0.1054969706736307), (1486, 0.1054749837283112), (405, 0.10545609856232603), (297, 0.1054554673641483), (742, 0.1054203995072941), (410, 0.105416718790251), (2935, 0.10532067785555992), (244, 0.10530966395430037), (977, 0.10528879523742646), (503, 0.10527059207463732), (1634, 0.1052684486303846), (924, 0.10524306294127855), (2957, 0.10522108238420555), (39, 0.10517739649694667), (1750, 0.10516889787504376), (838, 0.10510013402505675), (187, 0.10500296086212953), (3925, 0.1049770497184271), (840, 0.10493647964388346), (2641, 0.10493641613041695), (3677, 0.10491470003428002), (4073, 0.1048950424624598), (541, 0.10488335853064454), (126, 0.10486897013716583), (3653, 0.10483200999419823), (644, 0.10479453420446788), (2967, 0.10475464993507103), (84, 0.10473938383967397), (2152, 0.10471066287055718), (950, 0.10469336202778093), (343, 0.10468983369636858), (2220, 0.10464166271631953), (659, 0.10463763734995539), (3748, 0.10462116684272102), (1613, 0.10461860972299272), (2060, 0.10460139685176474), (2457, 0.10460090819868836), (185, 0.1045949043582677), (473, 0.10458092999358436), (448, 0.10457870773340268), (2370, 0.1045699107470382), (2450, 0.10456837458955072), (791, 0.10456012892276785), (2045, 0.104551459521296), (349, 0.10451227495651952), (1819, 0.10451169652976001), (2886, 0.10449834491704367), (1231, 0.10449704436769922), (1401, 0.10448751639278657), (4565, 0.10448465748251307), (483, 0.10448464675820607), (2969, 0.1044495260247332), (1412, 0.1044486794807619), (1204, 0.10444122615596386), (2843, 0.10442646403658934), (637, 0.10442599383477492), (1028, 0.10441667199970572), (3799, 0.10440888890488706), (1089, 0.10436114708378835), (3804, 0.10434608818130807), (3420, 0.10433920006924813), (4083, 0.1043107806721745), (273, 0.10427567398814154), (3498, 0.10425714458538948), (462, 0.10423204464942175), (2394, 0.10417891005964978), (2467, 0.10417447293026144), (271, 0.10415269891489878), (93, 0.10413227116268715), (241, 0.10410924879931173), (1756, 0.10410728395438668), (2927, 0.10407685617392455), (1931, 0.10405900145789705), (3348, 0.10405417513896781), (2945, 0.10405191917217671), (558, 0.10403823051466925), (2318, 0.10399958565688312), (980, 0.10399472433526716), (56, 0.10395586835755313), (311, 0.10393649014209273), (227, 0.1039341769288899), (3733, 0.1039182857485887), (4517, 0.1039175660473669), (2, 0.10391121484959795), (4333, 0.10390256407770948), (1281, 0.10390146478388614), (2232, 0.10387320040113233), (514, 0.10386159255884189), (2997, 0.10385940478193746), (3884, 0.10384114655097605), (2075, 0.10382880234226391), (2405, 0.10379874578190797), (3188, 0.10379083312846916), (2705, 0.10376298978911455), (18, 0.10376070991776125), (998, 0.1037506172334054), (1932, 0.10374779157598092), (2725, 0.10372397686269334), (1532, 0.10370844868927626), (1235, 0.10368783567217861), (4310, 0.10367343820069062), (198, 0.10362491029356422), (3385, 0.10361623828749476), (1135, 0.1035964963177642), (1228, 0.10359091379473624), (3829, 0.10358635945292033), (37, 0.10356802562234708), (3495, 0.10356204491101548), (1686, 0.10356132072011022), (1720, 0.10356072459693477), (1134, 0.10353683839365233), (1841, 0.10353669433675572), (1484, 0.10352233479761172), (1754, 0.10349468181626674), (2769, 0.10347123996294656), (4193, 0.10343128612802333), (4800, 0.10342105085486414), (4119, 0.1034183208599398), (2813, 0.10341253257095155), (3494, 0.10333646411162434), (3004, 0.10332338561234425), (252, 0.10332296178275747), (714, 0.10330490869108319), (4772, 0.1032962686158788), (2758, 0.10326286843700498), (1538, 0.10326279571871953), (4639, 0.10324208456642775), (2714, 0.10321109021069494), (667, 0.10318456489277261), (2708, 0.10314718524861939), (614, 0.10314077274927802), (1223, 0.10301851403088515), (2943, 0.10300977513751634), (3758, 0.10298838286476411), (3245, 0.10297893179051788), (1506, 0.10296579762111258), (4542, 0.10294916662267782), (2388, 0.10294096678294935), (292, 0.10288252004381905), (2842, 0.10283416047122199), (2755, 0.10283005509795722), (3704, 0.10270880787608042), (2103, 0.10268336838543382), (1765, 0.10265513410721665), (3167, 0.10264292585927051), (1313, 0.10260682185076027), (324, 0.10254121071406767), (266, 0.1025314769140257), (1956, 0.10250994363664695), (4135, 0.10250317809276768), (4117, 0.10248514493071925), (299, 0.10240526769143152), (2195, 0.1023883195445867), (2402, 0.10237921288364746), (1570, 0.10237171633517841), (692, 0.10234561903756983), (859, 0.10233522434374627), (2704, 0.10233498129361784), (808, 0.1023311886319966), (2966, 0.1023269512215385), (2901, 0.10231038286823099), (2094, 0.10229984712643655), (3770, 0.10229696087849544), (1731, 0.1022855809216341), (2735, 0.10228075399810707), (4605, 0.10226021287717116), (298, 0.10225677742134173), (3171, 0.10224800213530919), (3259, 0.10223089861101506), (2594, 0.10222581357685956), (1292, 0.10218735653415775), (4228, 0.10216845070421773), (3941, 0.1021561118945131), (2046, 0.10209641117963118), (939, 0.10209307275919917), (1921, 0.10207570983436008), (1033, 0.10206495538548925), (4693, 0.10204700539100263), (2836, 0.10203347198977453), (4563, 0.1020059841385709), (1427, 0.10200383797321777), (1838, 0.10193410545389958), (1075, 0.10193362085451789), (3091, 0.10193145055468295), (572, 0.1019182108573596), (4477, 0.10189458864823076), (4197, 0.10184603818877175), (278, 0.10181892214838875), (629, 0.10179198472600767), (2264, 0.10178784355873807), (3743, 0.10177917842608791), (2141, 0.10177355394374248), (337, 0.10175940262119586), (2947, 0.10175423639310135), (120, 0.1017142295085438), (3234, 0.10170784819136415), (1321, 0.10169043167562464), (590, 0.10168928285374323), (1924, 0.10168359071355759), (744, 0.10168267413925829), (546, 0.1016807790461445), (152, 0.10167689984363772), (4076, 0.10167147441630642), (474, 0.10165276338634979), (326, 0.10162074628652014), (3622, 0.10161986272122832), (207, 0.10161080553267211), (161, 0.10159852797300206), (2225, 0.10159517809264171), (4336, 0.10158276409696416), (4732, 0.10157689860187691), (4570, 0.1015349368498755), (4270, 0.1015267647504691), (2068, 0.1015242753587141), (4726, 0.101511645328351), (216, 0.10150711995237312), (1395, 0.10149862112792843), (532, 0.10148974961046862), (2124, 0.10147842707672784), (767, 0.10144467853288089), (3064, 0.101389771822152), (3728, 0.10136816820019769), (4602, 0.10136553104900835), (1513, 0.10136540847720187), (3005, 0.10133672060237683), (3899, 0.1013127890115233), (1357, 0.1013059943254147), (1450, 0.10127019799911802), (4079, 0.10121971669165411), (3315, 0.1012127954304325), (4139, 0.10120960149054056), (544, 0.10120543773376178), (665, 0.10118747731626487), (475, 0.10117453198636214), (25, 0.10114928579135728), (2569, 0.10112548349193735), (4292, 0.10111560790629788), (1192, 0.1011148862065179), (1948, 0.10111373199934155), (1551, 0.10110463203090586), (4711, 0.10110062751810453), (74, 0.10109967361343981), (2289, 0.1010864358275627), (3654, 0.1010814306188253), (2142, 0.10106038043410893), (1091, 0.1010447517725307), (1363, 0.10104317774328983), (4096, 0.10099009332492742), (4109, 0.10097115162519987), (2627, 0.10094645175633295), (1274, 0.10087281422818435), (4003, 0.10086877281526943), (4104, 0.10086744081173843), (3615, 0.10086552587415969), (2274, 0.10086295237698636), (2911, 0.1008505687117763), (3517, 0.10084401287470435), (611, 0.10081057526295685), (3606, 0.10080512107564991), (1201, 0.10079956581080689), (2384, 0.1007977659580388), (3440, 0.10078425807477209), (1899, 0.10078146241991928), (975, 0.10077959097484826), (1604, 0.10077292099717564), (3271, 0.10076577813183084), (383, 0.10076392311039661), (1356, 0.10075167564176997), (2170, 0.10074549644024663), (2218, 0.10073749555011316), (3600, 0.1007235307886817), (336, 0.10069182060324801), (50, 0.10063357169554796), (2247, 0.10062493332082302), (372, 0.10061160479424279), (875, 0.10059303532850694), (111, 0.10057354773076625), (2295, 0.10055974066192928), (158, 0.10055408187106055), (2635, 0.10053299920992406), (378, 0.10052395611359873), (3293, 0.10051660020486111), (3713, 0.1005156156203822), (3386, 0.10050651708385479), (1332, 0.10048737507047906), (2063, 0.10047900716860679), (2751, 0.10046926588407044), (2532, 0.10046809758170416), (3880, 0.10043802176740013), (1400, 0.1004357785162618), (828, 0.10043239299537812), (208, 0.10041753491617703), (276, 0.10040200343862711), (2925, 0.10039641527436413), (2299, 0.10038352949156622), (3319, 0.10038219019734765), (908, 0.10037433214475973), (720, 0.10035504485010487), (2096, 0.10034739122538562), (4796, 0.10032751825202671), (2227, 0.1003259981553169), (4049, 0.10029955404819006), (2893, 0.10028141872020108), (3277, 0.10025263650586365), (2118, 0.10024108744369076), (1936, 0.10023564771393718), (4176, 0.10022658016000523), (3184, 0.10022536124933658), (1402, 0.10022425069051283), (2497, 0.10017637504707202), (2093, 0.10017481064762887), (518, 0.10015368609037074), (4380, 0.10009307823881701), (4378, 0.10004813397850584), (141, 0.09999997226886942), (1537, 0.09999306335554445), (1609, 0.09994419748817543), (3161, 0.09994278835470313), (2174, 0.09991583863745784), (2238, 0.09988626615795126), (602, 0.09987497807817115), (1326, 0.09986987842561497), (2499, 0.09985866475213265), (4250, 0.09984151967970434), (128, 0.0998368828330095), (428, 0.0997889547001069), (3288, 0.09978886101875625), (1611, 0.09975501161278696), (4631, 0.09974642138786102), (1021, 0.09970911798509069), (839, 0.09966273915782975), (2702, 0.09965511427772905), (2722, 0.09963234972223563), (3545, 0.09959190117522697), (2580, 0.09958841117156378), (1334, 0.09957691706647927), (79, 0.09956847928624257), (919, 0.09955417569399182), (2201, 0.0995429784097796), (1203, 0.09952830157347597), (761, 0.0994973352012331), (4201, 0.09947146484433678), (2521, 0.09946990866543805), (1378, 0.09946670679967574), (810, 0.09945334057073801), (3055, 0.0993995437637801), (470, 0.09938195638913067), (3366, 0.09935908338778482), (704, 0.09935557538558544), (3771, 0.09934616394129066), (472, 0.09933451867716261), (4194, 0.09931781555557727), (3580, 0.09931237166245621), (2300, 0.09928588062145112), (593, 0.09927541414181147), (4309, 0.09925977745608673), (73, 0.09924998437568762), (30, 0.09922385843502592), (1583, 0.09921985794908494), (1727, 0.09919737244565395), (2187, 0.09919423433086286), (327, 0.09918619172977194), (3870, 0.09918167187349354), (69, 0.09916972277867415), (3436, 0.0991414149328087), (395, 0.09913527516540527), (2263, 0.09911190884089882), (1742, 0.09909262671843214), (2395, 0.09909149493933486), (339, 0.09907395654590208), (90, 0.09906307247502831), (2347, 0.09904290221768129), (4206, 0.09904012570072171), (4004, 0.09902434556079005), (1333, 0.09901319842201042), (464, 0.0989982732017406), (764, 0.09898548324459709), (2783, 0.09897626809924744), (3801, 0.09896867176845191), (818, 0.09896430694138081), (4635, 0.09892131198820567), (3469, 0.09890527263955373), (4595, 0.09890226303234116), (2002, 0.09885995219250632), (178, 0.09885132302677149), (833, 0.09884513635266443), (143, 0.09884266423676555), (4213, 0.09883985125483523), (3342, 0.09883415767816807), (964, 0.0988030306740238), (3463, 0.09879697704660216), (2922, 0.09879499109588434), (2747, 0.098794477982455), (4093, 0.09879290687642406), (1171, 0.09876700139132816), (6, 0.09876474791562607), (4507, 0.09876014492711237), (724, 0.09875829640425245), (379, 0.09874732814377567), (2048, 0.09873333995532746), (2191, 0.09870632527464515), (1684, 0.09870464205510104), (3052, 0.09868296727262722), (507, 0.09865730600568756), (2423, 0.09865730235455951), (2509, 0.09859976655490534), (1954, 0.09859476618692528), (3937, 0.09858618689213328), (3318, 0.09854672701709435), (3725, 0.09850012307240805), (697, 0.09849977506374052), (1794, 0.09848382379060214), (3232, 0.09846663931750316), (3021, 0.09845295457457554), (359, 0.09842642637986976), (4162, 0.09841840699536261), (3050, 0.0984136637440404), (3812, 0.09837940059400957), (1653, 0.09837614745252875), (1752, 0.09836819742436531), (2491, 0.098362266375814), (3009, 0.09834370428903806), (1619, 0.09833445747445035), (228, 0.0983303607573282), (1781, 0.09830265949253197), (918, 0.09827761988918915), (283, 0.09823958362696336), (3427, 0.09823013839233288), (2020, 0.09821195930555388), (1725, 0.09820163137816766), (1317, 0.09818859040157062), (2071, 0.09818259235481079), (3100, 0.0981817795640588), (457, 0.0981724441636916), (3739, 0.09815359175341005), (3602, 0.09812426088681137), (1195, 0.09811281708674456), (824, 0.09809699081791787), (1325, 0.09809499490792188), (114, 0.09806186295890719), (1177, 0.09805617407983125), (2996, 0.09804894347041856), (2133, 0.09804735144721857), (3581, 0.0980351049749882), (811, 0.09798989703761686), (1992, 0.09796549708177804), (1442, 0.09789081920096636), (209, 0.09788776430538032), (2346, 0.09787772905909232), (864, 0.09786183139761394), (2681, 0.09782527509240761), (1808, 0.09782448313495182), (2277, 0.09781180276952552), (3843, 0.09781110842525995), (1667, 0.09779334202508784), (2888, 0.09777492176029678), (3340, 0.09777403766933132), (2742, 0.097752364140279), (2980, 0.09773244702555986), (3534, 0.0977176207569872), (1671, 0.09770157506207439), (1198, 0.09766957587603198), (4467, 0.0976395367954613), (4615, 0.09763628565107955), (4144, 0.09762922674898157), (1610, 0.097622898290645), (1213, 0.0976215393948061), (2266, 0.09761814762689981), (631, 0.09759147206315696), (1082, 0.09758339136227231), (3099, 0.0975784662345468), (1698, 0.09757069548610475), (2494, 0.09755831595628758), (1531, 0.09755824088176271), (1252, 0.09753072943333291), (51, 0.09752259423626485), (1298, 0.0975225671667884), (4428, 0.09749674336768235), (3558, 0.09749161773522676), (3399, 0.0974853741266427), (1351, 0.09746317573379107), (2953, 0.09746226162461893), (3554, 0.09740639821110984), (2830, 0.0973981538170308), (3886, 0.09739509987252812), (335, 0.09738062987456649), (496, 0.09737174994598115), (1810, 0.09734462552685247), (4110, 0.09733350238401496), (3347, 0.09733105913436133), (2828, 0.09732396897676611), (4397, 0.09731982154554453), (3149, 0.09729812470923235), (96, 0.09729498228651066), (4512, 0.09728800213223922), (2631, 0.09728148301077623), (1603, 0.09726892000354125), (1348, 0.09725061183190667), (233, 0.09724229732599396), (2344, 0.097224325620079), (2224, 0.09722388658061304), (351, 0.09721437080011135), (3533, 0.09721337449955308), (1813, 0.09718437897303717), (2636, 0.09714692514425431), (2756, 0.09712537895031938), (248, 0.09711623822209854), (3696, 0.09709319835238452), (1041, 0.09706872203621046), (3187, 0.09706576300622596), (4479, 0.09706355335031919), (9, 0.0970431267995952), (3431, 0.09701713868485848), (2102, 0.09701200373777005), (495, 0.0970013185396747), (2643, 0.0969832785893644), (1920, 0.096934146039633), (256, 0.09688941790187558), (2512, 0.09688645768909429), (4297, 0.0968835600928106), (222, 0.0968779247743862), (1677, 0.09684748994492906), (1375, 0.09684392043739856), (3104, 0.09684112327281119), (1146, 0.09681556743115359), (2904, 0.09680728320784421), (3413, 0.09680589620213856), (1423, 0.09679433814176376), (1247, 0.09676626574565461), (3800, 0.09675627854169443), (830, 0.09675375700553825), (756, 0.09674700137249936), (3489, 0.09674273254792094), (1990, 0.09671361501706431), (389, 0.09670731441342163), (1784, 0.09670423683646456), (865, 0.0966804631574246), (350, 0.09666854926513682), (2407, 0.09666458646898925), (2324, 0.09665669098481423), (3452, 0.09664532517891966), (993, 0.0966239318932125), (933, 0.09661537800818903), (1560, 0.09660275078136386), (2685, 0.09658883736416518), (1105, 0.09658594242754322), (4637, 0.09652259484052653), (3231, 0.09650819950109353), (4439, 0.09648843538109217), (3337, 0.09644583641608409), (3358, 0.09642029951050915), (2350, 0.0963988398959436), (373, 0.09639622303623534), (1353, 0.09639297862108187), (984, 0.09639296689547988), (4308, 0.09639223544256681), (3825, 0.09636832677910578), (1386, 0.09631311402950007), (1478, 0.09630517472353427), (1424, 0.0962975754475955), (4337, 0.09627726216458607), (577, 0.09624565631527499), (1640, 0.09621264258952868), (894, 0.0962044294573931), (422, 0.09615942798340643), (1778, 0.09615810393378425), (2179, 0.09613454053101118), (866, 0.09613313585468349), (4082, 0.09612320562248623), (4418, 0.09611002758325864), (2404, 0.09609046591074033), (102, 0.09608072445123568), (1337, 0.0960568508013627), (1661, 0.09604553022512624), (2375, 0.09600749064626245), (968, 0.09596452109729971), (2697, 0.09596127948698413), (4788, 0.09594731912355633), (1783, 0.09594157296809605), (4777, 0.09592668139937705), (3284, 0.0959224198876944), (1796, 0.0959211576267522), (1055, 0.09590691098815037), (1084, 0.0959055408028505), (2406, 0.09590376106665106), (3484, 0.0958945721069812), (3772, 0.09589399235984135), (543, 0.09588554759723554), (2559, 0.09587522678942938), (3593, 0.09586753824052087), (223, 0.09586095408633627), (340, 0.09586066693601575), (485, 0.09585675608381422), (1850, 0.09585436821257894), (2983, 0.09580283662137608), (3095, 0.09579582519606798), (646, 0.09578908248704598), (118, 0.0957771133123646), (3566, 0.09576420710809694), (1985, 0.09572738346792443), (94, 0.09571582819568933), (1370, 0.09571337984989924), (1999, 0.09570375871544634), (1872, 0.09570022072032675), (2275, 0.09568337904406973), (2459, 0.09567885733337397), (1076, 0.09566703756430353), (3854, 0.09565316621058348), (3411, 0.09563591574662644), (4425, 0.09560394660602436), (3876, 0.09558531636731399), (2184, 0.09557540295118414), (2630, 0.09556504057801335), (2549, 0.09554479132722497), (24, 0.09554299023896215), (3834, 0.09553246420189702), (2716, 0.09551975253238869), (3673, 0.09551415724575255), (1287, 0.09550713158602639), (788, 0.09549419028010524), (2795, 0.09544396419829343), (715, 0.09538719543414512), (1131, 0.09535201983362639), (367, 0.09533393215952357), (749, 0.09531505310454261), (1663, 0.0953014953964471), (2005, 0.09529984362524485), (986, 0.09527897824065572), (2390, 0.0952784733008144), (447, 0.0952662248972041), (2111, 0.09525840583717661), (437, 0.09521521333752457), (2167, 0.09521037162603514), (4182, 0.0951641230346738), (700, 0.09512135387684696), (2105, 0.09511520769842091), (655, 0.0950918084489005), (3635, 0.09508961884605957), (1244, 0.09505829320882674), (1719, 0.09505746778050339), (2077, 0.09504921745183229), (214, 0.09501969973153777), (1938, 0.09501548741083078), (4080, 0.0950140116632502), (2982, 0.09497211923302756), (1912, 0.09495347790655088), (476, 0.094953300926544), (2590, 0.09494814788513305), (3595, 0.09494505891558183), (3958, 0.09485540420070633), (3126, 0.09485105069293213), (70, 0.09484166475734218), (2038, 0.09481559043058783), (2050, 0.09480381230467996), (535, 0.09477649349168102), (4701, 0.09471515856452545), (534, 0.09469751315795824), (533, 0.09467503938904087), (3471, 0.09467491607511777), (4508, 0.09467295911336088), (3001, 0.09467227314366602), (2026, 0.09467041369425894), (734, 0.09465354276870128), (4219, 0.0946494819183244), (609, 0.09464788430699002), (3042, 0.09464665931781847), (920, 0.09463661503770368), (2259, 0.0946361545561403), (277, 0.09462014098334716), (693, 0.09456757076133451), (3767, 0.09456413262012132), (1215, 0.09455734979125667), (2221, 0.09452375016146357), (80, 0.09451950846109516), (4684, 0.09451601860219759), (3023, 0.09450851734529762), (2863, 0.09448021528761796), (257, 0.09447908471541824), (545, 0.09445046917803465), (3029, 0.09444775611829874), (2471, 0.09443062546815942), (2439, 0.09440443406677129), (2632, 0.09438065373770495), (3334, 0.09437121218835681), (3709, 0.09435811927594635), (3255, 0.09435006402730388), (3549, 0.09434554414180794), (3637, 0.09434285340465876), (1670, 0.0943352829228882), (678, 0.09430260150932038), (4151, 0.09429996085872867), (3984, 0.09425247059698898), (1804, 0.09423495642037609), (3133, 0.09421724821098867), (3819, 0.09419566136789229), (836, 0.0941847283301535), (2730, 0.0941637572004117), (1859, 0.09413817626691161), (3367, 0.09413595400738436), (1805, 0.09413132805323096), (4195, 0.094114095381329), (1444, 0.09410372904092756), (4582, 0.09409599357750838), (134, 0.09407065694620152), (521, 0.09406633464315924), (1893, 0.09401972295201445), (937, 0.09401175852299551), (1504, 0.09401076526672103), (747, 0.0939769747480475), (1814, 0.09397125753768731), (2731, 0.09396369448415888), (691, 0.09394579703618433), (4529, 0.09394385405048235), (3543, 0.09393059470185001), (547, 0.09392884263649912), (3388, 0.09391183650901894), (1411, 0.09390869838025591), (4332, 0.09390302328699132), (1630, 0.0939022292519195), (578, 0.0938991610306179), (3878, 0.09387917761009491), (341, 0.09387171348001393), (3061, 0.09385111714750947), (4496, 0.09383896437755768), (40, 0.09383818403785704), (4300, 0.09383443802993172), (2271, 0.09381906896346301), (707, 0.09376669002375966), (2520, 0.0936959581020231), (2214, 0.09369331841709257), (1153, 0.09367950557334735), (1887, 0.09367458895461069), (3898, 0.09365247837793032), (1615, 0.09365245271659438), (3457, 0.09364288166496039), (1549, 0.09364200035809558), (511, 0.09362893043423985), (1087, 0.09362802151112945), (356, 0.09361770170241054), (850, 0.09360493559299361), (2234, 0.09360275012255376), (3467, 0.09360214042338333), (2814, 0.09358954528660018), (1517, 0.09358173076192909), (4597, 0.09357948366207071), (1651, 0.09357374376941875), (3159, 0.0935725136989792), (1786, 0.09351281583660251), (2154, 0.09350102482196433), (3617, 0.09349557661623824), (2937, 0.09348221071423024), (867, 0.0934564163412461), (1965, 0.09345407574843693), (748, 0.09344673462570008), (2862, 0.09343182008438584), (1883, 0.0934275495471709), (1187, 0.09339890052247297), (1638, 0.09339202866793472), (1394, 0.09336192495845164), (3170, 0.09334943398669635), (2097, 0.09334331644235286), (636, 0.0933404290365997), (3481, 0.0933351164702938), (2468, 0.09333005697655153), (976, 0.09331438291654101), (1059, 0.0932868327444366), (28, 0.09327413323066763), (13, 0.0932607567388669), (4353, 0.09325919351918498), (3145, 0.09323681316129663), (3698, 0.09322271029169579), (4000, 0.09321178020360496), (1632, 0.09317068582166417), (4736, 0.09313014635248541), (4126, 0.09312975427365108), (444, 0.09311831573708992), (1855, 0.09310020917507805), (2293, 0.09309712784906934), (140, 0.09308400621222006), (598, 0.09307169739747992), (3931, 0.09303680409521205), (2852, 0.09297675899759011), (1040, 0.09294880875671341), (3032, 0.09292528986642992), (3373, 0.09291883134282802), (1471, 0.09291379971730354), (3981, 0.09290370589239254), (1208, 0.09282080566848915), (2659, 0.09279505650888102), (1350, 0.09278278107251062), (658, 0.09277233532889363), (3774, 0.09276780916817523), (2329, 0.09274429096967363), (570, 0.09272200584385205), (3921, 0.09271344426352615), (2429, 0.0927064080626387), (4164, 0.09269935623284753), (3965, 0.0926944473861896), (4367, 0.09268598014384757), (3977, 0.09267941357821283), (3424, 0.0926782463957254), (3643, 0.09267270112407776), (1511, 0.09265845378114558), (2850, 0.09264376668363207), (1445, 0.09263886707487969), (777, 0.09262271019849583), (1581, 0.09261394438655025), (1612, 0.0925801507027446), (549, 0.09256595642808668), (3407, 0.09255843577304267), (3597, 0.09252920913422125), (1132, 0.09252629794779106), (4315, 0.09248180826849883), (1150, 0.0924683488802307), (3390, 0.09244405037985397), (1349, 0.09243437915654003), (613, 0.09241921540814253), (235, 0.09241871847056651), (564, 0.09240672705219996), (837, 0.09237884127094186), (3522, 0.09237241398550936), (4749, 0.09236364942617034), (3730, 0.09233688232107375), (1817, 0.09232105775685981), (3955, 0.09228907624332264), (1896, 0.0922669715933304), (912, 0.09222553320277843), (2844, 0.09222367016374418), (506, 0.09222301718833952), (130, 0.09218609185982676), (1108, 0.09215666448685861), (581, 0.09215245675253173), (1645, 0.09214551373976584), (1151, 0.09213540546111017), (3210, 0.09211973864178423), (2036, 0.09211470113314937), (3535, 0.09211324934434542), (4401, 0.09211160869620541), (486, 0.09209647811422432), (1606, 0.09209198212286945), (2443, 0.09206267560198464), (3737, 0.09202339148593486), (4603, 0.09200401409705332), (1211, 0.09198860431214902), (2091, 0.09197278221340181), (4127, 0.0919686717137875), (3505, 0.09195166257120053), (3753, 0.09190244840133244), (963, 0.09190207979921206), (847, 0.09186653824050008), (2921, 0.09186604513742025), (1062, 0.0918536203237197), (1143, 0.09182805258867917), (1547, 0.09182763755395405), (4124, 0.09181699644778019), (1017, 0.09180480032538418), (3749, 0.09179331524584892), (943, 0.09178946915065386), (1217, 0.09176904984654027), (2055, 0.09176801333262966), (883, 0.09176101310027736), (1508, 0.09175182764717392), (537, 0.09174091072350911), (3556, 0.09172997430922515), (3449, 0.09172511513178067), (3867, 0.0917247989615706), (1137, 0.09170116420076135), (561, 0.09169848105784481), (4453, 0.09168703424779556), (3040, 0.09166917403330754), (441, 0.09165502189991441), (429, 0.09165483656027487), (565, 0.09164119475181166), (3680, 0.09163024976362519), (3918, 0.09162219213078429), (632, 0.09160897264966822), (179, 0.09154021730427105), (1828, 0.09153471384727363), (2572, 0.09153010393301714), (3831, 0.09152360850583928), (2960, 0.09151408755453926), (1791, 0.09150712101080674), (3561, 0.09149153630202586), (2057, 0.09149016963685613), (1799, 0.09148560093859669), (868, 0.09142268807619898), (951, 0.0914161347339995), (711, 0.0913833193176572), (4006, 0.09138261811352735), (2621, 0.09137344883007778), (182, 0.09136570251573117), (3587, 0.09136064497354966), (1766, 0.09135370391743493), (62, 0.09134249036601362), (3323, 0.09133541461112533), (2484, 0.09132581410573531), (2270, 0.09129558816733722), (685, 0.09129505535049404), (2657, 0.09127265536598753), (2083, 0.09125522043000313), (3613, 0.09125334734821988), (4441, 0.09123701475835769), (2058, 0.09123224693165956), (2607, 0.09123183643628295), (827, 0.09120302095232624), (2239, 0.09119220276460174), (1409, 0.0911797109959429), (2745, 0.09117807004805294), (411, 0.0911773177863965), (3679, 0.09113446857997234), (3710, 0.09112057743550363), (4247, 0.0911017498754969), (3470, 0.09102761738564115), (2446, 0.09102660999883096), (523, 0.0910058880739103), (3700, 0.09099848312928056), (1836, 0.09096891633034963), (973, 0.09095043562272657), (999, 0.09091062544828941), (280, 0.09089181451924971), (3537, 0.09088753924723043), (81, 0.09088337359343154), (3920, 0.09088268870876466), (753, 0.09088013718883234), (4094, 0.0908735622172957), (2088, 0.09086918743285123), (1654, 0.09086251149347024), (4017, 0.09079839733440528), (1515, 0.09079795630268848), (1584, 0.09077738669948779), (493, 0.09075441514005597), (3685, 0.09075186141056675), (4170, 0.09074223768231139), (2416, 0.09069470859350524), (1183, 0.090681157950599), (2606, 0.09067925719125416), (2198, 0.09065565156442146), (294, 0.09063259491439382), (4372, 0.09058728565291528), (2051, 0.0905791256334144), (314, 0.09056536315271901), (3810, 0.09055482787048383), (1780, 0.09053683023621449), (2449, 0.09053303818928946), (502, 0.09052767793472191), (4174, 0.09049845220890297), (1256, 0.09048335423261007), (1737, 0.09047445112678175), (2253, 0.0904680150193669), (4675, 0.09046350094147075), (3624, 0.09044333812578616), (2772, 0.0904388744782743), (2080, 0.09042200013542845), (682, 0.0904189231864303), (345, 0.09041599904960337), (2995, 0.09040414105119174), (3359, 0.09039219489689823), (2667, 0.09038665053805481), (1277, 0.09036936965390557), (2918, 0.0903549160931354), (3980, 0.09035441972955861), (4024, 0.09034759107154841), (1491, 0.09034042352800072), (2762, 0.09032532373482263), (4406, 0.09032024787751118), (2660, 0.09029952627336463), (3605, 0.09028556946812977), (2628, 0.09019551369664604), (4113, 0.09018617040275413), (2438, 0.0901679335831136), (1191, 0.09014530600356507), (2349, 0.09014368351660886), (2424, 0.09013601926348894), (2458, 0.0901345205125059), (1699, 0.09010519986793165), (2399, 0.09010157257331809), (2915, 0.09009494057670195), (489, 0.0900867389386421), (730, 0.09005653588068738), (1548, 0.09005094565669519), (2639, 0.09002488238648891), (1940, 0.09000005106166718), (3601, 0.08999538439381127), (2556, 0.08997877470983028), (1870, 0.08996999523441306), (3131, 0.08994430933428285), (1219, 0.08993613371262474), (3665, 0.08991917110859916), (2340, 0.08990314699009687), (1329, 0.08987598537387301), (2207, 0.0898671062085494), (2171, 0.08984550064687473), (4200, 0.08982981076356922), (4019, 0.0898276743280828), (4189, 0.08978111576666026), (1521, 0.08976126784657842), (4032, 0.08974725116897547), (1016, 0.08972709196372877), (4650, 0.08972114115137743), (1174, 0.08970239707681812), (1304, 0.0896947685118975), (3295, 0.08968340250563156), (3477, 0.08967245373939815), (4089, 0.08966405455282374), (4532, 0.08964924380662212), (1420, 0.08964690739581564), (3049, 0.08963967484828553), (2463, 0.08962707121100687), (3723, 0.0895956225946035), (928, 0.08958552139355422), (4663, 0.08956137543934423), (754, 0.08952429705256777), (3380, 0.08950654721361571), (2106, 0.08950426603268447), (1964, 0.089485837812327), (1163, 0.08945904166072524), (3224, 0.0894590025833487), (137, 0.0894500032392846), (1693, 0.08944624591491367), (1260, 0.08944292782900763), (2738, 0.0894323374643744), (841, 0.0894183619849768), (2185, 0.08938120701558606), (4745, 0.08937635848293873), (2477, 0.0893679676587044), (725, 0.08935098778402992), (1969, 0.08933013268515706), (2803, 0.08929404011653876), (1550, 0.08928179590469995), (689, 0.08926333083396923), (2084, 0.08926166717592009), (4068, 0.08925202675805682), (848, 0.08924070186034193), (3437, 0.08923415136174151), (1226, 0.08923025682105674), (1514, 0.08919217985205251), (3425, 0.08918549302406488), (3699, 0.0891842464373642), (2948, 0.08917825826234817), (3701, 0.08915449810875622), (899, 0.08914550016093929), (996, 0.08914325403102134), (1626, 0.08914320846215443), (3891, 0.08913794419427586), (1744, 0.08913571938714349), (1536, 0.08913182694835876), (2186, 0.08912205826253072), (4783, 0.08912205048170505), (1928, 0.08905803553170687), (3692, 0.08905451142961957), (177, 0.08904589660559921), (175, 0.08904158998408658), (2703, 0.08899967774803406), (1139, 0.08899054211328139), (4335, 0.08898932748565076), (2700, 0.08897421946337775), (1597, 0.08894486057316835), (2822, 0.08893327310242172), (1119, 0.0889117004289495), (2431, 0.08890143324903539), (4249, 0.08889322110325479), (21, 0.08888502802751068), (2845, 0.08887632691839809), (2148, 0.08884144109777213), (308, 0.0888281717668161), (4132, 0.08882573018130077), (1668, 0.08881879922979409), (831, 0.08881245450573648), (2213, 0.08881182387724071), (2810, 0.08881102923178735), (303, 0.08880085717115935), (757, 0.08879672227447696), (873, 0.088788499494236), (3882, 0.08876469711387042), (3409, 0.08876376576621782), (3475, 0.08875785484492028), (4567, 0.08875192003738003), (4638, 0.08873468714413865), (3499, 0.0887016978531031), (1477, 0.08870056339804253), (460, 0.0886839760518124), (3881, 0.08867515453653722), (2812, 0.08867415080398341), (1389, 0.0886703711826614), (1908, 0.08865236796153489), (268, 0.08864721823615264), (1890, 0.08863173001687707), (779, 0.08860699888589293), (3262, 0.08859899197259653), (418, 0.08859289647378686), (1074, 0.08858525360631127), (2508, 0.08857664373428849), (1637, 0.08856143456150806), (2739, 0.08855238737283395), (962, 0.08853726527413329), (3476, 0.08852529123444615), (399, 0.0885219186086483), (804, 0.08850765107257817), (3943, 0.08850085305678883), (3256, 0.08848014473137049), (1018, 0.08847088192258434), (2818, 0.08846857983648342), (4733, 0.08843555510986699), (2564, 0.08841549079536594), (3563, 0.08840205489063814), (361, 0.08839917011325789), (2618, 0.08838661267574179), (3404, 0.08838396359960345), (3604, 0.08837679662799297), (2017, 0.0883704684406318), (3572, 0.08835022069912392), (835, 0.08830652375686437), (68, 0.08830114524453261), (1144, 0.08828910945053407), (471, 0.08827769293256696), (3415, 0.08827554896586816), (3738, 0.08826433432130967), (1470, 0.08823686192820931), (407, 0.08821380686047682), (4537, 0.08820289278405569), (217, 0.08820129793461615), (554, 0.08818613953780463), (3949, 0.0881562102459491), (2546, 0.08814990863769553), (4402, 0.08813992687787796), (1881, 0.08808179554918749), (423, 0.08807151330799476), (690, 0.08804674515147845), (4088, 0.0880418555008396), (371, 0.08800656342800539), (494, 0.08799606251404571), (247, 0.0879927602499619), (2505, 0.08798379788300448), (4123, 0.0879633310126337), (4287, 0.087960589057696), (2448, 0.08795844839232035), (1467, 0.08794097320294995), (1003, 0.08791124967199804), (562, 0.08790469652521735), (1167, 0.08789683068123572), (433, 0.087887461581623), (2135, 0.08787558890914654), (4671, 0.0878641944129945), (3786, 0.08786161835252002), (3229, 0.0878364988597021), (4513, 0.08782782502857356), (1000, 0.08779819650827572), (1008, 0.0877977753687127), (3895, 0.08778994944915343), (4226, 0.08777975832482703), (3689, 0.08776592274026677), (4066, 0.08776447431989716), (3013, 0.08774978887221244), (2916, 0.08774462131966891), (2337, 0.08774384243101002), (1751, 0.0877348265530721), (368, 0.08771958551462161), (2146, 0.08768000602172413), (4776, 0.08765602875392187), (2208, 0.08764157198385619), (2400, 0.08764061474408619), (331, 0.08762673015907252), (2219, 0.08762322334718708), (2317, 0.08761203957855994), (3307, 0.08761127554082047), (1682, 0.08760686595523025), (803, 0.08759368568362573), (484, 0.0875925512167224), (4440, 0.08756219573021443), (3638, 0.08755043643572805), (886, 0.087516395870176), (620, 0.08750802214844781), (1441, 0.08750095628685459), (2040, 0.08747522903567656), (1900, 0.08745600358155868), (2255, 0.08744848786908238), (656, 0.08744204931505382), (2351, 0.08742201481628471), (1330, 0.0874093347403735), (935, 0.0874072332637299), (2229, 0.0873637459362945), (3454, 0.08736233764976326), (851, 0.08733114550105041), (4621, 0.0873258039210991), (224, 0.08731107120027731), (3058, 0.08730828694610639), (1886, 0.08729917180141634), (3419, 0.08729561553518483), (604, 0.08723402531606238), (2804, 0.0872284328540546), (2483, 0.08722629691927458), (400, 0.08722541746255306), (2281, 0.08720651331395012), (2498, 0.08718556817602545), (1880, 0.0871852280766282), (3766, 0.08717512899443533), (2586, 0.08717128134072506), (348, 0.08713916937481803), (3020, 0.08713204247823289), (412, 0.08712508282616842), (1539, 0.08712241840593404), (468, 0.08707513288402569), (2373, 0.08706098274021361), (2567, 0.08703323950259845), (221, 0.08702817628864766), (487, 0.08702478563348437), (1980, 0.08700143582415333), (2525, 0.08691855982510352), (3270, 0.08691833775124852), (3789, 0.08691421083923695), (4546, 0.08690325797801382), (3278, 0.08689904221350668), (4516, 0.08689680506500251), (3447, 0.08688993400313856), (36, 0.08687184718218159), (2666, 0.08682365623569453), (4511, 0.08682331383889204), (688, 0.08682172589635734), (2871, 0.08681960835469928), (641, 0.08678574365933037), (3681, 0.08677360761152823), (477, 0.08677352163249993), (2066, 0.08676661980036116), (595, 0.08676274041724212), (2115, 0.08675259779910295), (914, 0.08673831835028033), (4290, 0.08672958659411105), (1051, 0.08670487752205544), (1557, 0.08669464970430564), (686, 0.08669413899313332), (2330, 0.08668575699705511), (4295, 0.08668132955607524), (4388, 0.08665690021350568), (4234, 0.08664926014115613), (2811, 0.08664854235082886), (1636, 0.08664345182597949), (83, 0.086636196090616), (2868, 0.08663339211681301), (3174, 0.08660643640576285), (3923, 0.08659802906117392), (2100, 0.08658836858990147), (249, 0.08658576616872077), (2670, 0.0865308043122473), (4107, 0.08651977602108923), (2343, 0.08651652266385919), (4555, 0.08651525030095467), (38, 0.08649765600727707), (1004, 0.08649367747173604), (2579, 0.08648445564918696), (3238, 0.08648104979538042), (2383, 0.08648055251171019), (4680, 0.08647194394304905), (1293, 0.08646292286286188), (1997, 0.08645699081923837), (1792, 0.08641811659710195), (184, 0.08640689081910984), (4023, 0.08638615380361589), (1711, 0.08637790642750243), (2464, 0.08637544607776133), (1295, 0.08637107984440603), (3002, 0.08635790805487206), (3797, 0.08635753349901093), (712, 0.08635390827604408), (2475, 0.0863297199735652), (3164, 0.08630796591654888), (3755, 0.08630298307351919), (2408, 0.08630164738223853), (4689, 0.08628356764520775), (1591, 0.08627637323593734), (2873, 0.08626581671324302), (3627, 0.08625556544753742), (4183, 0.08622027457078771), (2175, 0.08621721799642718), (3596, 0.08621364635174672), (3220, 0.08620355956214944), (2500, 0.08620297119710107), (2821, 0.08619974882787136), (3511, 0.08619755329959569), (3695, 0.08618507666897017), (1339, 0.08616720794653597), (71, 0.08616388128488635), (846, 0.08616148173250321), (2817, 0.08615120659162817), (3247, 0.08613790372673952), (1909, 0.08605973238059132), (1655, 0.08605883152838668), (3479, 0.08605475116138024), (2988, 0.08604969645159231), (739, 0.08603779202300407), (1065, 0.08603260673013777), (2183, 0.08602609301852292), (2021, 0.08600990677820206), (776, 0.08600180008243463), (1415, 0.08597993486186935), (293, 0.08595957681411637), (930, 0.08593972476470783), (879, 0.0859048161152284), (907, 0.08589678141470648), (3924, 0.08588643374607069), (2189, 0.08586155223399225), (2573, 0.0858556132810694), (2527, 0.08584002453064109), (1735, 0.08576214539447892), (601, 0.08576115523648388), (525, 0.0857503816623566), (1092, 0.08574658259135423), (619, 0.08574379911309755), (1265, 0.0857430588836642), (4011, 0.08572577661241294), (1935, 0.08572029441433622), (1647, 0.08571689782110388), (3043, 0.08569710044441772), (377, 0.0856885179725891), (3269, 0.08564780070068645), (2787, 0.08562236912717824), (863, 0.08561749449224128), (162, 0.08561004176514143), (3383, 0.08560543690236559), (1437, 0.0856036323875733), (295, 0.08559180688188846), (982, 0.08559033126753289), (3353, 0.08557506418209845), (1361, 0.08556603311857897), (4685, 0.08552593430674295), (1998, 0.08548702095591383), (4152, 0.0854847418979916), (1404, 0.08546734251419888), (4391, 0.08544559208843276), (159, 0.08540029988349387), (452, 0.08537625819733945), (1142, 0.08536478468612234), (669, 0.08536255252846806), (75, 0.08532912029928943), (3926, 0.08530526698111748), (3851, 0.08529447220789922), (3212, 0.08526003149779808), (1255, 0.08525528664397905), (1024, 0.08524418248732053), (1320, 0.08520375942359452), (1656, 0.08514882733754689), (2130, 0.08514494900333319), (4002, 0.08513284744017113), (275, 0.08511715829949106), (3795, 0.08507154191558516), (856, 0.08506819218136462), (2417, 0.08506685107809217), (3646, 0.0850625491916542), (974, 0.08505537890862645), (3496, 0.08505147618689335), (1856, 0.08504182171362708), (3966, 0.08504151448484842), (3276, 0.08502921987013691), (3988, 0.0850097277352222), (99, 0.08500320176461985), (1301, 0.08496089306643437), (3576, 0.08495287274941526), (4286, 0.08494847570925124), (3075, 0.08494176617975646), (136, 0.08493541718581557), (2355, 0.08492565983634517), (3592, 0.08491880382034162), (1448, 0.08489380256128345), (1362, 0.08487721870188074), (995, 0.08486811135242396), (4488, 0.08486705064696069), (1385, 0.08486420072462457), (4114, 0.08485879594043838), (1858, 0.08484735753084684), (1775, 0.08482119650850621), (729, 0.08480744418418736), (358, 0.08479813666656949), (1238, 0.08476438243383788), (3962, 0.08476307442994528), (1665, 0.08475798987970423), (2593, 0.08474562112493941), (1598, 0.08474537884722774), (3421, 0.08471996708788493), (1081, 0.08470750287706434), (413, 0.08467745892385133), (3706, 0.08466588129666759), (3202, 0.08465081844203792), (2027, 0.084645535224084), (2780, 0.08462987551020795), (4691, 0.08462914403285132), (1116, 0.08460199303129588), (4186, 0.0845873924008781), (3573, 0.08457689071551379), (3233, 0.08456813344471072), (1243, 0.084557710825422), (1430, 0.08455288538361955), (4074, 0.08454232015039764), (3806, 0.08453912603821703), (1587, 0.0844883850335274), (1840, 0.08447996977026506), (434, 0.0844324320236082), (1193, 0.08441146270631109), (1873, 0.08440674605539283), (3928, 0.0843249637687087), (3435, 0.08431913596465918), (2602, 0.08430348988478277), (1013, 0.08430328478903736), (3773, 0.08429796455175968), (3443, 0.08426968681248928), (171, 0.08425687789406885), (1871, 0.0842499817789794), (2061, 0.08422140133082873), (1164, 0.08420916766493422), (4549, 0.0841803939188272), (874, 0.08417256268837017), (1202, 0.08416831314886805), (3473, 0.08416584549027266), (4178, 0.08416554176602976), (3845, 0.08416228477152378), (925, 0.08415087141773575), (89, 0.08414803020928462), (661, 0.08412275435681794), (624, 0.08411890582777819), (3865, 0.08411839752555184), (202, 0.08408802227529043), (1476, 0.08407780265195236), (318, 0.0840545652800545), (4473, 0.08403967340323118), (4669, 0.08401821912210541), (4452, 0.08401737519097377), (3827, 0.08400742725149445), (2802, 0.08400454346532878), (4700, 0.08397982900590976), (2975, 0.0839787682908264), (1147, 0.08397046942621808), (1846, 0.08396826876081948), (891, 0.08396052252140818), (4058, 0.08395979567318848), (2544, 0.08394990305591035), (2952, 0.08391116767657089), (2204, 0.08390931975364371), (1172, 0.08390725044552057), (239, 0.08387552816420557), (1950, 0.08387044495564354), (4238, 0.08386520711091222), (1543, 0.08384789342834288), (1623, 0.08384636198126326), (1066, 0.08380087218862647), (2552, 0.08379701262113719), (2616, 0.08377825596960031), (4509, 0.08377692155200482), (4046, 0.08376833000968159), (1897, 0.08375552067511141), (2719, 0.08375481467354767), (72, 0.08372340061493085), (1605, 0.08372028321306957), (3833, 0.08370879560172007), (4254, 0.08369455955655797), (4738, 0.08368669067227391), (1770, 0.08366043019841161), (1830, 0.08364268197675484), (3326, 0.08363836332753753), (1728, 0.08363510921954226), (2584, 0.08362562867411992), (1462, 0.08362053342328875), (4260, 0.08361007453147704), (4211, 0.08360605681170426), (2934, 0.0836009012720313), (1073, 0.08360010280026485), (2513, 0.08359797847680948), (4291, 0.08356937118203683), (1185, 0.08356414467820238), (2809, 0.08355902492100774), (2994, 0.0835397009267034), (1495, 0.08353790990978935), (3530, 0.08352126008547023), (888, 0.08352003723509262), (3842, 0.0835165990748205), (1907, 0.08350416738986735), (1314, 0.08350104648273012), (4484, 0.08345955049084637), (4204, 0.08345641470593725), (1889, 0.08344412765624815), (258, 0.08344377966658253), (2825, 0.08343709565774399), (3109, 0.08343674173657538), (3312, 0.08342183558132818), (2032, 0.08341382669511678), (2733, 0.08339639416406044), (4352, 0.0833946843887367), (842, 0.08338030486091284), (2792, 0.08337482319823213), (1453, 0.08337242931698965), (1457, 0.08335622664906453), (3168, 0.08335518993093995), (4159, 0.0833531686549535), (2228, 0.08333634359090189), (2949, 0.0833266465613095), (775, 0.0833212142218387), (3985, 0.08331025339978329), (709, 0.08329637600453715), (3298, 0.083289021957063), (4672, 0.08328901480624146), (4341, 0.08328713498666736), (1340, 0.08323199705230397), (1534, 0.08319892730323435), (3838, 0.08315434749824177), (2339, 0.08314977428282838), (653, 0.08314425418451397), (11, 0.08314155291748773), (4793, 0.0831403989526797), (406, 0.08313907469292559), (4246, 0.08311376805471701), (2445, 0.0830940968497758), (49, 0.08308952258633175), (325, 0.08305890557616814), (3153, 0.08301177533699432), (482, 0.08299502174584263), (2870, 0.08299464621562219), (4157, 0.08293583482727523), (3693, 0.08293302311330426), (871, 0.08291806383039911), (1338, 0.0829174679849761), (3375, 0.08291624741171279), (132, 0.08286694685440145), (2396, 0.08285539378925308), (1747, 0.08285444580280654), (366, 0.08285220147325675), (8, 0.08281871122795224), (915, 0.08281859488129191), (4216, 0.08281833755016445), (1824, 0.08281269369873866), (3281, 0.08279748689765125), (4457, 0.08278882629622798), (2592, 0.082763197111069), (3503, 0.08276157583879581), (4207, 0.08271304101623536), (3317, 0.0826774726054807), (4283, 0.08267203057764436), (1530, 0.0826640025843046), (2226, 0.08263332801000023), (1398, 0.0826316150667014), (142, 0.08258852147667686), (2832, 0.08256377645659797), (4128, 0.08253518196397386), (1186, 0.0825258005161468), (498, 0.08252258179803677), (1047, 0.08251693044712792), (2455, 0.08247888849904461), (4454, 0.08246157699262889), (1546, 0.08243101206565585), (4190, 0.08241782697615338), (4106, 0.08240648720176726), (3862, 0.08240219743011479), (2257, 0.08239113226173647), (4320, 0.0823732798472297), (2166, 0.08237307151732527), (4461, 0.08236142416771908), (352, 0.08232863726034124), (2806, 0.08228219689200383), (563, 0.08224365761573404), (1482, 0.08223786357872155), (2732, 0.08223659390032087), (4350, 0.08222836282440749), (23, 0.0822146892620671), (3524, 0.08220425042457104), (3861, 0.08219375146239372), (2197, 0.08216510183888841), (957, 0.0821581101843495), (1625, 0.08215672218082463), (650, 0.08215421925688902), (2977, 0.08213815036856212), (4437, 0.08210871756881655), (2244, 0.08209249934622755), (1505, 0.08208846106524252), (1380, 0.08206812122431358), (612, 0.08205764032650695), (1431, 0.082048781786638), (2542, 0.08204550281513263), (4327, 0.08204502049546224), (793, 0.08202820669753633), (2626, 0.08202681378097847), (392, 0.0819753659922661), (948, 0.08196824607535427), (3127, 0.0819660858559801), (3456, 0.08196576199570453), (2582, 0.08196560354714047), (2323, 0.08195615358408148), (1987, 0.08195321877422476), (2474, 0.0819481176590587), (2062, 0.0819418366492394), (2504, 0.08193467557570823), (1487, 0.08193268253927515), (22, 0.08192221299196241), (3396, 0.08191979551016959), (3221, 0.08190443890489758), (3672, 0.08189158862740052), (4358, 0.08187352371872184), (2749, 0.08186795389434816), (978, 0.08186191535192158), (3111, 0.0818580684304247), (4531, 0.08185349581167163), (2773, 0.08183445739243084), (1010, 0.08181484821695016), (1664, 0.08179048827216463), (4344, 0.08178650122615129), (4722, 0.08178383008234745), (2216, 0.08177914614960377), (61, 0.08177233552232219), (2990, 0.08173839181513977), (4129, 0.08173198203637397), (4588, 0.08168546671547668), (1020, 0.08167070315927522), (2469, 0.08166322201635365), (1057, 0.08165561209428461), (2599, 0.08164142226349663), (1730, 0.08163656768610791), (2835, 0.08162133456456602), (4524, 0.08154973459616653), (3106, 0.08145450912471978), (845, 0.08142401881238562), (2315, 0.08141842268123346), (786, 0.08141500048196267), (4050, 0.08141207397052155), (3151, 0.0814117711247783), (4575, 0.0813984926394284), (4340, 0.08139640383753445), (3426, 0.08138794100891142), (4460, 0.08138135655957093), (3705, 0.08136963996774521), (1279, 0.08135770463317037), (989, 0.08133748970411922), (2265, 0.08132807543208333), (4596, 0.0813168093865303), (2974, 0.08130626547289378), (3128, 0.08130592923783858), (4557, 0.08130070840235368), (3491, 0.08126813575302798), (3607, 0.08123016653223475), (681, 0.0812004936512283), (1575, 0.08119775589570757), (3406, 0.0811899964530311), (4265, 0.08116355016449443), (3338, 0.08116222986210848), (2480, 0.08113545748091458), (4432, 0.08112855196892707), (705, 0.08111826858187451), (4166, 0.08109285787333709), (2357, 0.08107803046661183), (4713, 0.08105385862724801), (66, 0.08104883503751517), (4666, 0.081042184877094), (504, 0.08102342641268354), (3718, 0.08101397068059757), (4522, 0.08097708204134056), (1809, 0.08096095937147761), (1812, 0.08095361445422267), (2917, 0.08094910534921099), (173, 0.0809429348252525), (1233, 0.08092545836717849), (3811, 0.08089510177717983), (2545, 0.08089137240244429), (3487, 0.08087986908153982), (1528, 0.08086258511048067), (2651, 0.08085942073101418), (3196, 0.0808437771746912), (1820, 0.08084173791235873), (3974, 0.08083645466591456), (3716, 0.08080873976989303), (3012, 0.08078436526856339), (34, 0.08078047910632322), (936, 0.0807788202050424), (1379, 0.08077644437305777), (3291, 0.08076314161880355), (1592, 0.08075418722049235), (3864, 0.0807461556211217), (3734, 0.08073800914156909), (1125, 0.0807330580128745), (3441, 0.08071233036988731), (1031, 0.08070298257380264), (189, 0.08069867728114306), (550, 0.08068657591211309), (2023, 0.08068654246941268), (1865, 0.08068253624499988), (3785, 0.08068233600327482), (4658, 0.08066704582797013), (1278, 0.08065401839155042), (4649, 0.08064557330834397), (4156, 0.08064067643177003), (2652, 0.0806357665283166), (1952, 0.08062833410006302), (2885, 0.08060506032317312), (1868, 0.08057860365816023), (1540, 0.08055795361953043), (206, 0.08055619510658125), (2737, 0.08055506210554438), (3125, 0.08054641623096286), (3990, 0.08053645402895207), (2361, 0.0805268113468178), (987, 0.08052198107112936), (4357, 0.08050714764669965), (1708, 0.0805021804689845), (237, 0.08049432369095212), (1254, 0.08046466744104698), (1608, 0.08045251964528567), (758, 0.0804504936760112), (1421, 0.0804196015988433), (3659, 0.08040504083502464), (4731, 0.08039544374117055), (2301, 0.08039029146751536), (1894, 0.08033382753328265), (1798, 0.08029850127773275), (2673, 0.08029313096463028), (2447, 0.0802698619002396), (3416, 0.08025900485929482), (3687, 0.08021285427740243), (3719, 0.080200603264559), (1463, 0.08019261172302293), (1600, 0.08019213882781098), (3279, 0.08019007612692507), (2605, 0.08018911206986215), (2955, 0.08016579487915787), (1249, 0.08015845864456686), (4288, 0.08014780829811849), (3257, 0.08014287166124939), (679, 0.0801259217223182), (2108, 0.08009616613006398), (699, 0.08005860539106084), (4610, 0.08003927720331258), (3294, 0.08003919187736913), (4758, 0.0800156039232963), (2003, 0.08000531456562028), (4136, 0.08000492615868046), (822, 0.08000347404495518), (4468, 0.07999711940250794), (3027, 0.07998691582296719), (77, 0.07997796191972655), (1418, 0.0799458007168506), (3539, 0.07990343126111486), (897, 0.0798754780213588), (3973, 0.0798671007621207), (2011, 0.07984729897201026), (1729, 0.07984221889073632), (3877, 0.07983757354480839), (1745, 0.07983213067959324), (3552, 0.079828999602572), (3112, 0.0798275008943185), (1303, 0.07980817588154361), (2258, 0.07979643952409982), (2425, 0.07976726936497021), (774, 0.07975250814428701), (4030, 0.07975183672841127), (1925, 0.07967171503195955), (2262, 0.0796470097538277), (3332, 0.07964530055782297), (4075, 0.0796310229063408), (4589, 0.07961567888046577), (3859, 0.07958384400513223), (3147, 0.07957666762936358), (2654, 0.07956724965300307), (2664, 0.07954345063488152), (4608, 0.07951065891227337), (1724, 0.07948672159205733), (3993, 0.07947749933734577), (3240, 0.07947430724865219), (2748, 0.07943751199183365), (1832, 0.07943156258279224), (1367, 0.07942981925494366), (3372, 0.0793969395656081), (1973, 0.07935040081494109), (3830, 0.07932696028347534), (1392, 0.07932508481118031), (2210, 0.07929662543547189), (4481, 0.07928068457957617), (668, 0.07926989236524919), (1306, 0.07920909696767517), (2476, 0.0791996216299782), (4433, 0.07916576086301544), (4274, 0.07914576527078832), (2387, 0.07912402125293484), (2269, 0.07911901506572999), (1502, 0.07910982088390696), (1315, 0.07910888633438559), (3987, 0.07909490514882175), (4723, 0.07909289104801304), (3761, 0.07908574397069609), (210, 0.07905586168714385), (393, 0.07902872415670929), (2676, 0.07902429456167669), (3206, 0.07901512838857615), (1687, 0.07899046268168897), (309, 0.07898810651725299), (155, 0.07895809645511773), (2511, 0.07893274965909934), (2374, 0.07891970129662775), (2432, 0.07891591522995327), (2173, 0.07890794273077051), (2866, 0.07889181346336781), (364, 0.07888751261179137), (4561, 0.07888733120098508), (3056, 0.07886097185483046), (538, 0.07885554504074138), (2954, 0.07883764048476673), (2290, 0.07883760877775552), (1393, 0.078796817662798), (1853, 0.0787907469032676), (2964, 0.07877044288773073), (2282, 0.0787697909516212), (2331, 0.07875477904370101), (2215, 0.07874659535062205), (2486, 0.07871437130383996), (683, 0.0787087507494438), (2205, 0.07868582419217754), (2018, 0.07866963189379077), (2025, 0.07866734446283977), (4165, 0.07864940029890263), (2310, 0.07864460304032522), (226, 0.07863197016448524), (1266, 0.0785838298088239), (1312, 0.07856167609376655), (2243, 0.07855399211442075), (4727, 0.07852295309046944), (1993, 0.07851914667871816), (4648, 0.07851910824949718), (527, 0.07851314261259491), (2359, 0.07850137755438057), (1978, 0.07849934459730522), (3065, 0.07847204948634054), (1835, 0.07846332145188467), (466, 0.07841842147655555), (663, 0.07840962676660743), (3275, 0.0784052834247509), (4434, 0.07837399307389535), (2560, 0.07834264103963227), (3030, 0.07833214256908773), (376, 0.07832294927861987), (3868, 0.07824170949510886), (2849, 0.07817172555009327), (3007, 0.07811076188600376), (362, 0.07810578899839013), (2682, 0.07809371363294416), (1428, 0.07806900675111587), (4383, 0.07806660683736998), (1891, 0.07804407665059106), (2619, 0.07802992211610645), (1001, 0.07798299645822702), (3108, 0.07798004940204313), (255, 0.0779583468593492), (603, 0.07795731924593059), (548, 0.0779404243612082), (3649, 0.07793262656525762), (4036, 0.07787899956923758), (3010, 0.0778715910440815), (4070, 0.07786955612039634), (2794, 0.07786393274430303), (1622, 0.07784995513272007), (4478, 0.07783156078714179), (1160, 0.07782306754998149), (3565, 0.07780796133099649), (3468, 0.0777951728937952), (1802, 0.07777971911564331), (717, 0.07776244529338208), (965, 0.07774211588669415), (4579, 0.07771510272976326), (1643, 0.0777140091811066), (3560, 0.07770265931017778), (4392, 0.07769327102498569), (2575, 0.07768254022896286), (1773, 0.07766901915263998), (2805, 0.07762165546799583), (2839, 0.07761990393932341), (3000, 0.07761896025123592), (3520, 0.07761774105174547), (3369, 0.07760938118453375), (3939, 0.07760885570928737), (981, 0.0776010697052693), (4443, 0.07760017519050967), (1093, 0.07753219283528108), (2073, 0.07752144689607236), (574, 0.07751095289143534), (903, 0.07749189633967538), (4735, 0.07748802929957638), (1599, 0.07748667516640045), (4177, 0.07748651647907), (4494, 0.07748123903320331), (2392, 0.0774774661518678), (1740, 0.07746057868325135), (4539, 0.07745411959390502), (3333, 0.07745215822516835), (1372, 0.07742958642185005), (2524, 0.07742098718207963), (3917, 0.0774169987365916), (3741, 0.07738497120507645), (500, 0.07738113464810063), (2138, 0.07738106648488537), (438, 0.07738012057971656), (1565, 0.0773310260033547), (904, 0.07731482610670884), (4348, 0.0773033609528832), (3957, 0.07728267569382861), (1527, 0.07723515869936219), (4263, 0.07722648042241582), (3978, 0.07722476232736505), (2286, 0.07721609654885726), (3060, 0.07720844037616517), (513, 0.07719447016287323), (2539, 0.077186735616348), (2554, 0.07718356118421806), (1904, 0.07718210751817725), (4373, 0.07716189088506178), (1715, 0.0771406216044101), (135, 0.07712990247368827), (1009, 0.07712705869758438), (87, 0.07708467964299558), (4251, 0.07707740460201618), (4687, 0.07707237280928206), (4480, 0.07707131918428517), (307, 0.07705912474111105), (4767, 0.07701290300342081), (1388, 0.07700395204981483), (2838, 0.07699438673904524), (4499, 0.07697690656417147), (640, 0.0769725063092498), (1222, 0.07694082015932122), (4599, 0.07690707420281927), (4052, 0.07689873053590406), (4514, 0.07689342987453764), (4395, 0.07688158259722168), (3209, 0.07687440733091541), (3047, 0.07686379213174191), (1246, 0.07685712637588521), (443, 0.07684162469577084), (4245, 0.07682137131165441), (2905, 0.0768153464792843), (4485, 0.07680499647477611), (4756, 0.07679318561413653), (3405, 0.07677304022421816), (4078, 0.07677245599131857), (3826, 0.07675978952591378), (4759, 0.07675104766482219), (3402, 0.07672524960633935), (1113, 0.07671385744323718), (4492, 0.07670199698528898), (1240, 0.07670120315775622), (4208, 0.07669555327649463), (313, 0.07665577699574848), (1212, 0.07664920152385137), (732, 0.0766212915839028), (1676, 0.07660645182999226), (530, 0.0766059359083007), (2993, 0.07659894530084342), (3071, 0.07657935850179362), (323, 0.07657639747195599), (2453, 0.0765627455263642), (2726, 0.07656103209156763), (4381, 0.07655464006507745), (1307, 0.07655127421233685), (892, 0.0764926867380414), (3219, 0.07647158890510034), (3083, 0.07647157783709363), (3008, 0.07646995154863298), (1458, 0.07646887076554537), (4240, 0.07645771060958784), (4371, 0.0764450068401166), (264, 0.07642669870766773), (4782, 0.07641577794415351), (1209, 0.07641507283034712), (1032, 0.07640483573011798), (3983, 0.0763923517718449), (1154, 0.07637293353670636), (2120, 0.07634742981790034), (3619, 0.07633906847449536), (388, 0.07631525102531961), (2706, 0.0762989745349082), (3621, 0.0762576400631555), (752, 0.07622453254704063), (1058, 0.07617771098012698), (60, 0.0761742913711843), (4153, 0.07613858885244414), (2212, 0.07611672644353418), (3944, 0.07609199585157349), (1121, 0.07608854452713541), (1680, 0.0760881944996976), (1049, 0.07607760686341805), (346, 0.07607309638667525), (771, 0.07603922000963259), (3364, 0.07603552127758263), (508, 0.07603312101125564), (3272, 0.07600177444347915), (3844, 0.0759966411216232), (4576, 0.07598912448993063), (1319, 0.07598837756322732), (2117, 0.07598699963337915), (3598, 0.0759574259689476), (1035, 0.07592557299688986), (1481, 0.07591592583808454), (4099, 0.07590631663996596), (4683, 0.0758984442811551), (2371, 0.07589458906850977), (3885, 0.07587817792983112), (1140, 0.07586811502176405), (1475, 0.0758463150589854), (4382, 0.07584264550924227), (2655, 0.07584033959107861), (3908, 0.07583800294615023), (4505, 0.07583346607579353), (1364, 0.07582026433650747), (3412, 0.07579877158217044), (1764, 0.07579462695309729), (1986, 0.07575445610612129), (2261, 0.0757445469413614), (1658, 0.07574298914421677), (3959, 0.0757358860428125), (4678, 0.07573399363856213), (3553, 0.07573102950894654), (2194, 0.07572598603882978), (926, 0.07568155504697094), (4715, 0.075665832799117), (1854, 0.07563458531421814), (3490, 0.07563442773485288), (3616, 0.07561269909451586), (798, 0.07559634296088974), (3381, 0.07558200012725298), (2674, 0.07557417975679298), (3688, 0.07555959019008066), (1327, 0.07555505550676718), (1474, 0.07555001498613974), (2440, 0.07553189603441365), (3097, 0.07552263460292781), (3590, 0.07551652040025429), (3856, 0.0754997785157627), (2615, 0.0754839421295132), (2487, 0.07547089832001734), (445, 0.07542253312801178), (321, 0.07541077429647408), (1220, 0.07539704236703827), (2992, 0.07537129987962682), (4660, 0.0753365932751599), (1650, 0.0753226051314735), (522, 0.07530874318008253), (826, 0.07526571683669211), (1257, 0.07526100447019288), (3461, 0.07524545561868892), (4664, 0.07521900201575714), (3652, 0.07518878897526808), (2743, 0.07518739360169917), (676, 0.07518324625682278), (970, 0.07517684245780949), (3794, 0.07516603144061443), (4464, 0.07515040357735271), (3120, 0.0751120287476757), (3642, 0.07510926655543763), (86, 0.07510580797749195), (1308, 0.07509685384325847), (3329, 0.07508912781335336), (2190, 0.07508235100982924), (2946, 0.07504746261112542), (3904, 0.07500264607060124), (2039, 0.07500010859494904), (2694, 0.07499599778255445), (909, 0.07497613786912627), (3264, 0.07495205291697933), (1571, 0.07495142096004326), (1343, 0.07493632640721554), (3968, 0.07492987132173556), (306, 0.07488644551974583), (1675, 0.0748414932798572), (662, 0.07474901182872255), (3466, 0.07473771853116339), (3398, 0.07473435084081746), (1099, 0.07471382613182484), (1497, 0.07470851554141446), (1225, 0.07469180357659809), (825, 0.07466710891592052), (1561, 0.07463983369562187), (4632, 0.07462507339800566), (3588, 0.07461706726765421), (949, 0.07459405208021362), (938, 0.07458427032395659), (1261, 0.07457748437053754), (3872, 0.07457489300730236), (3658, 0.07456564185508477), (3418, 0.07452576306534599), (3090, 0.07449553044315463), (2321, 0.07449436031569687), (1289, 0.07446934175815356), (4717, 0.0744294784178556), (781, 0.07441616194028923), (3995, 0.0744075565812768), (2662, 0.0743498908496659), (2054, 0.07434905767363366), (4551, 0.07434674518515805), (719, 0.07434204821280044), (1607, 0.0743303977522285), (898, 0.07432866038615948), (1365, 0.07431315815215372), (4042, 0.07430908252308845), (3782, 0.07429878954848432), (4303, 0.07429586062511422), (3890, 0.07428085857545122), (2774, 0.07426127666342201), (1046, 0.07424305675474532), (2846, 0.07415896263484366), (1816, 0.07414649992965158), (2677, 0.07414367198140435), (3362, 0.07414079736096263), (997, 0.07413734866079551), (4092, 0.0741352210687282), (3253, 0.07412091456690639), (3235, 0.07411868295288006), (1692, 0.07405333492508508), (1971, 0.07403815877038498), (3208, 0.07399325094240315), (1566, 0.07398704616843936), (3821, 0.07397466934516438), (4111, 0.0739725656759946), (1811, 0.07396444804388638), (710, 0.07392997496796742), (4319, 0.07392409688141766), (1194, 0.07389914146401633), (2304, 0.07387499842424085), (2199, 0.07387361726358109), (4752, 0.07381638335568548), (3086, 0.07380929170994498), (1866, 0.07378765352221175), (1184, 0.07376121959415022), (639, 0.07375024412000816), (3045, 0.07371625819747643), (384, 0.07371317331788177), (2101, 0.07370271992030063), (2410, 0.07369630710814348), (959, 0.07369373049217844), (2597, 0.07368467253766214), (3019, 0.07367761137121492), (3376, 0.07366957152385911), (219, 0.07365563076615933), (1149, 0.07361464019737539), (1419, 0.07358354152414116), (2959, 0.07358228114037232), (3154, 0.07353286616738255), (4624, 0.07353074023415894), (3835, 0.07352852041044433), (3250, 0.07352263434349209), (2534, 0.07351385776593829), (1739, 0.07349802043909107), (2857, 0.07348522684083121), (205, 0.07348227635459265), (1038, 0.0734738846777982), (2668, 0.0734736607304347), (211, 0.07346763795409052), (4354, 0.07345016935813894), (1524, 0.07343114243145214), (674, 0.0734249944454286), (4778, 0.0734156960232553), (3775, 0.07341174050683112), (540, 0.07340832118475743), (3283, 0.07340294025504172), (1267, 0.0733891156372682), (2913, 0.0733655258800423), (2557, 0.07335634337163661), (2129, 0.07331159819972995), (2168, 0.07327154107936708), (3382, 0.0732446222994954), (4744, 0.07323466570837849), (2940, 0.07320425236346075), (4223, 0.07320412738754035), (3102, 0.07319994573628932), (4121, 0.07319258308767067), (1718, 0.07319141768655314), (3994, 0.0731536654005197), (1989, 0.07314844633081742), (2222, 0.07310855989450749), (4483, 0.07309950413762173), (4258, 0.0730909226703509), (3740, 0.0730867204035503), (1396, 0.07306067133273743), (4655, 0.07305696170074386), (816, 0.07303413980690857), (3201, 0.07297589293826905), (3166, 0.0729758500354294), (3092, 0.07296677815313345), (3119, 0.07296510577597473), (1944, 0.07296036809907402), (2288, 0.07293121423447096), (1616, 0.07291182029415452), (2362, 0.07289334659410467), (3036, 0.0728839887375814), (4640, 0.07287269528711139), (1618, 0.07285731977005967), (3031, 0.07285578385065791), (1269, 0.07284777823477037), (3175, 0.07284293806717895), (1688, 0.07283808552630605), (3969, 0.07282664026958205), (3124, 0.07282456613984367), (1161, 0.07281911035495303), (4053, 0.07281837013027781), (374, 0.07279438084840367), (1833, 0.0727359317129532), (2019, 0.072735738750609), (2633, 0.07272689288134698), (1264, 0.07271467548814477), (1097, 0.0726621073213456), (2661, 0.07265129859638415), (4404, 0.0726303840341408), (4490, 0.07262565293581694), (1580, 0.07257725705501701), (1878, 0.07257340558954493), (4364, 0.07256443906137), (1344, 0.07255629647547884), (3054, 0.07254832599495456), (1933, 0.0725464496779395), (4172, 0.07251950224119406), (4679, 0.0725103949292186), (2583, 0.07250286167350369), (3480, 0.07247985599904143), (2672, 0.07246965068768257), (3557, 0.07245639138491249), (2848, 0.07245633917347), (4045, 0.07244372954952726), (858, 0.07242737124509589), (3341, 0.07242385322517521), (1245, 0.07240749769516414), (792, 0.07239992196765144), (4423, 0.07236420713791705), (4328, 0.07235625891089098), (3608, 0.07235492775290597), (3663, 0.07234247777477473), (3853, 0.07233235280731463), (2251, 0.07232498606811699), (896, 0.07229397505391895), (3662, 0.0722889211072988), (2723, 0.07228515818580561), (2164, 0.07226036995774597), (328, 0.0722596187658839), (4365, 0.07224599491078548), (1043, 0.07224447836605688), (3218, 0.07222906300271581), (3721, 0.0722286263331963), (1053, 0.07217995723659672), (2470, 0.07217899787876118), (597, 0.07214746362582516), (3666, 0.07213689466698846), (4728, 0.07211516231482859), (1788, 0.07209137801346222), (3041, 0.07209116905810421), (1168, 0.07207291987963109), (450, 0.07204727026169659), (1272, 0.07204189125127587), (2878, 0.07202961044645592), (4710, 0.07199467975477175), (4072, 0.07199385686976705), (3321, 0.07198875741325005), (3883, 0.07198055154999365), (157, 0.07195328124605696), (3266, 0.07193109905833477), (4187, 0.07192850733252594), (675, 0.07191981997146088), (3684, 0.07189516550097468), (3101, 0.0718367953683216), (2451, 0.071835694041952), (2899, 0.0718262736172688), (605, 0.0718239236436143), (4237, 0.07180532150996345), (2037, 0.07179527669498639), (4562, 0.07179179739149426), (4239, 0.07179173294460998), (1977, 0.07178858830894794), (3544, 0.07176815987079752), (2188, 0.07175471303108567), (4487, 0.07174716571754758), (902, 0.07171472069532633), (1397, 0.07169558027163103), (2854, 0.07169491842951091), (1914, 0.07168213559939922), (1970, 0.07168030376566821), (3137, 0.07167816737791227), (958, 0.07167079096316513), (1962, 0.07165783344536335), (2687, 0.07165618273327194), (250, 0.07164558090655532), (4010, 0.07163058368653236), (4463, 0.07162698136333231), (2971, 0.07161794537439876), (745, 0.07161220022949955), (4770, 0.07158249980853383), (4586, 0.07158192296215816), (4191, 0.07158166264793611), (2482, 0.07158061086512564), (1207, 0.07156021328333725), (1879, 0.07152988451470903), (3909, 0.07149442052878596), (4784, 0.07148202406124812), (3163, 0.07148040230148837), (1829, 0.07145620543566199), (3085, 0.0714527649702029), (2877, 0.07143110643712368), (2518, 0.07142694252472541), (3650, 0.07141933878108633), (3871, 0.07141725421139888), (2307, 0.07139151224224308), (4653, 0.07137145988342208), (4470, 0.07135928455427105), (1369, 0.07135327521395601), (203, 0.07135209616596778), (4273, 0.07135056866674507), (4007, 0.07134802296442659), (2230, 0.07128568427407232), (2797, 0.07128273493831162), (664, 0.07124945534659871), (3408, 0.07123087858186299), (1273, 0.07122163645617274), (4614, 0.07119270611440218), (2372, 0.0711919586612045), (3889, 0.07119182042966335), (559, 0.07118496665636241), (2855, 0.07115445375617191), (616, 0.07111215448888049), (2074, 0.07111051415348814), (3374, 0.07109836111013164), (1242, 0.0710950938661593), (2249, 0.07106018025596561), (4038, 0.07104967306667566), (723, 0.07104573158363363), (3964, 0.07104455930456373), (2998, 0.07103990614136536), (4613, 0.07101286203440967), (3736, 0.07099408063848767), (2890, 0.07099280845883477), (3742, 0.07098162483359376), (3428, 0.07095810431904082), (3181, 0.07095788967085088), (194, 0.07094167710624957), (1710, 0.07087374667388975), (4469, 0.07086183990550278), (1180, 0.07085792087561842), (2206, 0.07083056046299714), (2895, 0.07082429831498559), (3051, 0.07081769015551906), (3365, 0.07075061936502633), (3998, 0.07073226599476852), (2506, 0.07071308528690814), (2939, 0.0707010167574986), (347, 0.07068416204744231), (727, 0.07064849722239849), (2919, 0.07064424053675225), (3551, 0.07063272049241241), (1485, 0.07058170984096139), (1030, 0.07057030411532879), (3546, 0.07057029334448624), (1797, 0.07056190360164537), (2441, 0.07049376102150479), (2750, 0.07041119588228605), (2460, 0.07041035659634984), (2740, 0.07037837342655306), (4518, 0.07035686574189289), (2987, 0.07034907059973466), (1063, 0.07034116956200735), (3391, 0.07031579333650115), (4390, 0.07026889814304893), (4389, 0.07026536470122473), (2162, 0.07026244327983133), (2456, 0.07026161211716285), (3070, 0.07025275068431872), (1771, 0.07024961362301259), (3141, 0.07024685226764912), (2847, 0.07024462998279832), (2831, 0.0702429603071144), (1588, 0.0702223409960575), (2086, 0.07022031302003917), (2413, 0.07020814326818642), (1578, 0.07018107025735075), (2430, 0.07013440607892794), (2472, 0.07011286094703435), (1025, 0.07009494341344404), (910, 0.07004286086400692), (1555, 0.07001275356783832), (1169, 0.0699723129812406), (2865, 0.06996875265451351), (1309, 0.06996580217795166), (4645, 0.06994419662392434), (3316, 0.06986595178356564), (789, 0.0698020982884858), (4553, 0.06977957063250241), (1703, 0.06975045111291198), (3183, 0.06973902621948273), (4097, 0.06973482246315064), (4009, 0.06973416579451609), (1248, 0.06970826831525573), (1391, 0.06970802852822221), (3583, 0.06969528223613748), (4601, 0.06969461749751957), (3034, 0.06969418560465958), (643, 0.06969329817238955), (3664, 0.06963090126980914), (2125, 0.0696234049558349), (1930, 0.0696147871088501), (1434, 0.06960461958125663), (4137, 0.06960106696428794), (1541, 0.06959842001914338), (4545, 0.06956396073813248), (2688, 0.06955134881047316), (2356, 0.06952975450618626), (3714, 0.0695220971666075), (3849, 0.06949762696646616), (1115, 0.06945926290651173), (3818, 0.06943568814941287), (1860, 0.06938297582688586), (1736, 0.06936807837526696), (1624, 0.06935770354479139), (1503, 0.06935406052619485), (4040, 0.06934765634326157), (1976, 0.06933650014032125), (2140, 0.0693344195731065), (735, 0.06928173269833923), (4220, 0.06920211824018606), (4064, 0.06919667292938433), (2624, 0.06918923678665238), (2033, 0.0691819531887557), (4266, 0.06911954836001075), (4445, 0.06910770019596198), (3046, 0.06910706092109724), (588, 0.06902346859896309), (1182, 0.06901883296194267), (1705, 0.069013217976916), (1416, 0.06898560896632547), (1123, 0.06897680828115081), (105, 0.06897605205709546), (4501, 0.0689484257105006), (4384, 0.06891358378440614), (3150, 0.06890433458720994), (1659, 0.06889945554473718), (994, 0.06889428626896889), (4503, 0.06889335630134844), (4798, 0.06885390860454468), (4630, 0.06885034840864085), (1045, 0.06882415197919561), (4495, 0.06879531152429909), (3299, 0.0687777435007496), (1316, 0.06877662518461715), (509, 0.06876096920803293), (1646, 0.0687559671463779), (4063, 0.06875568850403858), (435, 0.06875078429335003), (1726, 0.06874910527853338), (4677, 0.06872688070202439), (1714, 0.06869232492524566), (1943, 0.06868928497128474), (2364, 0.06868546032583442), (992, 0.06866361628173435), (1837, 0.06862845636250725), (3529, 0.06862354068356094), (3975, 0.0685958290257558), (882, 0.06858994683395528), (2342, 0.06858565815125676), (4222, 0.06857300492015114), (2332, 0.06854975063594498), (1648, 0.06853475049068726), (44, 0.06852185202706093), (3087, 0.06851122479228232), (2319, 0.0685013973271955), (4301, 0.06849918172171537), (2311, 0.06847731351531484), (302, 0.06844882405477253), (921, 0.06843709771068435), (2305, 0.06841587761799922), (1479, 0.06840247140503114), (4739, 0.06839280548096634), (2779, 0.06837588773678319), (2001, 0.06837501539232414), (3559, 0.06835564300427319), (1674, 0.06832799392649823), (2766, 0.0683005551609902), (315, 0.06829670643807022), (3122, 0.06827486715449496), (3110, 0.06826489469771758), (1982, 0.06825669956843644), (817, 0.06825542110449127), (890, 0.06825367627550434), (1660, 0.0682077242558012), (3609, 0.06820639932203634), (2158, 0.06818592159469704), (4394, 0.0681728741992368), (4716, 0.06814850318337794), (3857, 0.0681457446690833), (3956, 0.06814474061156699), (1429, 0.06810044977264797), (2565, 0.06809529297486627), (465, 0.06808502851049457), (2555, 0.06807475720631974), (1206, 0.06807115236118187), (398, 0.06803201896998153), (4558, 0.06802386113149254), (2202, 0.06801223572312524), (2861, 0.06799006552465674), (3094, 0.06797894137405691), (4051, 0.06794954312554767), (1691, 0.0679381426722533), (3935, 0.06792335191959181), (3929, 0.06789905068104538), (3199, 0.06784637841003817), (1347, 0.06783960738718649), (4525, 0.06780284426490857), (3626, 0.06779804771947111), (2778, 0.06777768310037635), (4037, 0.06775881879497998), (2489, 0.06775026247911763), (721, 0.06771840492196944), (164, 0.06769048947176637), (4456, 0.06767878007711742), (2313, 0.06765683264754385), (4697, 0.06764569347844156), (1229, 0.0676316423015996), (3486, 0.06763039995670153), (2951, 0.06762432802105524), (1903, 0.06761844438569654), (2353, 0.06761409536565827), (2693, 0.06759928669642427), (512, 0.06758849005506323), (2874, 0.06758581897561533), (4474, 0.06757726712267394), (3715, 0.06755951098520652), (2588, 0.06754518287382522), (3289, 0.06751427000486485), (1733, 0.06748463957146422), (1895, 0.06747394111999135), (1336, 0.06747004832269166), (2603, 0.06746681612671888), (4368, 0.06741598112827764), (3550, 0.06739704994654142), (1939, 0.06739474990684338), (1007, 0.06738832111616525), (4108, 0.06737725904934046), (3142, 0.06735363530736994), (2970, 0.06735195973628674), (2137, 0.06734912630227986), (2786, 0.0673349332650456), (4347, 0.06731966337193054), (3836, 0.06729584146484632), (4764, 0.06729438530838139), (906, 0.06726523547994674), (1981, 0.06726493874485459), (2126, 0.06724735529267122), (2663, 0.06717130475176238), (4447, 0.06715326671254948), (3335, 0.06713609838857275), (4781, 0.06713079016422499), (2965, 0.06713066732414535), (3759, 0.06712925816887891), (2128, 0.06712773942287892), (4013, 0.0671171862123392), (4275, 0.06709884446928183), (481, 0.0670865152674314), (2841, 0.06707543918633363), (1519, 0.06706855786157), (1768, 0.06706816868619082), (147, 0.0670532268778386), (2570, 0.06701979987003769), (1721, 0.06701149488827024), (3989, 0.06699422696375319), (1124, 0.06697951798241678), (2906, 0.06697018125785142), (4466, 0.06694468490989819), (2720, 0.06693960180093152), (284, 0.066930278706278), (887, 0.06693006056857845), (4643, 0.06691085408737017), (946, 0.06690337780256164), (4282, 0.0668918446630326), (3763, 0.06688921892231646), (2302, 0.06687343549960661), (1509, 0.06686763686120299), (3451, 0.06685967294655366), (1138, 0.06685934915983786), (4325, 0.06685879636296765), (1601, 0.0668416765947014), (3657, 0.06683643474672907), (3858, 0.06682899092578545), (3198, 0.06682212510016862), (3814, 0.06680882023955936), (4651, 0.06680024628907898), (3894, 0.06679434188703884), (4202, 0.0667523347520689), (2933, 0.06673766717923081), (1002, 0.0667310865202818), (2644, 0.06673088223627242), (3564, 0.06670799049255231), (3084, 0.0666994544743486), (1376, 0.06669716751513755), (3482, 0.06667611058230695), (1498, 0.06666552449737716), (3860, 0.06665185052477925), (2856, 0.06657401904681548), (1447, 0.06656829524370335), (1734, 0.06656430318918811), (3648, 0.06655623076892032), (2859, 0.06653673196810056), (1911, 0.06653664617130599), (2303, 0.06652445211954228), (3453, 0.06651604177289373), (2649, 0.06650689444669847), (4450, 0.06650685427840099), (3464, 0.06649595560794726), (2909, 0.06640266465072513), (2007, 0.06639541375397859), (4748, 0.06638828872159985), (3462, 0.06636761795438303), (3244, 0.06636681861245054), (3703, 0.06634667720524647), (3779, 0.06631821200850845), (4026, 0.06628367162735531), (4407, 0.06628352702474558), (3123, 0.06625414473943235), (4393, 0.06623124762721465), (3389, 0.0662211415639272), (3951, 0.06621003115494944), (3172, 0.06615525704949146), (3217, 0.06615037308292891), (344, 0.06614993069569991), (3501, 0.06611793271345688), (4427, 0.06609414001717732), (1576, 0.06608748500730788), (1422, 0.06607115478352832), (1483, 0.06605821326323603), (2322, 0.0660297002760314), (1111, 0.06602568319013538), (954, 0.06599074478580272), (1723, 0.06598781196279842), (2312, 0.06598091210622152), (555, 0.06597239946815936), (1641, 0.06595775678890552), (4101, 0.06585402406849254), (3780, 0.0658112703318321), (1782, 0.06579597657072224), (1107, 0.06578879596586429), (2950, 0.06578812846099613), (3186, 0.06576596722609845), (1716, 0.06574938858167034), (960, 0.06570078043367744), (580, 0.06569953745838081), (615, 0.06567853532208041), (3215, 0.06562928513484595), (4277, 0.06562563429325233), (1738, 0.06556175698852212), (4163, 0.06554508594342585), (3387, 0.06554188574112761), (4641, 0.06553259524964969), (1128, 0.06552786522973908), (2576, 0.06549864769017814), (1849, 0.06548135353734671), (743, 0.06545957015346902), (2078, 0.06545816021328914), (3344, 0.0654313091542868), (4417, 0.06542669379984582), (1251, 0.06540432896167198), (2335, 0.06536657333329589), (2334, 0.06533929742633693), (1210, 0.06533842358459349), (3003, 0.06531745708137739), (927, 0.06527184051490537), (3961, 0.06522927899865638), (289, 0.06519111581880502), (2978, 0.06517533767412026), (2415, 0.06517178139313405), (2535, 0.06515519658965448), (3747, 0.0651515047623782), (1681, 0.06511496397547725), (2892, 0.06510740014076626), (461, 0.06510182404225529), (4774, 0.06509962076263993), (1280, 0.06508926176892817), (4527, 0.06507976514652862), (1916, 0.06507815468137927), (3384, 0.06505138706531732), (2000, 0.06500936876666444), (1300, 0.06500325186745332), (1455, 0.06498219051451042), (3724, 0.06496588723389585), (3690, 0.06495976097325958), (3433, 0.06492167113059773), (1628, 0.06490075593537813), (1262, 0.06488704916810811), (67, 0.06483610304162245), (1947, 0.06482078449742922), (3478, 0.06481481730488821), (4102, 0.06480628327404715), (4363, 0.06479238263764553), (2012, 0.06477738243130247), (3531, 0.06477322081277402), (4448, 0.06474311430383037), (2788, 0.06472903053164084), (1253, 0.06471737474499555), (3320, 0.06471104936807374), (4591, 0.06466822860004619), (1197, 0.06466757145518559), (3711, 0.06466644660711846), (3076, 0.06466474127396292), (259, 0.06464429149340228), (3954, 0.06459393371131608), (1951, 0.06459046513823657), (2979, 0.06458954505645609), (251, 0.06455166659651775), (3146, 0.0645497835741767), (2193, 0.06454539601684109), (4253, 0.0645370932327823), (1494, 0.06452752705099443), (3144, 0.06449196707549804), (4134, 0.06448842253788183), (3067, 0.06447198031746974), (2009, 0.06446197256335819), (1929, 0.0644438322042875), (1311, 0.06443739540086395), (766, 0.06441132236839908), (1224, 0.06439697932080093), (2833, 0.06438432416131067), (4261, 0.06437968981336788), (4255, 0.06437857133192693), (458, 0.06436572086522811), (1067, 0.06434046105162453), (3837, 0.06429288491382484), (2478, 0.06428923290498582), (1345, 0.06426212680498045), (2112, 0.06422793503044996), (3118, 0.06421953818631648), (4521, 0.06421869045154245), (2496, 0.06419778272246293), (148, 0.06416254342296222), (2079, 0.0641600908391442), (4343, 0.06415016505470271), (2159, 0.06411331699429482), (3039, 0.06408708455712611), (4626, 0.06401835925644742), (2891, 0.06401546567057295), (2139, 0.06400590634104227), (2875, 0.06396768004177483), (3760, 0.06395212020199889), (1297, 0.06394455208142645), (1227, 0.06393108279614401), (1179, 0.06392717164070909), (3656, 0.06392197845614238), (2452, 0.06388010766094611), (3327, 0.06386177628562872), (1488, 0.06384924053249752), (1955, 0.06384879362390937), (2718, 0.0637146954757491), (1614, 0.06367249821527071), (2481, 0.0636669919810613), (2692, 0.06366558602537287), (1582, 0.06360602098484129), (763, 0.06359543462483455), (4257, 0.0635308217604235), (3578, 0.06352852669488465), (3846, 0.06350484552054853), (463, 0.06350318594021967), (1755, 0.06349471404126925), (2623, 0.06348631611960331), (3599, 0.06347574310920531), (3683, 0.06345207597088687), (3752, 0.06343643276583909), (2721, 0.06341863731840526), (3096, 0.06339693126415444), (4399, 0.06338519298174618), (4055, 0.06337558059113721), (4538, 0.06332075216129862), (2345, 0.06330379120587663), (3820, 0.06327710263541939), (3777, 0.06322267408941387), (3932, 0.06320727404103996), (1602, 0.0631825988822235), (1436, 0.06317409737416664), (2999, 0.06317393319911961), (1901, 0.0631170102478727), (2519, 0.06310989018788754), (1069, 0.06310964529841033), (3268, 0.0631084120600368), (2434, 0.06309107516695574), (4269, 0.06308196101569245), (832, 0.06307980192998035), (2095, 0.06300935336562677), (3465, 0.06295746896459083), (4031, 0.06295688257610528), (4719, 0.06294805803924206), (1218, 0.06294171789074712), (4644, 0.06291267830632476), (4298, 0.06290883104946239), (3817, 0.06287435513491649), (1060, 0.06284217789745751), (4604, 0.0628372716913388), (430, 0.0628293831822322), (3140, 0.06279255676522087), (4686, 0.06277990570811304), (3694, 0.06277893432771561), (3017, 0.06276027339226582), (3727, 0.06274477520842636), (1621, 0.06271749903368704), (1845, 0.06271655262896254), (3488, 0.06270991120790402), (3155, 0.0626907887934146), (1717, 0.06264850547267446), (1241, 0.06264467098140321), (4409, 0.06260513604749253), (4362, 0.06257698286189649), (4356, 0.06255081231708876), (1946, 0.06254835878555377), (3620, 0.06251591388125194), (4305, 0.06251406940468036), (895, 0.06245121654186175), (2900, 0.06235648416331191), (3430, 0.06235615038787027), (4376, 0.0623292330301379), (3744, 0.062312926468808066), (1216, 0.06228304053389164), (567, 0.06228042821881988), (2144, 0.06225774972404183), (1501, 0.06224562275672824), (991, 0.06221220250419273), (2985, 0.06219226994895508), (3790, 0.06216534786027498), (3905, 0.06216170470700976), (1473, 0.06214673861541688), (4498, 0.06213845132136371), (4180, 0.062133150301511515), (1644, 0.062119406661533004), (3945, 0.06211757020068907), (1975, 0.06208840156085119), (4209, 0.06207269412961888), (4769, 0.06206218453893365), (4703, 0.06205735005462009), (1085, 0.06202882960712305), (1627, 0.0619401589346903), (2056, 0.0619115066392245), (2492, 0.0618626428275661), (3569, 0.06185125374033211), (3781, 0.0618206593784348), (3282, 0.06180507193034969), (2391, 0.0617868929602418), (2684, 0.0617547356911111), (608, 0.06175160470000228), (3306, 0.061725769964235365), (4583, 0.06171023417439952), (58, 0.061705204367541254), (3614, 0.061680079599569754), (2665, 0.06165748357235626), (1064, 0.06163522122810956), (1690, 0.061626454143974066), (3874, 0.06161621395548574), (2709, 0.06160569751376702), (3195, 0.06160526821475164), (4747, 0.06160214927542343), (4607, 0.06159640948367253), (2785, 0.06153774684118567), (4005, 0.06145346840359406), (1722, 0.0613516181186157), (1876, 0.06132997062882188), (2132, 0.06132506932327709), (2122, 0.0613215446968181), (4593, 0.06131221107165128), (4059, 0.06124869062386039), (1417, 0.06124401666659714), (869, 0.061228003562184455), (2473, 0.06117856955101385), (1414, 0.06117368976948894), (1214, 0.06114158066471363), (2035, 0.06112328090806167), (3509, 0.06111592278741098), (1454, 0.06111300576770518), (4161, 0.06111184077365587), (1983, 0.06110106538821915), (4657, 0.06108212322817554), (4536, 0.06103011507557296), (3265, 0.061024972666797045), (3190, 0.06097270744802528), (2840, 0.06093580070916698), (4623, 0.060916207826427655), (3081, 0.06090724999480703), (1324, 0.060885909548822024), (319, 0.060840082503866494), (772, 0.06082360541292588), (3756, 0.060784488136410054), (2276, 0.060781076946982746), (4462, 0.060729832717432944), (670, 0.060721543860760445), (4379, 0.060626099887551625), (3809, 0.06061515522579595), (2502, 0.06060873155845367), (4028, 0.060605973208383714), (3691, 0.06059336667528551), (3900, 0.06058767647887248), (146, 0.06057864487662318), (3636, 0.06056371168284555), (2690, 0.06055626801636416), (1496, 0.06053744637111455), (2596, 0.06053340233753611), (4754, 0.060501821334264974), (4022, 0.060501311501300045), (638, 0.060474221729816306), (733, 0.060462761799180656), (1237, 0.060443130143730095), (1839, 0.06040853980458388), (1552, 0.06039593586365625), (1542, 0.06038096134806013), (1639, 0.060377506743305366), (3765, 0.06037121694077612), (4519, 0.06034418092254693), (3360, 0.06033020918354874), (2989, 0.060310529581453096), (2882, 0.06028778804163204), (2669, 0.060242276206828725), (479, 0.06021910180156376), (4750, 0.060209814154704056), (560, 0.060200663160521674), (923, 0.06019666562497096), (1884, 0.06014646978820763), (3230, 0.06013863415195969), (1270, 0.060125363010038506), (4285, 0.06011760022848821), (3591, 0.06009288114759193), (1190, 0.06008989910480654), (1620, 0.060072779470058), (2419, 0.06006832763509977), (2698, 0.06004324416505806), (4696, 0.060038320070230626), (4673, 0.06003031062124186), (1657, 0.06002372224914975), (2236, 0.060013284707888775), (3915, 0.05997338617084806), (2150, 0.059948892219992424), (4149, 0.0599228885549762), (1629, 0.05991616208007765), (4224, 0.05988960819254065), (2338, 0.059792007245711216), (880, 0.0597858921602204), (1712, 0.05973436222781878), (3897, 0.059730684615909545), (3791, 0.05972620471754493), (497, 0.059721299286265545), (2466, 0.05966752091602667), (3397, 0.059646131326184154), (1071, 0.059631962774671046), (3547, 0.059584006562156344), (3562, 0.05958124730530824), (3999, 0.05957717671971389), (3044, 0.05957411600597801), (3972, 0.05955863140803141), (3274, 0.05955167300691313), (3132, 0.05955083382609629), (2176, 0.05954985467182104), (2710, 0.059543895577830346), (1848, 0.059503427227342864), (4676, 0.059487119295546426), (4366, 0.0594654132935207), (2591, 0.059449787505695434), (4761, 0.059436035386630864), (4476, 0.05941779332991513), (4523, 0.05934300321059857), (4773, 0.05933845140335943), (3354, 0.059337355307321364), (3542, 0.05931178115237154), (2143, 0.05929882379408218), (375, 0.059263312094833674), (1288, 0.059261680676245466), (4594, 0.059246177359095424), (4742, 0.059220859484846934), (1589, 0.059202541543178375), (552, 0.05920069146770846), (381, 0.05918053890505234), (1157, 0.05913136036598237), (1642, 0.059116713364712706), (2612, 0.05906764224519166), (751, 0.059020363128910416), (1114, 0.0590193418134006), (2363, 0.058997083430294625), (3026, 0.058984441862212314), (3732, 0.058978940517692896), (1685, 0.05895652084620227), (4369, 0.05894992546510854), (4386, 0.05892150742237466), (4061, 0.058921192624339105), (4475, 0.058911069619062825), (1489, 0.05890612070591672), (2823, 0.05888328973305997), (584, 0.05888107001045563), (3863, 0.05887303754454809), (3629, 0.05884736805364708), (3574, 0.05882754786963598), (3200, 0.058718297791631506), (1037, 0.058708300782657534), (4760, 0.05865784611709835), (1996, 0.0586529591921485), (4168, 0.05864402424358374), (2741, 0.05863803414988044), (3314, 0.058585726012506244), (1585, 0.05856241253650789), (2734, 0.058553181102193604), (4730, 0.058543132636500635), (2411, 0.05851606176702334), (4746, 0.05849592899374707), (4044, 0.05848402078144516), (3225, 0.05847514734556722), (3214, 0.058392395667923175), (397, 0.05837123348537107), (1994, 0.05837033635725056), (1117, 0.05834154814041872), (2279, 0.058325041539144355), (3912, 0.05832272714063312), (4217, 0.05831276353568862), (3769, 0.05830787385592287), (1558, 0.05818948896870912), (1050, 0.05818375806745859), (4438, 0.05815566095883429), (3808, 0.0581289669961442), (4451, 0.05811953475259629), (2287, 0.058076459262399766), (3708, 0.05804730999220115), (3116, 0.05804638353244866), (706, 0.057984061350794265), (4271, 0.05795858656569819), (4552, 0.05794721989215024), (4795, 0.057944028662553604), (3647, 0.05789619469959208), (4316, 0.057764988235923465), (1979, 0.05775544592412485), (2485, 0.057720656904948764), (3670, 0.057710561716676295), (467, 0.05768535809248989), (4215, 0.057685120500368656), (4740, 0.05768511729281555), (4403, 0.057679640897858195), (1014, 0.057647763827512445), (2436, 0.05763921408453593), (4322, 0.05763723333760118), (4018, 0.05756576261236924), (2031, 0.05756460075944054), (4146, 0.05755724216892629), (4708, 0.05750203405962203), (427, 0.05748003243819135), (4577, 0.057465393473681105), (2887, 0.05746312492228149), (3173, 0.05741882535643847), (1918, 0.05741008241031084), (3948, 0.057374049181294025), (4627, 0.05735753551896277), (1299, 0.057303976553069375), (4692, 0.05728144224319395), (630, 0.057246687858556085), (3105, 0.057228335927897674), (4236, 0.05717513023992644), (414, 0.05717362412118755), (1544, 0.05714152526638252), (4486, 0.057135076860309525), (1236, 0.05713302107376024), (3902, 0.05709945806965767), (4233, 0.05706217181951723), (515, 0.05705069963032686), (718, 0.05699427712623022), (4489, 0.05695818857566988), (3793, 0.0569535610784631), (4533, 0.056928949073607876), (4140, 0.05691653205345243), (4125, 0.05688539092781874), (3069, 0.056878871405228064), (4412, 0.05682906829334789), (1823, 0.0568085011972872), (1126, 0.05675427105190657), (3947, 0.056743525743181575), (2653, 0.05669705641261409), (2620, 0.05666463531776397), (1346, 0.05664108079516622), (4027, 0.05661608643883805), (4556, 0.05659084697387086), (1913, 0.05658956138231344), (736, 0.0565626263574441), (1355, 0.05654017590568514), (3237, 0.05653140281222841), (4668, 0.05651009845863176), (2864, 0.05641895143486744), (4422, 0.056414850221515614), (2376, 0.05640360744963381), (3500, 0.056393123660871826), (4034, 0.05637855668512617), (4008, 0.05636072808912108), (1403, 0.056330944026966485), (4706, 0.05631836118506623), (4338, 0.056309624441367834), (4360, 0.056287203487987984), (3678, 0.05626094913775558), (4459, 0.05623515385284929), (3888, 0.05621430748931187), (3249, 0.056212681463498324), (4205, 0.056172783025332025), (4629, 0.05616726740734314), (4502, 0.05615863483531895), (2598, 0.056147734779260106), (4084, 0.056143477639827535), (4294, 0.05612973353982014), (2930, 0.05611788287725516), (1310, 0.05609942887360399), (2182, 0.056078874222113634), (2246, 0.056065732309058244), (2770, 0.056064891725775466), (3582, 0.05606434605825083), (2956, 0.05603891487308006), (2608, 0.05603562251393028), (1882, 0.05602197502764613), (901, 0.05601790634969016), (1767, 0.05601098261195129), (1011, 0.05596425428060137), (4619, 0.05596047723115748), (4375, 0.055938611633353647), (3103, 0.05590337819223269), (1927, 0.055778262014548524), (4444, 0.05577736632484307), (4248, 0.05576434431420801), (1130, 0.05575985433919099), (2793, 0.05575918633742649), (4420, 0.05575453033395122), (2689, 0.05572526730376853), (3916, 0.05571917605961631), (2161, 0.05571716386898628), (3632, 0.05567875207166785), (2292, 0.05559487570461589), (4221, 0.05557219259610749), (4606, 0.055566519251300996), (829, 0.055477650314851766), (4131, 0.05544698570632234), (3308, 0.05537920844711825), (1863, 0.05528666630346148), (1898, 0.055240844613020625), (2092, 0.055219992442692045), (1689, 0.055199524880321454), (4709, 0.05517346597977054), (3824, 0.05513870057458814), (2393, 0.05512262086127362), (4414, 0.055105039190134125), (2107, 0.05507397229375441), (4370, 0.05504308993721742), (2699, 0.055038897361052865), (272, 0.055033528828149034), (4780, 0.054991285048301475), (1493, 0.05493992259041444), (3079, 0.05492436383218228), (1562, 0.054920873091262284), (4069, 0.05489571407626841), (3241, 0.0548475508599843), (4293, 0.05479293462362836), (1926, 0.05474541937825864), (2800, 0.0547388038941648), (3612, 0.05471779643997452), (193, 0.054625912212416076), (2090, 0.05461110276730679), (1354, 0.05460791318617336), (3508, 0.05459436454247561), (1072, 0.05458038465846831), (2728, 0.054579221400344595), (1381, 0.05457378672679251), (3930, 0.05457371137353416), (3403, 0.054559591650623865), (3875, 0.05455871739395962), (652, 0.0545328628612841), (3089, 0.05452302887967536), (2010, 0.05449488383651837), (2113, 0.05449284037831146), (4334, 0.054483229015676024), (4185, 0.05446468379901516), (4199, 0.054464553704853855), (4054, 0.05444853607863653), (2028, 0.054447536854888644), (3506, 0.05441494606074514), (4574, 0.05436009343310797), (3077, 0.054344101270317295), (1700, 0.05430676243780292), (1469, 0.05430049359821246), (2816, 0.05428345416770013), (3483, 0.054201670546926914), (3263, 0.05415497434664304), (3028, 0.05412032139529011), (3286, 0.05411619628403079), (4429, 0.05409159261932704), (2629, 0.05407875704913744), (3823, 0.05405626615574092), (1383, 0.054056052460666505), (701, 0.05402583337034959), (2548, 0.05402409869421145), (4147, 0.05401768300428502), (716, 0.05398953237608742), (2883, 0.05398773674282886), (4398, 0.05397911854646277), (1148, 0.05397243796911131), (2004, 0.053947643629913444), (1857, 0.05392976589561861), (2963, 0.05391635896539018), (3474, 0.05388132574057816), (4790, 0.05387134546034552), (3182, 0.05386219721242794), (2577, 0.05375440027239998), (3363, 0.053697233620038545), (1232, 0.053692468644142226), (703, 0.05364650178408093), (2325, 0.053645706020351236), (1022, 0.05364492154955555), (760, 0.05358776186387892), (4590, 0.053578054271790805), (2367, 0.053564693953429526), (4118, 0.05355034551172176), (4768, 0.053520220931066974), (3996, 0.05344634236048453), (4296, 0.05337983534495741), (2777, 0.05335569372975699), (3078, 0.05334119840531216), (3063, 0.05331422107510237), (4021, 0.05327304322105499), (2326, 0.05326672653469511), (649, 0.05325786955024539), (4695, 0.05324852126159205), (3540, 0.05324200524143545), (1464, 0.05323268082028858), (3805, 0.053232676935403615), (4667, 0.05322387394259399), (3176, 0.053092439085346846), (3053, 0.05306204241627346), (4227, 0.05306067035367819), (1949, 0.05303181658284054), (2595, 0.053011319290600926), (520, 0.052981424879826794), (4242, 0.05297854456103387), (2637, 0.05294060311587789), (2767, 0.05292596575055986), (1961, 0.05284582279730779), (2049, 0.0528132388013133), (1258, 0.05276745486018966), (4115, 0.052751075442552586), (2695, 0.05272255396177615), (3982, 0.052664904015603364), (1919, 0.052654042900382975), (4020, 0.05261279761389084), (2611, 0.05258598391058624), (2759, 0.05256613653449063), (4014, 0.052552794734470984), (1268, 0.0525194134915381), (3356, 0.05249603214861916), (3625, 0.05247923807146097), (3301, 0.05246888084472958), (4396, 0.05245465216349153), (3788, 0.052451972055349495), (2566, 0.052450912079854875), (3129, 0.052425953192168216), (4198, 0.052420029649792435), (1807, 0.052410419274330995), (1435, 0.05236320246268811), (4712, 0.05235264108634656), (4192, 0.05232761654866265), (3816, 0.052309368228529225), (3807, 0.052283293145027256), (1572, 0.05228286866968531), (2065, 0.052267353259470656), (3660, 0.052258506663253594), (4105, 0.05222955396244833), (4762, 0.05222916765693223), (1789, 0.05212950186243105), (2746, 0.05212735694320535), (2924, 0.05209031335819466), (2707, 0.052053820230759947), (2256, 0.05203937573252426), (905, 0.05194323676666756), (4342, 0.05192147608912411), (4785, 0.051912724288047524), (2242, 0.05190788066573614), (2267, 0.05189766426303755), (2617, 0.05182441897060419), (4306, 0.051705996386384206), (2369, 0.051696507433333004), (1732, 0.05169326965525169), (3222, 0.05168099155344749), (57, 0.0516367621132187), (2070, 0.0516285736268356), (2531, 0.051582358192055706), (2165, 0.05153396951002212), (3852, 0.05151265304113093), (4154, 0.05148025879952671), (3528, 0.05146959155941592), (3393, 0.0514668062572064), (3422, 0.05134938383727301), (4289, 0.05132609607464077), (4043, 0.051278021425926426), (3117, 0.05125292812154532), (4572, 0.05123324515603927), (4160, 0.051206929369857046), (4698, 0.051197264640868816), (1793, 0.05114886526417204), (1631, 0.05113759060080418), (1777, 0.051032945324968035), (4214, 0.05101265573564796), (2333, 0.050989071536613695), (3497, 0.05094688339295794), (2059, 0.05088764634658407), (4598, 0.05081369717356475), (4138, 0.05075294163144256), (3059, 0.05074253559748331), (4060, 0.05062910264203483), (1774, 0.050625103414635275), (4232, 0.05057886929537227), (3674, 0.05053976473273703), (4694, 0.050523564113768384), (2837, 0.05049751237349968), (2938, 0.05045488325563365), (4067, 0.0504198476305088), (3796, 0.05041650965754803), (2932, 0.05041185994912282), (1595, 0.05030541675142262), (4763, 0.050302392548583916), (797, 0.050275242925630556), (3515, 0.05026851076381494), (3400, 0.05023043396623404), (2131, 0.050216700352621144), (3720, 0.05020215366232047), (726, 0.05018407642148256), (2427, 0.05017812217772495), (4361, 0.05014818622939309), (3203, 0.050118510694169144), (4665, 0.050091048891050094), (3712, 0.05007273008643316), (1937, 0.05002984729481133), (1189, 0.050027619166077314), (2931, 0.050008065097194423), (2418, 0.04998884595680268), (3585, 0.049956290398629845), (3300, 0.04990785226145474), (2099, 0.049879862054635425), (3971, 0.049839719019837816), (2119, 0.04979631149462566), (3394, 0.04978449298754306), (4482, 0.04976260818836844), (4690, 0.04976185555582175), (2984, 0.049753281709140666), (2896, 0.049732027417878126), (916, 0.049649018317341795), (3589, 0.04964306973091051), (4421, 0.0496259015188077), (1569, 0.04957781873370825), (1772, 0.049562832091573646), (3803, 0.04952310207399801), (4262, 0.04949624785420986), (4540, 0.04949621791891997), (4791, 0.049465113991951366), (4442, 0.049464979344268606), (4789, 0.04945783370509365), (2872, 0.049433195876873136), (4786, 0.049394449463940046), (4256, 0.04937741306885866), (2562, 0.049373998639427895), (4765, 0.049358181720626185), (2507, 0.04935652547608427), (1942, 0.04927248942969268), (4500, 0.04925396331610503), (3634, 0.049239514479322455), (357, 0.04906921740689355), (2172, 0.04905222791925607), (2563, 0.0490475299578177), (2385, 0.04895260721844811), (492, 0.04885375146892372), (1779, 0.04880894729806149), (913, 0.048801919598722), (1259, 0.048766133216424846), (4410, 0.048695220934766366), (4741, 0.048682329200775254), (2401, 0.048662259522705094), (4112, 0.04864602253698867), (1166, 0.04856287558896264), (4158, 0.048560583126853046), (3254, 0.04848084290194496), (4323, 0.04842451060065398), (3157, 0.04842283498587832), (3623, 0.04841983579687752), (3016, 0.0484189484465102), (1368, 0.04840725810321677), (2153, 0.048338738650057625), (4001, 0.048228577318626516), (4449, 0.048166857318346426), (4659, 0.0481168774328266), (4636, 0.04804774826187623), (796, 0.048040804468620225), (3223, 0.048036377557209256), (3645, 0.04801110263692433), (623, 0.047985686720061524), (2523, 0.04798326802465371), (3346, 0.047968430302468494), (2110, 0.047954822347689136), (4564, 0.04795218341694791), (2352, 0.04786601761344747), (4550, 0.04785181279520793), (2962, 0.04782074139726005), (2309, 0.04779703605953474), (2791, 0.047729251002684915), (2526, 0.04766146667224903), (2622, 0.0476221957114344), (1843, 0.04760048732259035), (4387, 0.04757049704427602), (1679, 0.047545149682664725), (2867, 0.04753454593748987), (4065, 0.047519246752544), (2360, 0.04745084057999205), (814, 0.04741721028971312), (1934, 0.047404573067758936), (4313, 0.04739668809894103), (4520, 0.04738799443308542), (3038, 0.04736693113615286), (4753, 0.04728956071073472), (2081, 0.047256161284909615), (4504, 0.04720821384982659), (4035, 0.04717185484927315), (3485, 0.047154391051200395), (2614, 0.04714755445613702), (815, 0.04713784594534359), (1042, 0.0471343945088274), (2648, 0.04711760512883435), (3879, 0.04708205956902818), (4681, 0.04708011066965197), (3377, 0.04706944868143464), (4526, 0.04706040355979313), (3661, 0.04696690162122134), (4330, 0.04692423101271225), (2869, 0.04691566751166337), (651, 0.04685827523884095), (2488, 0.04680238090661208), (3525, 0.04673019667387535), (3185, 0.046717525655284316), (3322, 0.04670379076451639), (2574, 0.04667048574156539), (4091, 0.04665241655823797), (4116, 0.04664173315360845), (4280, 0.04658046373355682), (1746, 0.0465526004093415), (3682, 0.04642345883993665), (4446, 0.04632415194598745), (4662, 0.04626594519629372), (4120, 0.046228874998021446), (4674, 0.04622747456052289), (4203, 0.04621486466105849), (2316, 0.04611181294628199), (2272, 0.046079653561442925), (4150, 0.046043160528306384), (780, 0.045961370907902296), (4241, 0.04595642033467566), (4530, 0.04594203916315939), (2715, 0.04591546201462826), (3792, 0.045874807583778585), (4609, 0.04577091382697091), (4435, 0.04569735269187028), (3757, 0.045687793668825916), (4048, 0.045634124442587895), (3280, 0.04562838128708371), (4652, 0.045582208221159985), (4299, 0.045553252621812965), (2903, 0.04552588424949724), (2928, 0.04549587619233651), (4243, 0.04548442547345736), (3292, 0.045373856203039804), (4584, 0.04536136733480812), (3630, 0.04527936386170016), (966, 0.04525304108174102), (3304, 0.0452487440555416), (2771, 0.045214540786443165), (3970, 0.045124944606302654), (3523, 0.04508092782872758), (3395, 0.04504241461340434), (3847, 0.04501169981466198), (2889, 0.04500920738700357), (1162, 0.04500005504705181), (4578, 0.04499814572903846), (1701, 0.04499151944113694), (4179, 0.04490622600669533), (3037, 0.04489123684341), (4799, 0.044715587847707246), (881, 0.044708894133712256), (4424, 0.04462108893260666), (2761, 0.044596639265224974), (2646, 0.04457065312521041), (3610, 0.04452886621676493), (4455, 0.04449570647287152), (3513, 0.04441902683519839), (2976, 0.04435986823322823), (1276, 0.04433490151203593), (1963, 0.044333846406408174), (4702, 0.04431064596156952), (4802, 0.04430881223135675), (3015, 0.044291067159827335), (4559, 0.044093720413508564), (2763, 0.04406901476779263), (1173, 0.04405938258399437), (3331, 0.044046352282426975), (4534, 0.04395851208325252), (1966, 0.04394388680933918), (2908, 0.04393598228626208), (1785, 0.043899365408966606), (4057, 0.04389219719793433), (3261, 0.0438815151430413), (2604, 0.04388051909358256), (3555, 0.0437795736739354), (4212, 0.043776029354295115), (2764, 0.04372925000358874), (1906, 0.04367804941632347), (3976, 0.043636150619271764), (4787, 0.04355702531206382), (2789, 0.04351891523850236), (3892, 0.043286080862593515), (2634, 0.04328437583239605), (1480, 0.04321597434332543), (3922, 0.043149114351670986), (4324, 0.04314163963280191), (4794, 0.04311943982478167), (3960, 0.04310179375765898), (3655, 0.043094386382073524), (4141, 0.043049869640713036), (4720, 0.04300650824654948), (3911, 0.043000893497841114), (4374, 0.04296972038797918), (3325, 0.042926856930988036), (4766, 0.04288972230789472), (4148, 0.04272947068495548), (4797, 0.0427090838501304), (2658, 0.04256158130018677), (4210, 0.04250463668293604), (1104, 0.04249478376742538), (967, 0.0424584079224661), (3194, 0.042334719198019684), (4771, 0.042312421679950606), (4130, 0.0422254494942742), (2064, 0.042205893627390044), (1910, 0.042098992694825456), (4181, 0.04208670567839154), (3967, 0.041782159595074565), (2231, 0.04177828503707294), (2851, 0.04176965249135302), (3267, 0.04176686159239379), (2768, 0.04175954266544806), (4405, 0.04171724194055231), (2744, 0.041509750152575374), (4656, 0.04142631321531233), (2223, 0.04142554537799304), (3226, 0.04138746017555496), (3729, 0.0413173819837768), (4279, 0.04123859524731985), (4188, 0.04116719594941714), (2382, 0.0411276470183571), (3840, 0.04110741766497976), (4775, 0.04106104875489599), (3762, 0.04097734154939354), (4721, 0.04095391583061439), (2034, 0.04090319343671214), (1466, 0.0408899913301518), (4622, 0.040785626336953505), (4056, 0.040780703256392783), (4581, 0.04070099178442633), (4547, 0.04066671637946785), (3919, 0.04035368785386947), (3025, 0.040130999077896516), (1806, 0.040126674030632754), (3575, 0.03999443340291662), (3114, 0.03996017351620901), (4133, 0.039896375009803454), (3913, 0.03989191730665572), (4377, 0.03982554818941311), (3022, 0.03981656527093827), (1520, 0.03978352641395215), (2656, 0.039768145526875874), (1862, 0.039656363785628666), (4400, 0.0396248882299067), (1574, 0.03960111035296919), (3458, 0.03948757050119196), (1593, 0.039477888129132346), (3521, 0.03947323951751287), (2082, 0.03940847885362975), (4646, 0.039325078261087346), (4705, 0.03913604482752605), (3787, 0.03904525900749099), (4541, 0.039015841627303496), (436, 0.0388438915858635), (1741, 0.038830131496282325), (4699, 0.03873872305262493), (3066, 0.03867927645980733), (4317, 0.03855869311818908), (4314, 0.038435416876856594), (1709, 0.03840422437324073), (4304, 0.038351492612772535), (4471, 0.038351228310661), (2528, 0.03832938988171633), (4184, 0.038247093464140305), (4491, 0.038154339021913106), (857, 0.03814922287812466), (2538, 0.038140690211068924), (3519, 0.03807026433481805), (3213, 0.037980986984632724), (3702, 0.037750447216942255), (3243, 0.03764735875657888), (4634, 0.037644007022294146), (4252, 0.03751065393360529), (4543, 0.03747812927438911), (4278, 0.037469899329144005), (4544, 0.03729463487073835), (4682, 0.03717912984179897), (802, 0.037132575244074574), (1305, 0.03709479810778897), (2414, 0.037020968600251676), (3115, 0.036999745498394604), (3855, 0.03697118259704832), (4725, 0.036826203846821226), (4628, 0.036792731934856736), (3798, 0.036698677221235945), (4169, 0.03667829472079605), (4571, 0.03667825184640363), (2252, 0.036093085630400375), (1054, 0.036085829461596726), (3135, 0.03601900488768228), (3768, 0.035842881194815074), (2589, 0.035756946445099635), (4729, 0.03572724018216177), (4757, 0.03568006387497269), (4751, 0.03566120874818739), (4718, 0.03546543648638549), (4737, 0.0354570439090153), (4047, 0.0353884923301304), (3502, 0.035358271874495466), (2437, 0.035284168372367426), (4415, 0.03523743459169534), (4493, 0.03518720219916847), (3179, 0.03447060109572443), (3669, 0.03442134102833763), (4633, 0.034129452054727255), (4612, 0.0340683807377766), (2426, 0.03402348692728507), (1371, 0.033865735783960384), (4580, 0.03370128023506887), (2421, 0.03354485805995316), (3207, 0.03353953543101801), (3938, 0.03340131517930813), (4568, 0.0332242402689912), (3493, 0.033146177854775985), (4625, 0.03306912957479733), (3324, 0.03280411187358041), (3228, 0.03273148948438224), (3302, 0.03264378094344127), (4801, 0.03257619179192465), (4029, 0.032258218939791534), (4122, 0.032036781031056484), (4611, 0.03150180941621676), (499, 0.03134161076529932), (1673, 0.030794550884201775), (4714, 0.03068789435356152), (3510, 0.03032974150921511), (1834, 0.02982238815658871), (3371, 0.02980641723935346), (4506, 0.029618322555133133), (4515, 0.029075170777364524), (4311, 0.028779684179034093), (2601, 0.02867079963436764), (4385, 0.028611573229822867), (2379, 0.028604812208479692), (4430, 0.028483045586600336), (4548, 0.028450467822806316), (3248, 0.02840569452094079), (1801, 0.028256980820210564), (2754, 0.02806486962846735), (4235, 0.028064225507901892), (2420, 0.027749514840613915), (3080, 0.027651846935130748), (3963, 0.027091599975881907), (4560, 0.02689578326435325), (4616, 0.02671592391344425), (4086, 0.026306907969413262), (4618, 0.02542336569493716), (2679, 0.02533223427956202), (3355, 0.024796719596968362), (3193, 0.02405579678513933), (4413, 0.0238267285910138), (4426, 0.023468861066165577), (2098, 0.023463934046396923), (4431, 0.023318015421548988), (4600, 0.02287380520255992), (2273, 0.022100156280104734), (4318, 0.022096890770986314), (4419, 0.021368654092599172), (4743, 0.020759518007499134), (4755, 0.020280397101987115), (3121, 0.019867260554164948), (4566, 0.018722720102469795), (4142, 0.016156292224585003), (3707, 0.010008290226752124), (4569, 0.009744514450440372), (3686, 0.007734104665035228), (4458, 0.006137663925561008), (3992, 0.00553325557852929)]\n"
          ]
        }
      ]
    },
    {
      "cell_type": "code",
      "source": [
        "# print the name of similar movies based on the index\n",
        "\n",
        "print('Top 30 Movies Suggested for you : \\n')\n",
        "\n",
        "i = 1\n",
        "\n",
        "for movie in Sorted_Similar_Movies:\n",
        "  index = movie[0]\n",
        "  title_from_index = movies_features[movies_features['id']==index]['title'].values\n",
        "  if (i<31):\n",
        "    print(i, '.',title_from_index)\n",
        "    i+=1"
      ],
      "metadata": {
        "colab": {
          "base_uri": "https://localhost:8080/"
        },
        "id": "Xmov3PfOnukm",
        "outputId": "40672086-1244-41db-a971-e83b5485809f"
      },
      "execution_count": 40,
      "outputs": [
        {
          "output_type": "stream",
          "name": "stdout",
          "text": [
            "Top 30 Movies Suggested for you : \n",
            "\n",
            "1 . ['Wag the Dog']\n",
            "2 . ['Mr. & Mrs. Smith']\n",
            "3 . []\n",
            "4 . []\n",
            "5 . []\n",
            "6 . []\n",
            "7 . []\n",
            "8 . []\n",
            "9 . []\n",
            "10 . ['Interview with the Vampire']\n",
            "11 . ['Pulp Fiction']\n",
            "12 . []\n",
            "13 . []\n",
            "14 . ['Garden State']\n",
            "15 . []\n",
            "16 . ['Butch Cassidy and the Sundance Kid']\n",
            "17 . []\n",
            "18 . ['Predator 2']\n",
            "19 . ['The Flintstones in Viva Rock Vegas']\n",
            "20 . ['Adaptation.']\n",
            "21 . []\n",
            "22 . ['Little Miss Sunshine']\n",
            "23 . []\n",
            "24 . []\n",
            "25 . []\n",
            "26 . []\n",
            "27 . []\n",
            "28 . []\n",
            "29 . []\n",
            "30 . []\n"
          ]
        }
      ]
    },
    {
      "cell_type": "markdown",
      "source": [
        "# Top 10 movie Recommendation System"
      ],
      "metadata": {
        "id": "FzSmVCl-obxA"
      }
    },
    {
      "cell_type": "markdown",
      "source": [],
      "metadata": {
        "id": "MGwdtMxxolH1"
      }
    },
    {
      "cell_type": "code",
      "source": [
        "Movies_Name = input(' Enter your Favorite Movie Name : ')\n",
        "\n",
        "list_of_all_titles = movies_features['title'].tolist()\n",
        "\n",
        "find_close_match = difflib.get_close_matches(Movies_Name, list_of_all_titles)\n",
        "\n",
        "close_match = find_close_match[0]\n",
        "\n",
        "index_of_the_movie = movies_features[movies_features.title == close_match].index[0]\n",
        "\n",
        "Recommendation_Score = list(enumerate(similary_score[index_of_the_movie]))\n",
        "\n",
        "sorted_similar_movies = sorted(Recommendation_Score, key = lambda x:x[1], reverse = True)\n",
        "\n",
        "print('Top 10 Movies suggested for you:\\n')\n",
        "\n",
        "i = 1\n",
        "\n",
        "for movie in sorted_similar_movies:\n",
        "  index = movie[0]\n",
        "  title_from_index = movies_features[movies_features.id==index]['title'].values\n",
        "  if (i<11):\n",
        "    print(i, '.',title_from_index)\n",
        "    i+=1\n"
      ],
      "metadata": {
        "colab": {
          "base_uri": "https://localhost:8080/"
        },
        "id": "6s9vh5keom59",
        "outputId": "133063e6-03b3-44c1-fdf0-d6cd39e8cdd5"
      },
      "execution_count": 42,
      "outputs": [
        {
          "output_type": "stream",
          "name": "stdout",
          "text": [
            " Enter your Favorite Movie Name : avatar\n",
            "Top 10 Movies suggested for you:\n",
            "\n",
            "1 . []\n",
            "2 . ['Mystic River']\n",
            "3 . ['Armageddon']\n",
            "4 . ['The Greatest Story Ever Told']\n",
            "5 . []\n",
            "6 . ['American Graffiti']\n",
            "7 . []\n",
            "8 . []\n",
            "9 . []\n",
            "10 . []\n"
          ]
        }
      ]
    }
  ]
}